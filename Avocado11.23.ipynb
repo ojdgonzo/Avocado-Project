{
 "cells": [
  {
   "cell_type": "code",
   "execution_count": 2,
   "metadata": {},
   "outputs": [
    {
     "data": {
      "text/html": [
       "        <script type=\"text/javascript\">\n",
       "        window.PlotlyConfig = {MathJaxConfig: 'local'};\n",
       "        if (window.MathJax) {MathJax.Hub.Config({SVG: {font: \"STIX-Web\"}});}\n",
       "        if (typeof require !== 'undefined') {\n",
       "        require.undef(\"plotly\");\n",
       "        requirejs.config({\n",
       "            paths: {\n",
       "                'plotly': ['https://cdn.plot.ly/plotly-latest.min']\n",
       "            }\n",
       "        });\n",
       "        require(['plotly'], function(Plotly) {\n",
       "            window._Plotly = Plotly;\n",
       "        });\n",
       "        }\n",
       "        </script>\n",
       "        "
      ]
     },
     "metadata": {},
     "output_type": "display_data"
    }
   ],
   "source": [
    "#We will import all the libraries needed to work with this dataset\n",
    "import numpy as np\n",
    "import pandas as pd\n",
    "import seaborn as sns\n",
    "import plotly.graph_objs as go\n",
    "import matplotlib.pyplot as plt\n",
    "from plotly.offline import init_notebook_mode,iplot\n",
    "init_notebook_mode(connected=True)\n",
    "%matplotlib inline"
   ]
  },
  {
   "cell_type": "code",
   "execution_count": 3,
   "metadata": {},
   "outputs": [
    {
     "data": {
      "text/html": [
       "<div>\n",
       "<style scoped>\n",
       "    .dataframe tbody tr th:only-of-type {\n",
       "        vertical-align: middle;\n",
       "    }\n",
       "\n",
       "    .dataframe tbody tr th {\n",
       "        vertical-align: top;\n",
       "    }\n",
       "\n",
       "    .dataframe thead th {\n",
       "        text-align: right;\n",
       "    }\n",
       "</style>\n",
       "<table border=\"1\" class=\"dataframe\">\n",
       "  <thead>\n",
       "    <tr style=\"text-align: right;\">\n",
       "      <th></th>\n",
       "      <th>date</th>\n",
       "      <th>average_price</th>\n",
       "      <th>total_volume</th>\n",
       "      <th>4046</th>\n",
       "      <th>4225</th>\n",
       "      <th>4770</th>\n",
       "      <th>total_bags</th>\n",
       "      <th>small_bags</th>\n",
       "      <th>large_bags</th>\n",
       "      <th>xlarge_bags</th>\n",
       "      <th>type</th>\n",
       "      <th>year</th>\n",
       "      <th>geography</th>\n",
       "    </tr>\n",
       "  </thead>\n",
       "  <tbody>\n",
       "    <tr>\n",
       "      <th>0</th>\n",
       "      <td>2015-01-04</td>\n",
       "      <td>1.22</td>\n",
       "      <td>40873.28</td>\n",
       "      <td>2819.50</td>\n",
       "      <td>28287.42</td>\n",
       "      <td>49.90</td>\n",
       "      <td>9716.46</td>\n",
       "      <td>9186.93</td>\n",
       "      <td>529.53</td>\n",
       "      <td>0.0</td>\n",
       "      <td>conventional</td>\n",
       "      <td>2015</td>\n",
       "      <td>Albany</td>\n",
       "    </tr>\n",
       "    <tr>\n",
       "      <th>1</th>\n",
       "      <td>2015-01-04</td>\n",
       "      <td>1.79</td>\n",
       "      <td>1373.95</td>\n",
       "      <td>57.42</td>\n",
       "      <td>153.88</td>\n",
       "      <td>0.00</td>\n",
       "      <td>1162.65</td>\n",
       "      <td>1162.65</td>\n",
       "      <td>0.00</td>\n",
       "      <td>0.0</td>\n",
       "      <td>organic</td>\n",
       "      <td>2015</td>\n",
       "      <td>Albany</td>\n",
       "    </tr>\n",
       "    <tr>\n",
       "      <th>2</th>\n",
       "      <td>2015-01-04</td>\n",
       "      <td>1.00</td>\n",
       "      <td>435021.49</td>\n",
       "      <td>364302.39</td>\n",
       "      <td>23821.16</td>\n",
       "      <td>82.15</td>\n",
       "      <td>46815.79</td>\n",
       "      <td>16707.15</td>\n",
       "      <td>30108.64</td>\n",
       "      <td>0.0</td>\n",
       "      <td>conventional</td>\n",
       "      <td>2015</td>\n",
       "      <td>Atlanta</td>\n",
       "    </tr>\n",
       "    <tr>\n",
       "      <th>3</th>\n",
       "      <td>2015-01-04</td>\n",
       "      <td>1.76</td>\n",
       "      <td>3846.69</td>\n",
       "      <td>1500.15</td>\n",
       "      <td>938.35</td>\n",
       "      <td>0.00</td>\n",
       "      <td>1408.19</td>\n",
       "      <td>1071.35</td>\n",
       "      <td>336.84</td>\n",
       "      <td>0.0</td>\n",
       "      <td>organic</td>\n",
       "      <td>2015</td>\n",
       "      <td>Atlanta</td>\n",
       "    </tr>\n",
       "    <tr>\n",
       "      <th>4</th>\n",
       "      <td>2015-01-04</td>\n",
       "      <td>1.08</td>\n",
       "      <td>788025.06</td>\n",
       "      <td>53987.31</td>\n",
       "      <td>552906.04</td>\n",
       "      <td>39995.03</td>\n",
       "      <td>141136.68</td>\n",
       "      <td>137146.07</td>\n",
       "      <td>3990.61</td>\n",
       "      <td>0.0</td>\n",
       "      <td>conventional</td>\n",
       "      <td>2015</td>\n",
       "      <td>Baltimore/Washington</td>\n",
       "    </tr>\n",
       "  </tbody>\n",
       "</table>\n",
       "</div>"
      ],
      "text/plain": [
       "         date  average_price  total_volume       4046       4225      4770  \\\n",
       "0  2015-01-04           1.22      40873.28    2819.50   28287.42     49.90   \n",
       "1  2015-01-04           1.79       1373.95      57.42     153.88      0.00   \n",
       "2  2015-01-04           1.00     435021.49  364302.39   23821.16     82.15   \n",
       "3  2015-01-04           1.76       3846.69    1500.15     938.35      0.00   \n",
       "4  2015-01-04           1.08     788025.06   53987.31  552906.04  39995.03   \n",
       "\n",
       "   total_bags  small_bags  large_bags  xlarge_bags          type  year  \\\n",
       "0     9716.46     9186.93      529.53          0.0  conventional  2015   \n",
       "1     1162.65     1162.65        0.00          0.0       organic  2015   \n",
       "2    46815.79    16707.15    30108.64          0.0  conventional  2015   \n",
       "3     1408.19     1071.35      336.84          0.0       organic  2015   \n",
       "4   141136.68   137146.07     3990.61          0.0  conventional  2015   \n",
       "\n",
       "              geography  \n",
       "0                Albany  \n",
       "1                Albany  \n",
       "2               Atlanta  \n",
       "3               Atlanta  \n",
       "4  Baltimore/Washington  "
      ]
     },
     "execution_count": 3,
     "metadata": {},
     "output_type": "execute_result"
    }
   ],
   "source": [
    "#The dataset will be imported into a data frame called \"avocado\". The head of the data frame will be shown below.\n",
    "avo=pd.read_csv('avocado-updated-2020.csv')\n",
    "avo.head()"
   ]
  },
  {
   "cell_type": "code",
   "execution_count": 4,
   "metadata": {},
   "outputs": [
    {
     "name": "stdout",
     "output_type": "stream",
     "text": [
      "date\n",
      "average_price\n",
      "total_volume\n",
      "4046\n",
      "4225\n",
      "4770\n",
      "total_bags\n",
      "small_bags\n",
      "large_bags\n",
      "xlarge_bags\n",
      "type\n",
      "year\n",
      "geography\n"
     ]
    }
   ],
   "source": [
    "for col in avo.columns:\n",
    "    print(col)"
   ]
  },
  {
   "cell_type": "code",
   "execution_count": 5,
   "metadata": {},
   "outputs": [
    {
     "name": "stdout",
     "output_type": "stream",
     "text": [
      "<class 'pandas.core.frame.DataFrame'>\n",
      "RangeIndex: 30021 entries, 0 to 30020\n",
      "Data columns (total 13 columns):\n",
      " #   Column         Non-Null Count  Dtype  \n",
      "---  ------         --------------  -----  \n",
      " 0   date           30021 non-null  object \n",
      " 1   average_price  30021 non-null  float64\n",
      " 2   total_volume   30021 non-null  float64\n",
      " 3   4046           30021 non-null  float64\n",
      " 4   4225           30021 non-null  float64\n",
      " 5   4770           30021 non-null  float64\n",
      " 6   total_bags     30021 non-null  float64\n",
      " 7   small_bags     30021 non-null  float64\n",
      " 8   large_bags     30021 non-null  float64\n",
      " 9   xlarge_bags    30021 non-null  float64\n",
      " 10  type           30021 non-null  object \n",
      " 11  year           30021 non-null  int64  \n",
      " 12  geography      30021 non-null  object \n",
      "dtypes: float64(9), int64(1), object(3)\n",
      "memory usage: 3.0+ MB\n"
     ]
    }
   ],
   "source": [
    "avo.info()"
   ]
  },
  {
   "cell_type": "markdown",
   "metadata": {},
   "source": [
    "This link shows the sizes of the avocados.\n",
    "http://www.bobbywires.com/plu-1.php?S=V&L=A&V=AVOCADOS "
   ]
  },
  {
   "cell_type": "code",
   "execution_count": 6,
   "metadata": {},
   "outputs": [
    {
     "data": {
      "text/html": [
       "<div>\n",
       "<style scoped>\n",
       "    .dataframe tbody tr th:only-of-type {\n",
       "        vertical-align: middle;\n",
       "    }\n",
       "\n",
       "    .dataframe tbody tr th {\n",
       "        vertical-align: top;\n",
       "    }\n",
       "\n",
       "    .dataframe thead th {\n",
       "        text-align: right;\n",
       "    }\n",
       "</style>\n",
       "<table border=\"1\" class=\"dataframe\">\n",
       "  <thead>\n",
       "    <tr style=\"text-align: right;\">\n",
       "      <th></th>\n",
       "      <th>Date</th>\n",
       "      <th>AvgPr</th>\n",
       "      <th>TVol</th>\n",
       "      <th>4046S</th>\n",
       "      <th>4225L</th>\n",
       "      <th>4770XL</th>\n",
       "      <th>total_bags</th>\n",
       "      <th>SBags</th>\n",
       "      <th>LBags</th>\n",
       "      <th>XLBags</th>\n",
       "      <th>Type</th>\n",
       "      <th>Year</th>\n",
       "      <th>Location</th>\n",
       "      <th>Month</th>\n",
       "      <th>Day</th>\n",
       "    </tr>\n",
       "  </thead>\n",
       "  <tbody>\n",
       "    <tr>\n",
       "      <th>0</th>\n",
       "      <td>2015-01-04</td>\n",
       "      <td>1.22</td>\n",
       "      <td>40873.28</td>\n",
       "      <td>2819.50</td>\n",
       "      <td>28287.42</td>\n",
       "      <td>49.90</td>\n",
       "      <td>9716.46</td>\n",
       "      <td>9186.93</td>\n",
       "      <td>529.53</td>\n",
       "      <td>0.0</td>\n",
       "      <td>conventional</td>\n",
       "      <td>2015</td>\n",
       "      <td>Albany</td>\n",
       "      <td>1</td>\n",
       "      <td>4</td>\n",
       "    </tr>\n",
       "    <tr>\n",
       "      <th>1</th>\n",
       "      <td>2015-01-04</td>\n",
       "      <td>1.79</td>\n",
       "      <td>1373.95</td>\n",
       "      <td>57.42</td>\n",
       "      <td>153.88</td>\n",
       "      <td>0.00</td>\n",
       "      <td>1162.65</td>\n",
       "      <td>1162.65</td>\n",
       "      <td>0.00</td>\n",
       "      <td>0.0</td>\n",
       "      <td>organic</td>\n",
       "      <td>2015</td>\n",
       "      <td>Albany</td>\n",
       "      <td>1</td>\n",
       "      <td>4</td>\n",
       "    </tr>\n",
       "    <tr>\n",
       "      <th>2</th>\n",
       "      <td>2015-01-04</td>\n",
       "      <td>1.00</td>\n",
       "      <td>435021.49</td>\n",
       "      <td>364302.39</td>\n",
       "      <td>23821.16</td>\n",
       "      <td>82.15</td>\n",
       "      <td>46815.79</td>\n",
       "      <td>16707.15</td>\n",
       "      <td>30108.64</td>\n",
       "      <td>0.0</td>\n",
       "      <td>conventional</td>\n",
       "      <td>2015</td>\n",
       "      <td>Atlanta</td>\n",
       "      <td>1</td>\n",
       "      <td>4</td>\n",
       "    </tr>\n",
       "    <tr>\n",
       "      <th>3</th>\n",
       "      <td>2015-01-04</td>\n",
       "      <td>1.76</td>\n",
       "      <td>3846.69</td>\n",
       "      <td>1500.15</td>\n",
       "      <td>938.35</td>\n",
       "      <td>0.00</td>\n",
       "      <td>1408.19</td>\n",
       "      <td>1071.35</td>\n",
       "      <td>336.84</td>\n",
       "      <td>0.0</td>\n",
       "      <td>organic</td>\n",
       "      <td>2015</td>\n",
       "      <td>Atlanta</td>\n",
       "      <td>1</td>\n",
       "      <td>4</td>\n",
       "    </tr>\n",
       "    <tr>\n",
       "      <th>4</th>\n",
       "      <td>2015-01-04</td>\n",
       "      <td>1.08</td>\n",
       "      <td>788025.06</td>\n",
       "      <td>53987.31</td>\n",
       "      <td>552906.04</td>\n",
       "      <td>39995.03</td>\n",
       "      <td>141136.68</td>\n",
       "      <td>137146.07</td>\n",
       "      <td>3990.61</td>\n",
       "      <td>0.0</td>\n",
       "      <td>conventional</td>\n",
       "      <td>2015</td>\n",
       "      <td>Baltimore/Washington</td>\n",
       "      <td>1</td>\n",
       "      <td>4</td>\n",
       "    </tr>\n",
       "  </tbody>\n",
       "</table>\n",
       "</div>"
      ],
      "text/plain": [
       "         Date  AvgPr       TVol      4046S      4225L    4770XL  total_bags  \\\n",
       "0  2015-01-04   1.22   40873.28    2819.50   28287.42     49.90     9716.46   \n",
       "1  2015-01-04   1.79    1373.95      57.42     153.88      0.00     1162.65   \n",
       "2  2015-01-04   1.00  435021.49  364302.39   23821.16     82.15    46815.79   \n",
       "3  2015-01-04   1.76    3846.69    1500.15     938.35      0.00     1408.19   \n",
       "4  2015-01-04   1.08  788025.06   53987.31  552906.04  39995.03   141136.68   \n",
       "\n",
       "       SBags     LBags  XLBags          Type  Year              Location  \\\n",
       "0    9186.93    529.53     0.0  conventional  2015                Albany   \n",
       "1    1162.65      0.00     0.0       organic  2015                Albany   \n",
       "2   16707.15  30108.64     0.0  conventional  2015               Atlanta   \n",
       "3    1071.35    336.84     0.0       organic  2015               Atlanta   \n",
       "4  137146.07   3990.61     0.0  conventional  2015  Baltimore/Washington   \n",
       "\n",
       "   Month  Day  \n",
       "0      1    4  \n",
       "1      1    4  \n",
       "2      1    4  \n",
       "3      1    4  \n",
       "4      1    4  "
      ]
     },
     "execution_count": 6,
     "metadata": {},
     "output_type": "execute_result"
    }
   ],
   "source": [
    "#We will be adding sizing letters to the columns 4046, 4225, and 4770 for better understanding\n",
    "#using the link above as reference.\n",
    "avo.rename(columns={'date':'Date',\n",
    "                        '4046':'4046S',\n",
    "                        '4225':'4225L',\n",
    "                        '4770':'4770XL',\n",
    "                        'average_price':'AvgPr',\n",
    "                        'total_volume':'TVol',\n",
    "                        'small_bags':'SBags',\n",
    "                        'large_bags':'LBags',\n",
    "                        'xlarge_bags':'XLBags',\n",
    "                        'type':'Type',\n",
    "                        'year':'Year',\n",
    "                        'geography':'Location'},\n",
    "               inplace=True)\n",
    "\n",
    "#There will need to be another column where it shows the number of the month.\n",
    "#We will use the date column as a reference.\n",
    "avo['Month']=pd.DatetimeIndex(avo['Date']).month\n",
    "avo['Day']=pd.DatetimeIndex(avo['Date']).day\n",
    "\n",
    "#Display the head()\n",
    "avo.head()"
   ]
  },
  {
   "cell_type": "markdown",
   "metadata": {},
   "source": [
    "# Dropping the organic data"
   ]
  },
  {
   "cell_type": "code",
   "execution_count": 7,
   "metadata": {},
   "outputs": [
    {
     "data": {
      "text/html": [
       "<div>\n",
       "<style scoped>\n",
       "    .dataframe tbody tr th:only-of-type {\n",
       "        vertical-align: middle;\n",
       "    }\n",
       "\n",
       "    .dataframe tbody tr th {\n",
       "        vertical-align: top;\n",
       "    }\n",
       "\n",
       "    .dataframe thead th {\n",
       "        text-align: right;\n",
       "    }\n",
       "</style>\n",
       "<table border=\"1\" class=\"dataframe\">\n",
       "  <thead>\n",
       "    <tr style=\"text-align: right;\">\n",
       "      <th></th>\n",
       "      <th>Date</th>\n",
       "      <th>AvgPr</th>\n",
       "      <th>TVol</th>\n",
       "      <th>4046S</th>\n",
       "      <th>4225L</th>\n",
       "      <th>4770XL</th>\n",
       "      <th>total_bags</th>\n",
       "      <th>SBags</th>\n",
       "      <th>LBags</th>\n",
       "      <th>XLBags</th>\n",
       "      <th>Type</th>\n",
       "      <th>Year</th>\n",
       "      <th>Location</th>\n",
       "      <th>Month</th>\n",
       "      <th>Day</th>\n",
       "    </tr>\n",
       "  </thead>\n",
       "  <tbody>\n",
       "    <tr>\n",
       "      <th>0</th>\n",
       "      <td>2015-01-04</td>\n",
       "      <td>1.22</td>\n",
       "      <td>40873.28</td>\n",
       "      <td>2819.50</td>\n",
       "      <td>28287.42</td>\n",
       "      <td>49.90</td>\n",
       "      <td>9716.46</td>\n",
       "      <td>9186.93</td>\n",
       "      <td>529.53</td>\n",
       "      <td>0.0</td>\n",
       "      <td>conventional</td>\n",
       "      <td>2015</td>\n",
       "      <td>Albany</td>\n",
       "      <td>1</td>\n",
       "      <td>4</td>\n",
       "    </tr>\n",
       "    <tr>\n",
       "      <th>2</th>\n",
       "      <td>2015-01-04</td>\n",
       "      <td>1.00</td>\n",
       "      <td>435021.49</td>\n",
       "      <td>364302.39</td>\n",
       "      <td>23821.16</td>\n",
       "      <td>82.15</td>\n",
       "      <td>46815.79</td>\n",
       "      <td>16707.15</td>\n",
       "      <td>30108.64</td>\n",
       "      <td>0.0</td>\n",
       "      <td>conventional</td>\n",
       "      <td>2015</td>\n",
       "      <td>Atlanta</td>\n",
       "      <td>1</td>\n",
       "      <td>4</td>\n",
       "    </tr>\n",
       "    <tr>\n",
       "      <th>4</th>\n",
       "      <td>2015-01-04</td>\n",
       "      <td>1.08</td>\n",
       "      <td>788025.06</td>\n",
       "      <td>53987.31</td>\n",
       "      <td>552906.04</td>\n",
       "      <td>39995.03</td>\n",
       "      <td>141136.68</td>\n",
       "      <td>137146.07</td>\n",
       "      <td>3990.61</td>\n",
       "      <td>0.0</td>\n",
       "      <td>conventional</td>\n",
       "      <td>2015</td>\n",
       "      <td>Baltimore/Washington</td>\n",
       "      <td>1</td>\n",
       "      <td>4</td>\n",
       "    </tr>\n",
       "    <tr>\n",
       "      <th>6</th>\n",
       "      <td>2015-01-04</td>\n",
       "      <td>1.01</td>\n",
       "      <td>80034.32</td>\n",
       "      <td>44562.12</td>\n",
       "      <td>24964.23</td>\n",
       "      <td>2752.35</td>\n",
       "      <td>7755.62</td>\n",
       "      <td>6064.30</td>\n",
       "      <td>1691.32</td>\n",
       "      <td>0.0</td>\n",
       "      <td>conventional</td>\n",
       "      <td>2015</td>\n",
       "      <td>Boise</td>\n",
       "      <td>1</td>\n",
       "      <td>4</td>\n",
       "    </tr>\n",
       "    <tr>\n",
       "      <th>8</th>\n",
       "      <td>2015-01-04</td>\n",
       "      <td>1.02</td>\n",
       "      <td>491738.00</td>\n",
       "      <td>7193.87</td>\n",
       "      <td>396752.18</td>\n",
       "      <td>128.82</td>\n",
       "      <td>87663.13</td>\n",
       "      <td>87406.84</td>\n",
       "      <td>256.29</td>\n",
       "      <td>0.0</td>\n",
       "      <td>conventional</td>\n",
       "      <td>2015</td>\n",
       "      <td>Boston</td>\n",
       "      <td>1</td>\n",
       "      <td>4</td>\n",
       "    </tr>\n",
       "  </tbody>\n",
       "</table>\n",
       "</div>"
      ],
      "text/plain": [
       "         Date  AvgPr       TVol      4046S      4225L    4770XL  total_bags  \\\n",
       "0  2015-01-04   1.22   40873.28    2819.50   28287.42     49.90     9716.46   \n",
       "2  2015-01-04   1.00  435021.49  364302.39   23821.16     82.15    46815.79   \n",
       "4  2015-01-04   1.08  788025.06   53987.31  552906.04  39995.03   141136.68   \n",
       "6  2015-01-04   1.01   80034.32   44562.12   24964.23   2752.35     7755.62   \n",
       "8  2015-01-04   1.02  491738.00    7193.87  396752.18    128.82    87663.13   \n",
       "\n",
       "       SBags     LBags  XLBags          Type  Year              Location  \\\n",
       "0    9186.93    529.53     0.0  conventional  2015                Albany   \n",
       "2   16707.15  30108.64     0.0  conventional  2015               Atlanta   \n",
       "4  137146.07   3990.61     0.0  conventional  2015  Baltimore/Washington   \n",
       "6    6064.30   1691.32     0.0  conventional  2015                 Boise   \n",
       "8   87406.84    256.29     0.0  conventional  2015                Boston   \n",
       "\n",
       "   Month  Day  \n",
       "0      1    4  \n",
       "2      1    4  \n",
       "4      1    4  \n",
       "6      1    4  \n",
       "8      1    4  "
      ]
     },
     "execution_count": 7,
     "metadata": {},
     "output_type": "execute_result"
    }
   ],
   "source": [
    "#Dropping organic because of all the null values\n",
    "#focusing on conventional\n",
    "#create a new data frame named Conv_Avocado by choosing the column and removing organic\n",
    "Conv_Avocado=avo[avo.Type!='organic']\n",
    "Org_Avocado=avo[avo.Type!='conventional']\n",
    "\n",
    "Conv_Avocado.head()"
   ]
  },
  {
   "cell_type": "markdown",
   "metadata": {},
   "source": [
    "So now we have a data frame Conv_Avocado that has only conventional avocados."
   ]
  },
  {
   "cell_type": "markdown",
   "metadata": {},
   "source": [
    "# Clean up on isle xlarge_bags"
   ]
  },
  {
   "cell_type": "code",
   "execution_count": 8,
   "metadata": {},
   "outputs": [],
   "source": [
    "#We need to drop the xlarge bags column because of all the 0 values.\n",
    "Conv_Avocado=Conv_Avocado.drop(labels='XLBags',axis=1)"
   ]
  },
  {
   "cell_type": "code",
   "execution_count": 9,
   "metadata": {},
   "outputs": [],
   "source": [
    "ran=Conv_Avocado.loc[Conv_Avocado['AvgPr']==0]"
   ]
  },
  {
   "cell_type": "code",
   "execution_count": 10,
   "metadata": {},
   "outputs": [
    {
     "data": {
      "text/html": [
       "<div>\n",
       "<style scoped>\n",
       "    .dataframe tbody tr th:only-of-type {\n",
       "        vertical-align: middle;\n",
       "    }\n",
       "\n",
       "    .dataframe tbody tr th {\n",
       "        vertical-align: top;\n",
       "    }\n",
       "\n",
       "    .dataframe thead th {\n",
       "        text-align: right;\n",
       "    }\n",
       "</style>\n",
       "<table border=\"1\" class=\"dataframe\">\n",
       "  <thead>\n",
       "    <tr style=\"text-align: right;\">\n",
       "      <th></th>\n",
       "      <th>Date</th>\n",
       "      <th>AvgPr</th>\n",
       "      <th>TVol</th>\n",
       "      <th>4046S</th>\n",
       "      <th>4225L</th>\n",
       "      <th>4770XL</th>\n",
       "      <th>total_bags</th>\n",
       "      <th>SBags</th>\n",
       "      <th>LBags</th>\n",
       "      <th>Type</th>\n",
       "      <th>Year</th>\n",
       "      <th>Location</th>\n",
       "      <th>Month</th>\n",
       "      <th>Day</th>\n",
       "    </tr>\n",
       "  </thead>\n",
       "  <tbody>\n",
       "  </tbody>\n",
       "</table>\n",
       "</div>"
      ],
      "text/plain": [
       "Empty DataFrame\n",
       "Columns: [Date, AvgPr, TVol, 4046S, 4225L, 4770XL, total_bags, SBags, LBags, Type, Year, Location, Month, Day]\n",
       "Index: []"
      ]
     },
     "execution_count": 10,
     "metadata": {},
     "output_type": "execute_result"
    }
   ],
   "source": [
    "ran.head()"
   ]
  },
  {
   "cell_type": "raw",
   "metadata": {},
   "source": []
  },
  {
   "cell_type": "markdown",
   "metadata": {},
   "source": [
    "# Making the Regions and Cities data frame\n",
    "We want to separate the Regions from the Cities\n"
   ]
  },
  {
   "cell_type": "code",
   "execution_count": 11,
   "metadata": {},
   "outputs": [
    {
     "data": {
      "text/plain": [
       "array(['Albany', 'Atlanta', 'Baltimore/Washington', 'Boise', 'Boston',\n",
       "       'Buffalo/Rochester', 'California', 'Charlotte', 'Chicago',\n",
       "       'Cincinnati/Dayton', 'Columbus', 'Dallas/Ft. Worth', 'Denver',\n",
       "       'Detroit', 'Grand Rapids', 'Great Lakes', 'Harrisburg/Scranton',\n",
       "       'Hartford/Springfield', 'Houston', 'Indianapolis', 'Jacksonville',\n",
       "       'Las Vegas', 'Los Angeles', 'Louisville', 'Miami/Ft. Lauderdale',\n",
       "       'Midsouth', 'Nashville', 'New Orleans/Mobile', 'New York',\n",
       "       'Northeast', 'Northern New England', 'Orlando', 'Philadelphia',\n",
       "       'Phoenix/Tucson', 'Pittsburgh', 'Plains', 'Portland',\n",
       "       'Raleigh/Greensboro', 'Richmond/Norfolk', 'Roanoke', 'Sacramento',\n",
       "       'San Diego', 'San Francisco', 'Seattle', 'South Carolina',\n",
       "       'South Central', 'Southeast', 'Spokane', 'St. Louis', 'Syracuse',\n",
       "       'Tampa', 'Total U.S.', 'West', 'West Tex/New Mexico'], dtype=object)"
      ]
     },
     "execution_count": 11,
     "metadata": {},
     "output_type": "execute_result"
    }
   ],
   "source": [
    "#We will need to seperate the states and regions\n",
    "#we can see here all the unique values in the avocado data frame\n",
    "avo['Location'].unique()"
   ]
  },
  {
   "cell_type": "code",
   "execution_count": 12,
   "metadata": {},
   "outputs": [
    {
     "data": {
      "text/plain": [
       "array(['Albany', 'Atlanta', 'Baltimore/Washington', 'Boise', 'Boston',\n",
       "       'Buffalo/Rochester', 'Charlotte', 'Chicago', 'Cincinnati/Dayton',\n",
       "       'Columbus', 'Dallas/Ft. Worth', 'Denver', 'Detroit',\n",
       "       'Grand Rapids', 'Harrisburg/Scranton', 'Hartford/Springfield',\n",
       "       'Houston', 'Indianapolis', 'Jacksonville', 'Las Vegas',\n",
       "       'Los Angeles', 'Louisville', 'Miami/Ft. Lauderdale', 'Nashville',\n",
       "       'New Orleans/Mobile', 'New York', 'Northern New England',\n",
       "       'Orlando', 'Philadelphia', 'Phoenix/Tucson', 'Pittsburgh',\n",
       "       'Portland', 'Raleigh/Greensboro', 'Richmond/Norfolk', 'Roanoke',\n",
       "       'Sacramento', 'San Diego', 'San Francisco', 'Seattle',\n",
       "       'South Carolina', 'Spokane', 'St. Louis', 'Syracuse', 'Tampa',\n",
       "       'West Tex/New Mexico'], dtype=object)"
      ]
     },
     "execution_count": 12,
     "metadata": {},
     "output_type": "execute_result"
    }
   ],
   "source": [
    "#create a list with the names of the cities\n",
    "Cities=['Albany', 'Atlanta', 'Baltimore/Washington', 'Boise', 'Boston',\n",
    "       'Buffalo/Rochester', 'Charlotte', 'Chicago',\n",
    "       'Cincinnati/Dayton', 'Columbus', 'Dallas/Ft. Worth', 'Denver',\n",
    "       'Detroit', 'Grand Rapids', 'Harrisburg/Scranton',\n",
    "       'Hartford/Springfield', 'Houston', 'Indianapolis', 'Jacksonville',\n",
    "       'Las Vegas', 'Los Angeles', 'Louisville', 'Miami/Ft. Lauderdale',\n",
    "       'Nashville', 'New Orleans/Mobile', 'New York',\n",
    "       'Northern New England', 'Orlando', 'Philadelphia',\n",
    "       'Phoenix/Tucson', 'Pittsburgh', 'Portland',\n",
    "       'Raleigh/Greensboro', 'Richmond/Norfolk', 'Roanoke', 'Sacramento',\n",
    "       'San Diego', 'San Francisco', 'Seattle', 'South Carolina',\n",
    "       'Spokane', 'St. Louis', 'Syracuse',\n",
    "       'Tampa','West Tex/New Mexico']\n",
    "\n",
    "#create a data frame with only the cities using the Cities list that was created. \n",
    "Citiesdf=Conv_Avocado.loc[avo['Location'].isin(Cities)]\n",
    "\n",
    "#display the unique values within the geography coluumn\n",
    "Citiesdf['Location'].unique()"
   ]
  },
  {
   "cell_type": "code",
   "execution_count": 13,
   "metadata": {},
   "outputs": [
    {
     "data": {
      "text/plain": [
       "array(['California', 'Great Lakes', 'Midsouth', 'Northeast', 'Plains',\n",
       "       'South Central', 'Southeast', 'West'], dtype=object)"
      ]
     },
     "execution_count": 13,
     "metadata": {},
     "output_type": "execute_result"
    }
   ],
   "source": [
    "#Create a list with the names of the regions. We will use it to seperate them from the cities.\n",
    "Regions=['California','Great Lakes','Midsouth',\n",
    "         'Northeast','Plains','South Central','Southeast','West']\n",
    "\n",
    "#Create a dataframe with only the regions using the list that was created.\n",
    "Regionsdf=Conv_Avocado.loc[avo['Location'].isin(Regions)]\n",
    "\n",
    "#Display the unique values within the geography column.\n",
    "Regionsdf['Location'].unique()                   "
   ]
  },
  {
   "cell_type": "markdown",
   "metadata": {},
   "source": [
    "The only value that was dropped from the original data frame was the 'total U.S.' because it is the total of the regions."
   ]
  },
  {
   "cell_type": "code",
   "execution_count": 79,
   "metadata": {},
   "outputs": [],
   "source": [
    "#Make dataframes based on the year so we can call different years throughout the notebook\n",
    "#There will be regions and cities \n",
    "Conv_2015_CT=Citiesdf.loc[Citiesdf['Year']==2015]\n",
    "Conv_2016_CT=Citiesdf.loc[Citiesdf['Year']==2016]\n",
    "Conv_2017_CT=Citiesdf.loc[Citiesdf['Year']==2017]\n",
    "Conv_2018_CT=Citiesdf.loc[Citiesdf['Year']==2018]\n",
    "Conv_2019_CT=Citiesdf.loc[Citiesdf['Year']==2019]\n",
    "Conv_2020_CT=Citiesdf.loc[Citiesdf['Year']==2020]\n",
    "\n",
    "#need to reset the index for the new data frames\n",
    "Conv_2015_CT.reset_index(inplace=True)\n",
    "Conv_2016_CT.reset_index(inplace=True)\n",
    "Conv_2017_CT.reset_index(inplace=True)\n",
    "Conv_2018_CT.reset_index(inplace=True)\n",
    "Conv_2019_CT.reset_index(inplace=True)\n",
    "Conv_2020_CT.reset_index(inplace=True)\n",
    "\n",
    "Conv_2015_RG=Regionsdf.loc[Regionsdf['Year']==2015]\n",
    "Conv_2016_RG=Regionsdf.loc[Regionsdf['Year']==2016]\n",
    "Conv_2017_RG=Regionsdf.loc[Regionsdf['Year']==2017]\n",
    "Conv_2018_RG=Regionsdf.loc[Regionsdf['Year']==2018]\n",
    "Conv_2019_RG=Regionsdf.loc[Regionsdf['Year']==2019]\n",
    "Conv_2020_RG=Regionsdf.loc[Regionsdf['Year']==2020]\n",
    "\n",
    "#need to reset the index for the new data frames\n",
    "Conv_2015_RG.reset_index(inplace=True)\n",
    "Conv_2016_RG.reset_index(inplace=True)\n",
    "Conv_2017_RG.reset_index(inplace=True)\n",
    "Conv_2018_RG.reset_index(inplace=True)\n",
    "Conv_2019_RG.reset_index(inplace=True)\n",
    "Conv_2020_RG.reset_index(inplace=True)"
   ]
  },
  {
   "cell_type": "code",
   "execution_count": 71,
   "metadata": {},
   "outputs": [
    {
     "name": "stdout",
     "output_type": "stream",
     "text": [
      "416\n",
      "416\n",
      "424\n",
      "392\n",
      "416\n",
      "160\n"
     ]
    }
   ],
   "source": [
    "print(Conv_2015_RG['AvgPr'].count())\n",
    "print(Conv_2016_RG['AvgPr'].count())\n",
    "print(Conv_2017_RG['AvgPr'].count())\n",
    "print(Conv_2018_RG['AvgPr'].count())\n",
    "print(Conv_2019_RG['AvgPr'].count())\n",
    "print(Conv_2020_RG['AvgPr'].count())"
   ]
  },
  {
   "cell_type": "code",
   "execution_count": null,
   "metadata": {},
   "outputs": [],
   "source": []
  },
  {
   "cell_type": "code",
   "execution_count": null,
   "metadata": {},
   "outputs": [],
   "source": []
  },
  {
   "cell_type": "markdown",
   "metadata": {},
   "source": [
    "# Lets create a Barplot that can show the sales based on Months of 2015"
   ]
  },
  {
   "cell_type": "code",
   "execution_count": 16,
   "metadata": {},
   "outputs": [
    {
     "data": {
      "text/plain": [
       "Month\n",
       "1     3309989.94\n",
       "2     3902247.94\n",
       "3     4653819.07\n",
       "4     3586287.16\n",
       "5     4743712.75\n",
       "6     4602052.69\n",
       "7     4494882.78\n",
       "8     5112224.97\n",
       "9     4423144.90\n",
       "10    5231697.94\n",
       "11    4905455.55\n",
       "12    4333353.91\n",
       "Name: 4770XL, dtype: float64"
      ]
     },
     "execution_count": 16,
     "metadata": {},
     "output_type": "execute_result"
    },
    {
     "data": {
      "image/png": "[encoded data removed]",
      "text/plain": [
       "<Figure size 432x288 with 1 Axes>"
      ]
     },
     "metadata": {
      "needs_background": "light"
     },
     "output_type": "display_data"
    }
   ],
   "source": [
    "\n",
    "#lets create the barplot using Conv_2015 data\n",
    "sns.barplot(data=Conv_2015_RG,\n",
    "           x='Month',\n",
    "           y='4770XL',\n",
    "           estimator=sum)\n",
    "\n",
    "#lets show the values that can go with the bar plot for reference\n",
    "Conv_2015_RG.groupby('Month')['4770XL'].sum()"
   ]
  },
  {
   "cell_type": "markdown",
   "metadata": {},
   "source": [
    "The barplot above shows the sum of 4770XL by month for the year 2015."
   ]
  },
  {
   "cell_type": "code",
   "execution_count": 17,
   "metadata": {},
   "outputs": [
    {
     "data": {
      "text/plain": [
       "<seaborn.axisgrid.FacetGrid at 0x201bce859d0>"
      ]
     },
     "execution_count": 17,
     "metadata": {},
     "output_type": "execute_result"
    },
    {
     "data": {
      "image/png": "[encoded data removed]",
      "text/plain": [
       "<Figure size 360x360 with 1 Axes>"
      ]
     },
     "metadata": {
      "needs_background": "light"
     },
     "output_type": "display_data"
    }
   ],
   "source": [
    "sns.lmplot(data=Conv_2015_RG,\n",
    "          x='Month',\n",
    "          y='SBags',\n",
    "          palette='seismic')"
   ]
  },
  {
   "cell_type": "code",
   "execution_count": null,
   "metadata": {},
   "outputs": [],
   "source": []
  },
  {
   "cell_type": "code",
   "execution_count": 18,
   "metadata": {},
   "outputs": [
    {
     "ename": "ValueError",
     "evalue": "x and y must have same first dimension, but have shapes (1,) and (416,)",
     "output_type": "error",
     "traceback": [
      "\u001b[1;31m---------------------------------------------------------------------------\u001b[0m",
      "\u001b[1;31mValueError\u001b[0m                                Traceback (most recent call last)",
      "\u001b[1;32m<ipython-input-18-b85e4f2f0123>\u001b[0m in \u001b[0;36m<module>\u001b[1;34m\u001b[0m\n\u001b[1;32m----> 1\u001b[1;33m plt.plot('month','4770XL',\n\u001b[0m\u001b[0;32m      2\u001b[0m         data=Conv_2015_RG)\n",
      "\u001b[1;32m~\\anaconda3\\lib\\site-packages\\matplotlib\\pyplot.py\u001b[0m in \u001b[0;36mplot\u001b[1;34m(scalex, scaley, data, *args, **kwargs)\u001b[0m\n\u001b[0;32m   2759\u001b[0m \u001b[1;33m@\u001b[0m\u001b[0mdocstring\u001b[0m\u001b[1;33m.\u001b[0m\u001b[0mcopy\u001b[0m\u001b[1;33m(\u001b[0m\u001b[0mAxes\u001b[0m\u001b[1;33m.\u001b[0m\u001b[0mplot\u001b[0m\u001b[1;33m)\u001b[0m\u001b[1;33m\u001b[0m\u001b[1;33m\u001b[0m\u001b[0m\n\u001b[0;32m   2760\u001b[0m \u001b[1;32mdef\u001b[0m \u001b[0mplot\u001b[0m\u001b[1;33m(\u001b[0m\u001b[1;33m*\u001b[0m\u001b[0margs\u001b[0m\u001b[1;33m,\u001b[0m \u001b[0mscalex\u001b[0m\u001b[1;33m=\u001b[0m\u001b[1;32mTrue\u001b[0m\u001b[1;33m,\u001b[0m \u001b[0mscaley\u001b[0m\u001b[1;33m=\u001b[0m\u001b[1;32mTrue\u001b[0m\u001b[1;33m,\u001b[0m \u001b[0mdata\u001b[0m\u001b[1;33m=\u001b[0m\u001b[1;32mNone\u001b[0m\u001b[1;33m,\u001b[0m \u001b[1;33m**\u001b[0m\u001b[0mkwargs\u001b[0m\u001b[1;33m)\u001b[0m\u001b[1;33m:\u001b[0m\u001b[1;33m\u001b[0m\u001b[1;33m\u001b[0m\u001b[0m\n\u001b[1;32m-> 2761\u001b[1;33m     return gca().plot(\n\u001b[0m\u001b[0;32m   2762\u001b[0m         *args, scalex=scalex, scaley=scaley, **({\"data\": data} if data\n\u001b[0;32m   2763\u001b[0m         is not None else {}), **kwargs)\n",
      "\u001b[1;32m~\\anaconda3\\lib\\site-packages\\matplotlib\\axes\\_axes.py\u001b[0m in \u001b[0;36mplot\u001b[1;34m(self, scalex, scaley, data, *args, **kwargs)\u001b[0m\n\u001b[0;32m   1645\u001b[0m         \"\"\"\n\u001b[0;32m   1646\u001b[0m         \u001b[0mkwargs\u001b[0m \u001b[1;33m=\u001b[0m \u001b[0mcbook\u001b[0m\u001b[1;33m.\u001b[0m\u001b[0mnormalize_kwargs\u001b[0m\u001b[1;33m(\u001b[0m\u001b[0mkwargs\u001b[0m\u001b[1;33m,\u001b[0m \u001b[0mmlines\u001b[0m\u001b[1;33m.\u001b[0m\u001b[0mLine2D\u001b[0m\u001b[1;33m)\u001b[0m\u001b[1;33m\u001b[0m\u001b[1;33m\u001b[0m\u001b[0m\n\u001b[1;32m-> 1647\u001b[1;33m         \u001b[0mlines\u001b[0m \u001b[1;33m=\u001b[0m \u001b[1;33m[\u001b[0m\u001b[1;33m*\u001b[0m\u001b[0mself\u001b[0m\u001b[1;33m.\u001b[0m\u001b[0m_get_lines\u001b[0m\u001b[1;33m(\u001b[0m\u001b[1;33m*\u001b[0m\u001b[0margs\u001b[0m\u001b[1;33m,\u001b[0m \u001b[0mdata\u001b[0m\u001b[1;33m=\u001b[0m\u001b[0mdata\u001b[0m\u001b[1;33m,\u001b[0m \u001b[1;33m**\u001b[0m\u001b[0mkwargs\u001b[0m\u001b[1;33m)\u001b[0m\u001b[1;33m]\u001b[0m\u001b[1;33m\u001b[0m\u001b[1;33m\u001b[0m\u001b[0m\n\u001b[0m\u001b[0;32m   1648\u001b[0m         \u001b[1;32mfor\u001b[0m \u001b[0mline\u001b[0m \u001b[1;32min\u001b[0m \u001b[0mlines\u001b[0m\u001b[1;33m:\u001b[0m\u001b[1;33m\u001b[0m\u001b[1;33m\u001b[0m\u001b[0m\n\u001b[0;32m   1649\u001b[0m             \u001b[0mself\u001b[0m\u001b[1;33m.\u001b[0m\u001b[0madd_line\u001b[0m\u001b[1;33m(\u001b[0m\u001b[0mline\u001b[0m\u001b[1;33m)\u001b[0m\u001b[1;33m\u001b[0m\u001b[1;33m\u001b[0m\u001b[0m\n",
      "\u001b[1;32m~\\anaconda3\\lib\\site-packages\\matplotlib\\axes\\_base.py\u001b[0m in \u001b[0;36m__call__\u001b[1;34m(self, *args, **kwargs)\u001b[0m\n\u001b[0;32m    214\u001b[0m                 \u001b[0mthis\u001b[0m \u001b[1;33m+=\u001b[0m \u001b[0margs\u001b[0m\u001b[1;33m[\u001b[0m\u001b[1;36m0\u001b[0m\u001b[1;33m]\u001b[0m\u001b[1;33m,\u001b[0m\u001b[1;33m\u001b[0m\u001b[1;33m\u001b[0m\u001b[0m\n\u001b[0;32m    215\u001b[0m                 \u001b[0margs\u001b[0m \u001b[1;33m=\u001b[0m \u001b[0margs\u001b[0m\u001b[1;33m[\u001b[0m\u001b[1;36m1\u001b[0m\u001b[1;33m:\u001b[0m\u001b[1;33m]\u001b[0m\u001b[1;33m\u001b[0m\u001b[1;33m\u001b[0m\u001b[0m\n\u001b[1;32m--> 216\u001b[1;33m             \u001b[1;32myield\u001b[0m \u001b[1;32mfrom\u001b[0m \u001b[0mself\u001b[0m\u001b[1;33m.\u001b[0m\u001b[0m_plot_args\u001b[0m\u001b[1;33m(\u001b[0m\u001b[0mthis\u001b[0m\u001b[1;33m,\u001b[0m \u001b[0mkwargs\u001b[0m\u001b[1;33m)\u001b[0m\u001b[1;33m\u001b[0m\u001b[1;33m\u001b[0m\u001b[0m\n\u001b[0m\u001b[0;32m    217\u001b[0m \u001b[1;33m\u001b[0m\u001b[0m\n\u001b[0;32m    218\u001b[0m     \u001b[1;32mdef\u001b[0m \u001b[0mget_next_color\u001b[0m\u001b[1;33m(\u001b[0m\u001b[0mself\u001b[0m\u001b[1;33m)\u001b[0m\u001b[1;33m:\u001b[0m\u001b[1;33m\u001b[0m\u001b[1;33m\u001b[0m\u001b[0m\n",
      "\u001b[1;32m~\\anaconda3\\lib\\site-packages\\matplotlib\\axes\\_base.py\u001b[0m in \u001b[0;36m_plot_args\u001b[1;34m(self, tup, kwargs)\u001b[0m\n\u001b[0;32m    340\u001b[0m \u001b[1;33m\u001b[0m\u001b[0m\n\u001b[0;32m    341\u001b[0m         \u001b[1;32mif\u001b[0m \u001b[0mx\u001b[0m\u001b[1;33m.\u001b[0m\u001b[0mshape\u001b[0m\u001b[1;33m[\u001b[0m\u001b[1;36m0\u001b[0m\u001b[1;33m]\u001b[0m \u001b[1;33m!=\u001b[0m \u001b[0my\u001b[0m\u001b[1;33m.\u001b[0m\u001b[0mshape\u001b[0m\u001b[1;33m[\u001b[0m\u001b[1;36m0\u001b[0m\u001b[1;33m]\u001b[0m\u001b[1;33m:\u001b[0m\u001b[1;33m\u001b[0m\u001b[1;33m\u001b[0m\u001b[0m\n\u001b[1;32m--> 342\u001b[1;33m             raise ValueError(f\"x and y must have same first dimension, but \"\n\u001b[0m\u001b[0;32m    343\u001b[0m                              f\"have shapes {x.shape} and {y.shape}\")\n\u001b[0;32m    344\u001b[0m         \u001b[1;32mif\u001b[0m \u001b[0mx\u001b[0m\u001b[1;33m.\u001b[0m\u001b[0mndim\u001b[0m \u001b[1;33m>\u001b[0m \u001b[1;36m2\u001b[0m \u001b[1;32mor\u001b[0m \u001b[0my\u001b[0m\u001b[1;33m.\u001b[0m\u001b[0mndim\u001b[0m \u001b[1;33m>\u001b[0m \u001b[1;36m2\u001b[0m\u001b[1;33m:\u001b[0m\u001b[1;33m\u001b[0m\u001b[1;33m\u001b[0m\u001b[0m\n",
      "\u001b[1;31mValueError\u001b[0m: x and y must have same first dimension, but have shapes (1,) and (416,)"
     ]
    },
    {
     "data": {
      "image/png": "[encoded data removed]",
      "text/plain": [
       "<Figure size 432x288 with 1 Axes>"
      ]
     },
     "metadata": {
      "needs_background": "light"
     },
     "output_type": "display_data"
    }
   ],
   "source": [
    "plt.plot('month','4770XL',\n",
    "        data=Conv_2015_RG)"
   ]
  },
  {
   "cell_type": "code",
   "execution_count": null,
   "metadata": {},
   "outputs": [],
   "source": [
    "Conv_2015_RG.plot.scatter(x='month',\n",
    "                      y='average_price')"
   ]
  },
  {
   "cell_type": "markdown",
   "metadata": {},
   "source": [
    "What if you can plot the different prices in the regions???\n",
    "will the price be sorted from smallest to largest listing all of the regions or cites?\n",
    "would we have to create another column with the combining the the dates instead of the month"
   ]
  },
  {
   "cell_type": "markdown",
   "metadata": {},
   "source": [
    "# Making an ECDF for 4770xl??"
   ]
  },
  {
   "cell_type": "code",
   "execution_count": 19,
   "metadata": {},
   "outputs": [
    {
     "data": {
      "image/png": "[encoded data removed]",
      "text/plain": [
       "<Figure size 432x288 with 1 Axes>"
      ]
     },
     "metadata": {
      "needs_background": "light"
     },
     "output_type": "display_data"
    }
   ],
   "source": [
    "#lets create an ECDF for the amount of 4770XL sold in 2015\n",
    "#we will create a variable x with the totals sorted\n",
    "x=np.sort(Conv_2015_RG['4770XL'])\n",
    "\n",
    "#lets get the length of x ('average price')\n",
    "n=len(x)\n",
    "\n",
    "#lets create a range to use as the y axis using the length of average price and dividing by it\n",
    "y=np.arange(1,n+1)/n\n",
    "\n",
    "\n",
    "#Create a plot\n",
    "XLE=plt.plot(x,y, \n",
    "           marker='.',\n",
    "           linestyle='none',)\n",
    "\n",
    "\n",
    "#Rename the axis y and x\n",
    "XLE=plt.xlabel('4770XL')\n",
    "XLE=plt.ylabel('ECDF')\n",
    "\n",
    "#add extra space to the edges\n",
    "plt.margins(0.02)"
   ]
  },
  {
   "cell_type": "markdown",
   "metadata": {},
   "source": [
    "The above plot shows percentages based on the amount of 4770XL avocados sold by regions in 2015"
   ]
  },
  {
   "cell_type": "raw",
   "metadata": {},
   "source": [
    "Less than 39% of regions sold 50,000 avocados. \n",
    "Less than 82% of regions sold 250,000 avocados. \n",
    "Less than 100% of regions sold 520,000 avocados."
   ]
  },
  {
   "cell_type": "code",
   "execution_count": null,
   "metadata": {},
   "outputs": [],
   "source": []
  },
  {
   "cell_type": "markdown",
   "metadata": {},
   "source": [
    "# Making an ECDF Function"
   ]
  },
  {
   "cell_type": "code",
   "execution_count": 20,
   "metadata": {},
   "outputs": [],
   "source": [
    "def ecdf(data):\n",
    "    n=len(data)\n",
    "    x=np.sort(data)\n",
    "    y=np.arange(1,n+1)/n\n",
    "    return x,y"
   ]
  },
  {
   "cell_type": "markdown",
   "metadata": {},
   "source": [
    "# 2015, 2016, 2017 Average Price Percantages"
   ]
  },
  {
   "cell_type": "code",
   "execution_count": 21,
   "metadata": {},
   "outputs": [
    {
     "data": {
      "image/png": "[encoded data removed]",
      "text/plain": [
       "<Figure size 432x288 with 1 Axes>"
      ]
     },
     "metadata": {
      "needs_background": "light"
     },
     "output_type": "display_data"
    }
   ],
   "source": [
    "#lets call the ecdf function we created to get the x and y calculations to plot the average price for regions.\n",
    "x15_price, y15_price=ecdf(Conv_2015_RG['AvgPr'])\n",
    "x16_price, y16_price=ecdf(Conv_2016_RG['AvgPr'])\n",
    "x17_price, y17_price=ecdf(Conv_2017_RG['AvgPr'])\n",
    "\n",
    "\n",
    "#lets use the x and y value to create the plot.\n",
    "AvgPrReg1=plt.plot(x15_price, y15_price,marker='.',linestyle='none')\n",
    "AvgPrReg1=plt.plot(x16_price, y16_price,marker='.',linestyle='none')\n",
    "AvgPrReg1=plt.plot(x17_price, y17_price,marker='.',linestyle='none')\n",
    "\n",
    "AvgPrReg1=plt.legend(('2015','2016','2017'))\n",
    "AvgPrReg1=plt.xlabel('AvgPr')\n",
    "AvgPrReg1=plt.margins(.02)\n",
    "AvgPrReg1=plt.grid()\n",
    "\n",
    "\n",
    "plt.show()"
   ]
  },
  {
   "cell_type": "code",
   "execution_count": 22,
   "metadata": {},
   "outputs": [
    {
     "name": "stdout",
     "output_type": "stream",
     "text": [
      "The max average price for 2015: $ 1.36\n",
      "The max average price for 2016: $ 1.72\n",
      "The max average price for 2017: $ 1.98\n"
     ]
    }
   ],
   "source": [
    "print('The max average price for 2015: $',Conv_2015_RG['AvgPr'].max())\n",
    "print('The max average price for 2016: $',Conv_2016_RG['AvgPr'].max())\n",
    "print('The max average price for 2017: $',Conv_2017_RG['AvgPr'].max())"
   ]
  },
  {
   "cell_type": "raw",
   "metadata": {},
   "source": [
    "The plot above shows how the average price kept rising through out the years 2015, 2016 and 2017.\n",
    "We can also see what the max price \n",
    "2015 and 2016 both had 60% or less of avocados at the average price of ~ $1.10.\n",
    "2017 had 60% or less of avocados at the average price of ~$1.31."
   ]
  },
  {
   "cell_type": "raw",
   "metadata": {},
   "source": [
    "The above plot shows the percentages for the average price in 2015, 2016, and 2017 for Regions.\n",
    "We can see that; \n",
    "20% of Regions sold avocados for the average price of ~ $.92.\n",
    "60% of Regions sold avocados for the average price of ~ $1.10.\n",
    "90% of Regions sold avocados for the average price of ~ $1.20.\n",
    "100% of Regions sold avocados for the average price of $1.36."
   ]
  },
  {
   "cell_type": "markdown",
   "metadata": {},
   "source": [
    "# 2018, 2019, 2020 Average Price Percantages"
   ]
  },
  {
   "cell_type": "code",
   "execution_count": 23,
   "metadata": {},
   "outputs": [
    {
     "data": {
      "image/png": "[encoded data removed]",
      "text/plain": [
       "<Figure size 432x288 with 1 Axes>"
      ]
     },
     "metadata": {
      "needs_background": "light"
     },
     "output_type": "display_data"
    }
   ],
   "source": [
    "#lets call the ecdf function to calculate the percantages for 2018, 2019 and 2020\n",
    "x18_price, y18_price=ecdf(Conv_2018_RG['AvgPr'])\n",
    "x19_price, y19_price=ecdf(Conv_2019_RG['AvgPr'])\n",
    "x20_price, y20_price=ecdf(Conv_2020_RG['AvgPr'])\n",
    "\n",
    "#lets use the x and y values to plot the average prices\n",
    "AvgPrReg2=plt.plot(x18_price, y18_price, marker='.', linestyle='none')\n",
    "AvgPrReg2=plt.plot(x19_price, y19_price, marker='.', linestyle='none')\n",
    "AvgPrReg2=plt.plot(x20_price, y20_price, marker='.', linestyle='none')\n",
    "\n",
    "#Show the legend\n",
    "AvgPrReg2=plt.legend(('2018','2019','2020'))\n",
    "AvgPrReg2=plt.xlabel('Average Price')\n",
    "AvgPrReg2=plt.margins(0.02)\n",
    "AvgPrReg2=plt.grid()\n",
    "\n",
    "plt.show()"
   ]
  },
  {
   "cell_type": "raw",
   "metadata": {},
   "source": [
    "The above shows the average price for Regions in 2018, 2019 and 2020.\n",
    "We can see that 2018 and 2020 were roughly following the same curve.\n",
    "10% and less of the regions had an average price of $.90 in 2018 and 2020.\n",
    "80% and less of the regions had an average price of $1.25 in 2018 and 2020.\n",
    "43% and less of the regions had an average price of $1.10 in 2019.\n",
    "80% and less of the regions had an average price of $1.35 in 2019."
   ]
  },
  {
   "cell_type": "code",
   "execution_count": 24,
   "metadata": {},
   "outputs": [
    {
     "name": "stdout",
     "output_type": "stream",
     "text": [
      "The max average price for 2018: $ 1.57\n",
      "The max average price for 2019: $ 1.75\n",
      "The max average price for 2020: $ 1.43\n"
     ]
    }
   ],
   "source": [
    "print('The max average price for 2018: $',Conv_2018_RG['AvgPr'].max())\n",
    "print('The max average price for 2019: $',Conv_2019_RG['AvgPr'].max())\n",
    "print('The max average price for 2020: $',Conv_2020_RG['AvgPr'].max())"
   ]
  },
  {
   "cell_type": "markdown",
   "metadata": {},
   "source": [
    "# Some 3d Stuff??"
   ]
  },
  {
   "cell_type": "code",
   "execution_count": 25,
   "metadata": {},
   "outputs": [
    {
     "data": {
      "text/html": [
       "        <script type=\"text/javascript\">\n",
       "        window.PlotlyConfig = {MathJaxConfig: 'local'};\n",
       "        if (window.MathJax) {MathJax.Hub.Config({SVG: {font: \"STIX-Web\"}});}\n",
       "        if (typeof require !== 'undefined') {\n",
       "        require.undef(\"plotly\");\n",
       "        requirejs.config({\n",
       "            paths: {\n",
       "                'plotly': ['https://cdn.plot.ly/plotly-latest.min']\n",
       "            }\n",
       "        });\n",
       "        require(['plotly'], function(Plotly) {\n",
       "            window._Plotly = Plotly;\n",
       "        });\n",
       "        }\n",
       "        </script>\n",
       "        "
      ]
     },
     "metadata": {},
     "output_type": "display_data"
    },
    {
     "data": {
      "text/html": [
       "        <script type=\"text/javascript\">\n",
       "        window.PlotlyConfig = {MathJaxConfig: 'local'};\n",
       "        if (window.MathJax) {MathJax.Hub.Config({SVG: {font: \"STIX-Web\"}});}\n",
       "        if (typeof require !== 'undefined') {\n",
       "        require.undef(\"plotly\");\n",
       "        requirejs.config({\n",
       "            paths: {\n",
       "                'plotly': ['https://cdn.plot.ly/plotly-latest.min']\n",
       "            }\n",
       "        });\n",
       "        require(['plotly'], function(Plotly) {\n",
       "            window._Plotly = Plotly;\n",
       "        });\n",
       "        }\n",
       "        </script>\n",
       "        "
      ]
     },
     "metadata": {},
     "output_type": "display_data"
    }
   ],
   "source": [
    "from plotly import __version__\n",
    "import cufflinks as cf\n",
    "from plotly.offline import download_plotlyjs, init_notebook_mode, plot, iplot\n",
    "init_notebook_mode(connected=True)\n",
    "cf.go_offline()"
   ]
  },
  {
   "cell_type": "code",
   "execution_count": 62,
   "metadata": {},
   "outputs": [
    {
     "name": "stdout",
     "output_type": "stream",
     "text": [
      "424\n",
      "392\n",
      "160\n",
      "416\n"
     ]
    }
   ],
   "source": [
    "print(Conv_2017_RG['AvgPr'].count())\n",
    "print(Conv_2018_RG['AvgPr'].count())\n",
    "print(Conv_2020_RG['AvgPr'].count())\n",
    "\n",
    "print(Conv_2016_RG['AvgPr'].count())"
   ]
  },
  {
   "cell_type": "code",
   "execution_count": 27,
   "metadata": {},
   "outputs": [
    {
     "data": {
      "text/html": [
       "<div>\n",
       "<style scoped>\n",
       "    .dataframe tbody tr th:only-of-type {\n",
       "        vertical-align: middle;\n",
       "    }\n",
       "\n",
       "    .dataframe tbody tr th {\n",
       "        vertical-align: top;\n",
       "    }\n",
       "\n",
       "    .dataframe thead th {\n",
       "        text-align: right;\n",
       "    }\n",
       "</style>\n",
       "<table border=\"1\" class=\"dataframe\">\n",
       "  <thead>\n",
       "    <tr style=\"text-align: right;\">\n",
       "      <th></th>\n",
       "      <th>2015</th>\n",
       "      <th>2016</th>\n",
       "      <th>2017</th>\n",
       "      <th>2018</th>\n",
       "      <th>2019</th>\n",
       "      <th>2020</th>\n",
       "    </tr>\n",
       "  </thead>\n",
       "  <tbody>\n",
       "    <tr>\n",
       "      <th>12</th>\n",
       "      <td>0.93</td>\n",
       "      <td>NaN</td>\n",
       "      <td>NaN</td>\n",
       "      <td>NaN</td>\n",
       "      <td>NaN</td>\n",
       "      <td>NaN</td>\n",
       "    </tr>\n",
       "    <tr>\n",
       "      <th>30</th>\n",
       "      <td>1.02</td>\n",
       "      <td>NaN</td>\n",
       "      <td>NaN</td>\n",
       "      <td>NaN</td>\n",
       "      <td>NaN</td>\n",
       "      <td>NaN</td>\n",
       "    </tr>\n",
       "    <tr>\n",
       "      <th>50</th>\n",
       "      <td>1.10</td>\n",
       "      <td>NaN</td>\n",
       "      <td>NaN</td>\n",
       "      <td>NaN</td>\n",
       "      <td>NaN</td>\n",
       "      <td>NaN</td>\n",
       "    </tr>\n",
       "    <tr>\n",
       "      <th>58</th>\n",
       "      <td>1.09</td>\n",
       "      <td>NaN</td>\n",
       "      <td>NaN</td>\n",
       "      <td>NaN</td>\n",
       "      <td>NaN</td>\n",
       "      <td>NaN</td>\n",
       "    </tr>\n",
       "    <tr>\n",
       "      <th>70</th>\n",
       "      <td>1.01</td>\n",
       "      <td>NaN</td>\n",
       "      <td>NaN</td>\n",
       "      <td>NaN</td>\n",
       "      <td>NaN</td>\n",
       "      <td>NaN</td>\n",
       "    </tr>\n",
       "  </tbody>\n",
       "</table>\n",
       "</div>"
      ],
      "text/plain": [
       "    2015  2016  2017  2018  2019  2020\n",
       "12  0.93   NaN   NaN   NaN   NaN   NaN\n",
       "30  1.02   NaN   NaN   NaN   NaN   NaN\n",
       "50  1.10   NaN   NaN   NaN   NaN   NaN\n",
       "58  1.09   NaN   NaN   NaN   NaN   NaN\n",
       "70  1.01   NaN   NaN   NaN   NaN   NaN"
      ]
     },
     "execution_count": 27,
     "metadata": {},
     "output_type": "execute_result"
    }
   ],
   "source": [
    "Conv_Avg_Pr={'2015':Conv_2015_RG['AvgPr'],\n",
    "             '2016':Conv_2016_RG['AvgPr'],\n",
    "             '2017':Conv_2017_RG['AvgPr'],\n",
    "             '2018':Conv_2018_RG['AvgPr'],\n",
    "             '2019':Conv_2019_RG['AvgPr'],\n",
    "             '2020':Conv_2020_RG['AvgPr']}\n",
    "Test=pd.DataFrame(data=Conv_Avg_Pr)\n",
    "Test.head()"
   ]
  },
  {
   "cell_type": "code",
   "execution_count": 64,
   "metadata": {},
   "outputs": [
    {
     "data": {
      "text/html": [
       "<div>\n",
       "<style scoped>\n",
       "    .dataframe tbody tr th:only-of-type {\n",
       "        vertical-align: middle;\n",
       "    }\n",
       "\n",
       "    .dataframe tbody tr th {\n",
       "        vertical-align: top;\n",
       "    }\n",
       "\n",
       "    .dataframe thead th {\n",
       "        text-align: right;\n",
       "    }\n",
       "</style>\n",
       "<table border=\"1\" class=\"dataframe\">\n",
       "  <thead>\n",
       "    <tr style=\"text-align: right;\">\n",
       "      <th></th>\n",
       "      <th>0</th>\n",
       "      <th>1</th>\n",
       "      <th>2</th>\n",
       "      <th>3</th>\n",
       "      <th>4</th>\n",
       "      <th>5</th>\n",
       "    </tr>\n",
       "  </thead>\n",
       "  <tbody>\n",
       "    <tr>\n",
       "      <th>0</th>\n",
       "      <td>0.93</td>\n",
       "      <td>0.73</td>\n",
       "      <td>0.89</td>\n",
       "      <td>0.93</td>\n",
       "      <td>1.06</td>\n",
       "      <td>1.12</td>\n",
       "    </tr>\n",
       "    <tr>\n",
       "      <th>1</th>\n",
       "      <td>1.02</td>\n",
       "      <td>0.92</td>\n",
       "      <td>0.88</td>\n",
       "      <td>0.92</td>\n",
       "      <td>1.00</td>\n",
       "      <td>0.89</td>\n",
       "    </tr>\n",
       "    <tr>\n",
       "      <th>2</th>\n",
       "      <td>1.10</td>\n",
       "      <td>1.01</td>\n",
       "      <td>1.12</td>\n",
       "      <td>0.96</td>\n",
       "      <td>1.07</td>\n",
       "      <td>0.97</td>\n",
       "    </tr>\n",
       "    <tr>\n",
       "      <th>3</th>\n",
       "      <td>1.09</td>\n",
       "      <td>1.07</td>\n",
       "      <td>1.35</td>\n",
       "      <td>1.31</td>\n",
       "      <td>1.27</td>\n",
       "      <td>1.20</td>\n",
       "    </tr>\n",
       "    <tr>\n",
       "      <th>4</th>\n",
       "      <td>1.01</td>\n",
       "      <td>0.94</td>\n",
       "      <td>0.83</td>\n",
       "      <td>1.02</td>\n",
       "      <td>1.08</td>\n",
       "      <td>0.99</td>\n",
       "    </tr>\n",
       "  </tbody>\n",
       "</table>\n",
       "</div>"
      ],
      "text/plain": [
       "      0     1     2     3     4     5\n",
       "0  0.93  0.73  0.89  0.93  1.06  1.12\n",
       "1  1.02  0.92  0.88  0.92  1.00  0.89\n",
       "2  1.10  1.01  1.12  0.96  1.07  0.97\n",
       "3  1.09  1.07  1.35  1.31  1.27  1.20\n",
       "4  1.01  0.94  0.83  1.02  1.08  0.99"
      ]
     },
     "execution_count": 64,
     "metadata": {},
     "output_type": "execute_result"
    }
   ],
   "source": [
    "Yr_Avrg_Pr=pd.concat([Conv_2015_RG['AvgPr'],\n",
    "               Conv_2016_RG['AvgPr'],\n",
    "               Conv_2017_RG['AvgPr'],\n",
    "               Conv_2018_RG['AvgPr'],\n",
    "               Conv_2019_RG['AvgPr'],\n",
    "               Conv_2020_RG['AvgPr']],\n",
    "               axis=1,\n",
    "               ignore_index=True)\n",
    "Yr_Avrg_Pr.rename(columns={'0':'2015',\n",
    "                           '1':'2016',\n",
    "                           '2':'2017',\n",
    "                           '3':'2018',\n",
    "                           '4':'2019'})\n",
    "dfg.head()"
   ]
  },
  {
   "cell_type": "code",
   "execution_count": 61,
   "metadata": {},
   "outputs": [
    {
     "data": {
      "text/html": [
       "<div>\n",
       "<style scoped>\n",
       "    .dataframe tbody tr th:only-of-type {\n",
       "        vertical-align: middle;\n",
       "    }\n",
       "\n",
       "    .dataframe tbody tr th {\n",
       "        vertical-align: top;\n",
       "    }\n",
       "\n",
       "    .dataframe thead th {\n",
       "        text-align: right;\n",
       "    }\n",
       "</style>\n",
       "<table border=\"1\" class=\"dataframe\">\n",
       "  <thead>\n",
       "    <tr style=\"text-align: right;\">\n",
       "      <th></th>\n",
       "      <th>index</th>\n",
       "      <th>Date</th>\n",
       "      <th>AvgPr</th>\n",
       "      <th>TVol</th>\n",
       "      <th>4046S</th>\n",
       "      <th>4225L</th>\n",
       "      <th>4770XL</th>\n",
       "      <th>total_bags</th>\n",
       "      <th>SBags</th>\n",
       "      <th>LBags</th>\n",
       "      <th>Type</th>\n",
       "      <th>Year</th>\n",
       "      <th>Location</th>\n",
       "      <th>Month</th>\n",
       "      <th>Day</th>\n",
       "    </tr>\n",
       "  </thead>\n",
       "  <tbody>\n",
       "    <tr>\n",
       "      <th>0</th>\n",
       "      <td>5627</td>\n",
       "      <td>2016-01-03</td>\n",
       "      <td>0.73</td>\n",
       "      <td>7730431.28</td>\n",
       "      <td>2315175.35</td>\n",
       "      <td>2856102.41</td>\n",
       "      <td>257268.16</td>\n",
       "      <td>2301885.36</td>\n",
       "      <td>1950428.50</td>\n",
       "      <td>340852.13</td>\n",
       "      <td>conventional</td>\n",
       "      <td>2016</td>\n",
       "      <td>California</td>\n",
       "      <td>1</td>\n",
       "      <td>3</td>\n",
       "    </tr>\n",
       "    <tr>\n",
       "      <th>1</th>\n",
       "      <td>5645</td>\n",
       "      <td>2016-01-03</td>\n",
       "      <td>0.92</td>\n",
       "      <td>4065583.41</td>\n",
       "      <td>604697.28</td>\n",
       "      <td>2200074.78</td>\n",
       "      <td>543717.88</td>\n",
       "      <td>717093.47</td>\n",
       "      <td>438279.98</td>\n",
       "      <td>147920.69</td>\n",
       "      <td>conventional</td>\n",
       "      <td>2016</td>\n",
       "      <td>Great Lakes</td>\n",
       "      <td>1</td>\n",
       "      <td>3</td>\n",
       "    </tr>\n",
       "    <tr>\n",
       "      <th>2</th>\n",
       "      <td>5665</td>\n",
       "      <td>2016-01-03</td>\n",
       "      <td>1.01</td>\n",
       "      <td>2967929.65</td>\n",
       "      <td>675102.33</td>\n",
       "      <td>1566127.03</td>\n",
       "      <td>150716.62</td>\n",
       "      <td>575983.67</td>\n",
       "      <td>504610.53</td>\n",
       "      <td>64629.99</td>\n",
       "      <td>conventional</td>\n",
       "      <td>2016</td>\n",
       "      <td>Midsouth</td>\n",
       "      <td>1</td>\n",
       "      <td>3</td>\n",
       "    </tr>\n",
       "    <tr>\n",
       "      <th>3</th>\n",
       "      <td>5673</td>\n",
       "      <td>2016-01-03</td>\n",
       "      <td>1.07</td>\n",
       "      <td>4524219.73</td>\n",
       "      <td>96146.84</td>\n",
       "      <td>3588931.66</td>\n",
       "      <td>53765.74</td>\n",
       "      <td>785375.49</td>\n",
       "      <td>731458.46</td>\n",
       "      <td>52073.39</td>\n",
       "      <td>conventional</td>\n",
       "      <td>2016</td>\n",
       "      <td>Northeast</td>\n",
       "      <td>1</td>\n",
       "      <td>3</td>\n",
       "    </tr>\n",
       "    <tr>\n",
       "      <th>4</th>\n",
       "      <td>5685</td>\n",
       "      <td>2016-01-03</td>\n",
       "      <td>0.94</td>\n",
       "      <td>2171818.57</td>\n",
       "      <td>999388.89</td>\n",
       "      <td>840637.85</td>\n",
       "      <td>19331.34</td>\n",
       "      <td>312460.49</td>\n",
       "      <td>291734.88</td>\n",
       "      <td>19418.04</td>\n",
       "      <td>conventional</td>\n",
       "      <td>2016</td>\n",
       "      <td>Plains</td>\n",
       "      <td>1</td>\n",
       "      <td>3</td>\n",
       "    </tr>\n",
       "    <tr>\n",
       "      <th>5</th>\n",
       "      <td>5705</td>\n",
       "      <td>2016-01-03</td>\n",
       "      <td>0.79</td>\n",
       "      <td>5693942.07</td>\n",
       "      <td>2512692.22</td>\n",
       "      <td>2024262.18</td>\n",
       "      <td>361423.55</td>\n",
       "      <td>795564.12</td>\n",
       "      <td>682311.74</td>\n",
       "      <td>109448.15</td>\n",
       "      <td>conventional</td>\n",
       "      <td>2016</td>\n",
       "      <td>South Central</td>\n",
       "      <td>1</td>\n",
       "      <td>3</td>\n",
       "    </tr>\n",
       "    <tr>\n",
       "      <th>6</th>\n",
       "      <td>5707</td>\n",
       "      <td>2016-01-03</td>\n",
       "      <td>1.06</td>\n",
       "      <td>3280451.38</td>\n",
       "      <td>2208431.81</td>\n",
       "      <td>339054.70</td>\n",
       "      <td>17650.77</td>\n",
       "      <td>715314.10</td>\n",
       "      <td>482358.65</td>\n",
       "      <td>232943.41</td>\n",
       "      <td>conventional</td>\n",
       "      <td>2016</td>\n",
       "      <td>Southeast</td>\n",
       "      <td>1</td>\n",
       "      <td>3</td>\n",
       "    </tr>\n",
       "    <tr>\n",
       "      <th>7</th>\n",
       "      <td>5719</td>\n",
       "      <td>2016-01-03</td>\n",
       "      <td>0.73</td>\n",
       "      <td>7707711.90</td>\n",
       "      <td>2204871.45</td>\n",
       "      <td>2638893.24</td>\n",
       "      <td>156194.56</td>\n",
       "      <td>2707752.65</td>\n",
       "      <td>1383713.06</td>\n",
       "      <td>1320163.95</td>\n",
       "      <td>conventional</td>\n",
       "      <td>2016</td>\n",
       "      <td>West</td>\n",
       "      <td>1</td>\n",
       "      <td>3</td>\n",
       "    </tr>\n",
       "    <tr>\n",
       "      <th>8</th>\n",
       "      <td>5735</td>\n",
       "      <td>2016-01-10</td>\n",
       "      <td>0.87</td>\n",
       "      <td>6303406.82</td>\n",
       "      <td>1736168.01</td>\n",
       "      <td>2173554.18</td>\n",
       "      <td>261931.07</td>\n",
       "      <td>2131753.56</td>\n",
       "      <td>1793640.16</td>\n",
       "      <td>321613.97</td>\n",
       "      <td>conventional</td>\n",
       "      <td>2016</td>\n",
       "      <td>California</td>\n",
       "      <td>1</td>\n",
       "      <td>10</td>\n",
       "    </tr>\n",
       "    <tr>\n",
       "      <th>9</th>\n",
       "      <td>5753</td>\n",
       "      <td>2016-01-10</td>\n",
       "      <td>1.06</td>\n",
       "      <td>3310201.06</td>\n",
       "      <td>503914.83</td>\n",
       "      <td>1753942.06</td>\n",
       "      <td>352247.15</td>\n",
       "      <td>700097.02</td>\n",
       "      <td>488806.30</td>\n",
       "      <td>185907.38</td>\n",
       "      <td>conventional</td>\n",
       "      <td>2016</td>\n",
       "      <td>Great Lakes</td>\n",
       "      <td>1</td>\n",
       "      <td>10</td>\n",
       "    </tr>\n",
       "  </tbody>\n",
       "</table>\n",
       "</div>"
      ],
      "text/plain": [
       "   index        Date  AvgPr        TVol       4046S       4225L     4770XL  \\\n",
       "0   5627  2016-01-03   0.73  7730431.28  2315175.35  2856102.41  257268.16   \n",
       "1   5645  2016-01-03   0.92  4065583.41   604697.28  2200074.78  543717.88   \n",
       "2   5665  2016-01-03   1.01  2967929.65   675102.33  1566127.03  150716.62   \n",
       "3   5673  2016-01-03   1.07  4524219.73    96146.84  3588931.66   53765.74   \n",
       "4   5685  2016-01-03   0.94  2171818.57   999388.89   840637.85   19331.34   \n",
       "5   5705  2016-01-03   0.79  5693942.07  2512692.22  2024262.18  361423.55   \n",
       "6   5707  2016-01-03   1.06  3280451.38  2208431.81   339054.70   17650.77   \n",
       "7   5719  2016-01-03   0.73  7707711.90  2204871.45  2638893.24  156194.56   \n",
       "8   5735  2016-01-10   0.87  6303406.82  1736168.01  2173554.18  261931.07   \n",
       "9   5753  2016-01-10   1.06  3310201.06   503914.83  1753942.06  352247.15   \n",
       "\n",
       "   total_bags       SBags       LBags          Type  Year       Location  \\\n",
       "0  2301885.36  1950428.50   340852.13  conventional  2016     California   \n",
       "1   717093.47   438279.98   147920.69  conventional  2016    Great Lakes   \n",
       "2   575983.67   504610.53    64629.99  conventional  2016       Midsouth   \n",
       "3   785375.49   731458.46    52073.39  conventional  2016      Northeast   \n",
       "4   312460.49   291734.88    19418.04  conventional  2016         Plains   \n",
       "5   795564.12   682311.74   109448.15  conventional  2016  South Central   \n",
       "6   715314.10   482358.65   232943.41  conventional  2016      Southeast   \n",
       "7  2707752.65  1383713.06  1320163.95  conventional  2016           West   \n",
       "8  2131753.56  1793640.16   321613.97  conventional  2016     California   \n",
       "9   700097.02   488806.30   185907.38  conventional  2016    Great Lakes   \n",
       "\n",
       "   Month  Day  \n",
       "0      1    3  \n",
       "1      1    3  \n",
       "2      1    3  \n",
       "3      1    3  \n",
       "4      1    3  \n",
       "5      1    3  \n",
       "6      1    3  \n",
       "7      1    3  \n",
       "8      1   10  \n",
       "9      1   10  "
      ]
     },
     "execution_count": 61,
     "metadata": {},
     "output_type": "execute_result"
    }
   ],
   "source": [
    "Conv_2016_RG.head(10)"
   ]
  },
  {
   "cell_type": "code",
   "execution_count": 53,
   "metadata": {},
   "outputs": [
    {
     "data": {
      "text/html": [
       "<div>\n",
       "<style scoped>\n",
       "    .dataframe tbody tr th:only-of-type {\n",
       "        vertical-align: middle;\n",
       "    }\n",
       "\n",
       "    .dataframe tbody tr th {\n",
       "        vertical-align: top;\n",
       "    }\n",
       "\n",
       "    .dataframe thead th {\n",
       "        text-align: right;\n",
       "    }\n",
       "</style>\n",
       "<table border=\"1\" class=\"dataframe\">\n",
       "  <thead>\n",
       "    <tr style=\"text-align: right;\">\n",
       "      <th></th>\n",
       "      <th>AvgPr</th>\n",
       "    </tr>\n",
       "  </thead>\n",
       "  <tbody>\n",
       "    <tr>\n",
       "      <th>0</th>\n",
       "      <td>0.93</td>\n",
       "    </tr>\n",
       "    <tr>\n",
       "      <th>1</th>\n",
       "      <td>0.93</td>\n",
       "    </tr>\n",
       "    <tr>\n",
       "      <th>2</th>\n",
       "      <td>0.93</td>\n",
       "    </tr>\n",
       "    <tr>\n",
       "      <th>3</th>\n",
       "      <td>0.93</td>\n",
       "    </tr>\n",
       "    <tr>\n",
       "      <th>4</th>\n",
       "      <td>0.93</td>\n",
       "    </tr>\n",
       "  </tbody>\n",
       "</table>\n",
       "</div>"
      ],
      "text/plain": [
       "   AvgPr\n",
       "0   0.93\n",
       "1   0.93\n",
       "2   0.93\n",
       "3   0.93\n",
       "4   0.93"
      ]
     },
     "execution_count": 53,
     "metadata": {},
     "output_type": "execute_result"
    }
   ],
   "source": [
    "data=[Conv_2015_RG['AvgPr'],Conv_2016_RG['AvgPr']]\n",
    "header =['2015','2016']\n",
    "dfe=pd.merge(Conv_2015_RG['AvgPr'],Conv_2016_RG['AvgPr'],how='outer',)\n",
    "\n",
    "dfe.head()"
   ]
  },
  {
   "cell_type": "code",
   "execution_count": null,
   "metadata": {},
   "outputs": [],
   "source": []
  },
  {
   "cell_type": "code",
   "execution_count": 42,
   "metadata": {},
   "outputs": [
    {
     "data": {
      "application/vnd.plotly.v1+json": {
       "config": {
        "linkText": "Export to plot.ly",
        "plotlyServerURL": "https://plot.ly",
        "showLink": true
       },
       "data": [
        {
         "line": {
          "color": "rgba(255, 153, 51, 1.0)",
          "dash": "solid",
          "shape": "linear",
          "width": 1.3
         },
         "mode": "lines",
         "name": "4046S",
         "text": "",
         "type": "scatter",
         "x": [
          12,
          30,
          50,
          58,
          70,
          90,
          92,
          104,
          120,
          138,
          158,
          166,
          178,
          198,
          200,
          212,
          228,
          246,
          266,
          274,
          286,
          306,
          308,
          320,
          336,
          354,
          374,
          382,
          394,
          414,
          416,
          428,
          444,
          462,
          482,
          490,
          502,
          522,
          524,
          536,
          552,
          570,
          590,
          598,
          610,
          630,
          632,
          644,
          660,
          678,
          698,
          706,
          718,
          738,
          740,
          752,
          768,
          786,
          806,
          814,
          826,
          846,
          848,
          860,
          876,
          894,
          914,
          922,
          934,
          954,
          956,
          968,
          984,
          1002,
          1022,
          1030,
          1042,
          1062,
          1064,
          1076,
          1092,
          1110,
          1130,
          1138,
          1150,
          1170,
          1172,
          1184,
          1200,
          1218,
          1238,
          1246,
          1258,
          1278,
          1280,
          1292,
          1308,
          1326,
          1346,
          1354,
          1366,
          1386,
          1388,
          1400,
          1416,
          1434,
          1454,
          1462,
          1474,
          1494,
          1496,
          1508,
          1524,
          1542,
          1562,
          1570,
          1582,
          1602,
          1604,
          1616,
          1632,
          1650,
          1670,
          1678,
          1690,
          1710,
          1712,
          1724,
          1740,
          1758,
          1778,
          1786,
          1798,
          1818,
          1820,
          1832,
          1848,
          1866,
          1886,
          1894,
          1906,
          1926,
          1928,
          1940,
          1956,
          1974,
          1994,
          2002,
          2014,
          2034,
          2036,
          2048,
          2064,
          2082,
          2102,
          2110,
          2122,
          2142,
          2144,
          2156,
          2172,
          2190,
          2210,
          2218,
          2230,
          2250,
          2252,
          2264,
          2280,
          2298,
          2318,
          2326,
          2338,
          2358,
          2360,
          2372,
          2388,
          2406,
          2426,
          2434,
          2446,
          2466,
          2468,
          2480,
          2496,
          2514,
          2534,
          2542,
          2554,
          2574,
          2576,
          2588,
          2604,
          2622,
          2642,
          2650,
          2662,
          2682,
          2684,
          2696,
          2712,
          2730,
          2750,
          2758,
          2770,
          2790,
          2792,
          2804,
          2820,
          2838,
          2858,
          2866,
          2878,
          2898,
          2900,
          2912,
          2928,
          2946,
          2966,
          2974,
          2986,
          3006,
          3008,
          3020,
          3036,
          3054,
          3074,
          3082,
          3094,
          3114,
          3116,
          3128,
          3144,
          3162,
          3182,
          3190,
          3202,
          3222,
          3224,
          3236,
          3252,
          3270,
          3290,
          3298,
          3310,
          3330,
          3332,
          3344,
          3360,
          3378,
          3398,
          3406,
          3418,
          3438,
          3440,
          3452,
          3468,
          3486,
          3506,
          3514,
          3526,
          3546,
          3548,
          3560,
          3576,
          3594,
          3614,
          3622,
          3634,
          3654,
          3656,
          3668,
          3684,
          3702,
          3722,
          3730,
          3742,
          3762,
          3764,
          3776,
          3792,
          3810,
          3830,
          3838,
          3850,
          3870,
          3872,
          3884,
          3900,
          3918,
          3938,
          3946,
          3958,
          3978,
          3980,
          3992,
          4008,
          4026,
          4046,
          4054,
          4066,
          4086,
          4088,
          4100,
          4116,
          4134,
          4154,
          4162,
          4174,
          4194,
          4196,
          4208,
          4224,
          4242,
          4262,
          4270,
          4282,
          4302,
          4304,
          4316,
          4332,
          4350,
          4370,
          4378,
          4390,
          4410,
          4412,
          4424,
          4440,
          4458,
          4478,
          4486,
          4498,
          4518,
          4520,
          4532,
          4548,
          4566,
          4586,
          4594,
          4606,
          4626,
          4628,
          4640,
          4656,
          4674,
          4694,
          4702,
          4714,
          4734,
          4736,
          4748,
          4764,
          4782,
          4802,
          4810,
          4822,
          4842,
          4844,
          4856,
          4872,
          4890,
          4910,
          4918,
          4930,
          4950,
          4952,
          4964,
          4980,
          4998,
          5018,
          5026,
          5038,
          5058,
          5060,
          5072,
          5088,
          5106,
          5126,
          5134,
          5146,
          5166,
          5168,
          5180,
          5196,
          5214,
          5234,
          5242,
          5254,
          5274,
          5276,
          5288,
          5303,
          5321,
          5341,
          5349,
          5361,
          5381,
          5383,
          5395,
          5411,
          5429,
          5449,
          5457,
          5469,
          5489,
          5491,
          5503,
          5519,
          5537,
          5557,
          5565,
          5577,
          5597,
          5599,
          5611
         ],
         "y": [
          2843648.26,
          467259.47,
          575245.44,
          126640.65,
          1027842.3,
          2745009.1,
          2296069.27,
          2275446.87,
          2889591.29,
          416900.3,
          560119.16,
          97343.55,
          737363.86,
          2973367.52,
          1667012.92,
          2203111.92,
          2780859.66,
          401683.43,
          530333.83,
          91803.09,
          966515.75,
          2839359.92,
          1815847.03,
          2431736.63,
          2380955.61,
          390289.67,
          566435.98,
          96761.81,
          841332.54,
          3205533.39,
          1990978.47,
          2695157.56,
          4794142.14,
          768874.35,
          888523.17,
          133613,
          1383259.28,
          3776936.71,
          3656338.95,
          3531350.44,
          2908845.38,
          515789.01,
          732854.05,
          128978.49,
          1077511.79,
          3323430.66,
          1871661.73,
          2749122.29,
          3315163.6,
          390973.21,
          634266.43,
          88056.2,
          847328.77,
          3046997.7,
          1820564.15,
          2483265.25,
          3210177.22,
          391400.93,
          632670.12,
          92283.05,
          818736.11,
          3077730.66,
          1960713.06,
          2444851.21,
          3516551.29,
          353818.94,
          620672.44,
          88609.28,
          854129.32,
          2944928.22,
          2682065.6,
          2221447.89,
          3484274.6,
          380674.2,
          545690.6,
          113602.19,
          838161.13,
          3215935.34,
          1894002.38,
          2541409.9,
          2962520.41,
          475449.58,
          570576.91,
          111777.91,
          839457.23,
          3290881.46,
          1865220.72,
          3034104.48,
          2348618.25,
          543151.72,
          681261.26,
          118765,
          885071.63,
          3785376.16,
          2823708.05,
          2511453.54,
          2609532.63,
          456518.93,
          576473.89,
          96169.31,
          912075.07,
          3091049.63,
          1804282.66,
          2978534.92,
          2754464.87,
          504487.79,
          617567.29,
          97887.72,
          898263.98,
          3676642.17,
          2257669.21,
          3132031.4,
          2848184,
          548501.37,
          665283.33,
          93987.65,
          1423163.45,
          3851189.34,
          2801179.62,
          2561865.42,
          3024466.22,
          615564.03,
          654378.33,
          110954.74,
          1055547.01,
          3657278.94,
          2014443.63,
          3118686.39,
          2421009.67,
          609506.22,
          698128.52,
          110930.88,
          1022915.7,
          3637682.35,
          2170188.85,
          3163353.08,
          4340117.03,
          719493.66,
          793989.95,
          129459.52,
          1485535.26,
          3520801.33,
          3682277.46,
          3115937.71,
          4085858.78,
          766730.7,
          721935.59,
          134556.37,
          1319397.29,
          3969053.76,
          2167781.63,
          3050014.63,
          2923673.93,
          787079.55,
          698401.8,
          114065.77,
          1228815.94,
          3979432.32,
          2098271.46,
          2786200.82,
          2978396.74,
          758183.5,
          719874.17,
          112425.95,
          1221023.1,
          3794422.74,
          3209533.78,
          3206247.81,
          3620440.35,
          667193.97,
          734816.3,
          116068.2,
          1085643.8,
          4136440.91,
          2048880.09,
          3094129.71,
          3614314.44,
          689242.14,
          724315.73,
          109587.85,
          1207877.63,
          3870043.62,
          2862823.58,
          3451592.61,
          4075881.34,
          604782.48,
          653441.16,
          112693.47,
          1117926.72,
          4668964.65,
          1910736.86,
          3239258.39,
          3328631.93,
          487936.68,
          601782.55,
          106859.5,
          1049002.63,
          3460014.16,
          2602623.94,
          3062753.54,
          3163839.74,
          476721.82,
          534709.22,
          105387.01,
          954738.73,
          3656335.59,
          1721633.23,
          2686203.38,
          3581149.88,
          502233.05,
          632988.75,
          122190.4,
          927860.87,
          3835278.13,
          2713600.49,
          3328637.8,
          2747299.98,
          456044.5,
          532046.38,
          110242.95,
          953323.15,
          3318843.01,
          1578243.11,
          2688406.31,
          2805887.74,
          449090.82,
          569216.65,
          107602.07,
          824192.7,
          3141801.51,
          2507726.2,
          2337242.49,
          3112921.78,
          475306.73,
          531729.96,
          102482.55,
          898275.28,
          3166737.18,
          1615660.84,
          2293111.63,
          2940145.82,
          490577.01,
          532287.84,
          104772.22,
          761285.69,
          3276776.23,
          1539272.45,
          2470116.49,
          3260775.73,
          420919.7,
          531460.61,
          105393.94,
          789751.38,
          3096265.87,
          2430272.64,
          2368531.2,
          3098708.55,
          414756.68,
          627950.44,
          97139.95,
          911935.06,
          3273624.13,
          1615209.93,
          2640927.73,
          2626977.95,
          404182.26,
          571552.62,
          107907.11,
          930286.05,
          3058909.34,
          1423075.89,
          2160130.08,
          3104607.82,
          478858.03,
          516825.42,
          93227.99,
          699755.69,
          3171393.1,
          1422797.76,
          2163511.05,
          2859325.91,
          432770.76,
          564493.74,
          99311.62,
          857114.48,
          2897999.07,
          2175323.4,
          2682938.17,
          1863270.81,
          492741.15,
          574792.78,
          95839.65,
          727720.21,
          2608997.38,
          1317283.12,
          2194373.38,
          1702965.49,
          460475.95,
          555127.12,
          86196.27,
          611683.23,
          2453284.69,
          2000380.63,
          1552161.89,
          1860050.39,
          343271.52,
          479660.47,
          86278.88,
          564480.54,
          2252044.96,
          1266450.71,
          1601971.34,
          1461112.39,
          296032.66,
          467701.3,
          99666.72,
          492561.57,
          2257194.22,
          1909901.24,
          1369449.86,
          1757211.58,
          355508.86,
          469059.21,
          88376.7,
          708470.83,
          2351606.01,
          1810141.55,
          1287965.79,
          1847991.31,
          396690.54,
          555583.11,
          93569.28,
          492966.35,
          2488221.2,
          1274185.16,
          2012887.19,
          1733791.31,
          383559.81,
          522060.98,
          88907,
          559720.23,
          2542914.87,
          1278660.6,
          1574344.01,
          2369824.75,
          436343.74,
          549089.55,
          95355.74,
          469390.49,
          2344879.12,
          2058754.3,
          1815066.15,
          2317858.81,
          410061,
          568612.19,
          86385.14,
          513609.22,
          2470146.6,
          1420318.78,
          2204338.57,
          2243013.44,
          342002.87,
          470482.8,
          89242.5,
          549163.56,
          2762021.24,
          1455202.28,
          1996852.58,
          1602215.57,
          347803.29,
          422437.27,
          79006.95,
          584490.6,
          2187382.97,
          1799501.02,
          1549012.12,
          1461699.38,
          318661.4,
          417849.42,
          71191.69,
          460759.58,
          2105670.46,
          1797110.09,
          1461861.54,
          1943065.5,
          401676.14,
          507201.58,
          85444.57,
          579077.46,
          2271088.12,
          1520190.48,
          2097720.52,
          1806690.08,
          463349.67,
          515063.58,
          81055.1,
          695419.91,
          2366879.8,
          2127600.06,
          1798995.46,
          1676601.43,
          383701.76,
          446433.13,
          72576.52,
          497437.17,
          2166801.03,
          1449139.49,
          2017331.24,
          1833946.59,
          336673.7,
          435246.31,
          69920.54,
          571602.6,
          2295315.43,
          2045752.24,
          2038443.68
         ]
        },
        {
         "line": {
          "color": "rgba(55, 128, 191, 1.0)",
          "dash": "solid",
          "shape": "linear",
          "width": 1.3
         },
         "mode": "lines",
         "name": "4770XL",
         "text": "",
         "type": "scatter",
         "x": [
          12,
          30,
          50,
          58,
          70,
          90,
          92,
          104,
          120,
          138,
          158,
          166,
          178,
          198,
          200,
          212,
          228,
          246,
          266,
          274,
          286,
          306,
          308,
          320,
          336,
          354,
          374,
          382,
          394,
          414,
          416,
          428,
          444,
          462,
          482,
          490,
          502,
          522,
          524,
          536,
          552,
          570,
          590,
          598,
          610,
          630,
          632,
          644,
          660,
          678,
          698,
          706,
          718,
          738,
          740,
          752,
          768,
          786,
          806,
          814,
          826,
          846,
          848,
          860,
          876,
          894,
          914,
          922,
          934,
          954,
          956,
          968,
          984,
          1002,
          1022,
          1030,
          1042,
          1062,
          1064,
          1076,
          1092,
          1110,
          1130,
          1138,
          1150,
          1170,
          1172,
          1184,
          1200,
          1218,
          1238,
          1246,
          1258,
          1278,
          1280,
          1292,
          1308,
          1326,
          1346,
          1354,
          1366,
          1386,
          1388,
          1400,
          1416,
          1434,
          1454,
          1462,
          1474,
          1494,
          1496,
          1508,
          1524,
          1542,
          1562,
          1570,
          1582,
          1602,
          1604,
          1616,
          1632,
          1650,
          1670,
          1678,
          1690,
          1710,
          1712,
          1724,
          1740,
          1758,
          1778,
          1786,
          1798,
          1818,
          1820,
          1832,
          1848,
          1866,
          1886,
          1894,
          1906,
          1926,
          1928,
          1940,
          1956,
          1974,
          1994,
          2002,
          2014,
          2034,
          2036,
          2048,
          2064,
          2082,
          2102,
          2110,
          2122,
          2142,
          2144,
          2156,
          2172,
          2190,
          2210,
          2218,
          2230,
          2250,
          2252,
          2264,
          2280,
          2298,
          2318,
          2326,
          2338,
          2358,
          2360,
          2372,
          2388,
          2406,
          2426,
          2434,
          2446,
          2466,
          2468,
          2480,
          2496,
          2514,
          2534,
          2542,
          2554,
          2574,
          2576,
          2588,
          2604,
          2622,
          2642,
          2650,
          2662,
          2682,
          2684,
          2696,
          2712,
          2730,
          2750,
          2758,
          2770,
          2790,
          2792,
          2804,
          2820,
          2838,
          2858,
          2866,
          2878,
          2898,
          2900,
          2912,
          2928,
          2946,
          2966,
          2974,
          2986,
          3006,
          3008,
          3020,
          3036,
          3054,
          3074,
          3082,
          3094,
          3114,
          3116,
          3128,
          3144,
          3162,
          3182,
          3190,
          3202,
          3222,
          3224,
          3236,
          3252,
          3270,
          3290,
          3298,
          3310,
          3330,
          3332,
          3344,
          3360,
          3378,
          3398,
          3406,
          3418,
          3438,
          3440,
          3452,
          3468,
          3486,
          3506,
          3514,
          3526,
          3546,
          3548,
          3560,
          3576,
          3594,
          3614,
          3622,
          3634,
          3654,
          3656,
          3668,
          3684,
          3702,
          3722,
          3730,
          3742,
          3762,
          3764,
          3776,
          3792,
          3810,
          3830,
          3838,
          3850,
          3870,
          3872,
          3884,
          3900,
          3918,
          3938,
          3946,
          3958,
          3978,
          3980,
          3992,
          4008,
          4026,
          4046,
          4054,
          4066,
          4086,
          4088,
          4100,
          4116,
          4134,
          4154,
          4162,
          4174,
          4194,
          4196,
          4208,
          4224,
          4242,
          4262,
          4270,
          4282,
          4302,
          4304,
          4316,
          4332,
          4350,
          4370,
          4378,
          4390,
          4410,
          4412,
          4424,
          4440,
          4458,
          4478,
          4486,
          4498,
          4518,
          4520,
          4532,
          4548,
          4566,
          4586,
          4594,
          4606,
          4626,
          4628,
          4640,
          4656,
          4674,
          4694,
          4702,
          4714,
          4734,
          4736,
          4748,
          4764,
          4782,
          4802,
          4810,
          4822,
          4842,
          4844,
          4856,
          4872,
          4890,
          4910,
          4918,
          4930,
          4950,
          4952,
          4964,
          4980,
          4998,
          5018,
          5026,
          5038,
          5058,
          5060,
          5072,
          5088,
          5106,
          5126,
          5134,
          5146,
          5166,
          5168,
          5180,
          5196,
          5214,
          5234,
          5242,
          5254,
          5274,
          5276,
          5288,
          5303,
          5321,
          5341,
          5349,
          5361,
          5381,
          5383,
          5395,
          5411,
          5429,
          5449,
          5457,
          5469,
          5489,
          5491,
          5503,
          5519,
          5537,
          5557,
          5565,
          5577,
          5597,
          5599,
          5611
         ],
         "y": [
          137479.64,
          318102.38,
          181058.65,
          7580.38,
          10476.89,
          73432.89,
          18938.42,
          97024.09,
          103573.42,
          316856.73,
          191515.19,
          6915.47,
          10009.45,
          88373.78,
          21918.53,
          127412.09,
          121614.31,
          257105.89,
          186027.52,
          7215.59,
          14504.7,
          146481.44,
          22004.31,
          76348.13,
          150535.5,
          271642.56,
          164873.48,
          7923.65,
          14022.68,
          68870.69,
          18600.92,
          71550.57,
          177145.49,
          510153.65,
          388259.15,
          9191.41,
          13768.85,
          161845.27,
          40258.76,
          80893.53,
          149458.93,
          238780.53,
          159491.59,
          7219.81,
          12488.08,
          75885.05,
          18310.04,
          76305.42,
          169907.54,
          237030.33,
          206499.63,
          7773.07,
          17649.52,
          93961.98,
          21706.04,
          91125.41,
          172675.88,
          246541.13,
          295228.18,
          7049.52,
          20287.44,
          81708.29,
          34466.49,
          79181.93,
          170580.54,
          478701.64,
          182873.34,
          7317.59,
          11417.67,
          90167.62,
          19429.67,
          110088.02,
          184720.58,
          253978.78,
          179824.24,
          7864.97,
          9283.84,
          79560,
          20683.77,
          98092.96,
          194761.49,
          223788.7,
          210234.78,
          5531.34,
          10344.37,
          115290.48,
          25792.72,
          85831.16,
          195791.46,
          451798.84,
          197573.91,
          5436.84,
          11548.82,
          81039.5,
          21570.5,
          101626.05,
          193577.55,
          196545.04,
          203057.64,
          5707.16,
          10085.33,
          89374.2,
          23224.7,
          89701.26,
          225396.85,
          221603.31,
          183653.85,
          6203.7,
          11645.81,
          104285.22,
          26137.34,
          93055.21,
          185198.77,
          190091.28,
          185691.58,
          5306.97,
          12343.11,
          102729.01,
          23471.11,
          103110.58,
          177354.82,
          383840.98,
          190006.01,
          6389.9,
          33180.04,
          114923.71,
          23684.96,
          87250.83,
          196469.02,
          294073.96,
          192090.19,
          7040.21,
          23878.2,
          73076.91,
          23844.72,
          79259,
          192473.92,
          327171.65,
          364283.54,
          13487.57,
          17406.31,
          58510.13,
          40064.12,
          104932.26,
          194575.97,
          274259.73,
          190755.81,
          10220.82,
          12270.69,
          36330.84,
          24440.63,
          115290.95,
          168597.35,
          406338.23,
          203615.52,
          5593.26,
          11424.24,
          33292.23,
          26127.7,
          108561,
          195991.06,
          263068.72,
          231744.91,
          7774.83,
          12148.13,
          38143.15,
          30510.18,
          120398.95,
          209443.33,
          280464.92,
          207708.91,
          5488.64,
          11918.96,
          34073.41,
          25671.13,
          129139.05,
          221330.48,
          447117.42,
          200001.49,
          7058.9,
          17034.85,
          106106.86,
          26236.45,
          119829.5,
          210670.82,
          346867.18,
          206159.51,
          56827.08,
          27161.21,
          77844.97,
          46585.63,
          112965.22,
          218423.77,
          493928.69,
          215613.45,
          77296.43,
          22901.69,
          97002.67,
          62634.6,
          138621.26,
          212173.21,
          261863.52,
          215752.18,
          72708.66,
          18637.71,
          81756,
          59679.47,
          123261.81,
          254187.47,
          442059.88,
          232974.97,
          92678.08,
          19636.37,
          47955.04,
          97111.62,
          155862.52,
          157478.05,
          288141.07,
          205773.72,
          75096.18,
          14462.47,
          33415.56,
          72897.71,
          133097,
          188207.47,
          454643.18,
          218257.94,
          36476.44,
          37429.71,
          28797.39,
          77561.44,
          113523.76,
          209427.05,
          281882.1,
          199553.32,
          14864.77,
          53882.08,
          32905.16,
          78530.49,
          146112.77,
          183471.03,
          321610.93,
          208419.92,
          11726.4,
          33145.85,
          24749.12,
          81144.7,
          120434.79,
          193831.6,
          331336.66,
          203932.87,
          9116.57,
          21090.12,
          40173.44,
          79631.92,
          135407.7,
          208724.73,
          475383.38,
          222563.23,
          8138.99,
          14777.59,
          35283.63,
          55158.31,
          123334.73,
          222082.91,
          279710.88,
          210164.47,
          7167.44,
          16041.72,
          30815.55,
          35514.75,
          107786.51,
          233027.36,
          419390.5,
          196950.9,
          11075.1,
          14634.43,
          28997.59,
          31618.81,
          124657.84,
          240185,
          348448.68,
          314497.84,
          6693.26,
          15397.86,
          36318.54,
          43507.27,
          124722.73,
          270794.34,
          447108.5,
          182702.62,
          4616.79,
          15652.47,
          34341.44,
          26776.37,
          136996.39,
          273922.36,
          418235.21,
          208537.92,
          4293.65,
          15441.14,
          39835.27,
          27931.94,
          124207.93,
          206460.07,
          344488.51,
          274903.15,
          4785.85,
          14587.65,
          83993.99,
          33834.37,
          98925.79,
          222260.58,
          381986.61,
          194003.8,
          5434.32,
          15401.65,
          184770.84,
          25995.26,
          179192.02,
          221032.74,
          456771.26,
          277954.43,
          4364.98,
          14585.67,
          426600.81,
          34930.57,
          178042.28,
          217814.17,
          353741.96,
          215608.69,
          5421.22,
          14931.07,
          274013.56,
          28371.94,
          110348.57,
          215622.63,
          331096.84,
          211478.23,
          3363.89,
          15616.99,
          247539.31,
          28828.13,
          134572.92,
          211901.97,
          388703.05,
          260946.16,
          4729.26,
          17013.86,
          363472.91,
          31277.37,
          132883.59,
          216523.58,
          425242.73,
          228267.05,
          4491.79,
          19975.92,
          115276.98,
          25682.97,
          107753.58,
          195159.32,
          248635.49,
          168586.54,
          3393.33,
          17268.45,
          39019.73,
          20815.34,
          122763.34,
          215632.16,
          280543.97,
          117353.23,
          4067.05,
          15421.83,
          39736.75,
          13736.85,
          118170.98,
          222311.07,
          248818.72,
          101739.67,
          3025.26,
          10648.01,
          27985.18,
          12260.75,
          104219.76,
          221957.26,
          398320.64,
          133316.89,
          3341.42,
          13005.11,
          38648.11,
          15672.86,
          107568.34,
          232985.13,
          228576.54,
          113979.43,
          4716.39,
          17927.73,
          271514.98,
          12361.35,
          134101.62,
          266689.82,
          241580.61,
          96387.48,
          14909.65,
          27253.71,
          412828.75,
          10520.4,
          130849.6,
          232755.85,
          254629.93,
          103811.97,
          35858.35,
          25188.57,
          392846.12,
          13994.48,
          125254.82
         ]
        },
        {
         "connectgaps": false,
         "fill": "tozeroy",
         "line": {
          "color": "green",
          "dash": "solid",
          "shape": "linear",
          "width": 0.5
         },
         "mode": "lines",
         "name": "Spread",
         "showlegend": false,
         "type": "scatter",
         "x": [
          12,
          30,
          50,
          58,
          70,
          90,
          92,
          104,
          120,
          138,
          158,
          166,
          178,
          198,
          200,
          212,
          228,
          246,
          266,
          274,
          286,
          306,
          308,
          320,
          336,
          354,
          374,
          382,
          394,
          414,
          416,
          428,
          444,
          462,
          482,
          490,
          502,
          522,
          524,
          536,
          552,
          570,
          590,
          598,
          610,
          630,
          632,
          644,
          660,
          678,
          698,
          706,
          718,
          738,
          740,
          752,
          768,
          786,
          806,
          814,
          826,
          846,
          848,
          860,
          876,
          894,
          914,
          922,
          934,
          954,
          956,
          968,
          984,
          1002,
          1022,
          1030,
          1042,
          1062,
          1064,
          1076,
          1092,
          1110,
          1130,
          1138,
          1150,
          1170,
          1172,
          1184,
          1200,
          1218,
          1238,
          1246,
          1258,
          1278,
          1280,
          1292,
          1308,
          1326,
          1346,
          1354,
          1366,
          1386,
          1388,
          1400,
          1416,
          1434,
          1454,
          1462,
          1474,
          1494,
          1496,
          1508,
          1524,
          1542,
          1562,
          1570,
          1582,
          1602,
          1604,
          1616,
          1632,
          1650,
          1670,
          1678,
          1690,
          1710,
          1712,
          1724,
          1740,
          1758,
          1778,
          1786,
          1798,
          1818,
          1820,
          1832,
          1848,
          1866,
          1886,
          1894,
          1906,
          1926,
          1928,
          1940,
          1956,
          1974,
          1994,
          2002,
          2014,
          2034,
          2036,
          2048,
          2064,
          2082,
          2102,
          2110,
          2122,
          2142,
          2144,
          2156,
          2172,
          2190,
          2210,
          2218,
          2230,
          2250,
          2252,
          2264,
          2280,
          2298,
          2318,
          2326,
          2338,
          2358,
          2360,
          2372,
          2388,
          2406,
          2426,
          2434,
          2446,
          2466,
          2468,
          2480,
          2496,
          2514,
          2534,
          2542,
          2554,
          2574,
          2576,
          2588,
          2604,
          2622,
          2642,
          2650,
          2662,
          2682,
          2684,
          2696,
          2712,
          2730,
          2750,
          2758,
          2770,
          2790,
          2792,
          2804,
          2820,
          2838,
          2858,
          2866,
          2878,
          2898,
          2900,
          2912,
          2928,
          2946,
          2966,
          2974,
          2986,
          3006,
          3008,
          3020,
          3036,
          3054,
          3074,
          3082,
          3094,
          3114,
          3116,
          3128,
          3144,
          3162,
          3182,
          3190,
          3202,
          3222,
          3224,
          3236,
          3252,
          3270,
          3290,
          3298,
          3310,
          3330,
          3332,
          3344,
          3360,
          3378,
          3398,
          3406,
          3418,
          3438,
          3440,
          3452,
          3468,
          3486,
          3506,
          3514,
          3526,
          3546,
          3548,
          3560,
          3576,
          3594,
          3614,
          3622,
          3634,
          3654,
          3656,
          3668,
          3684,
          3702,
          3722,
          3730,
          3742,
          3762,
          3764,
          3776,
          3792,
          3810,
          3830,
          3838,
          3850,
          3870,
          3872,
          3884,
          3900,
          3918,
          3938,
          3946,
          3958,
          3978,
          3980,
          3992,
          4008,
          4026,
          4046,
          4054,
          4066,
          4086,
          4088,
          4100,
          4116,
          4134,
          4154,
          4162,
          4174,
          4194,
          4196,
          4208,
          4224,
          4242,
          4262,
          4270,
          4282,
          4302,
          4304,
          4316,
          4332,
          4350,
          4370,
          4378,
          4390,
          4410,
          4412,
          4424,
          4440,
          4458,
          4478,
          4486,
          4498,
          4518,
          4520,
          4532,
          4548,
          4566,
          4586,
          4594,
          4606,
          4626,
          4628,
          4640,
          4656,
          4674,
          4694,
          4702,
          4714,
          4734,
          4736,
          4748,
          4764,
          4782,
          4802,
          4810,
          4822,
          4842,
          4844,
          4856,
          4872,
          4890,
          4910,
          4918,
          4930,
          4950,
          4952,
          4964,
          4980,
          4998,
          5018,
          5026,
          5038,
          5058,
          5060,
          5072,
          5088,
          5106,
          5126,
          5134,
          5146,
          5166,
          5168,
          5180,
          5196,
          5214,
          5234,
          5242,
          5254,
          5274,
          5276,
          5288,
          5303,
          5321,
          5341,
          5349,
          5361,
          5381,
          5383,
          5395,
          5411,
          5429,
          5449,
          5457,
          5469,
          5489,
          5491,
          5503,
          5519,
          5537,
          5557,
          5565,
          5577,
          5597,
          5599,
          5611
         ],
         "xaxis": "x2",
         "y": [
          2706168.6199999996,
          149157.08999999997,
          394186.7899999999,
          119060.26999999999,
          1017365.41,
          2671576.21,
          2277130.85,
          2178422.7800000003,
          2786017.87,
          100043.57,
          368603.97000000003,
          90428.08,
          727354.41,
          2884993.74,
          1645094.39,
          2075699.8299999998,
          2659245.35,
          144577.53999999998,
          344306.30999999994,
          84587.5,
          952011.05,
          2692878.48,
          1793842.72,
          2355388.5,
          2230420.11,
          118647.10999999999,
          401562.5,
          88838.16,
          827309.86,
          3136662.7,
          1972377.55,
          2623606.99,
          4616996.649999999,
          258720.69999999995,
          500264.02,
          124421.59,
          1369490.43,
          3615091.44,
          3616080.1900000004,
          3450456.91,
          2759386.4499999997,
          277008.48,
          573362.4600000001,
          121758.68000000001,
          1065023.71,
          3247545.6100000003,
          1853351.69,
          2672816.87,
          3145256.06,
          153942.88000000003,
          427766.80000000005,
          80283.13,
          829679.25,
          2953035.72,
          1798858.1099999999,
          2392139.84,
          3037501.3400000003,
          144859.8,
          337441.94,
          85233.53,
          798448.67,
          2996022.37,
          1926246.57,
          2365669.28,
          3345970.75,
          "",
          437799.1,
          81291.69,
          842711.6499999999,
          2854760.6,
          2662635.93,
          2111359.87,
          3299554.02,
          126695.42000000001,
          365866.36,
          105737.22,
          828877.29,
          3136375.34,
          1873318.6099999999,
          2443316.94,
          2767758.92,
          251660.88,
          360342.13,
          106246.57,
          829112.86,
          3175590.98,
          1839428,
          2948273.32,
          2152826.79,
          91352.87999999995,
          483687.35,
          113328.16,
          873522.81,
          3704336.66,
          2802137.55,
          2409827.49,
          2415955.08,
          259973.88999999998,
          373416.25,
          90462.15,
          901989.74,
          3001675.4299999997,
          1781057.96,
          2888833.66,
          2529068.02,
          282884.48,
          433913.44000000006,
          91684.02,
          886618.1699999999,
          3572356.9499999997,
          2231531.87,
          3038976.19,
          2662985.23,
          358410.08999999997,
          479591.75,
          88680.68,
          1410820.3399999999,
          3748460.33,
          2777708.5100000002,
          2458754.84,
          2847111.4000000004,
          231723.05000000005,
          464372.31999999995,
          104564.84000000001,
          1022366.97,
          3542355.23,
          1990758.67,
          3031435.56,
          2224540.65,
          315432.25999999995,
          506038.33,
          103890.67,
          999037.5,
          3564605.44,
          2146344.13,
          3084094.08,
          4147643.1100000003,
          392322.01,
          429706.41,
          115971.95000000001,
          1468128.95,
          3462291.2,
          3642213.34,
          3011005.45,
          3891282.8099999996,
          492470.97,
          531179.78,
          124335.54999999999,
          1307126.6,
          3932722.92,
          2143341,
          2934723.6799999997,
          2755076.58,
          380741.32000000007,
          494786.28,
          108472.51000000001,
          1217391.7,
          3946140.09,
          2072143.76,
          2677639.82,
          2782405.68,
          495114.78,
          488129.26,
          104651.12,
          1208874.9700000002,
          3756279.5900000003,
          3179023.5999999996,
          3085848.86,
          3410997.02,
          386729.05,
          527107.39,
          110579.56,
          1073724.84,
          4102367.5,
          2023208.9600000002,
          2964990.66,
          3392983.96,
          242124.72000000003,
          524314.24,
          102528.95000000001,
          1190842.7799999998,
          3763936.7600000002,
          2836587.13,
          3331763.11,
          3865210.52,
          257915.3,
          447281.65,
          55866.39,
          1090765.51,
          4591119.680000001,
          1864151.2300000002,
          3126293.17,
          3110208.16,
          "",
          386169.10000000003,
          29563.070000000007,
          1026100.94,
          3363011.49,
          2539989.34,
          2924132.2800000003,
          2951666.5300000003,
          214858.30000000002,
          318957.04,
          32678.34999999999,
          936101.02,
          3574579.59,
          1661953.76,
          2562941.57,
          3326962.4099999997,
          60173.169999999984,
          400013.78,
          29512.319999999992,
          908224.5,
          3787323.09,
          2616488.87,
          3172775.28,
          2589821.93,
          167903.43,
          326272.66000000003,
          35146.770000000004,
          938860.68,
          3285427.4499999997,
          1505345.4000000001,
          2555309.31,
          2617680.27,
          "",
          350958.71,
          71125.63,
          786762.99,
          3113004.1199999996,
          2430164.7600000002,
          2223718.7300000004,
          2903494.73,
          193424.63,
          332176.63999999996,
          87617.78,
          844393.2000000001,
          3133832.02,
          1537130.35,
          2146998.86,
          2756674.79,
          168966.08000000002,
          323867.9199999999,
          93045.82,
          728139.84,
          3252027.11,
          1458127.75,
          2349681.7,
          3066944.13,
          89583.04000000004,
          327527.74,
          96277.37,
          768661.26,
          3056092.43,
          2350640.72,
          2233123.5,
          2889983.82,
          "",
          405387.20999999996,
          89000.95999999999,
          897157.4700000001,
          3238340.5,
          1560051.6199999999,
          2517593,
          2404895.04,
          124471.38,
          361388.15,
          100739.67,
          914244.3300000001,
          3028093.79,
          1387561.14,
          2052343.57,
          2871580.46,
          59467.53000000003,
          319874.52,
          82152.89,
          685121.2599999999,
          3142395.5100000002,
          1391178.95,
          2038853.2099999997,
          2619140.91,
          84322.08000000002,
          249995.89999999997,
          92618.36,
          841716.62,
          2861680.53,
          2131816.13,
          2558215.44,
          1592476.47,
          45632.65000000002,
          392090.16000000003,
          91222.86,
          712067.74,
          2574655.94,
          1290506.75,
          2057376.9899999998,
          1429043.13,
          42240.73999999999,
          346589.19999999995,
          81902.62000000001,
          596242.09,
          2413449.42,
          1972448.69,
          1427953.96,
          1653590.3199999998,
          "",
          204757.31999999995,
          81493.03,
          549892.89,
          2168050.9699999997,
          1232616.3399999999,
          1503045.55,
          1238851.8099999998,
          "",
          273697.5,
          94232.4,
          477159.92,
          2072423.3800000001,
          1883905.98,
          1190257.84,
          1536178.84,
          "",
          191104.78000000003,
          84011.72,
          693885.1599999999,
          1925005.1999999997,
          1775210.98,
          1109923.51,
          1630177.1400000001,
          42948.57999999996,
          339974.42,
          88148.06,
          478035.27999999997,
          2214207.64,
          1245813.22,
          1902538.6199999999,
          1518168.6800000002,
          52462.96999999997,
          310582.75,
          85543.11,
          544103.24,
          2295375.56,
          1249832.4700000002,
          1439771.09,
          2157922.78,
          47640.69,
          288143.39,
          90626.48000000001,
          452376.63,
          1981406.2100000002,
          2027476.93,
          1682182.5599999998,
          2101335.23,
          "",
          340345.13999999996,
          81893.35,
          493633.3,
          2354869.62,
          1394635.81,
          2096584.9899999998,
          2047854.1199999999,
          93367.38,
          301896.26,
          85849.17,
          531895.1100000001,
          2723001.5100000002,
          1434386.94,
          1874089.24,
          1386583.4100000001,
          67259.32,
          305084.04000000004,
          74939.9,
          569068.77,
          2147646.22,
          1785764.17,
          1430841.1400000001,
          1239388.3099999998,
          69842.68000000002,
          316109.75,
          68166.43000000001,
          450111.57,
          2077685.28,
          1784849.34,
          1357641.78,
          1721108.24,
          3355.5,
          373884.69,
          82103.15000000001,
          566072.35,
          2232440.0100000002,
          1504517.6199999999,
          1990152.18,
          1573704.9500000002,
          234773.12999999998,
          401084.15,
          76338.71,
          677492.18,
          2095364.8199999998,
          2115238.71,
          1664893.8399999999,
          1409911.6099999999,
          142121.15000000002,
          350045.65,
          57666.87,
          470183.45999999996,
          1753972.2799999998,
          1438619.09,
          1886481.64,
          1601190.74,
          82043.77000000002,
          331434.33999999997,
          34062.189999999995,
          546414.03,
          1902469.31,
          2031757.76,
          1913188.8599999999
         ],
         "yaxis": "y2"
        },
        {
         "connectgaps": false,
         "fill": "tozeroy",
         "line": {
          "color": "red",
          "dash": "solid",
          "shape": "linear",
          "width": 0.5
         },
         "mode": "lines",
         "name": "Spread",
         "showlegend": false,
         "type": "scatter",
         "x": [
          12,
          30,
          50,
          58,
          70,
          90,
          92,
          104,
          120,
          138,
          158,
          166,
          178,
          198,
          200,
          212,
          228,
          246,
          266,
          274,
          286,
          306,
          308,
          320,
          336,
          354,
          374,
          382,
          394,
          414,
          416,
          428,
          444,
          462,
          482,
          490,
          502,
          522,
          524,
          536,
          552,
          570,
          590,
          598,
          610,
          630,
          632,
          644,
          660,
          678,
          698,
          706,
          718,
          738,
          740,
          752,
          768,
          786,
          806,
          814,
          826,
          846,
          848,
          860,
          876,
          894,
          914,
          922,
          934,
          954,
          956,
          968,
          984,
          1002,
          1022,
          1030,
          1042,
          1062,
          1064,
          1076,
          1092,
          1110,
          1130,
          1138,
          1150,
          1170,
          1172,
          1184,
          1200,
          1218,
          1238,
          1246,
          1258,
          1278,
          1280,
          1292,
          1308,
          1326,
          1346,
          1354,
          1366,
          1386,
          1388,
          1400,
          1416,
          1434,
          1454,
          1462,
          1474,
          1494,
          1496,
          1508,
          1524,
          1542,
          1562,
          1570,
          1582,
          1602,
          1604,
          1616,
          1632,
          1650,
          1670,
          1678,
          1690,
          1710,
          1712,
          1724,
          1740,
          1758,
          1778,
          1786,
          1798,
          1818,
          1820,
          1832,
          1848,
          1866,
          1886,
          1894,
          1906,
          1926,
          1928,
          1940,
          1956,
          1974,
          1994,
          2002,
          2014,
          2034,
          2036,
          2048,
          2064,
          2082,
          2102,
          2110,
          2122,
          2142,
          2144,
          2156,
          2172,
          2190,
          2210,
          2218,
          2230,
          2250,
          2252,
          2264,
          2280,
          2298,
          2318,
          2326,
          2338,
          2358,
          2360,
          2372,
          2388,
          2406,
          2426,
          2434,
          2446,
          2466,
          2468,
          2480,
          2496,
          2514,
          2534,
          2542,
          2554,
          2574,
          2576,
          2588,
          2604,
          2622,
          2642,
          2650,
          2662,
          2682,
          2684,
          2696,
          2712,
          2730,
          2750,
          2758,
          2770,
          2790,
          2792,
          2804,
          2820,
          2838,
          2858,
          2866,
          2878,
          2898,
          2900,
          2912,
          2928,
          2946,
          2966,
          2974,
          2986,
          3006,
          3008,
          3020,
          3036,
          3054,
          3074,
          3082,
          3094,
          3114,
          3116,
          3128,
          3144,
          3162,
          3182,
          3190,
          3202,
          3222,
          3224,
          3236,
          3252,
          3270,
          3290,
          3298,
          3310,
          3330,
          3332,
          3344,
          3360,
          3378,
          3398,
          3406,
          3418,
          3438,
          3440,
          3452,
          3468,
          3486,
          3506,
          3514,
          3526,
          3546,
          3548,
          3560,
          3576,
          3594,
          3614,
          3622,
          3634,
          3654,
          3656,
          3668,
          3684,
          3702,
          3722,
          3730,
          3742,
          3762,
          3764,
          3776,
          3792,
          3810,
          3830,
          3838,
          3850,
          3870,
          3872,
          3884,
          3900,
          3918,
          3938,
          3946,
          3958,
          3978,
          3980,
          3992,
          4008,
          4026,
          4046,
          4054,
          4066,
          4086,
          4088,
          4100,
          4116,
          4134,
          4154,
          4162,
          4174,
          4194,
          4196,
          4208,
          4224,
          4242,
          4262,
          4270,
          4282,
          4302,
          4304,
          4316,
          4332,
          4350,
          4370,
          4378,
          4390,
          4410,
          4412,
          4424,
          4440,
          4458,
          4478,
          4486,
          4498,
          4518,
          4520,
          4532,
          4548,
          4566,
          4586,
          4594,
          4606,
          4626,
          4628,
          4640,
          4656,
          4674,
          4694,
          4702,
          4714,
          4734,
          4736,
          4748,
          4764,
          4782,
          4802,
          4810,
          4822,
          4842,
          4844,
          4856,
          4872,
          4890,
          4910,
          4918,
          4930,
          4950,
          4952,
          4964,
          4980,
          4998,
          5018,
          5026,
          5038,
          5058,
          5060,
          5072,
          5088,
          5106,
          5126,
          5134,
          5146,
          5166,
          5168,
          5180,
          5196,
          5214,
          5234,
          5242,
          5254,
          5274,
          5276,
          5288,
          5303,
          5321,
          5341,
          5349,
          5361,
          5381,
          5383,
          5395,
          5411,
          5429,
          5449,
          5457,
          5469,
          5489,
          5491,
          5503,
          5519,
          5537,
          5557,
          5565,
          5577,
          5597,
          5599,
          5611
         ],
         "xaxis": "x2",
         "y": [
          "",
          "",
          "",
          "",
          "",
          "",
          "",
          "",
          "",
          "",
          "",
          "",
          "",
          "",
          "",
          "",
          "",
          "",
          "",
          "",
          "",
          "",
          "",
          "",
          "",
          "",
          "",
          "",
          "",
          "",
          "",
          "",
          "",
          "",
          "",
          "",
          "",
          "",
          "",
          "",
          "",
          "",
          "",
          "",
          "",
          "",
          "",
          "",
          "",
          "",
          "",
          "",
          "",
          "",
          "",
          "",
          "",
          "",
          "",
          "",
          "",
          "",
          "",
          "",
          "",
          -124882.70000000001,
          "",
          "",
          "",
          "",
          "",
          "",
          "",
          "",
          "",
          "",
          "",
          "",
          "",
          "",
          "",
          "",
          "",
          "",
          "",
          "",
          "",
          "",
          "",
          "",
          "",
          "",
          "",
          "",
          "",
          "",
          "",
          "",
          "",
          "",
          "",
          "",
          "",
          "",
          "",
          "",
          "",
          "",
          "",
          "",
          "",
          "",
          "",
          "",
          "",
          "",
          "",
          "",
          "",
          "",
          "",
          "",
          "",
          "",
          "",
          "",
          "",
          "",
          "",
          "",
          "",
          "",
          "",
          "",
          "",
          "",
          "",
          "",
          "",
          "",
          "",
          "",
          "",
          "",
          "",
          "",
          "",
          "",
          "",
          "",
          "",
          "",
          "",
          "",
          "",
          "",
          "",
          "",
          "",
          "",
          "",
          "",
          "",
          "",
          "",
          "",
          "",
          "",
          "",
          "",
          "",
          "",
          "",
          "",
          "",
          "",
          "",
          "",
          "",
          "",
          "",
          "",
          "",
          "",
          "",
          "",
          "",
          "",
          "",
          "",
          "",
          "",
          "",
          -5992.010000000009,
          "",
          "",
          "",
          "",
          "",
          "",
          "",
          "",
          "",
          "",
          "",
          "",
          "",
          "",
          "",
          "",
          "",
          "",
          "",
          "",
          "",
          "",
          "",
          "",
          "",
          "",
          "",
          "",
          "",
          "",
          "",
          -5552.359999999986,
          "",
          "",
          "",
          "",
          "",
          "",
          "",
          "",
          "",
          "",
          "",
          "",
          "",
          "",
          "",
          "",
          "",
          "",
          "",
          "",
          "",
          "",
          "",
          "",
          "",
          "",
          "",
          "",
          "",
          "",
          "",
          -60626.70000000001,
          "",
          "",
          "",
          "",
          "",
          "",
          "",
          "",
          "",
          "",
          "",
          "",
          "",
          "",
          "",
          "",
          "",
          "",
          "",
          "",
          "",
          "",
          "",
          "",
          "",
          "",
          "",
          "",
          "",
          "",
          "",
          "",
          "",
          "",
          "",
          "",
          "",
          "",
          "",
          "",
          "",
          "",
          "",
          "",
          "",
          "",
          "",
          -1216.9899999999907,
          "",
          "",
          "",
          "",
          "",
          "",
          "",
          -85953.95000000001,
          "",
          "",
          "",
          "",
          "",
          "",
          "",
          -101262.40000000002,
          "",
          "",
          "",
          "",
          "",
          "",
          "",
          "",
          "",
          "",
          "",
          "",
          "",
          "",
          "",
          "",
          "",
          "",
          "",
          "",
          "",
          "",
          "",
          "",
          "",
          "",
          "",
          "",
          "",
          "",
          "",
          -15181.729999999981,
          "",
          "",
          "",
          "",
          "",
          "",
          "",
          "",
          "",
          "",
          "",
          "",
          "",
          "",
          "",
          "",
          "",
          "",
          "",
          "",
          "",
          "",
          "",
          "",
          "",
          "",
          "",
          "",
          "",
          "",
          "",
          "",
          "",
          "",
          "",
          "",
          "",
          "",
          "",
          "",
          "",
          "",
          "",
          "",
          "",
          "",
          "",
          "",
          "",
          "",
          "",
          "",
          "",
          "",
          "",
          "",
          "",
          "",
          "",
          "",
          "",
          ""
         ],
         "yaxis": "y2"
        }
       ],
       "layout": {
        "hovermode": "x",
        "legend": {
         "bgcolor": "#F5F6F9",
         "font": {
          "color": "#4D5663"
         }
        },
        "paper_bgcolor": "#F5F6F9",
        "plot_bgcolor": "#F5F6F9",
        "template": {
         "data": {
          "bar": [
           {
            "error_x": {
             "color": "#2a3f5f"
            },
            "error_y": {
             "color": "#2a3f5f"
            },
            "marker": {
             "line": {
              "color": "#E5ECF6",
              "width": 0.5
             }
            },
            "type": "bar"
           }
          ],
          "barpolar": [
           {
            "marker": {
             "line": {
              "color": "#E5ECF6",
              "width": 0.5
             }
            },
            "type": "barpolar"
           }
          ],
          "carpet": [
           {
            "aaxis": {
             "endlinecolor": "#2a3f5f",
             "gridcolor": "white",
             "linecolor": "white",
             "minorgridcolor": "white",
             "startlinecolor": "#2a3f5f"
            },
            "baxis": {
             "endlinecolor": "#2a3f5f",
             "gridcolor": "white",
             "linecolor": "white",
             "minorgridcolor": "white",
             "startlinecolor": "#2a3f5f"
            },
            "type": "carpet"
           }
          ],
          "choropleth": [
           {
            "colorbar": {
             "outlinewidth": 0,
             "ticks": ""
            },
            "type": "choropleth"
           }
          ],
          "contour": [
           {
            "colorbar": {
             "outlinewidth": 0,
             "ticks": ""
            },
            "colorscale": [
             [
              0,
              "#0d0887"
             ],
             [
              0.1111111111111111,
              "#46039f"
             ],
             [
              0.2222222222222222,
              "#7201a8"
             ],
             [
              0.3333333333333333,
              "#9c179e"
             ],
             [
              0.4444444444444444,
              "#bd3786"
             ],
             [
              0.5555555555555556,
              "#d8576b"
             ],
             [
              0.6666666666666666,
              "#ed7953"
             ],
             [
              0.7777777777777778,
              "#fb9f3a"
             ],
             [
              0.8888888888888888,
              "#fdca26"
             ],
             [
              1,
              "#f0f921"
             ]
            ],
            "type": "contour"
           }
          ],
          "contourcarpet": [
           {
            "colorbar": {
             "outlinewidth": 0,
             "ticks": ""
            },
            "type": "contourcarpet"
           }
          ],
          "heatmap": [
           {
            "colorbar": {
             "outlinewidth": 0,
             "ticks": ""
            },
            "colorscale": [
             [
              0,
              "#0d0887"
             ],
             [
              0.1111111111111111,
              "#46039f"
             ],
             [
              0.2222222222222222,
              "#7201a8"
             ],
             [
              0.3333333333333333,
              "#9c179e"
             ],
             [
              0.4444444444444444,
              "#bd3786"
             ],
             [
              0.5555555555555556,
              "#d8576b"
             ],
             [
              0.6666666666666666,
              "#ed7953"
             ],
             [
              0.7777777777777778,
              "#fb9f3a"
             ],
             [
              0.8888888888888888,
              "#fdca26"
             ],
             [
              1,
              "#f0f921"
             ]
            ],
            "type": "heatmap"
           }
          ],
          "heatmapgl": [
           {
            "colorbar": {
             "outlinewidth": 0,
             "ticks": ""
            },
            "colorscale": [
             [
              0,
              "#0d0887"
             ],
             [
              0.1111111111111111,
              "#46039f"
             ],
             [
              0.2222222222222222,
              "#7201a8"
             ],
             [
              0.3333333333333333,
              "#9c179e"
             ],
             [
              0.4444444444444444,
              "#bd3786"
             ],
             [
              0.5555555555555556,
              "#d8576b"
             ],
             [
              0.6666666666666666,
              "#ed7953"
             ],
             [
              0.7777777777777778,
              "#fb9f3a"
             ],
             [
              0.8888888888888888,
              "#fdca26"
             ],
             [
              1,
              "#f0f921"
             ]
            ],
            "type": "heatmapgl"
           }
          ],
          "histogram": [
           {
            "marker": {
             "colorbar": {
              "outlinewidth": 0,
              "ticks": ""
             }
            },
            "type": "histogram"
           }
          ],
          "histogram2d": [
           {
            "colorbar": {
             "outlinewidth": 0,
             "ticks": ""
            },
            "colorscale": [
             [
              0,
              "#0d0887"
             ],
             [
              0.1111111111111111,
              "#46039f"
             ],
             [
              0.2222222222222222,
              "#7201a8"
             ],
             [
              0.3333333333333333,
              "#9c179e"
             ],
             [
              0.4444444444444444,
              "#bd3786"
             ],
             [
              0.5555555555555556,
              "#d8576b"
             ],
             [
              0.6666666666666666,
              "#ed7953"
             ],
             [
              0.7777777777777778,
              "#fb9f3a"
             ],
             [
              0.8888888888888888,
              "#fdca26"
             ],
             [
              1,
              "#f0f921"
             ]
            ],
            "type": "histogram2d"
           }
          ],
          "histogram2dcontour": [
           {
            "colorbar": {
             "outlinewidth": 0,
             "ticks": ""
            },
            "colorscale": [
             [
              0,
              "#0d0887"
             ],
             [
              0.1111111111111111,
              "#46039f"
             ],
             [
              0.2222222222222222,
              "#7201a8"
             ],
             [
              0.3333333333333333,
              "#9c179e"
             ],
             [
              0.4444444444444444,
              "#bd3786"
             ],
             [
              0.5555555555555556,
              "#d8576b"
             ],
             [
              0.6666666666666666,
              "#ed7953"
             ],
             [
              0.7777777777777778,
              "#fb9f3a"
             ],
             [
              0.8888888888888888,
              "#fdca26"
             ],
             [
              1,
              "#f0f921"
             ]
            ],
            "type": "histogram2dcontour"
           }
          ],
          "mesh3d": [
           {
            "colorbar": {
             "outlinewidth": 0,
             "ticks": ""
            },
            "type": "mesh3d"
           }
          ],
          "parcoords": [
           {
            "line": {
             "colorbar": {
              "outlinewidth": 0,
              "ticks": ""
             }
            },
            "type": "parcoords"
           }
          ],
          "pie": [
           {
            "automargin": true,
            "type": "pie"
           }
          ],
          "scatter": [
           {
            "marker": {
             "colorbar": {
              "outlinewidth": 0,
              "ticks": ""
             }
            },
            "type": "scatter"
           }
          ],
          "scatter3d": [
           {
            "line": {
             "colorbar": {
              "outlinewidth": 0,
              "ticks": ""
             }
            },
            "marker": {
             "colorbar": {
              "outlinewidth": 0,
              "ticks": ""
             }
            },
            "type": "scatter3d"
           }
          ],
          "scattercarpet": [
           {
            "marker": {
             "colorbar": {
              "outlinewidth": 0,
              "ticks": ""
             }
            },
            "type": "scattercarpet"
           }
          ],
          "scattergeo": [
           {
            "marker": {
             "colorbar": {
              "outlinewidth": 0,
              "ticks": ""
             }
            },
            "type": "scattergeo"
           }
          ],
          "scattergl": [
           {
            "marker": {
             "colorbar": {
              "outlinewidth": 0,
              "ticks": ""
             }
            },
            "type": "scattergl"
           }
          ],
          "scattermapbox": [
           {
            "marker": {
             "colorbar": {
              "outlinewidth": 0,
              "ticks": ""
             }
            },
            "type": "scattermapbox"
           }
          ],
          "scatterpolar": [
           {
            "marker": {
             "colorbar": {
              "outlinewidth": 0,
              "ticks": ""
             }
            },
            "type": "scatterpolar"
           }
          ],
          "scatterpolargl": [
           {
            "marker": {
             "colorbar": {
              "outlinewidth": 0,
              "ticks": ""
             }
            },
            "type": "scatterpolargl"
           }
          ],
          "scatterternary": [
           {
            "marker": {
             "colorbar": {
              "outlinewidth": 0,
              "ticks": ""
             }
            },
            "type": "scatterternary"
           }
          ],
          "surface": [
           {
            "colorbar": {
             "outlinewidth": 0,
             "ticks": ""
            },
            "colorscale": [
             [
              0,
              "#0d0887"
             ],
             [
              0.1111111111111111,
              "#46039f"
             ],
             [
              0.2222222222222222,
              "#7201a8"
             ],
             [
              0.3333333333333333,
              "#9c179e"
             ],
             [
              0.4444444444444444,
              "#bd3786"
             ],
             [
              0.5555555555555556,
              "#d8576b"
             ],
             [
              0.6666666666666666,
              "#ed7953"
             ],
             [
              0.7777777777777778,
              "#fb9f3a"
             ],
             [
              0.8888888888888888,
              "#fdca26"
             ],
             [
              1,
              "#f0f921"
             ]
            ],
            "type": "surface"
           }
          ],
          "table": [
           {
            "cells": {
             "fill": {
              "color": "#EBF0F8"
             },
             "line": {
              "color": "white"
             }
            },
            "header": {
             "fill": {
              "color": "#C8D4E3"
             },
             "line": {
              "color": "white"
             }
            },
            "type": "table"
           }
          ]
         },
         "layout": {
          "annotationdefaults": {
           "arrowcolor": "#2a3f5f",
           "arrowhead": 0,
           "arrowwidth": 1
          },
          "coloraxis": {
           "colorbar": {
            "outlinewidth": 0,
            "ticks": ""
           }
          },
          "colorscale": {
           "diverging": [
            [
             0,
             "#8e0152"
            ],
            [
             0.1,
             "#c51b7d"
            ],
            [
             0.2,
             "#de77ae"
            ],
            [
             0.3,
             "#f1b6da"
            ],
            [
             0.4,
             "#fde0ef"
            ],
            [
             0.5,
             "#f7f7f7"
            ],
            [
             0.6,
             "#e6f5d0"
            ],
            [
             0.7,
             "#b8e186"
            ],
            [
             0.8,
             "#7fbc41"
            ],
            [
             0.9,
             "#4d9221"
            ],
            [
             1,
             "#276419"
            ]
           ],
           "sequential": [
            [
             0,
             "#0d0887"
            ],
            [
             0.1111111111111111,
             "#46039f"
            ],
            [
             0.2222222222222222,
             "#7201a8"
            ],
            [
             0.3333333333333333,
             "#9c179e"
            ],
            [
             0.4444444444444444,
             "#bd3786"
            ],
            [
             0.5555555555555556,
             "#d8576b"
            ],
            [
             0.6666666666666666,
             "#ed7953"
            ],
            [
             0.7777777777777778,
             "#fb9f3a"
            ],
            [
             0.8888888888888888,
             "#fdca26"
            ],
            [
             1,
             "#f0f921"
            ]
           ],
           "sequentialminus": [
            [
             0,
             "#0d0887"
            ],
            [
             0.1111111111111111,
             "#46039f"
            ],
            [
             0.2222222222222222,
             "#7201a8"
            ],
            [
             0.3333333333333333,
             "#9c179e"
            ],
            [
             0.4444444444444444,
             "#bd3786"
            ],
            [
             0.5555555555555556,
             "#d8576b"
            ],
            [
             0.6666666666666666,
             "#ed7953"
            ],
            [
             0.7777777777777778,
             "#fb9f3a"
            ],
            [
             0.8888888888888888,
             "#fdca26"
            ],
            [
             1,
             "#f0f921"
            ]
           ]
          },
          "colorway": [
           "#636efa",
           "#EF553B",
           "#00cc96",
           "#ab63fa",
           "#FFA15A",
           "#19d3f3",
           "#FF6692",
           "#B6E880",
           "#FF97FF",
           "#FECB52"
          ],
          "font": {
           "color": "#2a3f5f"
          },
          "geo": {
           "bgcolor": "white",
           "lakecolor": "white",
           "landcolor": "#E5ECF6",
           "showlakes": true,
           "showland": true,
           "subunitcolor": "white"
          },
          "hoverlabel": {
           "align": "left"
          },
          "hovermode": "closest",
          "mapbox": {
           "style": "light"
          },
          "paper_bgcolor": "white",
          "plot_bgcolor": "#E5ECF6",
          "polar": {
           "angularaxis": {
            "gridcolor": "white",
            "linecolor": "white",
            "ticks": ""
           },
           "bgcolor": "#E5ECF6",
           "radialaxis": {
            "gridcolor": "white",
            "linecolor": "white",
            "ticks": ""
           }
          },
          "scene": {
           "xaxis": {
            "backgroundcolor": "#E5ECF6",
            "gridcolor": "white",
            "gridwidth": 2,
            "linecolor": "white",
            "showbackground": true,
            "ticks": "",
            "zerolinecolor": "white"
           },
           "yaxis": {
            "backgroundcolor": "#E5ECF6",
            "gridcolor": "white",
            "gridwidth": 2,
            "linecolor": "white",
            "showbackground": true,
            "ticks": "",
            "zerolinecolor": "white"
           },
           "zaxis": {
            "backgroundcolor": "#E5ECF6",
            "gridcolor": "white",
            "gridwidth": 2,
            "linecolor": "white",
            "showbackground": true,
            "ticks": "",
            "zerolinecolor": "white"
           }
          },
          "shapedefaults": {
           "line": {
            "color": "#2a3f5f"
           }
          },
          "ternary": {
           "aaxis": {
            "gridcolor": "white",
            "linecolor": "white",
            "ticks": ""
           },
           "baxis": {
            "gridcolor": "white",
            "linecolor": "white",
            "ticks": ""
           },
           "bgcolor": "#E5ECF6",
           "caxis": {
            "gridcolor": "white",
            "linecolor": "white",
            "ticks": ""
           }
          },
          "title": {
           "x": 0.05
          },
          "xaxis": {
           "automargin": true,
           "gridcolor": "white",
           "linecolor": "white",
           "ticks": "",
           "title": {
            "standoff": 15
           },
           "zerolinecolor": "white",
           "zerolinewidth": 2
          },
          "yaxis": {
           "automargin": true,
           "gridcolor": "white",
           "linecolor": "white",
           "ticks": "",
           "title": {
            "standoff": 15
           },
           "zerolinecolor": "white",
           "zerolinewidth": 2
          }
         }
        },
        "title": {
         "font": {
          "color": "#4D5663"
         }
        },
        "xaxis": {
         "gridcolor": "#E1E5ED",
         "showgrid": true,
         "tickfont": {
          "color": "#4D5663"
         },
         "title": {
          "font": {
           "color": "#4D5663"
          },
          "text": ""
         },
         "zerolinecolor": "#E1E5ED"
        },
        "xaxis2": {
         "anchor": "y2",
         "gridcolor": "#E1E5ED",
         "showgrid": true,
         "showticklabels": false,
         "tickfont": {
          "color": "#4D5663"
         },
         "title": {
          "font": {
           "color": "#4D5663"
          },
          "text": ""
         },
         "zerolinecolor": "#E1E5ED"
        },
        "yaxis": {
         "domain": [
          0.3,
          1
         ],
         "gridcolor": "#E1E5ED",
         "showgrid": true,
         "tickfont": {
          "color": "#4D5663"
         },
         "title": {
          "font": {
           "color": "#4D5663"
          },
          "text": ""
         },
         "zerolinecolor": "#E1E5ED"
        },
        "yaxis2": {
         "domain": [
          0,
          0.25
         ],
         "gridcolor": "#E1E5ED",
         "showgrid": true,
         "tickfont": {
          "color": "#4D5663"
         },
         "title": {
          "font": {
           "color": "#4D5663"
          },
          "text": "Spread"
         },
         "zerolinecolor": "#E1E5ED"
        }
       }
      },
      "text/html": [
       "<div>                            <div id=\"f35fc4f4-d8ff-4914-b000-8e6ae1a96176\" class=\"plotly-graph-div\" style=\"height:525px; width:100%;\"></div>            <script type=\"text/javascript\">                require([\"plotly\"], function(Plotly) {                    window.PLOTLYENV=window.PLOTLYENV || {};\n",
       "                    window.PLOTLYENV.BASE_URL='https://plot.ly';                                    if (document.getElementById(\"f35fc4f4-d8ff-4914-b000-8e6ae1a96176\")) {                    Plotly.newPlot(                        \"f35fc4f4-d8ff-4914-b000-8e6ae1a96176\",                        [{\"line\": {\"color\": \"rgba(255, 153, 51, 1.0)\", \"dash\": \"solid\", \"shape\": \"linear\", \"width\": 1.3}, \"mode\": \"lines\", \"name\": \"4046S\", \"text\": \"\", \"type\": \"scatter\", \"x\": [12, 30, 50, 58, 70, 90, 92, 104, 120, 138, 158, 166, 178, 198, 200, 212, 228, 246, 266, 274, 286, 306, 308, 320, 336, 354, 374, 382, 394, 414, 416, 428, 444, 462, 482, 490, 502, 522, 524, 536, 552, 570, 590, 598, 610, 630, 632, 644, 660, 678, 698, 706, 718, 738, 740, 752, 768, 786, 806, 814, 826, 846, 848, 860, 876, 894, 914, 922, 934, 954, 956, 968, 984, 1002, 1022, 1030, 1042, 1062, 1064, 1076, 1092, 1110, 1130, 1138, 1150, 1170, 1172, 1184, 1200, 1218, 1238, 1246, 1258, 1278, 1280, 1292, 1308, 1326, 1346, 1354, 1366, 1386, 1388, 1400, 1416, 1434, 1454, 1462, 1474, 1494, 1496, 1508, 1524, 1542, 1562, 1570, 1582, 1602, 1604, 1616, 1632, 1650, 1670, 1678, 1690, 1710, 1712, 1724, 1740, 1758, 1778, 1786, 1798, 1818, 1820, 1832, 1848, 1866, 1886, 1894, 1906, 1926, 1928, 1940, 1956, 1974, 1994, 2002, 2014, 2034, 2036, 2048, 2064, 2082, 2102, 2110, 2122, 2142, 2144, 2156, 2172, 2190, 2210, 2218, 2230, 2250, 2252, 2264, 2280, 2298, 2318, 2326, 2338, 2358, 2360, 2372, 2388, 2406, 2426, 2434, 2446, 2466, 2468, 2480, 2496, 2514, 2534, 2542, 2554, 2574, 2576, 2588, 2604, 2622, 2642, 2650, 2662, 2682, 2684, 2696, 2712, 2730, 2750, 2758, 2770, 2790, 2792, 2804, 2820, 2838, 2858, 2866, 2878, 2898, 2900, 2912, 2928, 2946, 2966, 2974, 2986, 3006, 3008, 3020, 3036, 3054, 3074, 3082, 3094, 3114, 3116, 3128, 3144, 3162, 3182, 3190, 3202, 3222, 3224, 3236, 3252, 3270, 3290, 3298, 3310, 3330, 3332, 3344, 3360, 3378, 3398, 3406, 3418, 3438, 3440, 3452, 3468, 3486, 3506, 3514, 3526, 3546, 3548, 3560, 3576, 3594, 3614, 3622, 3634, 3654, 3656, 3668, 3684, 3702, 3722, 3730, 3742, 3762, 3764, 3776, 3792, 3810, 3830, 3838, 3850, 3870, 3872, 3884, 3900, 3918, 3938, 3946, 3958, 3978, 3980, 3992, 4008, 4026, 4046, 4054, 4066, 4086, 4088, 4100, 4116, 4134, 4154, 4162, 4174, 4194, 4196, 4208, 4224, 4242, 4262, 4270, 4282, 4302, 4304, 4316, 4332, 4350, 4370, 4378, 4390, 4410, 4412, 4424, 4440, 4458, 4478, 4486, 4498, 4518, 4520, 4532, 4548, 4566, 4586, 4594, 4606, 4626, 4628, 4640, 4656, 4674, 4694, 4702, 4714, 4734, 4736, 4748, 4764, 4782, 4802, 4810, 4822, 4842, 4844, 4856, 4872, 4890, 4910, 4918, 4930, 4950, 4952, 4964, 4980, 4998, 5018, 5026, 5038, 5058, 5060, 5072, 5088, 5106, 5126, 5134, 5146, 5166, 5168, 5180, 5196, 5214, 5234, 5242, 5254, 5274, 5276, 5288, 5303, 5321, 5341, 5349, 5361, 5381, 5383, 5395, 5411, 5429, 5449, 5457, 5469, 5489, 5491, 5503, 5519, 5537, 5557, 5565, 5577, 5597, 5599, 5611], \"y\": [2843648.26, 467259.47, 575245.44, 126640.65, 1027842.3, 2745009.1, 2296069.27, 2275446.87, 2889591.29, 416900.3, 560119.16, 97343.55, 737363.86, 2973367.52, 1667012.92, 2203111.92, 2780859.66, 401683.43, 530333.83, 91803.09, 966515.75, 2839359.92, 1815847.03, 2431736.63, 2380955.61, 390289.67, 566435.98, 96761.81, 841332.54, 3205533.39, 1990978.47, 2695157.56, 4794142.14, 768874.35, 888523.17, 133613.0, 1383259.28, 3776936.71, 3656338.95, 3531350.44, 2908845.38, 515789.01, 732854.05, 128978.49, 1077511.79, 3323430.66, 1871661.73, 2749122.29, 3315163.6, 390973.21, 634266.43, 88056.2, 847328.77, 3046997.7, 1820564.15, 2483265.25, 3210177.22, 391400.93, 632670.12, 92283.05, 818736.11, 3077730.66, 1960713.06, 2444851.21, 3516551.29, 353818.94, 620672.44, 88609.28, 854129.32, 2944928.22, 2682065.6, 2221447.89, 3484274.6, 380674.2, 545690.6, 113602.19, 838161.13, 3215935.34, 1894002.38, 2541409.9, 2962520.41, 475449.58, 570576.91, 111777.91, 839457.23, 3290881.46, 1865220.72, 3034104.48, 2348618.25, 543151.72, 681261.26, 118765.0, 885071.63, 3785376.16, 2823708.05, 2511453.54, 2609532.63, 456518.93, 576473.89, 96169.31, 912075.07, 3091049.63, 1804282.66, 2978534.92, 2754464.87, 504487.79, 617567.29, 97887.72, 898263.98, 3676642.17, 2257669.21, 3132031.4, 2848184.0, 548501.37, 665283.33, 93987.65, 1423163.45, 3851189.34, 2801179.62, 2561865.42, 3024466.22, 615564.03, 654378.33, 110954.74, 1055547.01, 3657278.94, 2014443.63, 3118686.39, 2421009.67, 609506.22, 698128.52, 110930.88, 1022915.7, 3637682.35, 2170188.85, 3163353.08, 4340117.03, 719493.66, 793989.95, 129459.52, 1485535.26, 3520801.33, 3682277.46, 3115937.71, 4085858.78, 766730.7, 721935.59, 134556.37, 1319397.29, 3969053.76, 2167781.63, 3050014.63, 2923673.93, 787079.55, 698401.8, 114065.77, 1228815.94, 3979432.32, 2098271.46, 2786200.82, 2978396.74, 758183.5, 719874.17, 112425.95, 1221023.1, 3794422.74, 3209533.78, 3206247.81, 3620440.35, 667193.97, 734816.3, 116068.2, 1085643.8, 4136440.91, 2048880.09, 3094129.71, 3614314.44, 689242.14, 724315.73, 109587.85, 1207877.63, 3870043.62, 2862823.58, 3451592.61, 4075881.34, 604782.48, 653441.16, 112693.47, 1117926.72, 4668964.65, 1910736.86, 3239258.39, 3328631.93, 487936.68, 601782.55, 106859.5, 1049002.63, 3460014.16, 2602623.94, 3062753.54, 3163839.74, 476721.82, 534709.22, 105387.01, 954738.73, 3656335.59, 1721633.23, 2686203.38, 3581149.88, 502233.05, 632988.75, 122190.4, 927860.87, 3835278.13, 2713600.49, 3328637.8, 2747299.98, 456044.5, 532046.38, 110242.95, 953323.15, 3318843.01, 1578243.11, 2688406.31, 2805887.74, 449090.82, 569216.65, 107602.07, 824192.7, 3141801.51, 2507726.2, 2337242.49, 3112921.78, 475306.73, 531729.96, 102482.55, 898275.28, 3166737.18, 1615660.84, 2293111.63, 2940145.82, 490577.01, 532287.84, 104772.22, 761285.69, 3276776.23, 1539272.45, 2470116.49, 3260775.73, 420919.7, 531460.61, 105393.94, 789751.38, 3096265.87, 2430272.64, 2368531.2, 3098708.55, 414756.68, 627950.44, 97139.95, 911935.06, 3273624.13, 1615209.93, 2640927.73, 2626977.95, 404182.26, 571552.62, 107907.11, 930286.05, 3058909.34, 1423075.89, 2160130.08, 3104607.82, 478858.03, 516825.42, 93227.99, 699755.69, 3171393.1, 1422797.76, 2163511.05, 2859325.91, 432770.76, 564493.74, 99311.62, 857114.48, 2897999.07, 2175323.4, 2682938.17, 1863270.81, 492741.15, 574792.78, 95839.65, 727720.21, 2608997.38, 1317283.12, 2194373.38, 1702965.49, 460475.95, 555127.12, 86196.27, 611683.23, 2453284.69, 2000380.63, 1552161.89, 1860050.39, 343271.52, 479660.47, 86278.88, 564480.54, 2252044.96, 1266450.71, 1601971.34, 1461112.39, 296032.66, 467701.3, 99666.72, 492561.57, 2257194.22, 1909901.24, 1369449.86, 1757211.58, 355508.86, 469059.21, 88376.7, 708470.83, 2351606.01, 1810141.55, 1287965.79, 1847991.31, 396690.54, 555583.11, 93569.28, 492966.35, 2488221.2, 1274185.16, 2012887.19, 1733791.31, 383559.81, 522060.98, 88907.0, 559720.23, 2542914.87, 1278660.6, 1574344.01, 2369824.75, 436343.74, 549089.55, 95355.74, 469390.49, 2344879.12, 2058754.3, 1815066.15, 2317858.81, 410061.0, 568612.19, 86385.14, 513609.22, 2470146.6, 1420318.78, 2204338.57, 2243013.44, 342002.87, 470482.8, 89242.5, 549163.56, 2762021.24, 1455202.28, 1996852.58, 1602215.57, 347803.29, 422437.27, 79006.95, 584490.6, 2187382.97, 1799501.02, 1549012.12, 1461699.38, 318661.4, 417849.42, 71191.69, 460759.58, 2105670.46, 1797110.09, 1461861.54, 1943065.5, 401676.14, 507201.58, 85444.57, 579077.46, 2271088.12, 1520190.48, 2097720.52, 1806690.08, 463349.67, 515063.58, 81055.1, 695419.91, 2366879.8, 2127600.06, 1798995.46, 1676601.43, 383701.76, 446433.13, 72576.52, 497437.17, 2166801.03, 1449139.49, 2017331.24, 1833946.59, 336673.7, 435246.31, 69920.54, 571602.6, 2295315.43, 2045752.24, 2038443.68]}, {\"line\": {\"color\": \"rgba(55, 128, 191, 1.0)\", \"dash\": \"solid\", \"shape\": \"linear\", \"width\": 1.3}, \"mode\": \"lines\", \"name\": \"4770XL\", \"text\": \"\", \"type\": \"scatter\", \"x\": [12, 30, 50, 58, 70, 90, 92, 104, 120, 138, 158, 166, 178, 198, 200, 212, 228, 246, 266, 274, 286, 306, 308, 320, 336, 354, 374, 382, 394, 414, 416, 428, 444, 462, 482, 490, 502, 522, 524, 536, 552, 570, 590, 598, 610, 630, 632, 644, 660, 678, 698, 706, 718, 738, 740, 752, 768, 786, 806, 814, 826, 846, 848, 860, 876, 894, 914, 922, 934, 954, 956, 968, 984, 1002, 1022, 1030, 1042, 1062, 1064, 1076, 1092, 1110, 1130, 1138, 1150, 1170, 1172, 1184, 1200, 1218, 1238, 1246, 1258, 1278, 1280, 1292, 1308, 1326, 1346, 1354, 1366, 1386, 1388, 1400, 1416, 1434, 1454, 1462, 1474, 1494, 1496, 1508, 1524, 1542, 1562, 1570, 1582, 1602, 1604, 1616, 1632, 1650, 1670, 1678, 1690, 1710, 1712, 1724, 1740, 1758, 1778, 1786, 1798, 1818, 1820, 1832, 1848, 1866, 1886, 1894, 1906, 1926, 1928, 1940, 1956, 1974, 1994, 2002, 2014, 2034, 2036, 2048, 2064, 2082, 2102, 2110, 2122, 2142, 2144, 2156, 2172, 2190, 2210, 2218, 2230, 2250, 2252, 2264, 2280, 2298, 2318, 2326, 2338, 2358, 2360, 2372, 2388, 2406, 2426, 2434, 2446, 2466, 2468, 2480, 2496, 2514, 2534, 2542, 2554, 2574, 2576, 2588, 2604, 2622, 2642, 2650, 2662, 2682, 2684, 2696, 2712, 2730, 2750, 2758, 2770, 2790, 2792, 2804, 2820, 2838, 2858, 2866, 2878, 2898, 2900, 2912, 2928, 2946, 2966, 2974, 2986, 3006, 3008, 3020, 3036, 3054, 3074, 3082, 3094, 3114, 3116, 3128, 3144, 3162, 3182, 3190, 3202, 3222, 3224, 3236, 3252, 3270, 3290, 3298, 3310, 3330, 3332, 3344, 3360, 3378, 3398, 3406, 3418, 3438, 3440, 3452, 3468, 3486, 3506, 3514, 3526, 3546, 3548, 3560, 3576, 3594, 3614, 3622, 3634, 3654, 3656, 3668, 3684, 3702, 3722, 3730, 3742, 3762, 3764, 3776, 3792, 3810, 3830, 3838, 3850, 3870, 3872, 3884, 3900, 3918, 3938, 3946, 3958, 3978, 3980, 3992, 4008, 4026, 4046, 4054, 4066, 4086, 4088, 4100, 4116, 4134, 4154, 4162, 4174, 4194, 4196, 4208, 4224, 4242, 4262, 4270, 4282, 4302, 4304, 4316, 4332, 4350, 4370, 4378, 4390, 4410, 4412, 4424, 4440, 4458, 4478, 4486, 4498, 4518, 4520, 4532, 4548, 4566, 4586, 4594, 4606, 4626, 4628, 4640, 4656, 4674, 4694, 4702, 4714, 4734, 4736, 4748, 4764, 4782, 4802, 4810, 4822, 4842, 4844, 4856, 4872, 4890, 4910, 4918, 4930, 4950, 4952, 4964, 4980, 4998, 5018, 5026, 5038, 5058, 5060, 5072, 5088, 5106, 5126, 5134, 5146, 5166, 5168, 5180, 5196, 5214, 5234, 5242, 5254, 5274, 5276, 5288, 5303, 5321, 5341, 5349, 5361, 5381, 5383, 5395, 5411, 5429, 5449, 5457, 5469, 5489, 5491, 5503, 5519, 5537, 5557, 5565, 5577, 5597, 5599, 5611], \"y\": [137479.64, 318102.38, 181058.65, 7580.38, 10476.89, 73432.89, 18938.42, 97024.09, 103573.42, 316856.73, 191515.19, 6915.47, 10009.45, 88373.78, 21918.53, 127412.09, 121614.31, 257105.89, 186027.52, 7215.59, 14504.7, 146481.44, 22004.31, 76348.13, 150535.5, 271642.56, 164873.48, 7923.65, 14022.68, 68870.69, 18600.92, 71550.57, 177145.49, 510153.65, 388259.15, 9191.41, 13768.85, 161845.27, 40258.76, 80893.53, 149458.93, 238780.53, 159491.59, 7219.81, 12488.08, 75885.05, 18310.04, 76305.42, 169907.54, 237030.33, 206499.63, 7773.07, 17649.52, 93961.98, 21706.04, 91125.41, 172675.88, 246541.13, 295228.18, 7049.52, 20287.44, 81708.29, 34466.49, 79181.93, 170580.54, 478701.64, 182873.34, 7317.59, 11417.67, 90167.62, 19429.67, 110088.02, 184720.58, 253978.78, 179824.24, 7864.97, 9283.84, 79560.0, 20683.77, 98092.96, 194761.49, 223788.7, 210234.78, 5531.34, 10344.37, 115290.48, 25792.72, 85831.16, 195791.46, 451798.84, 197573.91, 5436.84, 11548.82, 81039.5, 21570.5, 101626.05, 193577.55, 196545.04, 203057.64, 5707.16, 10085.33, 89374.2, 23224.7, 89701.26, 225396.85, 221603.31, 183653.85, 6203.7, 11645.81, 104285.22, 26137.34, 93055.21, 185198.77, 190091.28, 185691.58, 5306.97, 12343.11, 102729.01, 23471.11, 103110.58, 177354.82, 383840.98, 190006.01, 6389.9, 33180.04, 114923.71, 23684.96, 87250.83, 196469.02, 294073.96, 192090.19, 7040.21, 23878.2, 73076.91, 23844.72, 79259.0, 192473.92, 327171.65, 364283.54, 13487.57, 17406.31, 58510.13, 40064.12, 104932.26, 194575.97, 274259.73, 190755.81, 10220.82, 12270.69, 36330.84, 24440.63, 115290.95, 168597.35, 406338.23, 203615.52, 5593.26, 11424.24, 33292.23, 26127.7, 108561.0, 195991.06, 263068.72, 231744.91, 7774.83, 12148.13, 38143.15, 30510.18, 120398.95, 209443.33, 280464.92, 207708.91, 5488.64, 11918.96, 34073.41, 25671.13, 129139.05, 221330.48, 447117.42, 200001.49, 7058.9, 17034.85, 106106.86, 26236.45, 119829.5, 210670.82, 346867.18, 206159.51, 56827.08, 27161.21, 77844.97, 46585.63, 112965.22, 218423.77, 493928.69, 215613.45, 77296.43, 22901.69, 97002.67, 62634.6, 138621.26, 212173.21, 261863.52, 215752.18, 72708.66, 18637.71, 81756.0, 59679.47, 123261.81, 254187.47, 442059.88, 232974.97, 92678.08, 19636.37, 47955.04, 97111.62, 155862.52, 157478.05, 288141.07, 205773.72, 75096.18, 14462.47, 33415.56, 72897.71, 133097.0, 188207.47, 454643.18, 218257.94, 36476.44, 37429.71, 28797.39, 77561.44, 113523.76, 209427.05, 281882.1, 199553.32, 14864.77, 53882.08, 32905.16, 78530.49, 146112.77, 183471.03, 321610.93, 208419.92, 11726.4, 33145.85, 24749.12, 81144.7, 120434.79, 193831.6, 331336.66, 203932.87, 9116.57, 21090.12, 40173.44, 79631.92, 135407.7, 208724.73, 475383.38, 222563.23, 8138.99, 14777.59, 35283.63, 55158.31, 123334.73, 222082.91, 279710.88, 210164.47, 7167.44, 16041.72, 30815.55, 35514.75, 107786.51, 233027.36, 419390.5, 196950.9, 11075.1, 14634.43, 28997.59, 31618.81, 124657.84, 240185.0, 348448.68, 314497.84, 6693.26, 15397.86, 36318.54, 43507.27, 124722.73, 270794.34, 447108.5, 182702.62, 4616.79, 15652.47, 34341.44, 26776.37, 136996.39, 273922.36, 418235.21, 208537.92, 4293.65, 15441.14, 39835.27, 27931.94, 124207.93, 206460.07, 344488.51, 274903.15, 4785.85, 14587.65, 83993.99, 33834.37, 98925.79, 222260.58, 381986.61, 194003.8, 5434.32, 15401.65, 184770.84, 25995.26, 179192.02, 221032.74, 456771.26, 277954.43, 4364.98, 14585.67, 426600.81, 34930.57, 178042.28, 217814.17, 353741.96, 215608.69, 5421.22, 14931.07, 274013.56, 28371.94, 110348.57, 215622.63, 331096.84, 211478.23, 3363.89, 15616.99, 247539.31, 28828.13, 134572.92, 211901.97, 388703.05, 260946.16, 4729.26, 17013.86, 363472.91, 31277.37, 132883.59, 216523.58, 425242.73, 228267.05, 4491.79, 19975.92, 115276.98, 25682.97, 107753.58, 195159.32, 248635.49, 168586.54, 3393.33, 17268.45, 39019.73, 20815.34, 122763.34, 215632.16, 280543.97, 117353.23, 4067.05, 15421.83, 39736.75, 13736.85, 118170.98, 222311.07, 248818.72, 101739.67, 3025.26, 10648.01, 27985.18, 12260.75, 104219.76, 221957.26, 398320.64, 133316.89, 3341.42, 13005.11, 38648.11, 15672.86, 107568.34, 232985.13, 228576.54, 113979.43, 4716.39, 17927.73, 271514.98, 12361.35, 134101.62, 266689.82, 241580.61, 96387.48, 14909.65, 27253.71, 412828.75, 10520.4, 130849.6, 232755.85, 254629.93, 103811.97, 35858.35, 25188.57, 392846.12, 13994.48, 125254.82]}, {\"connectgaps\": false, \"fill\": \"tozeroy\", \"line\": {\"color\": \"green\", \"dash\": \"solid\", \"shape\": \"linear\", \"width\": 0.5}, \"mode\": \"lines\", \"name\": \"Spread\", \"showlegend\": false, \"type\": \"scatter\", \"x\": [12, 30, 50, 58, 70, 90, 92, 104, 120, 138, 158, 166, 178, 198, 200, 212, 228, 246, 266, 274, 286, 306, 308, 320, 336, 354, 374, 382, 394, 414, 416, 428, 444, 462, 482, 490, 502, 522, 524, 536, 552, 570, 590, 598, 610, 630, 632, 644, 660, 678, 698, 706, 718, 738, 740, 752, 768, 786, 806, 814, 826, 846, 848, 860, 876, 894, 914, 922, 934, 954, 956, 968, 984, 1002, 1022, 1030, 1042, 1062, 1064, 1076, 1092, 1110, 1130, 1138, 1150, 1170, 1172, 1184, 1200, 1218, 1238, 1246, 1258, 1278, 1280, 1292, 1308, 1326, 1346, 1354, 1366, 1386, 1388, 1400, 1416, 1434, 1454, 1462, 1474, 1494, 1496, 1508, 1524, 1542, 1562, 1570, 1582, 1602, 1604, 1616, 1632, 1650, 1670, 1678, 1690, 1710, 1712, 1724, 1740, 1758, 1778, 1786, 1798, 1818, 1820, 1832, 1848, 1866, 1886, 1894, 1906, 1926, 1928, 1940, 1956, 1974, 1994, 2002, 2014, 2034, 2036, 2048, 2064, 2082, 2102, 2110, 2122, 2142, 2144, 2156, 2172, 2190, 2210, 2218, 2230, 2250, 2252, 2264, 2280, 2298, 2318, 2326, 2338, 2358, 2360, 2372, 2388, 2406, 2426, 2434, 2446, 2466, 2468, 2480, 2496, 2514, 2534, 2542, 2554, 2574, 2576, 2588, 2604, 2622, 2642, 2650, 2662, 2682, 2684, 2696, 2712, 2730, 2750, 2758, 2770, 2790, 2792, 2804, 2820, 2838, 2858, 2866, 2878, 2898, 2900, 2912, 2928, 2946, 2966, 2974, 2986, 3006, 3008, 3020, 3036, 3054, 3074, 3082, 3094, 3114, 3116, 3128, 3144, 3162, 3182, 3190, 3202, 3222, 3224, 3236, 3252, 3270, 3290, 3298, 3310, 3330, 3332, 3344, 3360, 3378, 3398, 3406, 3418, 3438, 3440, 3452, 3468, 3486, 3506, 3514, 3526, 3546, 3548, 3560, 3576, 3594, 3614, 3622, 3634, 3654, 3656, 3668, 3684, 3702, 3722, 3730, 3742, 3762, 3764, 3776, 3792, 3810, 3830, 3838, 3850, 3870, 3872, 3884, 3900, 3918, 3938, 3946, 3958, 3978, 3980, 3992, 4008, 4026, 4046, 4054, 4066, 4086, 4088, 4100, 4116, 4134, 4154, 4162, 4174, 4194, 4196, 4208, 4224, 4242, 4262, 4270, 4282, 4302, 4304, 4316, 4332, 4350, 4370, 4378, 4390, 4410, 4412, 4424, 4440, 4458, 4478, 4486, 4498, 4518, 4520, 4532, 4548, 4566, 4586, 4594, 4606, 4626, 4628, 4640, 4656, 4674, 4694, 4702, 4714, 4734, 4736, 4748, 4764, 4782, 4802, 4810, 4822, 4842, 4844, 4856, 4872, 4890, 4910, 4918, 4930, 4950, 4952, 4964, 4980, 4998, 5018, 5026, 5038, 5058, 5060, 5072, 5088, 5106, 5126, 5134, 5146, 5166, 5168, 5180, 5196, 5214, 5234, 5242, 5254, 5274, 5276, 5288, 5303, 5321, 5341, 5349, 5361, 5381, 5383, 5395, 5411, 5429, 5449, 5457, 5469, 5489, 5491, 5503, 5519, 5537, 5557, 5565, 5577, 5597, 5599, 5611], \"xaxis\": \"x2\", \"y\": [2706168.6199999996, 149157.08999999997, 394186.7899999999, 119060.26999999999, 1017365.41, 2671576.21, 2277130.85, 2178422.7800000003, 2786017.87, 100043.57, 368603.97000000003, 90428.08, 727354.41, 2884993.74, 1645094.39, 2075699.8299999998, 2659245.35, 144577.53999999998, 344306.30999999994, 84587.5, 952011.05, 2692878.48, 1793842.72, 2355388.5, 2230420.11, 118647.10999999999, 401562.5, 88838.16, 827309.86, 3136662.7, 1972377.55, 2623606.99, 4616996.649999999, 258720.69999999995, 500264.02, 124421.59, 1369490.43, 3615091.44, 3616080.1900000004, 3450456.91, 2759386.4499999997, 277008.48, 573362.4600000001, 121758.68000000001, 1065023.71, 3247545.6100000003, 1853351.69, 2672816.87, 3145256.06, 153942.88000000003, 427766.80000000005, 80283.13, 829679.25, 2953035.72, 1798858.1099999999, 2392139.84, 3037501.3400000003, 144859.8, 337441.94, 85233.53, 798448.67, 2996022.37, 1926246.57, 2365669.28, 3345970.75, \"\", 437799.1, 81291.69, 842711.6499999999, 2854760.6, 2662635.93, 2111359.87, 3299554.02, 126695.42000000001, 365866.36, 105737.22, 828877.29, 3136375.34, 1873318.6099999999, 2443316.94, 2767758.92, 251660.88, 360342.13, 106246.57, 829112.86, 3175590.98, 1839428.0, 2948273.32, 2152826.79, 91352.87999999995, 483687.35, 113328.16, 873522.81, 3704336.66, 2802137.55, 2409827.49, 2415955.08, 259973.88999999998, 373416.25, 90462.15, 901989.74, 3001675.4299999997, 1781057.96, 2888833.66, 2529068.02, 282884.48, 433913.44000000006, 91684.02, 886618.1699999999, 3572356.9499999997, 2231531.87, 3038976.19, 2662985.23, 358410.08999999997, 479591.75, 88680.68, 1410820.3399999999, 3748460.33, 2777708.5100000002, 2458754.84, 2847111.4000000004, 231723.05000000005, 464372.31999999995, 104564.84000000001, 1022366.97, 3542355.23, 1990758.67, 3031435.56, 2224540.65, 315432.25999999995, 506038.33, 103890.67, 999037.5, 3564605.44, 2146344.13, 3084094.08, 4147643.1100000003, 392322.01, 429706.41, 115971.95000000001, 1468128.95, 3462291.2, 3642213.34, 3011005.45, 3891282.8099999996, 492470.97, 531179.78, 124335.54999999999, 1307126.6, 3932722.92, 2143341.0, 2934723.6799999997, 2755076.58, 380741.32000000007, 494786.28, 108472.51000000001, 1217391.7, 3946140.09, 2072143.76, 2677639.82, 2782405.68, 495114.78, 488129.26, 104651.12, 1208874.9700000002, 3756279.5900000003, 3179023.5999999996, 3085848.86, 3410997.02, 386729.05, 527107.39, 110579.56, 1073724.84, 4102367.5, 2023208.9600000002, 2964990.66, 3392983.96, 242124.72000000003, 524314.24, 102528.95000000001, 1190842.7799999998, 3763936.7600000002, 2836587.13, 3331763.11, 3865210.52, 257915.3, 447281.65, 55866.39, 1090765.51, 4591119.680000001, 1864151.2300000002, 3126293.17, 3110208.16, \"\", 386169.10000000003, 29563.070000000007, 1026100.94, 3363011.49, 2539989.34, 2924132.2800000003, 2951666.5300000003, 214858.30000000002, 318957.04, 32678.34999999999, 936101.02, 3574579.59, 1661953.76, 2562941.57, 3326962.4099999997, 60173.169999999984, 400013.78, 29512.319999999992, 908224.5, 3787323.09, 2616488.87, 3172775.28, 2589821.93, 167903.43, 326272.66000000003, 35146.770000000004, 938860.68, 3285427.4499999997, 1505345.4000000001, 2555309.31, 2617680.27, \"\", 350958.71, 71125.63, 786762.99, 3113004.1199999996, 2430164.7600000002, 2223718.7300000004, 2903494.73, 193424.63, 332176.63999999996, 87617.78, 844393.2000000001, 3133832.02, 1537130.35, 2146998.86, 2756674.79, 168966.08000000002, 323867.9199999999, 93045.82, 728139.84, 3252027.11, 1458127.75, 2349681.7, 3066944.13, 89583.04000000004, 327527.74, 96277.37, 768661.26, 3056092.43, 2350640.72, 2233123.5, 2889983.82, \"\", 405387.20999999996, 89000.95999999999, 897157.4700000001, 3238340.5, 1560051.6199999999, 2517593.0, 2404895.04, 124471.38, 361388.15, 100739.67, 914244.3300000001, 3028093.79, 1387561.14, 2052343.57, 2871580.46, 59467.53000000003, 319874.52, 82152.89, 685121.2599999999, 3142395.5100000002, 1391178.95, 2038853.2099999997, 2619140.91, 84322.08000000002, 249995.89999999997, 92618.36, 841716.62, 2861680.53, 2131816.13, 2558215.44, 1592476.47, 45632.65000000002, 392090.16000000003, 91222.86, 712067.74, 2574655.94, 1290506.75, 2057376.9899999998, 1429043.13, 42240.73999999999, 346589.19999999995, 81902.62000000001, 596242.09, 2413449.42, 1972448.69, 1427953.96, 1653590.3199999998, \"\", 204757.31999999995, 81493.03, 549892.89, 2168050.9699999997, 1232616.3399999999, 1503045.55, 1238851.8099999998, \"\", 273697.5, 94232.4, 477159.92, 2072423.3800000001, 1883905.98, 1190257.84, 1536178.84, \"\", 191104.78000000003, 84011.72, 693885.1599999999, 1925005.1999999997, 1775210.98, 1109923.51, 1630177.1400000001, 42948.57999999996, 339974.42, 88148.06, 478035.27999999997, 2214207.64, 1245813.22, 1902538.6199999999, 1518168.6800000002, 52462.96999999997, 310582.75, 85543.11, 544103.24, 2295375.56, 1249832.4700000002, 1439771.09, 2157922.78, 47640.69, 288143.39, 90626.48000000001, 452376.63, 1981406.2100000002, 2027476.93, 1682182.5599999998, 2101335.23, \"\", 340345.13999999996, 81893.35, 493633.3, 2354869.62, 1394635.81, 2096584.9899999998, 2047854.1199999999, 93367.38, 301896.26, 85849.17, 531895.1100000001, 2723001.5100000002, 1434386.94, 1874089.24, 1386583.4100000001, 67259.32, 305084.04000000004, 74939.9, 569068.77, 2147646.22, 1785764.17, 1430841.1400000001, 1239388.3099999998, 69842.68000000002, 316109.75, 68166.43000000001, 450111.57, 2077685.28, 1784849.34, 1357641.78, 1721108.24, 3355.5, 373884.69, 82103.15000000001, 566072.35, 2232440.0100000002, 1504517.6199999999, 1990152.18, 1573704.9500000002, 234773.12999999998, 401084.15, 76338.71, 677492.18, 2095364.8199999998, 2115238.71, 1664893.8399999999, 1409911.6099999999, 142121.15000000002, 350045.65, 57666.87, 470183.45999999996, 1753972.2799999998, 1438619.09, 1886481.64, 1601190.74, 82043.77000000002, 331434.33999999997, 34062.189999999995, 546414.03, 1902469.31, 2031757.76, 1913188.8599999999], \"yaxis\": \"y2\"}, {\"connectgaps\": false, \"fill\": \"tozeroy\", \"line\": {\"color\": \"red\", \"dash\": \"solid\", \"shape\": \"linear\", \"width\": 0.5}, \"mode\": \"lines\", \"name\": \"Spread\", \"showlegend\": false, \"type\": \"scatter\", \"x\": [12, 30, 50, 58, 70, 90, 92, 104, 120, 138, 158, 166, 178, 198, 200, 212, 228, 246, 266, 274, 286, 306, 308, 320, 336, 354, 374, 382, 394, 414, 416, 428, 444, 462, 482, 490, 502, 522, 524, 536, 552, 570, 590, 598, 610, 630, 632, 644, 660, 678, 698, 706, 718, 738, 740, 752, 768, 786, 806, 814, 826, 846, 848, 860, 876, 894, 914, 922, 934, 954, 956, 968, 984, 1002, 1022, 1030, 1042, 1062, 1064, 1076, 1092, 1110, 1130, 1138, 1150, 1170, 1172, 1184, 1200, 1218, 1238, 1246, 1258, 1278, 1280, 1292, 1308, 1326, 1346, 1354, 1366, 1386, 1388, 1400, 1416, 1434, 1454, 1462, 1474, 1494, 1496, 1508, 1524, 1542, 1562, 1570, 1582, 1602, 1604, 1616, 1632, 1650, 1670, 1678, 1690, 1710, 1712, 1724, 1740, 1758, 1778, 1786, 1798, 1818, 1820, 1832, 1848, 1866, 1886, 1894, 1906, 1926, 1928, 1940, 1956, 1974, 1994, 2002, 2014, 2034, 2036, 2048, 2064, 2082, 2102, 2110, 2122, 2142, 2144, 2156, 2172, 2190, 2210, 2218, 2230, 2250, 2252, 2264, 2280, 2298, 2318, 2326, 2338, 2358, 2360, 2372, 2388, 2406, 2426, 2434, 2446, 2466, 2468, 2480, 2496, 2514, 2534, 2542, 2554, 2574, 2576, 2588, 2604, 2622, 2642, 2650, 2662, 2682, 2684, 2696, 2712, 2730, 2750, 2758, 2770, 2790, 2792, 2804, 2820, 2838, 2858, 2866, 2878, 2898, 2900, 2912, 2928, 2946, 2966, 2974, 2986, 3006, 3008, 3020, 3036, 3054, 3074, 3082, 3094, 3114, 3116, 3128, 3144, 3162, 3182, 3190, 3202, 3222, 3224, 3236, 3252, 3270, 3290, 3298, 3310, 3330, 3332, 3344, 3360, 3378, 3398, 3406, 3418, 3438, 3440, 3452, 3468, 3486, 3506, 3514, 3526, 3546, 3548, 3560, 3576, 3594, 3614, 3622, 3634, 3654, 3656, 3668, 3684, 3702, 3722, 3730, 3742, 3762, 3764, 3776, 3792, 3810, 3830, 3838, 3850, 3870, 3872, 3884, 3900, 3918, 3938, 3946, 3958, 3978, 3980, 3992, 4008, 4026, 4046, 4054, 4066, 4086, 4088, 4100, 4116, 4134, 4154, 4162, 4174, 4194, 4196, 4208, 4224, 4242, 4262, 4270, 4282, 4302, 4304, 4316, 4332, 4350, 4370, 4378, 4390, 4410, 4412, 4424, 4440, 4458, 4478, 4486, 4498, 4518, 4520, 4532, 4548, 4566, 4586, 4594, 4606, 4626, 4628, 4640, 4656, 4674, 4694, 4702, 4714, 4734, 4736, 4748, 4764, 4782, 4802, 4810, 4822, 4842, 4844, 4856, 4872, 4890, 4910, 4918, 4930, 4950, 4952, 4964, 4980, 4998, 5018, 5026, 5038, 5058, 5060, 5072, 5088, 5106, 5126, 5134, 5146, 5166, 5168, 5180, 5196, 5214, 5234, 5242, 5254, 5274, 5276, 5288, 5303, 5321, 5341, 5349, 5361, 5381, 5383, 5395, 5411, 5429, 5449, 5457, 5469, 5489, 5491, 5503, 5519, 5537, 5557, 5565, 5577, 5597, 5599, 5611], \"xaxis\": \"x2\", \"y\": [\"\", \"\", \"\", \"\", \"\", \"\", \"\", \"\", \"\", \"\", \"\", \"\", \"\", \"\", \"\", \"\", \"\", \"\", \"\", \"\", \"\", \"\", \"\", \"\", \"\", \"\", \"\", \"\", \"\", \"\", \"\", \"\", \"\", \"\", \"\", \"\", \"\", \"\", \"\", \"\", \"\", \"\", \"\", \"\", \"\", \"\", \"\", \"\", \"\", \"\", \"\", \"\", \"\", \"\", \"\", \"\", \"\", \"\", \"\", \"\", \"\", \"\", \"\", \"\", \"\", -124882.70000000001, \"\", \"\", \"\", \"\", \"\", \"\", \"\", \"\", \"\", \"\", \"\", \"\", \"\", \"\", \"\", \"\", \"\", \"\", \"\", \"\", \"\", \"\", \"\", \"\", \"\", \"\", \"\", \"\", \"\", \"\", \"\", \"\", \"\", \"\", \"\", \"\", \"\", \"\", \"\", \"\", \"\", \"\", \"\", \"\", \"\", \"\", \"\", \"\", \"\", \"\", \"\", \"\", \"\", \"\", \"\", \"\", \"\", \"\", \"\", \"\", \"\", \"\", \"\", \"\", \"\", \"\", \"\", \"\", \"\", \"\", \"\", \"\", \"\", \"\", \"\", \"\", \"\", \"\", \"\", \"\", \"\", \"\", \"\", \"\", \"\", \"\", \"\", \"\", \"\", \"\", \"\", \"\", \"\", \"\", \"\", \"\", \"\", \"\", \"\", \"\", \"\", \"\", \"\", \"\", \"\", \"\", \"\", \"\", \"\", \"\", \"\", \"\", \"\", \"\", \"\", \"\", \"\", \"\", \"\", \"\", \"\", \"\", \"\", \"\", \"\", \"\", \"\", -5992.010000000009, \"\", \"\", \"\", \"\", \"\", \"\", \"\", \"\", \"\", \"\", \"\", \"\", \"\", \"\", \"\", \"\", \"\", \"\", \"\", \"\", \"\", \"\", \"\", \"\", \"\", \"\", \"\", \"\", \"\", \"\", \"\", -5552.359999999986, \"\", \"\", \"\", \"\", \"\", \"\", \"\", \"\", \"\", \"\", \"\", \"\", \"\", \"\", \"\", \"\", \"\", \"\", \"\", \"\", \"\", \"\", \"\", \"\", \"\", \"\", \"\", \"\", \"\", \"\", \"\", -60626.70000000001, \"\", \"\", \"\", \"\", \"\", \"\", \"\", \"\", \"\", \"\", \"\", \"\", \"\", \"\", \"\", \"\", \"\", \"\", \"\", \"\", \"\", \"\", \"\", \"\", \"\", \"\", \"\", \"\", \"\", \"\", \"\", \"\", \"\", \"\", \"\", \"\", \"\", \"\", \"\", \"\", \"\", \"\", \"\", \"\", \"\", \"\", \"\", -1216.9899999999907, \"\", \"\", \"\", \"\", \"\", \"\", \"\", -85953.95000000001, \"\", \"\", \"\", \"\", \"\", \"\", \"\", -101262.40000000002, \"\", \"\", \"\", \"\", \"\", \"\", \"\", \"\", \"\", \"\", \"\", \"\", \"\", \"\", \"\", \"\", \"\", \"\", \"\", \"\", \"\", \"\", \"\", \"\", \"\", \"\", \"\", \"\", \"\", \"\", \"\", -15181.729999999981, \"\", \"\", \"\", \"\", \"\", \"\", \"\", \"\", \"\", \"\", \"\", \"\", \"\", \"\", \"\", \"\", \"\", \"\", \"\", \"\", \"\", \"\", \"\", \"\", \"\", \"\", \"\", \"\", \"\", \"\", \"\", \"\", \"\", \"\", \"\", \"\", \"\", \"\", \"\", \"\", \"\", \"\", \"\", \"\", \"\", \"\", \"\", \"\", \"\", \"\", \"\", \"\", \"\", \"\", \"\", \"\", \"\", \"\", \"\", \"\", \"\", \"\"], \"yaxis\": \"y2\"}],                        {\"hovermode\": \"x\", \"legend\": {\"bgcolor\": \"#F5F6F9\", \"font\": {\"color\": \"#4D5663\"}}, \"paper_bgcolor\": \"#F5F6F9\", \"plot_bgcolor\": \"#F5F6F9\", \"template\": {\"data\": {\"bar\": [{\"error_x\": {\"color\": \"#2a3f5f\"}, \"error_y\": {\"color\": \"#2a3f5f\"}, \"marker\": {\"line\": {\"color\": \"#E5ECF6\", \"width\": 0.5}}, \"type\": \"bar\"}], \"barpolar\": [{\"marker\": {\"line\": {\"color\": \"#E5ECF6\", \"width\": 0.5}}, \"type\": \"barpolar\"}], \"carpet\": [{\"aaxis\": {\"endlinecolor\": \"#2a3f5f\", \"gridcolor\": \"white\", \"linecolor\": \"white\", \"minorgridcolor\": \"white\", \"startlinecolor\": \"#2a3f5f\"}, \"baxis\": {\"endlinecolor\": \"#2a3f5f\", \"gridcolor\": \"white\", \"linecolor\": \"white\", \"minorgridcolor\": \"white\", \"startlinecolor\": \"#2a3f5f\"}, \"type\": \"carpet\"}], \"choropleth\": [{\"colorbar\": {\"outlinewidth\": 0, \"ticks\": \"\"}, \"type\": \"choropleth\"}], \"contour\": [{\"colorbar\": {\"outlinewidth\": 0, \"ticks\": \"\"}, \"colorscale\": [[0.0, \"#0d0887\"], [0.1111111111111111, \"#46039f\"], [0.2222222222222222, \"#7201a8\"], [0.3333333333333333, \"#9c179e\"], [0.4444444444444444, \"#bd3786\"], [0.5555555555555556, \"#d8576b\"], [0.6666666666666666, \"#ed7953\"], [0.7777777777777778, \"#fb9f3a\"], [0.8888888888888888, \"#fdca26\"], [1.0, \"#f0f921\"]], \"type\": \"contour\"}], \"contourcarpet\": [{\"colorbar\": {\"outlinewidth\": 0, \"ticks\": \"\"}, \"type\": \"contourcarpet\"}], \"heatmap\": [{\"colorbar\": {\"outlinewidth\": 0, \"ticks\": \"\"}, \"colorscale\": [[0.0, \"#0d0887\"], [0.1111111111111111, \"#46039f\"], [0.2222222222222222, \"#7201a8\"], [0.3333333333333333, \"#9c179e\"], [0.4444444444444444, \"#bd3786\"], [0.5555555555555556, \"#d8576b\"], [0.6666666666666666, \"#ed7953\"], [0.7777777777777778, \"#fb9f3a\"], [0.8888888888888888, \"#fdca26\"], [1.0, \"#f0f921\"]], \"type\": \"heatmap\"}], \"heatmapgl\": [{\"colorbar\": {\"outlinewidth\": 0, \"ticks\": \"\"}, \"colorscale\": [[0.0, \"#0d0887\"], [0.1111111111111111, \"#46039f\"], [0.2222222222222222, \"#7201a8\"], [0.3333333333333333, \"#9c179e\"], [0.4444444444444444, \"#bd3786\"], [0.5555555555555556, \"#d8576b\"], [0.6666666666666666, \"#ed7953\"], [0.7777777777777778, \"#fb9f3a\"], [0.8888888888888888, \"#fdca26\"], [1.0, \"#f0f921\"]], \"type\": \"heatmapgl\"}], \"histogram\": [{\"marker\": {\"colorbar\": {\"outlinewidth\": 0, \"ticks\": \"\"}}, \"type\": \"histogram\"}], \"histogram2d\": [{\"colorbar\": {\"outlinewidth\": 0, \"ticks\": \"\"}, \"colorscale\": [[0.0, \"#0d0887\"], [0.1111111111111111, \"#46039f\"], [0.2222222222222222, \"#7201a8\"], [0.3333333333333333, \"#9c179e\"], [0.4444444444444444, \"#bd3786\"], [0.5555555555555556, \"#d8576b\"], [0.6666666666666666, \"#ed7953\"], [0.7777777777777778, \"#fb9f3a\"], [0.8888888888888888, \"#fdca26\"], [1.0, \"#f0f921\"]], \"type\": \"histogram2d\"}], \"histogram2dcontour\": [{\"colorbar\": {\"outlinewidth\": 0, \"ticks\": \"\"}, \"colorscale\": [[0.0, \"#0d0887\"], [0.1111111111111111, \"#46039f\"], [0.2222222222222222, \"#7201a8\"], [0.3333333333333333, \"#9c179e\"], [0.4444444444444444, \"#bd3786\"], [0.5555555555555556, \"#d8576b\"], [0.6666666666666666, \"#ed7953\"], [0.7777777777777778, \"#fb9f3a\"], [0.8888888888888888, \"#fdca26\"], [1.0, \"#f0f921\"]], \"type\": \"histogram2dcontour\"}], \"mesh3d\": [{\"colorbar\": {\"outlinewidth\": 0, \"ticks\": \"\"}, \"type\": \"mesh3d\"}], \"parcoords\": [{\"line\": {\"colorbar\": {\"outlinewidth\": 0, \"ticks\": \"\"}}, \"type\": \"parcoords\"}], \"pie\": [{\"automargin\": true, \"type\": \"pie\"}], \"scatter\": [{\"marker\": {\"colorbar\": {\"outlinewidth\": 0, \"ticks\": \"\"}}, \"type\": \"scatter\"}], \"scatter3d\": [{\"line\": {\"colorbar\": {\"outlinewidth\": 0, \"ticks\": \"\"}}, \"marker\": {\"colorbar\": {\"outlinewidth\": 0, \"ticks\": \"\"}}, \"type\": \"scatter3d\"}], \"scattercarpet\": [{\"marker\": {\"colorbar\": {\"outlinewidth\": 0, \"ticks\": \"\"}}, \"type\": \"scattercarpet\"}], \"scattergeo\": [{\"marker\": {\"colorbar\": {\"outlinewidth\": 0, \"ticks\": \"\"}}, \"type\": \"scattergeo\"}], \"scattergl\": [{\"marker\": {\"colorbar\": {\"outlinewidth\": 0, \"ticks\": \"\"}}, \"type\": \"scattergl\"}], \"scattermapbox\": [{\"marker\": {\"colorbar\": {\"outlinewidth\": 0, \"ticks\": \"\"}}, \"type\": \"scattermapbox\"}], \"scatterpolar\": [{\"marker\": {\"colorbar\": {\"outlinewidth\": 0, \"ticks\": \"\"}}, \"type\": \"scatterpolar\"}], \"scatterpolargl\": [{\"marker\": {\"colorbar\": {\"outlinewidth\": 0, \"ticks\": \"\"}}, \"type\": \"scatterpolargl\"}], \"scatterternary\": [{\"marker\": {\"colorbar\": {\"outlinewidth\": 0, \"ticks\": \"\"}}, \"type\": \"scatterternary\"}], \"surface\": [{\"colorbar\": {\"outlinewidth\": 0, \"ticks\": \"\"}, \"colorscale\": [[0.0, \"#0d0887\"], [0.1111111111111111, \"#46039f\"], [0.2222222222222222, \"#7201a8\"], [0.3333333333333333, \"#9c179e\"], [0.4444444444444444, \"#bd3786\"], [0.5555555555555556, \"#d8576b\"], [0.6666666666666666, \"#ed7953\"], [0.7777777777777778, \"#fb9f3a\"], [0.8888888888888888, \"#fdca26\"], [1.0, \"#f0f921\"]], \"type\": \"surface\"}], \"table\": [{\"cells\": {\"fill\": {\"color\": \"#EBF0F8\"}, \"line\": {\"color\": \"white\"}}, \"header\": {\"fill\": {\"color\": \"#C8D4E3\"}, \"line\": {\"color\": \"white\"}}, \"type\": \"table\"}]}, \"layout\": {\"annotationdefaults\": {\"arrowcolor\": \"#2a3f5f\", \"arrowhead\": 0, \"arrowwidth\": 1}, \"coloraxis\": {\"colorbar\": {\"outlinewidth\": 0, \"ticks\": \"\"}}, \"colorscale\": {\"diverging\": [[0, \"#8e0152\"], [0.1, \"#c51b7d\"], [0.2, \"#de77ae\"], [0.3, \"#f1b6da\"], [0.4, \"#fde0ef\"], [0.5, \"#f7f7f7\"], [0.6, \"#e6f5d0\"], [0.7, \"#b8e186\"], [0.8, \"#7fbc41\"], [0.9, \"#4d9221\"], [1, \"#276419\"]], \"sequential\": [[0.0, \"#0d0887\"], [0.1111111111111111, \"#46039f\"], [0.2222222222222222, \"#7201a8\"], [0.3333333333333333, \"#9c179e\"], [0.4444444444444444, \"#bd3786\"], [0.5555555555555556, \"#d8576b\"], [0.6666666666666666, \"#ed7953\"], [0.7777777777777778, \"#fb9f3a\"], [0.8888888888888888, \"#fdca26\"], [1.0, \"#f0f921\"]], \"sequentialminus\": [[0.0, \"#0d0887\"], [0.1111111111111111, \"#46039f\"], [0.2222222222222222, \"#7201a8\"], [0.3333333333333333, \"#9c179e\"], [0.4444444444444444, \"#bd3786\"], [0.5555555555555556, \"#d8576b\"], [0.6666666666666666, \"#ed7953\"], [0.7777777777777778, \"#fb9f3a\"], [0.8888888888888888, \"#fdca26\"], [1.0, \"#f0f921\"]]}, \"colorway\": [\"#636efa\", \"#EF553B\", \"#00cc96\", \"#ab63fa\", \"#FFA15A\", \"#19d3f3\", \"#FF6692\", \"#B6E880\", \"#FF97FF\", \"#FECB52\"], \"font\": {\"color\": \"#2a3f5f\"}, \"geo\": {\"bgcolor\": \"white\", \"lakecolor\": \"white\", \"landcolor\": \"#E5ECF6\", \"showlakes\": true, \"showland\": true, \"subunitcolor\": \"white\"}, \"hoverlabel\": {\"align\": \"left\"}, \"hovermode\": \"closest\", \"mapbox\": {\"style\": \"light\"}, \"paper_bgcolor\": \"white\", \"plot_bgcolor\": \"#E5ECF6\", \"polar\": {\"angularaxis\": {\"gridcolor\": \"white\", \"linecolor\": \"white\", \"ticks\": \"\"}, \"bgcolor\": \"#E5ECF6\", \"radialaxis\": {\"gridcolor\": \"white\", \"linecolor\": \"white\", \"ticks\": \"\"}}, \"scene\": {\"xaxis\": {\"backgroundcolor\": \"#E5ECF6\", \"gridcolor\": \"white\", \"gridwidth\": 2, \"linecolor\": \"white\", \"showbackground\": true, \"ticks\": \"\", \"zerolinecolor\": \"white\"}, \"yaxis\": {\"backgroundcolor\": \"#E5ECF6\", \"gridcolor\": \"white\", \"gridwidth\": 2, \"linecolor\": \"white\", \"showbackground\": true, \"ticks\": \"\", \"zerolinecolor\": \"white\"}, \"zaxis\": {\"backgroundcolor\": \"#E5ECF6\", \"gridcolor\": \"white\", \"gridwidth\": 2, \"linecolor\": \"white\", \"showbackground\": true, \"ticks\": \"\", \"zerolinecolor\": \"white\"}}, \"shapedefaults\": {\"line\": {\"color\": \"#2a3f5f\"}}, \"ternary\": {\"aaxis\": {\"gridcolor\": \"white\", \"linecolor\": \"white\", \"ticks\": \"\"}, \"baxis\": {\"gridcolor\": \"white\", \"linecolor\": \"white\", \"ticks\": \"\"}, \"bgcolor\": \"#E5ECF6\", \"caxis\": {\"gridcolor\": \"white\", \"linecolor\": \"white\", \"ticks\": \"\"}}, \"title\": {\"x\": 0.05}, \"xaxis\": {\"automargin\": true, \"gridcolor\": \"white\", \"linecolor\": \"white\", \"ticks\": \"\", \"title\": {\"standoff\": 15}, \"zerolinecolor\": \"white\", \"zerolinewidth\": 2}, \"yaxis\": {\"automargin\": true, \"gridcolor\": \"white\", \"linecolor\": \"white\", \"ticks\": \"\", \"title\": {\"standoff\": 15}, \"zerolinecolor\": \"white\", \"zerolinewidth\": 2}}}, \"title\": {\"font\": {\"color\": \"#4D5663\"}}, \"xaxis\": {\"gridcolor\": \"#E1E5ED\", \"showgrid\": true, \"tickfont\": {\"color\": \"#4D5663\"}, \"title\": {\"font\": {\"color\": \"#4D5663\"}, \"text\": \"\"}, \"zerolinecolor\": \"#E1E5ED\"}, \"xaxis2\": {\"anchor\": \"y2\", \"gridcolor\": \"#E1E5ED\", \"showgrid\": true, \"showticklabels\": false, \"tickfont\": {\"color\": \"#4D5663\"}, \"title\": {\"font\": {\"color\": \"#4D5663\"}, \"text\": \"\"}, \"zerolinecolor\": \"#E1E5ED\"}, \"yaxis\": {\"domain\": [0.3, 1], \"gridcolor\": \"#E1E5ED\", \"showgrid\": true, \"tickfont\": {\"color\": \"#4D5663\"}, \"title\": {\"font\": {\"color\": \"#4D5663\"}, \"text\": \"\"}, \"zerolinecolor\": \"#E1E5ED\"}, \"yaxis2\": {\"domain\": [0, 0.25], \"gridcolor\": \"#E1E5ED\", \"showgrid\": true, \"tickfont\": {\"color\": \"#4D5663\"}, \"title\": {\"font\": {\"color\": \"#4D5663\"}, \"text\": \"Spread\"}, \"zerolinecolor\": \"#E1E5ED\"}},                        {\"showLink\": true, \"linkText\": \"Export to plot.ly\", \"plotlyServerURL\": \"https://plot.ly\", \"responsive\": true}                    ).then(function(){\n",
       "                            \n",
       "var gd = document.getElementById('f35fc4f4-d8ff-4914-b000-8e6ae1a96176');\n",
       "var x = new MutationObserver(function (mutations, observer) {{\n",
       "        var display = window.getComputedStyle(gd).display;\n",
       "        if (!display || display === 'none') {{\n",
       "            console.log([gd, 'removed!']);\n",
       "            Plotly.purge(gd);\n",
       "            observer.disconnect();\n",
       "        }}\n",
       "}});\n",
       "\n",
       "// Listen for the removal of the full notebook cells\n",
       "var notebookContainer = gd.closest('#notebook-container');\n",
       "if (notebookContainer) {{\n",
       "    x.observe(notebookContainer, {childList: true});\n",
       "}}\n",
       "\n",
       "// Listen for the clearing of the current output cell\n",
       "var outputEl = gd.closest('.output');\n",
       "if (outputEl) {{\n",
       "    x.observe(outputEl, {childList: true});\n",
       "}}\n",
       "\n",
       "                        })                };                });            </script>        </div>"
      ]
     },
     "metadata": {},
     "output_type": "display_data"
    }
   ],
   "source": [
    "Conv_2015_RG[['4046S','4770XL']].iplot(kind='spread')"
   ]
  },
  {
   "cell_type": "code",
   "execution_count": null,
   "metadata": {},
   "outputs": [],
   "source": []
  },
  {
   "cell_type": "code",
   "execution_count": null,
   "metadata": {},
   "outputs": [],
   "source": []
  },
  {
   "cell_type": "code",
   "execution_count": null,
   "metadata": {},
   "outputs": [],
   "source": []
  },
  {
   "cell_type": "code",
   "execution_count": null,
   "metadata": {},
   "outputs": [],
   "source": []
  },
  {
   "cell_type": "code",
   "execution_count": null,
   "metadata": {},
   "outputs": [],
   "source": []
  },
  {
   "cell_type": "code",
   "execution_count": null,
   "metadata": {},
   "outputs": [],
   "source": []
  },
  {
   "cell_type": "code",
   "execution_count": null,
   "metadata": {},
   "outputs": [],
   "source": []
  },
  {
   "cell_type": "code",
   "execution_count": 92,
   "metadata": {},
   "outputs": [],
   "source": [
    "df3d=Conv_2016_RG[['Month','AvgPr','4770XL']]"
   ]
  },
  {
   "cell_type": "code",
   "execution_count": 93,
   "metadata": {},
   "outputs": [
    {
     "data": {
      "text/plain": [
       "Month     416\n",
       "AvgPr     416\n",
       "4770XL    416\n",
       "dtype: int64"
      ]
     },
     "execution_count": 93,
     "metadata": {},
     "output_type": "execute_result"
    }
   ],
   "source": [
    "df3d.count()"
   ]
  },
  {
   "cell_type": "code",
   "execution_count": 94,
   "metadata": {},
   "outputs": [
    {
     "data": {
      "application/vnd.plotly.v1+json": {
       "config": {
        "linkText": "Export to plot.ly",
        "plotlyServerURL": "https://plot.ly",
        "showLink": true
       },
       "data": [
        {
         "colorscale": [
          [
           0,
           "rgb(165,0,38)"
          ],
          [
           0.1,
           "rgb(215,48,39)"
          ],
          [
           0.2,
           "rgb(244,109,67)"
          ],
          [
           0.3,
           "rgb(253,174,97)"
          ],
          [
           0.4,
           "rgb(254,224,144)"
          ],
          [
           0.5,
           "rgb(255,255,191)"
          ],
          [
           0.6,
           "rgb(224,243,248)"
          ],
          [
           0.7,
           "rgb(171,217,233)"
          ],
          [
           0.8,
           "rgb(116,173,209)"
          ],
          [
           0.9,
           "rgb(69,117,180)"
          ],
          [
           1,
           "rgb(49,54,149)"
          ]
         ],
         "type": "surface",
         "x": [
          0,
          1,
          2,
          3,
          4,
          5,
          6,
          7,
          8,
          9,
          10,
          11,
          12,
          13,
          14,
          15,
          16,
          17,
          18,
          19,
          20,
          21,
          22,
          23,
          24,
          25,
          26,
          27,
          28,
          29,
          30,
          31,
          32,
          33,
          34,
          35,
          36,
          37,
          38,
          39,
          40,
          41,
          42,
          43,
          44,
          45,
          46,
          47,
          48,
          49,
          50,
          51,
          52,
          53,
          54,
          55,
          56,
          57,
          58,
          59,
          60,
          61,
          62,
          63,
          64,
          65,
          66,
          67,
          68,
          69,
          70,
          71,
          72,
          73,
          74,
          75,
          76,
          77,
          78,
          79,
          80,
          81,
          82,
          83,
          84,
          85,
          86,
          87,
          88,
          89,
          90,
          91,
          92,
          93,
          94,
          95,
          96,
          97,
          98,
          99,
          100,
          101,
          102,
          103,
          104,
          105,
          106,
          107,
          108,
          109,
          110,
          111,
          112,
          113,
          114,
          115,
          116,
          117,
          118,
          119,
          120,
          121,
          122,
          123,
          124,
          125,
          126,
          127,
          128,
          129,
          130,
          131,
          132,
          133,
          134,
          135,
          136,
          137,
          138,
          139,
          140,
          141,
          142,
          143,
          144,
          145,
          146,
          147,
          148,
          149,
          150,
          151,
          152,
          153,
          154,
          155,
          156,
          157,
          158,
          159,
          160,
          161,
          162,
          163,
          164,
          165,
          166,
          167,
          168,
          169,
          170,
          171,
          172,
          173,
          174,
          175,
          176,
          177,
          178,
          179,
          180,
          181,
          182,
          183,
          184,
          185,
          186,
          187,
          188,
          189,
          190,
          191,
          192,
          193,
          194,
          195,
          196,
          197,
          198,
          199,
          200,
          201,
          202,
          203,
          204,
          205,
          206,
          207,
          208,
          209,
          210,
          211,
          212,
          213,
          214,
          215,
          216,
          217,
          218,
          219,
          220,
          221,
          222,
          223,
          224,
          225,
          226,
          227,
          228,
          229,
          230,
          231,
          232,
          233,
          234,
          235,
          236,
          237,
          238,
          239,
          240,
          241,
          242,
          243,
          244,
          245,
          246,
          247,
          248,
          249,
          250,
          251,
          252,
          253,
          254,
          255,
          256,
          257,
          258,
          259,
          260,
          261,
          262,
          263,
          264,
          265,
          266,
          267,
          268,
          269,
          270,
          271,
          272,
          273,
          274,
          275,
          276,
          277,
          278,
          279,
          280,
          281,
          282,
          283,
          284,
          285,
          286,
          287,
          288,
          289,
          290,
          291,
          292,
          293,
          294,
          295,
          296,
          297,
          298,
          299,
          300,
          301,
          302,
          303,
          304,
          305,
          306,
          307,
          308,
          309,
          310,
          311,
          312,
          313,
          314,
          315,
          316,
          317,
          318,
          319,
          320,
          321,
          322,
          323,
          324,
          325,
          326,
          327,
          328,
          329,
          330,
          331,
          332,
          333,
          334,
          335,
          336,
          337,
          338,
          339,
          340,
          341,
          342,
          343,
          344,
          345,
          346,
          347,
          348,
          349,
          350,
          351,
          352,
          353,
          354,
          355,
          356,
          357,
          358,
          359,
          360,
          361,
          362,
          363,
          364,
          365,
          366,
          367,
          368,
          369,
          370,
          371,
          372,
          373,
          374,
          375,
          376,
          377,
          378,
          379,
          380,
          381,
          382,
          383,
          384,
          385,
          386,
          387,
          388,
          389,
          390,
          391,
          392,
          393,
          394,
          395,
          396,
          397,
          398,
          399,
          400,
          401,
          402,
          403,
          404,
          405,
          406,
          407,
          408,
          409,
          410,
          411,
          412,
          413,
          414,
          415
         ],
         "y": [
          "Month",
          "AvgPr",
          "4770XL"
         ],
         "z": [
          [
           1,
           1,
           1,
           1,
           1,
           1,
           1,
           1,
           1,
           1,
           1,
           1,
           1,
           1,
           1,
           1,
           1,
           1,
           1,
           1,
           1,
           1,
           1,
           1,
           1,
           1,
           1,
           1,
           1,
           1,
           1,
           1,
           1,
           1,
           1,
           1,
           1,
           1,
           1,
           1,
           2,
           2,
           2,
           2,
           2,
           2,
           2,
           2,
           2,
           2,
           2,
           2,
           2,
           2,
           2,
           2,
           2,
           2,
           2,
           2,
           2,
           2,
           2,
           2,
           2,
           2,
           2,
           2,
           2,
           2,
           2,
           2,
           3,
           3,
           3,
           3,
           3,
           3,
           3,
           3,
           3,
           3,
           3,
           3,
           3,
           3,
           3,
           3,
           3,
           3,
           3,
           3,
           3,
           3,
           3,
           3,
           3,
           3,
           3,
           3,
           3,
           3,
           3,
           3,
           4,
           4,
           4,
           4,
           4,
           4,
           4,
           4,
           4,
           4,
           4,
           4,
           4,
           4,
           4,
           4,
           4,
           4,
           4,
           4,
           4,
           4,
           4,
           4,
           4,
           4,
           4,
           4,
           4,
           4,
           4,
           4,
           5,
           5,
           5,
           5,
           5,
           5,
           5,
           5,
           5,
           5,
           5,
           5,
           5,
           5,
           5,
           5,
           5,
           5,
           5,
           5,
           5,
           5,
           5,
           5,
           5,
           5,
           5,
           5,
           5,
           5,
           5,
           5,
           5,
           5,
           5,
           5,
           5,
           5,
           5,
           5,
           6,
           6,
           6,
           6,
           6,
           6,
           6,
           6,
           6,
           6,
           6,
           6,
           6,
           6,
           6,
           6,
           6,
           6,
           6,
           6,
           6,
           6,
           6,
           6,
           6,
           6,
           6,
           6,
           6,
           6,
           6,
           6,
           7,
           7,
           7,
           7,
           7,
           7,
           7,
           7,
           7,
           7,
           7,
           7,
           7,
           7,
           7,
           7,
           7,
           7,
           7,
           7,
           7,
           7,
           7,
           7,
           7,
           7,
           7,
           7,
           7,
           7,
           7,
           7,
           7,
           7,
           7,
           7,
           7,
           7,
           7,
           7,
           8,
           8,
           8,
           8,
           8,
           8,
           8,
           8,
           8,
           8,
           8,
           8,
           8,
           8,
           8,
           8,
           8,
           8,
           8,
           8,
           8,
           8,
           8,
           8,
           8,
           8,
           8,
           8,
           8,
           8,
           8,
           8,
           9,
           9,
           9,
           9,
           9,
           9,
           9,
           9,
           9,
           9,
           9,
           9,
           9,
           9,
           9,
           9,
           9,
           9,
           9,
           9,
           9,
           9,
           9,
           9,
           9,
           9,
           9,
           9,
           9,
           9,
           9,
           9,
           10,
           10,
           10,
           10,
           10,
           10,
           10,
           10,
           10,
           10,
           10,
           10,
           10,
           10,
           10,
           10,
           10,
           10,
           10,
           10,
           10,
           10,
           10,
           10,
           10,
           10,
           10,
           10,
           10,
           10,
           10,
           10,
           10,
           10,
           10,
           10,
           10,
           10,
           10,
           10,
           11,
           11,
           11,
           11,
           11,
           11,
           11,
           11,
           11,
           11,
           11,
           11,
           11,
           11,
           11,
           11,
           11,
           11,
           11,
           11,
           11,
           11,
           11,
           11,
           11,
           11,
           11,
           11,
           11,
           11,
           11,
           11,
           12,
           12,
           12,
           12,
           12,
           12,
           12,
           12,
           12,
           12,
           12,
           12,
           12,
           12,
           12,
           12,
           12,
           12,
           12,
           12,
           12,
           12,
           12,
           12,
           12,
           12,
           12,
           12,
           12,
           12,
           12,
           12
          ],
          [
           0.73,
           0.92,
           1.01,
           1.07,
           0.94,
           0.79,
           1.06,
           0.73,
           0.87,
           1.06,
           1.04,
           1.2,
           1.08,
           0.84,
           0.93,
           0.77,
           0.9,
           1.05,
           1.05,
           1.09,
           1.12,
           0.81,
           1.09,
           0.81,
           0.88,
           0.95,
           1.01,
           1.21,
           1.16,
           0.94,
           0.9,
           0.78,
           0.88,
           1.04,
           1,
           1.06,
           1.05,
           0.79,
           1.02,
           0.85,
           0.7,
           0.85,
           0.91,
           1.03,
           0.83,
           0.7,
           0.62,
           0.69,
           0.82,
           0.96,
           0.99,
           1.08,
           0.97,
           0.7,
           0.98,
           0.78,
           0.89,
           1.07,
           1.06,
           1.21,
           1.03,
           0.82,
           1.04,
           0.77,
           0.89,
           1.05,
           1.05,
           1.15,
           1.07,
           0.77,
           0.84,
           0.78,
           0.92,
           0.98,
           1.1,
           1.21,
           1.06,
           0.78,
           1.07,
           0.8,
           0.96,
           1.03,
           1.07,
           1.13,
           0.91,
           0.79,
           0.88,
           0.81,
           0.91,
           1.06,
           1.05,
           1.11,
           0.95,
           0.77,
           1.05,
           0.78,
           0.93,
           0.97,
           1.08,
           1.23,
           1.07,
           0.77,
           1.05,
           0.78,
           0.93,
           1.04,
           1.07,
           1.18,
           1.04,
           0.74,
           1.04,
           0.79,
           0.94,
           1.05,
           1.05,
           1.09,
           1,
           0.73,
           0.86,
           0.79,
           0.93,
           0.98,
           1.06,
           1.12,
           0.95,
           0.71,
           1.01,
           0.77,
           0.84,
           0.96,
           1.04,
           1.13,
           0.95,
           0.7,
           0.84,
           0.78,
           0.75,
           0.94,
           0.99,
           1.12,
           0.97,
           0.71,
           0.75,
           0.79,
           0.79,
           0.94,
           0.95,
           0.87,
           0.86,
           0.72,
           0.86,
           0.75,
           0.97,
           0.91,
           1.04,
           1.13,
           0.95,
           0.73,
           0.82,
           0.77,
           0.9,
           1,
           1.08,
           1.14,
           0.94,
           0.72,
           1.05,
           0.83,
           0.98,
           1.05,
           1.09,
           1.14,
           0.9,
           0.8,
           0.92,
           0.79,
           0.94,
           1.01,
           1.14,
           1.35,
           0.93,
           0.83,
           0.91,
           0.82,
           1.01,
           1.15,
           1.15,
           1.34,
           1.04,
           0.85,
           1.07,
           0.92,
           1.06,
           1.1,
           1.16,
           1.4,
           0.87,
           0.89,
           0.94,
           0.86,
           1.03,
           1.13,
           1.17,
           1.28,
           1.03,
           0.89,
           1.09,
           0.87,
           1.1,
           1.13,
           1.15,
           1.41,
           1.05,
           0.91,
           0.91,
           0.97,
           1.08,
           1.24,
           1.19,
           1.33,
           1.09,
           0.91,
           1.1,
           1.01,
           1.14,
           1.25,
           1.26,
           1.49,
           1.15,
           0.94,
           1.15,
           1.02,
           1.2,
           1.32,
           1.32,
           1.54,
           1.22,
           0.97,
           1.17,
           1.08,
           1.22,
           1.34,
           1.35,
           1.6,
           1.25,
           0.98,
           1.18,
           1.1,
           1.17,
           1.33,
           1.3,
           1.47,
           1.17,
           0.93,
           1.18,
           0.95,
           1.07,
           1.3,
           1.29,
           1.37,
           1.12,
           0.94,
           1.09,
           1,
           1.05,
           1.34,
           1.27,
           1.4,
           1.21,
           0.87,
           1.11,
           0.93,
           0.99,
           1.27,
           1.3,
           1.4,
           1.22,
           0.84,
           1.11,
           0.96,
           1.08,
           1.3,
           1.2,
           1.4,
           1.1,
           0.78,
           0.96,
           0.92,
           1.12,
           1.3,
           1.18,
           1.28,
           1.18,
           0.82,
           1.08,
           0.96,
           1.22,
           1.28,
           1.28,
           1.45,
           1.24,
           0.86,
           1.11,
           1.04,
           1.15,
           1.37,
           1.37,
           1.53,
           1.35,
           0.98,
           1.32,
           1.08,
           1.19,
           1.38,
           1.38,
           1.59,
           1.37,
           1.01,
           1.38,
           1.03,
           1.34,
           1.35,
           1.39,
           1.54,
           1.41,
           1,
           1.37,
           1.13,
           1.4,
           1.4,
           1.4,
           1.65,
           1.49,
           1.03,
           1.24,
           1.15,
           1.39,
           1.35,
           1.47,
           1.67,
           1.53,
           1.09,
           1.43,
           1.17,
           1.68,
           1.36,
           1.48,
           1.72,
           1.54,
           1.19,
           1.44,
           1.26,
           1.68,
           1.48,
           1.54,
           1.71,
           1.55,
           1.16,
           1.44,
           1.26,
           1.48,
           1.41,
           1.52,
           1.67,
           1.57,
           1.11,
           1.37,
           1.18,
           1.32,
           1.23,
           1.48,
           1.51,
           1.49,
           1.06,
           1.38,
           1.1,
           1.21,
           1.18,
           1.4,
           1.51,
           1.35,
           0.93,
           1.39,
           1.09,
           0.98,
           0.97,
           1.2,
           1.4,
           1.09,
           0.76,
           0.99,
           0.93,
           0.9,
           1.03,
           1.15,
           1.32,
           1.08,
           0.76,
           1.21,
           0.84,
           0.95,
           1.11,
           1.16,
           1.22,
           1.06,
           0.72,
           0.96,
           0.88,
           0.94,
           1.11,
           1.23,
           1.36,
           1.09,
           0.79,
           0.94,
           0.92
          ],
          [
           257268.16,
           543717.88,
           150716.62,
           53765.74,
           19331.34,
           361423.55,
           17650.77,
           156194.56,
           261931.07,
           352247.15,
           141334.22,
           34789.19,
           36259.27,
           263562.26,
           17017.65,
           175472.09,
           250106.17,
           357831.91,
           136752.83,
           77510.23,
           25612.84,
           373209.85,
           16861.86,
           181519.92,
           272665.17,
           553447.22,
           146094.55,
           66877.99,
           16918.87,
           245808.96,
           16838.16,
           121729.44,
           287234.03,
           422063.61,
           133521.63,
           59279.93,
           18332.66,
           521213.33,
           15260.7,
           186797.28,
           424389.6,
           704466.56,
           220032.02,
           59775.41,
           29501.59,
           804558.25,
           22097.49,
           281618.2,
           278558.48,
           352376.13,
           144264.21,
           129490.05,
           20578.05,
           718463.59,
           12099.24,
           155260.97,
           267508.94,
           295941.81,
           141965.35,
           84110.32,
           24200.11,
           423920.15,
           13665.41,
           123948.37,
           302210.56,
           427177,
           106123.73,
           84168.72,
           38146.51,
           337159.88,
           13243.4,
           251937.95,
           325582.2,
           534051.03,
           122484.91,
           83451.82,
           44771.53,
           390174.57,
           14794.78,
           171164.48,
           317337.27,
           319148.88,
           107243.08,
           111254.96,
           49503.76,
           698856.6,
           17714.52,
           179006.49,
           299002.93,
           425736.86,
           98398.87,
           79981.32,
           33666.72,
           653141.71,
           15753.25,
           167407.21,
           311356.91,
           464302.08,
           90880.43,
           104253.64,
           44611.53,
           660825.04,
           13925.65,
           190076.1,
           334735.17,
           360264.17,
           78798.43,
           90728.12,
           45776.71,
           649669.1,
           12154.28,
           159784.5,
           358015.82,
           299669.72,
           79794.87,
           164663.65,
           19359.4,
           556972.27,
           10186.67,
           177612.73,
           382295.13,
           508030.41,
           97349.53,
           102786.85,
           10596.68,
           617895.6,
           8860.76,
           168334.55,
           325242.94,
           323412.26,
           90675.6,
           142677.6,
           11773.39,
           564146.38,
           10941.97,
           130993.85,
           291448.73,
           320732.21,
           89464.87,
           144510.42,
           27641.97,
           398632.2,
           10664.75,
           131269.35,
           336387.9,
           471428.29,
           94749.11,
           211975.68,
           18180.72,
           697833.12,
           10776.46,
           152314.08,
           353196.44,
           491344.53,
           89570.91,
           172917.61,
           22169.92,
           459077.76,
           10065.75,
           155509.69,
           329737.94,
           285242.59,
           95835.45,
           219221.82,
           10708.07,
           537748.12,
           11952.59,
           150382.82,
           341992.36,
           280608.56,
           199248.47,
           213854.78,
           12125.66,
           347794.01,
           23769.9,
           164102.2,
           373358.37,
           487106.11,
           214241.6,
           156593.71,
           10390.99,
           355042.24,
           26309.45,
           147905.62,
           328653.8,
           285261.84,
           229464.95,
           135414.25,
           11290.7,
           423778.7,
           30505.16,
           162974.69,
           319711.53,
           431784.45,
           230513.77,
           132512.61,
           11009.71,
           346244.07,
           30691.31,
           140268.18,
           328206.37,
           376048.28,
           204710.19,
           118844.6,
           9370.21,
           425639.83,
           26639.39,
           135483.56,
           356022.1,
           367119.34,
           213314.73,
           123210.02,
           10691.9,
           522836.75,
           30343.48,
           137804.75,
           292540.95,
           328564.87,
           198307.05,
           99899.13,
           16160.39,
           189691.87,
           29960.26,
           111309.46,
           278664.44,
           291136.56,
           137997.09,
           74756.02,
           11130.38,
           44558.77,
           20301.82,
           95086.4,
           302735.37,
           293304.81,
           133520.1,
           63713.79,
           7416.64,
           29835.26,
           21369.68,
           96068.39,
           244730.21,
           207792.14,
           127238.92,
           57230.15,
           7471.62,
           25254.69,
           18938.44,
           95280.92,
           211671.11,
           219477.32,
           119737.55,
           59915.16,
           6165.29,
           24523.4,
           18597.99,
           94460.71,
           218247.48,
           217555.14,
           107539.52,
           40749.92,
           6193.74,
           21617.07,
           15287.26,
           122056.89,
           171379.36,
           180362.15,
           96330.92,
           25740.08,
           5418.75,
           25630.41,
           13450.33,
           91408.86,
           133979.15,
           166364.88,
           67370.64,
           68592.79,
           5248.8,
           17935.73,
           10303.2,
           93943.34,
           107653.45,
           158776.84,
           86826.84,
           38848.69,
           6177.12,
           18544.3,
           12528.81,
           111324.84,
           114241.36,
           156892.83,
           82491.6,
           25571.12,
           5273.03,
           15092.69,
           10177.7,
           102419.92,
           112714.97,
           150023.52,
           70265.42,
           17881,
           5721.42,
           16478.55,
           9444.29,
           103658.21,
           117423.95,
           144883.2,
           73332.83,
           18241.6,
           5573.18,
           15830.87,
           9605.99,
           107712.68,
           121961.08,
           129395.86,
           77380.74,
           17032.95,
           5181.48,
           17352.41,
           10940.09,
           110878.4,
           123430.31,
           129381.16,
           81958.03,
           12844.95,
           4681.14,
           32866.62,
           7239.64,
           98555.04,
           108458.09,
           111904.83,
           76681.49,
           13908.08,
           5139,
           18419.04,
           10217.86,
           102563.1,
           82276.22,
           105335.31,
           94122.62,
           16940.59,
           5549.22,
           20588.09,
           11469.22,
           116102.67,
           92064.47,
           88514.18,
           107745.17,
           12120.21,
           5263.65,
           19653.3,
           14441.46,
           113342.82,
           120964.4,
           91683.48,
           122472.4,
           13244.25,
           6472.83,
           16494.71,
           14547.51,
           119469.87,
           112541.9,
           103230.89,
           99449.47,
           14009.38,
           5306.27,
           22128.14,
           13358.39,
           107496.5,
           93901.07,
           109089.43,
           53734.01,
           16299.41,
           4456.35,
           16553.22,
           8082.2,
           105452.1,
           81897.44,
           109137.29,
           33160.82,
           10853.05,
           3226.22,
           14619.93,
           4791.45,
           86789.7,
           86152.75,
           179768.34,
           41579.46,
           12275.54,
           3190.05,
           18795.24,
           5133.86,
           81114.6,
           96836.26,
           134247.97,
           39178.61,
           19968.52,
           3599.85,
           18326.63,
           4655.77,
           86234.32,
           90983.73,
           146478.91,
           36485.49,
           36711.66,
           3271.57,
           15771.64,
           8172.53,
           89996.89,
           99997.75,
           146507.02,
           33980.02,
           117488.47,
           4267.77,
           20052.89,
           5643.49,
           114035
          ]
         ]
        }
       ],
       "layout": {
        "legend": {
         "bgcolor": "#F5F6F9",
         "font": {
          "color": "#4D5663"
         }
        },
        "paper_bgcolor": "#F5F6F9",
        "plot_bgcolor": "#F5F6F9",
        "template": {
         "data": {
          "bar": [
           {
            "error_x": {
             "color": "#2a3f5f"
            },
            "error_y": {
             "color": "#2a3f5f"
            },
            "marker": {
             "line": {
              "color": "#E5ECF6",
              "width": 0.5
             }
            },
            "type": "bar"
           }
          ],
          "barpolar": [
           {
            "marker": {
             "line": {
              "color": "#E5ECF6",
              "width": 0.5
             }
            },
            "type": "barpolar"
           }
          ],
          "carpet": [
           {
            "aaxis": {
             "endlinecolor": "#2a3f5f",
             "gridcolor": "white",
             "linecolor": "white",
             "minorgridcolor": "white",
             "startlinecolor": "#2a3f5f"
            },
            "baxis": {
             "endlinecolor": "#2a3f5f",
             "gridcolor": "white",
             "linecolor": "white",
             "minorgridcolor": "white",
             "startlinecolor": "#2a3f5f"
            },
            "type": "carpet"
           }
          ],
          "choropleth": [
           {
            "colorbar": {
             "outlinewidth": 0,
             "ticks": ""
            },
            "type": "choropleth"
           }
          ],
          "contour": [
           {
            "colorbar": {
             "outlinewidth": 0,
             "ticks": ""
            },
            "colorscale": [
             [
              0,
              "#0d0887"
             ],
             [
              0.1111111111111111,
              "#46039f"
             ],
             [
              0.2222222222222222,
              "#7201a8"
             ],
             [
              0.3333333333333333,
              "#9c179e"
             ],
             [
              0.4444444444444444,
              "#bd3786"
             ],
             [
              0.5555555555555556,
              "#d8576b"
             ],
             [
              0.6666666666666666,
              "#ed7953"
             ],
             [
              0.7777777777777778,
              "#fb9f3a"
             ],
             [
              0.8888888888888888,
              "#fdca26"
             ],
             [
              1,
              "#f0f921"
             ]
            ],
            "type": "contour"
           }
          ],
          "contourcarpet": [
           {
            "colorbar": {
             "outlinewidth": 0,
             "ticks": ""
            },
            "type": "contourcarpet"
           }
          ],
          "heatmap": [
           {
            "colorbar": {
             "outlinewidth": 0,
             "ticks": ""
            },
            "colorscale": [
             [
              0,
              "#0d0887"
             ],
             [
              0.1111111111111111,
              "#46039f"
             ],
             [
              0.2222222222222222,
              "#7201a8"
             ],
             [
              0.3333333333333333,
              "#9c179e"
             ],
             [
              0.4444444444444444,
              "#bd3786"
             ],
             [
              0.5555555555555556,
              "#d8576b"
             ],
             [
              0.6666666666666666,
              "#ed7953"
             ],
             [
              0.7777777777777778,
              "#fb9f3a"
             ],
             [
              0.8888888888888888,
              "#fdca26"
             ],
             [
              1,
              "#f0f921"
             ]
            ],
            "type": "heatmap"
           }
          ],
          "heatmapgl": [
           {
            "colorbar": {
             "outlinewidth": 0,
             "ticks": ""
            },
            "colorscale": [
             [
              0,
              "#0d0887"
             ],
             [
              0.1111111111111111,
              "#46039f"
             ],
             [
              0.2222222222222222,
              "#7201a8"
             ],
             [
              0.3333333333333333,
              "#9c179e"
             ],
             [
              0.4444444444444444,
              "#bd3786"
             ],
             [
              0.5555555555555556,
              "#d8576b"
             ],
             [
              0.6666666666666666,
              "#ed7953"
             ],
             [
              0.7777777777777778,
              "#fb9f3a"
             ],
             [
              0.8888888888888888,
              "#fdca26"
             ],
             [
              1,
              "#f0f921"
             ]
            ],
            "type": "heatmapgl"
           }
          ],
          "histogram": [
           {
            "marker": {
             "colorbar": {
              "outlinewidth": 0,
              "ticks": ""
             }
            },
            "type": "histogram"
           }
          ],
          "histogram2d": [
           {
            "colorbar": {
             "outlinewidth": 0,
             "ticks": ""
            },
            "colorscale": [
             [
              0,
              "#0d0887"
             ],
             [
              0.1111111111111111,
              "#46039f"
             ],
             [
              0.2222222222222222,
              "#7201a8"
             ],
             [
              0.3333333333333333,
              "#9c179e"
             ],
             [
              0.4444444444444444,
              "#bd3786"
             ],
             [
              0.5555555555555556,
              "#d8576b"
             ],
             [
              0.6666666666666666,
              "#ed7953"
             ],
             [
              0.7777777777777778,
              "#fb9f3a"
             ],
             [
              0.8888888888888888,
              "#fdca26"
             ],
             [
              1,
              "#f0f921"
             ]
            ],
            "type": "histogram2d"
           }
          ],
          "histogram2dcontour": [
           {
            "colorbar": {
             "outlinewidth": 0,
             "ticks": ""
            },
            "colorscale": [
             [
              0,
              "#0d0887"
             ],
             [
              0.1111111111111111,
              "#46039f"
             ],
             [
              0.2222222222222222,
              "#7201a8"
             ],
             [
              0.3333333333333333,
              "#9c179e"
             ],
             [
              0.4444444444444444,
              "#bd3786"
             ],
             [
              0.5555555555555556,
              "#d8576b"
             ],
             [
              0.6666666666666666,
              "#ed7953"
             ],
             [
              0.7777777777777778,
              "#fb9f3a"
             ],
             [
              0.8888888888888888,
              "#fdca26"
             ],
             [
              1,
              "#f0f921"
             ]
            ],
            "type": "histogram2dcontour"
           }
          ],
          "mesh3d": [
           {
            "colorbar": {
             "outlinewidth": 0,
             "ticks": ""
            },
            "type": "mesh3d"
           }
          ],
          "parcoords": [
           {
            "line": {
             "colorbar": {
              "outlinewidth": 0,
              "ticks": ""
             }
            },
            "type": "parcoords"
           }
          ],
          "pie": [
           {
            "automargin": true,
            "type": "pie"
           }
          ],
          "scatter": [
           {
            "marker": {
             "colorbar": {
              "outlinewidth": 0,
              "ticks": ""
             }
            },
            "type": "scatter"
           }
          ],
          "scatter3d": [
           {
            "line": {
             "colorbar": {
              "outlinewidth": 0,
              "ticks": ""
             }
            },
            "marker": {
             "colorbar": {
              "outlinewidth": 0,
              "ticks": ""
             }
            },
            "type": "scatter3d"
           }
          ],
          "scattercarpet": [
           {
            "marker": {
             "colorbar": {
              "outlinewidth": 0,
              "ticks": ""
             }
            },
            "type": "scattercarpet"
           }
          ],
          "scattergeo": [
           {
            "marker": {
             "colorbar": {
              "outlinewidth": 0,
              "ticks": ""
             }
            },
            "type": "scattergeo"
           }
          ],
          "scattergl": [
           {
            "marker": {
             "colorbar": {
              "outlinewidth": 0,
              "ticks": ""
             }
            },
            "type": "scattergl"
           }
          ],
          "scattermapbox": [
           {
            "marker": {
             "colorbar": {
              "outlinewidth": 0,
              "ticks": ""
             }
            },
            "type": "scattermapbox"
           }
          ],
          "scatterpolar": [
           {
            "marker": {
             "colorbar": {
              "outlinewidth": 0,
              "ticks": ""
             }
            },
            "type": "scatterpolar"
           }
          ],
          "scatterpolargl": [
           {
            "marker": {
             "colorbar": {
              "outlinewidth": 0,
              "ticks": ""
             }
            },
            "type": "scatterpolargl"
           }
          ],
          "scatterternary": [
           {
            "marker": {
             "colorbar": {
              "outlinewidth": 0,
              "ticks": ""
             }
            },
            "type": "scatterternary"
           }
          ],
          "surface": [
           {
            "colorbar": {
             "outlinewidth": 0,
             "ticks": ""
            },
            "colorscale": [
             [
              0,
              "#0d0887"
             ],
             [
              0.1111111111111111,
              "#46039f"
             ],
             [
              0.2222222222222222,
              "#7201a8"
             ],
             [
              0.3333333333333333,
              "#9c179e"
             ],
             [
              0.4444444444444444,
              "#bd3786"
             ],
             [
              0.5555555555555556,
              "#d8576b"
             ],
             [
              0.6666666666666666,
              "#ed7953"
             ],
             [
              0.7777777777777778,
              "#fb9f3a"
             ],
             [
              0.8888888888888888,
              "#fdca26"
             ],
             [
              1,
              "#f0f921"
             ]
            ],
            "type": "surface"
           }
          ],
          "table": [
           {
            "cells": {
             "fill": {
              "color": "#EBF0F8"
             },
             "line": {
              "color": "white"
             }
            },
            "header": {
             "fill": {
              "color": "#C8D4E3"
             },
             "line": {
              "color": "white"
             }
            },
            "type": "table"
           }
          ]
         },
         "layout": {
          "annotationdefaults": {
           "arrowcolor": "#2a3f5f",
           "arrowhead": 0,
           "arrowwidth": 1
          },
          "coloraxis": {
           "colorbar": {
            "outlinewidth": 0,
            "ticks": ""
           }
          },
          "colorscale": {
           "diverging": [
            [
             0,
             "#8e0152"
            ],
            [
             0.1,
             "#c51b7d"
            ],
            [
             0.2,
             "#de77ae"
            ],
            [
             0.3,
             "#f1b6da"
            ],
            [
             0.4,
             "#fde0ef"
            ],
            [
             0.5,
             "#f7f7f7"
            ],
            [
             0.6,
             "#e6f5d0"
            ],
            [
             0.7,
             "#b8e186"
            ],
            [
             0.8,
             "#7fbc41"
            ],
            [
             0.9,
             "#4d9221"
            ],
            [
             1,
             "#276419"
            ]
           ],
           "sequential": [
            [
             0,
             "#0d0887"
            ],
            [
             0.1111111111111111,
             "#46039f"
            ],
            [
             0.2222222222222222,
             "#7201a8"
            ],
            [
             0.3333333333333333,
             "#9c179e"
            ],
            [
             0.4444444444444444,
             "#bd3786"
            ],
            [
             0.5555555555555556,
             "#d8576b"
            ],
            [
             0.6666666666666666,
             "#ed7953"
            ],
            [
             0.7777777777777778,
             "#fb9f3a"
            ],
            [
             0.8888888888888888,
             "#fdca26"
            ],
            [
             1,
             "#f0f921"
            ]
           ],
           "sequentialminus": [
            [
             0,
             "#0d0887"
            ],
            [
             0.1111111111111111,
             "#46039f"
            ],
            [
             0.2222222222222222,
             "#7201a8"
            ],
            [
             0.3333333333333333,
             "#9c179e"
            ],
            [
             0.4444444444444444,
             "#bd3786"
            ],
            [
             0.5555555555555556,
             "#d8576b"
            ],
            [
             0.6666666666666666,
             "#ed7953"
            ],
            [
             0.7777777777777778,
             "#fb9f3a"
            ],
            [
             0.8888888888888888,
             "#fdca26"
            ],
            [
             1,
             "#f0f921"
            ]
           ]
          },
          "colorway": [
           "#636efa",
           "#EF553B",
           "#00cc96",
           "#ab63fa",
           "#FFA15A",
           "#19d3f3",
           "#FF6692",
           "#B6E880",
           "#FF97FF",
           "#FECB52"
          ],
          "font": {
           "color": "#2a3f5f"
          },
          "geo": {
           "bgcolor": "white",
           "lakecolor": "white",
           "landcolor": "#E5ECF6",
           "showlakes": true,
           "showland": true,
           "subunitcolor": "white"
          },
          "hoverlabel": {
           "align": "left"
          },
          "hovermode": "closest",
          "mapbox": {
           "style": "light"
          },
          "paper_bgcolor": "white",
          "plot_bgcolor": "#E5ECF6",
          "polar": {
           "angularaxis": {
            "gridcolor": "white",
            "linecolor": "white",
            "ticks": ""
           },
           "bgcolor": "#E5ECF6",
           "radialaxis": {
            "gridcolor": "white",
            "linecolor": "white",
            "ticks": ""
           }
          },
          "scene": {
           "xaxis": {
            "backgroundcolor": "#E5ECF6",
            "gridcolor": "white",
            "gridwidth": 2,
            "linecolor": "white",
            "showbackground": true,
            "ticks": "",
            "zerolinecolor": "white"
           },
           "yaxis": {
            "backgroundcolor": "#E5ECF6",
            "gridcolor": "white",
            "gridwidth": 2,
            "linecolor": "white",
            "showbackground": true,
            "ticks": "",
            "zerolinecolor": "white"
           },
           "zaxis": {
            "backgroundcolor": "#E5ECF6",
            "gridcolor": "white",
            "gridwidth": 2,
            "linecolor": "white",
            "showbackground": true,
            "ticks": "",
            "zerolinecolor": "white"
           }
          },
          "shapedefaults": {
           "line": {
            "color": "#2a3f5f"
           }
          },
          "ternary": {
           "aaxis": {
            "gridcolor": "white",
            "linecolor": "white",
            "ticks": ""
           },
           "baxis": {
            "gridcolor": "white",
            "linecolor": "white",
            "ticks": ""
           },
           "bgcolor": "#E5ECF6",
           "caxis": {
            "gridcolor": "white",
            "linecolor": "white",
            "ticks": ""
           }
          },
          "title": {
           "x": 0.05
          },
          "xaxis": {
           "automargin": true,
           "gridcolor": "white",
           "linecolor": "white",
           "ticks": "",
           "title": {
            "standoff": 15
           },
           "zerolinecolor": "white",
           "zerolinewidth": 2
          },
          "yaxis": {
           "automargin": true,
           "gridcolor": "white",
           "linecolor": "white",
           "ticks": "",
           "title": {
            "standoff": 15
           },
           "zerolinecolor": "white",
           "zerolinewidth": 2
          }
         }
        },
        "title": {
         "font": {
          "color": "#4D5663"
         }
        },
        "xaxis": {
         "gridcolor": "#E1E5ED",
         "showgrid": true,
         "tickfont": {
          "color": "#4D5663"
         },
         "title": {
          "font": {
           "color": "#4D5663"
          },
          "text": ""
         },
         "zerolinecolor": "#E1E5ED"
        },
        "yaxis": {
         "gridcolor": "#E1E5ED",
         "showgrid": true,
         "tickfont": {
          "color": "#4D5663"
         },
         "title": {
          "font": {
           "color": "#4D5663"
          },
          "text": ""
         },
         "zerolinecolor": "#E1E5ED"
        }
       }
      },
      "text/html": [
       "<div>                            <div id=\"bc14747a-7b5b-4df5-a2ce-434753a44756\" class=\"plotly-graph-div\" style=\"height:525px; width:100%;\"></div>            <script type=\"text/javascript\">                require([\"plotly\"], function(Plotly) {                    window.PLOTLYENV=window.PLOTLYENV || {};\n",
       "                    window.PLOTLYENV.BASE_URL='https://plot.ly';                                    if (document.getElementById(\"bc14747a-7b5b-4df5-a2ce-434753a44756\")) {                    Plotly.newPlot(                        \"bc14747a-7b5b-4df5-a2ce-434753a44756\",                        [{\"colorscale\": [[0.0, \"rgb(165,0,38)\"], [0.1, \"rgb(215,48,39)\"], [0.2, \"rgb(244,109,67)\"], [0.3, \"rgb(253,174,97)\"], [0.4, \"rgb(254,224,144)\"], [0.5, \"rgb(255,255,191)\"], [0.6, \"rgb(224,243,248)\"], [0.7, \"rgb(171,217,233)\"], [0.8, \"rgb(116,173,209)\"], [0.9, \"rgb(69,117,180)\"], [1.0, \"rgb(49,54,149)\"]], \"type\": \"surface\", \"x\": [0, 1, 2, 3, 4, 5, 6, 7, 8, 9, 10, 11, 12, 13, 14, 15, 16, 17, 18, 19, 20, 21, 22, 23, 24, 25, 26, 27, 28, 29, 30, 31, 32, 33, 34, 35, 36, 37, 38, 39, 40, 41, 42, 43, 44, 45, 46, 47, 48, 49, 50, 51, 52, 53, 54, 55, 56, 57, 58, 59, 60, 61, 62, 63, 64, 65, 66, 67, 68, 69, 70, 71, 72, 73, 74, 75, 76, 77, 78, 79, 80, 81, 82, 83, 84, 85, 86, 87, 88, 89, 90, 91, 92, 93, 94, 95, 96, 97, 98, 99, 100, 101, 102, 103, 104, 105, 106, 107, 108, 109, 110, 111, 112, 113, 114, 115, 116, 117, 118, 119, 120, 121, 122, 123, 124, 125, 126, 127, 128, 129, 130, 131, 132, 133, 134, 135, 136, 137, 138, 139, 140, 141, 142, 143, 144, 145, 146, 147, 148, 149, 150, 151, 152, 153, 154, 155, 156, 157, 158, 159, 160, 161, 162, 163, 164, 165, 166, 167, 168, 169, 170, 171, 172, 173, 174, 175, 176, 177, 178, 179, 180, 181, 182, 183, 184, 185, 186, 187, 188, 189, 190, 191, 192, 193, 194, 195, 196, 197, 198, 199, 200, 201, 202, 203, 204, 205, 206, 207, 208, 209, 210, 211, 212, 213, 214, 215, 216, 217, 218, 219, 220, 221, 222, 223, 224, 225, 226, 227, 228, 229, 230, 231, 232, 233, 234, 235, 236, 237, 238, 239, 240, 241, 242, 243, 244, 245, 246, 247, 248, 249, 250, 251, 252, 253, 254, 255, 256, 257, 258, 259, 260, 261, 262, 263, 264, 265, 266, 267, 268, 269, 270, 271, 272, 273, 274, 275, 276, 277, 278, 279, 280, 281, 282, 283, 284, 285, 286, 287, 288, 289, 290, 291, 292, 293, 294, 295, 296, 297, 298, 299, 300, 301, 302, 303, 304, 305, 306, 307, 308, 309, 310, 311, 312, 313, 314, 315, 316, 317, 318, 319, 320, 321, 322, 323, 324, 325, 326, 327, 328, 329, 330, 331, 332, 333, 334, 335, 336, 337, 338, 339, 340, 341, 342, 343, 344, 345, 346, 347, 348, 349, 350, 351, 352, 353, 354, 355, 356, 357, 358, 359, 360, 361, 362, 363, 364, 365, 366, 367, 368, 369, 370, 371, 372, 373, 374, 375, 376, 377, 378, 379, 380, 381, 382, 383, 384, 385, 386, 387, 388, 389, 390, 391, 392, 393, 394, 395, 396, 397, 398, 399, 400, 401, 402, 403, 404, 405, 406, 407, 408, 409, 410, 411, 412, 413, 414, 415], \"y\": [\"Month\", \"AvgPr\", \"4770XL\"], \"z\": [[1.0, 1.0, 1.0, 1.0, 1.0, 1.0, 1.0, 1.0, 1.0, 1.0, 1.0, 1.0, 1.0, 1.0, 1.0, 1.0, 1.0, 1.0, 1.0, 1.0, 1.0, 1.0, 1.0, 1.0, 1.0, 1.0, 1.0, 1.0, 1.0, 1.0, 1.0, 1.0, 1.0, 1.0, 1.0, 1.0, 1.0, 1.0, 1.0, 1.0, 2.0, 2.0, 2.0, 2.0, 2.0, 2.0, 2.0, 2.0, 2.0, 2.0, 2.0, 2.0, 2.0, 2.0, 2.0, 2.0, 2.0, 2.0, 2.0, 2.0, 2.0, 2.0, 2.0, 2.0, 2.0, 2.0, 2.0, 2.0, 2.0, 2.0, 2.0, 2.0, 3.0, 3.0, 3.0, 3.0, 3.0, 3.0, 3.0, 3.0, 3.0, 3.0, 3.0, 3.0, 3.0, 3.0, 3.0, 3.0, 3.0, 3.0, 3.0, 3.0, 3.0, 3.0, 3.0, 3.0, 3.0, 3.0, 3.0, 3.0, 3.0, 3.0, 3.0, 3.0, 4.0, 4.0, 4.0, 4.0, 4.0, 4.0, 4.0, 4.0, 4.0, 4.0, 4.0, 4.0, 4.0, 4.0, 4.0, 4.0, 4.0, 4.0, 4.0, 4.0, 4.0, 4.0, 4.0, 4.0, 4.0, 4.0, 4.0, 4.0, 4.0, 4.0, 4.0, 4.0, 5.0, 5.0, 5.0, 5.0, 5.0, 5.0, 5.0, 5.0, 5.0, 5.0, 5.0, 5.0, 5.0, 5.0, 5.0, 5.0, 5.0, 5.0, 5.0, 5.0, 5.0, 5.0, 5.0, 5.0, 5.0, 5.0, 5.0, 5.0, 5.0, 5.0, 5.0, 5.0, 5.0, 5.0, 5.0, 5.0, 5.0, 5.0, 5.0, 5.0, 6.0, 6.0, 6.0, 6.0, 6.0, 6.0, 6.0, 6.0, 6.0, 6.0, 6.0, 6.0, 6.0, 6.0, 6.0, 6.0, 6.0, 6.0, 6.0, 6.0, 6.0, 6.0, 6.0, 6.0, 6.0, 6.0, 6.0, 6.0, 6.0, 6.0, 6.0, 6.0, 7.0, 7.0, 7.0, 7.0, 7.0, 7.0, 7.0, 7.0, 7.0, 7.0, 7.0, 7.0, 7.0, 7.0, 7.0, 7.0, 7.0, 7.0, 7.0, 7.0, 7.0, 7.0, 7.0, 7.0, 7.0, 7.0, 7.0, 7.0, 7.0, 7.0, 7.0, 7.0, 7.0, 7.0, 7.0, 7.0, 7.0, 7.0, 7.0, 7.0, 8.0, 8.0, 8.0, 8.0, 8.0, 8.0, 8.0, 8.0, 8.0, 8.0, 8.0, 8.0, 8.0, 8.0, 8.0, 8.0, 8.0, 8.0, 8.0, 8.0, 8.0, 8.0, 8.0, 8.0, 8.0, 8.0, 8.0, 8.0, 8.0, 8.0, 8.0, 8.0, 9.0, 9.0, 9.0, 9.0, 9.0, 9.0, 9.0, 9.0, 9.0, 9.0, 9.0, 9.0, 9.0, 9.0, 9.0, 9.0, 9.0, 9.0, 9.0, 9.0, 9.0, 9.0, 9.0, 9.0, 9.0, 9.0, 9.0, 9.0, 9.0, 9.0, 9.0, 9.0, 10.0, 10.0, 10.0, 10.0, 10.0, 10.0, 10.0, 10.0, 10.0, 10.0, 10.0, 10.0, 10.0, 10.0, 10.0, 10.0, 10.0, 10.0, 10.0, 10.0, 10.0, 10.0, 10.0, 10.0, 10.0, 10.0, 10.0, 10.0, 10.0, 10.0, 10.0, 10.0, 10.0, 10.0, 10.0, 10.0, 10.0, 10.0, 10.0, 10.0, 11.0, 11.0, 11.0, 11.0, 11.0, 11.0, 11.0, 11.0, 11.0, 11.0, 11.0, 11.0, 11.0, 11.0, 11.0, 11.0, 11.0, 11.0, 11.0, 11.0, 11.0, 11.0, 11.0, 11.0, 11.0, 11.0, 11.0, 11.0, 11.0, 11.0, 11.0, 11.0, 12.0, 12.0, 12.0, 12.0, 12.0, 12.0, 12.0, 12.0, 12.0, 12.0, 12.0, 12.0, 12.0, 12.0, 12.0, 12.0, 12.0, 12.0, 12.0, 12.0, 12.0, 12.0, 12.0, 12.0, 12.0, 12.0, 12.0, 12.0, 12.0, 12.0, 12.0, 12.0], [0.73, 0.92, 1.01, 1.07, 0.94, 0.79, 1.06, 0.73, 0.87, 1.06, 1.04, 1.2, 1.08, 0.84, 0.93, 0.77, 0.9, 1.05, 1.05, 1.09, 1.12, 0.81, 1.09, 0.81, 0.88, 0.95, 1.01, 1.21, 1.16, 0.94, 0.9, 0.78, 0.88, 1.04, 1.0, 1.06, 1.05, 0.79, 1.02, 0.85, 0.7, 0.85, 0.91, 1.03, 0.83, 0.7, 0.62, 0.69, 0.82, 0.96, 0.99, 1.08, 0.97, 0.7, 0.98, 0.78, 0.89, 1.07, 1.06, 1.21, 1.03, 0.82, 1.04, 0.77, 0.89, 1.05, 1.05, 1.15, 1.07, 0.77, 0.84, 0.78, 0.92, 0.98, 1.1, 1.21, 1.06, 0.78, 1.07, 0.8, 0.96, 1.03, 1.07, 1.13, 0.91, 0.79, 0.88, 0.81, 0.91, 1.06, 1.05, 1.11, 0.95, 0.77, 1.05, 0.78, 0.93, 0.97, 1.08, 1.23, 1.07, 0.77, 1.05, 0.78, 0.93, 1.04, 1.07, 1.18, 1.04, 0.74, 1.04, 0.79, 0.94, 1.05, 1.05, 1.09, 1.0, 0.73, 0.86, 0.79, 0.93, 0.98, 1.06, 1.12, 0.95, 0.71, 1.01, 0.77, 0.84, 0.96, 1.04, 1.13, 0.95, 0.7, 0.84, 0.78, 0.75, 0.94, 0.99, 1.12, 0.97, 0.71, 0.75, 0.79, 0.79, 0.94, 0.95, 0.87, 0.86, 0.72, 0.86, 0.75, 0.97, 0.91, 1.04, 1.13, 0.95, 0.73, 0.82, 0.77, 0.9, 1.0, 1.08, 1.14, 0.94, 0.72, 1.05, 0.83, 0.98, 1.05, 1.09, 1.14, 0.9, 0.8, 0.92, 0.79, 0.94, 1.01, 1.14, 1.35, 0.93, 0.83, 0.91, 0.82, 1.01, 1.15, 1.15, 1.34, 1.04, 0.85, 1.07, 0.92, 1.06, 1.1, 1.16, 1.4, 0.87, 0.89, 0.94, 0.86, 1.03, 1.13, 1.17, 1.28, 1.03, 0.89, 1.09, 0.87, 1.1, 1.13, 1.15, 1.41, 1.05, 0.91, 0.91, 0.97, 1.08, 1.24, 1.19, 1.33, 1.09, 0.91, 1.1, 1.01, 1.14, 1.25, 1.26, 1.49, 1.15, 0.94, 1.15, 1.02, 1.2, 1.32, 1.32, 1.54, 1.22, 0.97, 1.17, 1.08, 1.22, 1.34, 1.35, 1.6, 1.25, 0.98, 1.18, 1.1, 1.17, 1.33, 1.3, 1.47, 1.17, 0.93, 1.18, 0.95, 1.07, 1.3, 1.29, 1.37, 1.12, 0.94, 1.09, 1.0, 1.05, 1.34, 1.27, 1.4, 1.21, 0.87, 1.11, 0.93, 0.99, 1.27, 1.3, 1.4, 1.22, 0.84, 1.11, 0.96, 1.08, 1.3, 1.2, 1.4, 1.1, 0.78, 0.96, 0.92, 1.12, 1.3, 1.18, 1.28, 1.18, 0.82, 1.08, 0.96, 1.22, 1.28, 1.28, 1.45, 1.24, 0.86, 1.11, 1.04, 1.15, 1.37, 1.37, 1.53, 1.35, 0.98, 1.32, 1.08, 1.19, 1.38, 1.38, 1.59, 1.37, 1.01, 1.38, 1.03, 1.34, 1.35, 1.39, 1.54, 1.41, 1.0, 1.37, 1.13, 1.4, 1.4, 1.4, 1.65, 1.49, 1.03, 1.24, 1.15, 1.39, 1.35, 1.47, 1.67, 1.53, 1.09, 1.43, 1.17, 1.68, 1.36, 1.48, 1.72, 1.54, 1.19, 1.44, 1.26, 1.68, 1.48, 1.54, 1.71, 1.55, 1.16, 1.44, 1.26, 1.48, 1.41, 1.52, 1.67, 1.57, 1.11, 1.37, 1.18, 1.32, 1.23, 1.48, 1.51, 1.49, 1.06, 1.38, 1.1, 1.21, 1.18, 1.4, 1.51, 1.35, 0.93, 1.39, 1.09, 0.98, 0.97, 1.2, 1.4, 1.09, 0.76, 0.99, 0.93, 0.9, 1.03, 1.15, 1.32, 1.08, 0.76, 1.21, 0.84, 0.95, 1.11, 1.16, 1.22, 1.06, 0.72, 0.96, 0.88, 0.94, 1.11, 1.23, 1.36, 1.09, 0.79, 0.94, 0.92], [257268.16, 543717.88, 150716.62, 53765.74, 19331.34, 361423.55, 17650.77, 156194.56, 261931.07, 352247.15, 141334.22, 34789.19, 36259.27, 263562.26, 17017.65, 175472.09, 250106.17, 357831.91, 136752.83, 77510.23, 25612.84, 373209.85, 16861.86, 181519.92, 272665.17, 553447.22, 146094.55, 66877.99, 16918.87, 245808.96, 16838.16, 121729.44, 287234.03, 422063.61, 133521.63, 59279.93, 18332.66, 521213.33, 15260.7, 186797.28, 424389.6, 704466.56, 220032.02, 59775.41, 29501.59, 804558.25, 22097.49, 281618.2, 278558.48, 352376.13, 144264.21, 129490.05, 20578.05, 718463.59, 12099.24, 155260.97, 267508.94, 295941.81, 141965.35, 84110.32, 24200.11, 423920.15, 13665.41, 123948.37, 302210.56, 427177.0, 106123.73, 84168.72, 38146.51, 337159.88, 13243.4, 251937.95, 325582.2, 534051.03, 122484.91, 83451.82, 44771.53, 390174.57, 14794.78, 171164.48, 317337.27, 319148.88, 107243.08, 111254.96, 49503.76, 698856.6, 17714.52, 179006.49, 299002.93, 425736.86, 98398.87, 79981.32, 33666.72, 653141.71, 15753.25, 167407.21, 311356.91, 464302.08, 90880.43, 104253.64, 44611.53, 660825.04, 13925.65, 190076.1, 334735.17, 360264.17, 78798.43, 90728.12, 45776.71, 649669.1, 12154.28, 159784.5, 358015.82, 299669.72, 79794.87, 164663.65, 19359.4, 556972.27, 10186.67, 177612.73, 382295.13, 508030.41, 97349.53, 102786.85, 10596.68, 617895.6, 8860.76, 168334.55, 325242.94, 323412.26, 90675.6, 142677.6, 11773.39, 564146.38, 10941.97, 130993.85, 291448.73, 320732.21, 89464.87, 144510.42, 27641.97, 398632.2, 10664.75, 131269.35, 336387.9, 471428.29, 94749.11, 211975.68, 18180.72, 697833.12, 10776.46, 152314.08, 353196.44, 491344.53, 89570.91, 172917.61, 22169.92, 459077.76, 10065.75, 155509.69, 329737.94, 285242.59, 95835.45, 219221.82, 10708.07, 537748.12, 11952.59, 150382.82, 341992.36, 280608.56, 199248.47, 213854.78, 12125.66, 347794.01, 23769.9, 164102.2, 373358.37, 487106.11, 214241.6, 156593.71, 10390.99, 355042.24, 26309.45, 147905.62, 328653.8, 285261.84, 229464.95, 135414.25, 11290.7, 423778.7, 30505.16, 162974.69, 319711.53, 431784.45, 230513.77, 132512.61, 11009.71, 346244.07, 30691.31, 140268.18, 328206.37, 376048.28, 204710.19, 118844.6, 9370.21, 425639.83, 26639.39, 135483.56, 356022.1, 367119.34, 213314.73, 123210.02, 10691.9, 522836.75, 30343.48, 137804.75, 292540.95, 328564.87, 198307.05, 99899.13, 16160.39, 189691.87, 29960.26, 111309.46, 278664.44, 291136.56, 137997.09, 74756.02, 11130.38, 44558.77, 20301.82, 95086.4, 302735.37, 293304.81, 133520.1, 63713.79, 7416.64, 29835.26, 21369.68, 96068.39, 244730.21, 207792.14, 127238.92, 57230.15, 7471.62, 25254.69, 18938.44, 95280.92, 211671.11, 219477.32, 119737.55, 59915.16, 6165.29, 24523.4, 18597.99, 94460.71, 218247.48, 217555.14, 107539.52, 40749.92, 6193.74, 21617.07, 15287.26, 122056.89, 171379.36, 180362.15, 96330.92, 25740.08, 5418.75, 25630.41, 13450.33, 91408.86, 133979.15, 166364.88, 67370.64, 68592.79, 5248.8, 17935.73, 10303.2, 93943.34, 107653.45, 158776.84, 86826.84, 38848.69, 6177.12, 18544.3, 12528.81, 111324.84, 114241.36, 156892.83, 82491.6, 25571.12, 5273.03, 15092.69, 10177.7, 102419.92, 112714.97, 150023.52, 70265.42, 17881.0, 5721.42, 16478.55, 9444.29, 103658.21, 117423.95, 144883.2, 73332.83, 18241.6, 5573.18, 15830.87, 9605.99, 107712.68, 121961.08, 129395.86, 77380.74, 17032.95, 5181.48, 17352.41, 10940.09, 110878.4, 123430.31, 129381.16, 81958.03, 12844.95, 4681.14, 32866.62, 7239.64, 98555.04, 108458.09, 111904.83, 76681.49, 13908.08, 5139.0, 18419.04, 10217.86, 102563.1, 82276.22, 105335.31, 94122.62, 16940.59, 5549.22, 20588.09, 11469.22, 116102.67, 92064.47, 88514.18, 107745.17, 12120.21, 5263.65, 19653.3, 14441.46, 113342.82, 120964.4, 91683.48, 122472.4, 13244.25, 6472.83, 16494.71, 14547.51, 119469.87, 112541.9, 103230.89, 99449.47, 14009.38, 5306.27, 22128.14, 13358.39, 107496.5, 93901.07, 109089.43, 53734.01, 16299.41, 4456.35, 16553.22, 8082.2, 105452.1, 81897.44, 109137.29, 33160.82, 10853.05, 3226.22, 14619.93, 4791.45, 86789.7, 86152.75, 179768.34, 41579.46, 12275.54, 3190.05, 18795.24, 5133.86, 81114.6, 96836.26, 134247.97, 39178.61, 19968.52, 3599.85, 18326.63, 4655.77, 86234.32, 90983.73, 146478.91, 36485.49, 36711.66, 3271.57, 15771.64, 8172.53, 89996.89, 99997.75, 146507.02, 33980.02, 117488.47, 4267.77, 20052.89, 5643.49, 114035.0]]}],                        {\"legend\": {\"bgcolor\": \"#F5F6F9\", \"font\": {\"color\": \"#4D5663\"}}, \"paper_bgcolor\": \"#F5F6F9\", \"plot_bgcolor\": \"#F5F6F9\", \"template\": {\"data\": {\"bar\": [{\"error_x\": {\"color\": \"#2a3f5f\"}, \"error_y\": {\"color\": \"#2a3f5f\"}, \"marker\": {\"line\": {\"color\": \"#E5ECF6\", \"width\": 0.5}}, \"type\": \"bar\"}], \"barpolar\": [{\"marker\": {\"line\": {\"color\": \"#E5ECF6\", \"width\": 0.5}}, \"type\": \"barpolar\"}], \"carpet\": [{\"aaxis\": {\"endlinecolor\": \"#2a3f5f\", \"gridcolor\": \"white\", \"linecolor\": \"white\", \"minorgridcolor\": \"white\", \"startlinecolor\": \"#2a3f5f\"}, \"baxis\": {\"endlinecolor\": \"#2a3f5f\", \"gridcolor\": \"white\", \"linecolor\": \"white\", \"minorgridcolor\": \"white\", \"startlinecolor\": \"#2a3f5f\"}, \"type\": \"carpet\"}], \"choropleth\": [{\"colorbar\": {\"outlinewidth\": 0, \"ticks\": \"\"}, \"type\": \"choropleth\"}], \"contour\": [{\"colorbar\": {\"outlinewidth\": 0, \"ticks\": \"\"}, \"colorscale\": [[0.0, \"#0d0887\"], [0.1111111111111111, \"#46039f\"], [0.2222222222222222, \"#7201a8\"], [0.3333333333333333, \"#9c179e\"], [0.4444444444444444, \"#bd3786\"], [0.5555555555555556, \"#d8576b\"], [0.6666666666666666, \"#ed7953\"], [0.7777777777777778, \"#fb9f3a\"], [0.8888888888888888, \"#fdca26\"], [1.0, \"#f0f921\"]], \"type\": \"contour\"}], \"contourcarpet\": [{\"colorbar\": {\"outlinewidth\": 0, \"ticks\": \"\"}, \"type\": \"contourcarpet\"}], \"heatmap\": [{\"colorbar\": {\"outlinewidth\": 0, \"ticks\": \"\"}, \"colorscale\": [[0.0, \"#0d0887\"], [0.1111111111111111, \"#46039f\"], [0.2222222222222222, \"#7201a8\"], [0.3333333333333333, \"#9c179e\"], [0.4444444444444444, \"#bd3786\"], [0.5555555555555556, \"#d8576b\"], [0.6666666666666666, \"#ed7953\"], [0.7777777777777778, \"#fb9f3a\"], [0.8888888888888888, \"#fdca26\"], [1.0, \"#f0f921\"]], \"type\": \"heatmap\"}], \"heatmapgl\": [{\"colorbar\": {\"outlinewidth\": 0, \"ticks\": \"\"}, \"colorscale\": [[0.0, \"#0d0887\"], [0.1111111111111111, \"#46039f\"], [0.2222222222222222, \"#7201a8\"], [0.3333333333333333, \"#9c179e\"], [0.4444444444444444, \"#bd3786\"], [0.5555555555555556, \"#d8576b\"], [0.6666666666666666, \"#ed7953\"], [0.7777777777777778, \"#fb9f3a\"], [0.8888888888888888, \"#fdca26\"], [1.0, \"#f0f921\"]], \"type\": \"heatmapgl\"}], \"histogram\": [{\"marker\": {\"colorbar\": {\"outlinewidth\": 0, \"ticks\": \"\"}}, \"type\": \"histogram\"}], \"histogram2d\": [{\"colorbar\": {\"outlinewidth\": 0, \"ticks\": \"\"}, \"colorscale\": [[0.0, \"#0d0887\"], [0.1111111111111111, \"#46039f\"], [0.2222222222222222, \"#7201a8\"], [0.3333333333333333, \"#9c179e\"], [0.4444444444444444, \"#bd3786\"], [0.5555555555555556, \"#d8576b\"], [0.6666666666666666, \"#ed7953\"], [0.7777777777777778, \"#fb9f3a\"], [0.8888888888888888, \"#fdca26\"], [1.0, \"#f0f921\"]], \"type\": \"histogram2d\"}], \"histogram2dcontour\": [{\"colorbar\": {\"outlinewidth\": 0, \"ticks\": \"\"}, \"colorscale\": [[0.0, \"#0d0887\"], [0.1111111111111111, \"#46039f\"], [0.2222222222222222, \"#7201a8\"], [0.3333333333333333, \"#9c179e\"], [0.4444444444444444, \"#bd3786\"], [0.5555555555555556, \"#d8576b\"], [0.6666666666666666, \"#ed7953\"], [0.7777777777777778, \"#fb9f3a\"], [0.8888888888888888, \"#fdca26\"], [1.0, \"#f0f921\"]], \"type\": \"histogram2dcontour\"}], \"mesh3d\": [{\"colorbar\": {\"outlinewidth\": 0, \"ticks\": \"\"}, \"type\": \"mesh3d\"}], \"parcoords\": [{\"line\": {\"colorbar\": {\"outlinewidth\": 0, \"ticks\": \"\"}}, \"type\": \"parcoords\"}], \"pie\": [{\"automargin\": true, \"type\": \"pie\"}], \"scatter\": [{\"marker\": {\"colorbar\": {\"outlinewidth\": 0, \"ticks\": \"\"}}, \"type\": \"scatter\"}], \"scatter3d\": [{\"line\": {\"colorbar\": {\"outlinewidth\": 0, \"ticks\": \"\"}}, \"marker\": {\"colorbar\": {\"outlinewidth\": 0, \"ticks\": \"\"}}, \"type\": \"scatter3d\"}], \"scattercarpet\": [{\"marker\": {\"colorbar\": {\"outlinewidth\": 0, \"ticks\": \"\"}}, \"type\": \"scattercarpet\"}], \"scattergeo\": [{\"marker\": {\"colorbar\": {\"outlinewidth\": 0, \"ticks\": \"\"}}, \"type\": \"scattergeo\"}], \"scattergl\": [{\"marker\": {\"colorbar\": {\"outlinewidth\": 0, \"ticks\": \"\"}}, \"type\": \"scattergl\"}], \"scattermapbox\": [{\"marker\": {\"colorbar\": {\"outlinewidth\": 0, \"ticks\": \"\"}}, \"type\": \"scattermapbox\"}], \"scatterpolar\": [{\"marker\": {\"colorbar\": {\"outlinewidth\": 0, \"ticks\": \"\"}}, \"type\": \"scatterpolar\"}], \"scatterpolargl\": [{\"marker\": {\"colorbar\": {\"outlinewidth\": 0, \"ticks\": \"\"}}, \"type\": \"scatterpolargl\"}], \"scatterternary\": [{\"marker\": {\"colorbar\": {\"outlinewidth\": 0, \"ticks\": \"\"}}, \"type\": \"scatterternary\"}], \"surface\": [{\"colorbar\": {\"outlinewidth\": 0, \"ticks\": \"\"}, \"colorscale\": [[0.0, \"#0d0887\"], [0.1111111111111111, \"#46039f\"], [0.2222222222222222, \"#7201a8\"], [0.3333333333333333, \"#9c179e\"], [0.4444444444444444, \"#bd3786\"], [0.5555555555555556, \"#d8576b\"], [0.6666666666666666, \"#ed7953\"], [0.7777777777777778, \"#fb9f3a\"], [0.8888888888888888, \"#fdca26\"], [1.0, \"#f0f921\"]], \"type\": \"surface\"}], \"table\": [{\"cells\": {\"fill\": {\"color\": \"#EBF0F8\"}, \"line\": {\"color\": \"white\"}}, \"header\": {\"fill\": {\"color\": \"#C8D4E3\"}, \"line\": {\"color\": \"white\"}}, \"type\": \"table\"}]}, \"layout\": {\"annotationdefaults\": {\"arrowcolor\": \"#2a3f5f\", \"arrowhead\": 0, \"arrowwidth\": 1}, \"coloraxis\": {\"colorbar\": {\"outlinewidth\": 0, \"ticks\": \"\"}}, \"colorscale\": {\"diverging\": [[0, \"#8e0152\"], [0.1, \"#c51b7d\"], [0.2, \"#de77ae\"], [0.3, \"#f1b6da\"], [0.4, \"#fde0ef\"], [0.5, \"#f7f7f7\"], [0.6, \"#e6f5d0\"], [0.7, \"#b8e186\"], [0.8, \"#7fbc41\"], [0.9, \"#4d9221\"], [1, \"#276419\"]], \"sequential\": [[0.0, \"#0d0887\"], [0.1111111111111111, \"#46039f\"], [0.2222222222222222, \"#7201a8\"], [0.3333333333333333, \"#9c179e\"], [0.4444444444444444, \"#bd3786\"], [0.5555555555555556, \"#d8576b\"], [0.6666666666666666, \"#ed7953\"], [0.7777777777777778, \"#fb9f3a\"], [0.8888888888888888, \"#fdca26\"], [1.0, \"#f0f921\"]], \"sequentialminus\": [[0.0, \"#0d0887\"], [0.1111111111111111, \"#46039f\"], [0.2222222222222222, \"#7201a8\"], [0.3333333333333333, \"#9c179e\"], [0.4444444444444444, \"#bd3786\"], [0.5555555555555556, \"#d8576b\"], [0.6666666666666666, \"#ed7953\"], [0.7777777777777778, \"#fb9f3a\"], [0.8888888888888888, \"#fdca26\"], [1.0, \"#f0f921\"]]}, \"colorway\": [\"#636efa\", \"#EF553B\", \"#00cc96\", \"#ab63fa\", \"#FFA15A\", \"#19d3f3\", \"#FF6692\", \"#B6E880\", \"#FF97FF\", \"#FECB52\"], \"font\": {\"color\": \"#2a3f5f\"}, \"geo\": {\"bgcolor\": \"white\", \"lakecolor\": \"white\", \"landcolor\": \"#E5ECF6\", \"showlakes\": true, \"showland\": true, \"subunitcolor\": \"white\"}, \"hoverlabel\": {\"align\": \"left\"}, \"hovermode\": \"closest\", \"mapbox\": {\"style\": \"light\"}, \"paper_bgcolor\": \"white\", \"plot_bgcolor\": \"#E5ECF6\", \"polar\": {\"angularaxis\": {\"gridcolor\": \"white\", \"linecolor\": \"white\", \"ticks\": \"\"}, \"bgcolor\": \"#E5ECF6\", \"radialaxis\": {\"gridcolor\": \"white\", \"linecolor\": \"white\", \"ticks\": \"\"}}, \"scene\": {\"xaxis\": {\"backgroundcolor\": \"#E5ECF6\", \"gridcolor\": \"white\", \"gridwidth\": 2, \"linecolor\": \"white\", \"showbackground\": true, \"ticks\": \"\", \"zerolinecolor\": \"white\"}, \"yaxis\": {\"backgroundcolor\": \"#E5ECF6\", \"gridcolor\": \"white\", \"gridwidth\": 2, \"linecolor\": \"white\", \"showbackground\": true, \"ticks\": \"\", \"zerolinecolor\": \"white\"}, \"zaxis\": {\"backgroundcolor\": \"#E5ECF6\", \"gridcolor\": \"white\", \"gridwidth\": 2, \"linecolor\": \"white\", \"showbackground\": true, \"ticks\": \"\", \"zerolinecolor\": \"white\"}}, \"shapedefaults\": {\"line\": {\"color\": \"#2a3f5f\"}}, \"ternary\": {\"aaxis\": {\"gridcolor\": \"white\", \"linecolor\": \"white\", \"ticks\": \"\"}, \"baxis\": {\"gridcolor\": \"white\", \"linecolor\": \"white\", \"ticks\": \"\"}, \"bgcolor\": \"#E5ECF6\", \"caxis\": {\"gridcolor\": \"white\", \"linecolor\": \"white\", \"ticks\": \"\"}}, \"title\": {\"x\": 0.05}, \"xaxis\": {\"automargin\": true, \"gridcolor\": \"white\", \"linecolor\": \"white\", \"ticks\": \"\", \"title\": {\"standoff\": 15}, \"zerolinecolor\": \"white\", \"zerolinewidth\": 2}, \"yaxis\": {\"automargin\": true, \"gridcolor\": \"white\", \"linecolor\": \"white\", \"ticks\": \"\", \"title\": {\"standoff\": 15}, \"zerolinecolor\": \"white\", \"zerolinewidth\": 2}}}, \"title\": {\"font\": {\"color\": \"#4D5663\"}}, \"xaxis\": {\"gridcolor\": \"#E1E5ED\", \"showgrid\": true, \"tickfont\": {\"color\": \"#4D5663\"}, \"title\": {\"font\": {\"color\": \"#4D5663\"}, \"text\": \"\"}, \"zerolinecolor\": \"#E1E5ED\"}, \"yaxis\": {\"gridcolor\": \"#E1E5ED\", \"showgrid\": true, \"tickfont\": {\"color\": \"#4D5663\"}, \"title\": {\"font\": {\"color\": \"#4D5663\"}, \"text\": \"\"}, \"zerolinecolor\": \"#E1E5ED\"}},                        {\"showLink\": true, \"linkText\": \"Export to plot.ly\", \"plotlyServerURL\": \"https://plot.ly\", \"responsive\": true}                    ).then(function(){\n",
       "                            \n",
       "var gd = document.getElementById('bc14747a-7b5b-4df5-a2ce-434753a44756');\n",
       "var x = new MutationObserver(function (mutations, observer) {{\n",
       "        var display = window.getComputedStyle(gd).display;\n",
       "        if (!display || display === 'none') {{\n",
       "            console.log([gd, 'removed!']);\n",
       "            Plotly.purge(gd);\n",
       "            observer.disconnect();\n",
       "        }}\n",
       "}});\n",
       "\n",
       "// Listen for the removal of the full notebook cells\n",
       "var notebookContainer = gd.closest('#notebook-container');\n",
       "if (notebookContainer) {{\n",
       "    x.observe(notebookContainer, {childList: true});\n",
       "}}\n",
       "\n",
       "// Listen for the clearing of the current output cell\n",
       "var outputEl = gd.closest('.output');\n",
       "if (outputEl) {{\n",
       "    x.observe(outputEl, {childList: true});\n",
       "}}\n",
       "\n",
       "                        })                };                });            </script>        </div>"
      ]
     },
     "metadata": {},
     "output_type": "display_data"
    }
   ],
   "source": [
    "df3d.iplot(kind='surface',colorscale='rdylbu',text=Conv_2015_RG['Location'])"
   ]
  },
  {
   "cell_type": "markdown",
   "metadata": {},
   "source": [
    "This plot can go with the ecdf"
   ]
  },
  {
   "cell_type": "code",
   "execution_count": 39,
   "metadata": {},
   "outputs": [
    {
     "data": {
      "application/vnd.plotly.v1+json": {
       "config": {
        "linkText": "Export to plot.ly",
        "plotlyServerURL": "https://plot.ly",
        "showLink": true
       },
       "data": [
        {
         "line": {
          "color": "rgba(255, 153, 51, 1.0)",
          "dash": "solid",
          "shape": "linear",
          "width": 1.3
         },
         "mode": "lines",
         "name": "4225L",
         "text": "",
         "type": "scatter",
         "x": [
          12,
          30,
          50,
          58,
          70,
          90,
          92,
          104,
          120,
          138,
          158,
          166,
          178,
          198,
          200,
          212,
          228,
          246,
          266,
          274,
          286,
          306,
          308,
          320,
          336,
          354,
          374,
          382,
          394,
          414,
          416,
          428,
          444,
          462,
          482,
          490,
          502,
          522,
          524,
          536,
          552,
          570,
          590,
          598,
          610,
          630,
          632,
          644,
          660,
          678,
          698,
          706,
          718,
          738,
          740,
          752,
          768,
          786,
          806,
          814,
          826,
          846,
          848,
          860,
          876,
          894,
          914,
          922,
          934,
          954,
          956,
          968,
          984,
          1002,
          1022,
          1030,
          1042,
          1062,
          1064,
          1076,
          1092,
          1110,
          1130,
          1138,
          1150,
          1170,
          1172,
          1184,
          1200,
          1218,
          1238,
          1246,
          1258,
          1278,
          1280,
          1292,
          1308,
          1326,
          1346,
          1354,
          1366,
          1386,
          1388,
          1400,
          1416,
          1434,
          1454,
          1462,
          1474,
          1494,
          1496,
          1508,
          1524,
          1542,
          1562,
          1570,
          1582,
          1602,
          1604,
          1616,
          1632,
          1650,
          1670,
          1678,
          1690,
          1710,
          1712,
          1724,
          1740,
          1758,
          1778,
          1786,
          1798,
          1818,
          1820,
          1832,
          1848,
          1866,
          1886,
          1894,
          1906,
          1926,
          1928,
          1940,
          1956,
          1974,
          1994,
          2002,
          2014,
          2034,
          2036,
          2048,
          2064,
          2082,
          2102,
          2110,
          2122,
          2142,
          2144,
          2156,
          2172,
          2190,
          2210,
          2218,
          2230,
          2250,
          2252,
          2264,
          2280,
          2298,
          2318,
          2326,
          2338,
          2358,
          2360,
          2372,
          2388,
          2406,
          2426,
          2434,
          2446,
          2466,
          2468,
          2480,
          2496,
          2514,
          2534,
          2542,
          2554,
          2574,
          2576,
          2588,
          2604,
          2622,
          2642,
          2650,
          2662,
          2682,
          2684,
          2696,
          2712,
          2730,
          2750,
          2758,
          2770,
          2790,
          2792,
          2804,
          2820,
          2838,
          2858,
          2866,
          2878,
          2898,
          2900,
          2912,
          2928,
          2946,
          2966,
          2974,
          2986,
          3006,
          3008,
          3020,
          3036,
          3054,
          3074,
          3082,
          3094,
          3114,
          3116,
          3128,
          3144,
          3162,
          3182,
          3190,
          3202,
          3222,
          3224,
          3236,
          3252,
          3270,
          3290,
          3298,
          3310,
          3330,
          3332,
          3344,
          3360,
          3378,
          3398,
          3406,
          3418,
          3438,
          3440,
          3452,
          3468,
          3486,
          3506,
          3514,
          3526,
          3546,
          3548,
          3560,
          3576,
          3594,
          3614,
          3622,
          3634,
          3654,
          3656,
          3668,
          3684,
          3702,
          3722,
          3730,
          3742,
          3762,
          3764,
          3776,
          3792,
          3810,
          3830,
          3838,
          3850,
          3870,
          3872,
          3884,
          3900,
          3918,
          3938,
          3946,
          3958,
          3978,
          3980,
          3992,
          4008,
          4026,
          4046,
          4054,
          4066,
          4086,
          4088,
          4100,
          4116,
          4134,
          4154,
          4162,
          4174,
          4194,
          4196,
          4208,
          4224,
          4242,
          4262,
          4270,
          4282,
          4302,
          4304,
          4316,
          4332,
          4350,
          4370,
          4378,
          4390,
          4410,
          4412,
          4424,
          4440,
          4458,
          4478,
          4486,
          4498,
          4518,
          4520,
          4532,
          4548,
          4566,
          4586,
          4594,
          4606,
          4626,
          4628,
          4640,
          4656,
          4674,
          4694,
          4702,
          4714,
          4734,
          4736,
          4748,
          4764,
          4782,
          4802,
          4810,
          4822,
          4842,
          4844,
          4856,
          4872,
          4890,
          4910,
          4918,
          4930,
          4950,
          4952,
          4964,
          4980,
          4998,
          5018,
          5026,
          5038,
          5058,
          5060,
          5072,
          5088,
          5106,
          5126,
          5134,
          5146,
          5166,
          5168,
          5180,
          5196,
          5214,
          5234,
          5242,
          5254,
          5274,
          5276,
          5288,
          5303,
          5321,
          5341,
          5349,
          5361,
          5381,
          5383,
          5395,
          5411,
          5429,
          5449,
          5457,
          5469,
          5489,
          5491,
          5503,
          5519,
          5537,
          5557,
          5565,
          5577,
          5597,
          5599,
          5611
         ],
         "y": [
          2267755.26,
          2059657.71,
          1311502.53,
          2860709.93,
          466641.12,
          1755142.21,
          320373.63,
          2582300.65,
          2485720.1,
          1818618.04,
          1032606.49,
          2070661.43,
          448207.79,
          1717171.24,
          269027.02,
          2292761.26,
          2108450.36,
          1650327.26,
          1045424.87,
          2098784.32,
          485150.34,
          1782045.18,
          273695.84,
          2258069.63,
          1827783.28,
          1649082.75,
          1077630.8,
          2129188.49,
          454162.3,
          1298842.9,
          266024.34,
          2031937.97,
          3460743.8,
          2948564.71,
          1798504.77,
          3149375.34,
          926444.37,
          2348980.01,
          451194.73,
          3872672,
          2200393.89,
          1541252.99,
          1222159.62,
          3354876.63,
          490403.56,
          1927404.12,
          226039.73,
          2418817,
          1620462.13,
          1331420.43,
          982380.32,
          1958075.38,
          409541.36,
          1421557.06,
          219336.78,
          1840716.14,
          1933699.49,
          1482033.31,
          1209150.04,
          2003076.22,
          430679.66,
          1408136.41,
          236520.37,
          2650986.14,
          2460932.41,
          2135517.89,
          1151353.87,
          2790180.2,
          460986.95,
          1629785.85,
          281502.89,
          2822864.41,
          1649936.05,
          1675102.29,
          949015.34,
          2111936.1,
          412581.04,
          1855972.27,
          199317.95,
          2120111.56,
          1737353.95,
          1626922.95,
          1066470.63,
          2082038.09,
          435373.81,
          1644220.11,
          211822.87,
          1829868.35,
          2314393.94,
          2146436.5,
          1282053.45,
          2526519.62,
          450192.76,
          1476714.1,
          299770.04,
          2163704.41,
          1869271.31,
          1472879.42,
          1160794.38,
          2543290.15,
          441015.24,
          1836365.62,
          205041.11,
          2012384.12,
          1886168.89,
          1595354.39,
          1066608.5,
          2409449.74,
          437183.58,
          1856953.2,
          252737.98,
          2022524.08,
          1988818.23,
          1403326.56,
          1298472.42,
          2102179.57,
          471484.38,
          1385674.25,
          292733.49,
          2267855.21,
          2070974.14,
          2140254.41,
          1125460.56,
          2552885.19,
          433296.82,
          1183497.85,
          214218.14,
          2557271.66,
          1729486.77,
          1580854.41,
          1125853,
          2492744.36,
          447514.72,
          1248422.73,
          220781.47,
          2021745.62,
          3403145.1,
          2200706.49,
          1557507.45,
          3365962.7,
          508885.83,
          2265493.71,
          383803.95,
          2917083.83,
          1735132.32,
          1723310.79,
          1299998.7,
          4143702.97,
          424405.51,
          1709201.45,
          212422.04,
          2260890.88,
          1649623.66,
          1939235.3,
          1201257.18,
          2730591.16,
          413931.34,
          1202270.23,
          211868.36,
          1654563.98,
          1873205.91,
          1764210.85,
          1431141.56,
          3212552.24,
          450494.18,
          1434383.77,
          311176.56,
          2036656.12,
          1826496.62,
          1478975.82,
          1377202.12,
          2954175.96,
          418763.72,
          1501302.47,
          206982.3,
          1835735,
          1860329.3,
          1723625.04,
          1217522.42,
          3416600.27,
          445069.67,
          1479527.4,
          294519.59,
          2145071.52,
          1771908.98,
          1744519.06,
          1484200.81,
          2985953.81,
          443241.8,
          1660109.04,
          315079.1,
          2416002.43,
          1743509.25,
          1958437.1,
          1363070.07,
          3203944.93,
          474166.48,
          1739133.4,
          462243.35,
          2299962.02,
          1610910.07,
          1631460.3,
          1324231.26,
          2670469.78,
          480810.73,
          1416248.77,
          464034.18,
          1907834.16,
          2120303.06,
          2055125.98,
          1545460.43,
          3328289.46,
          627548.45,
          1639735.99,
          592279.23,
          2304907.45,
          1923893.11,
          1617124.36,
          1337980.83,
          3051823.18,
          530475.53,
          1523777.99,
          467848.98,
          1950436.22,
          1629871.75,
          1843047.36,
          1234664,
          3057929,
          491747.17,
          1766900.01,
          515358.68,
          2065939.21,
          1636659.9,
          1616355,
          1239353.81,
          2757145.78,
          576870.99,
          1982138.27,
          424560.81,
          1776143.49,
          1737845.94,
          1722754.95,
          1359710.96,
          3244095.85,
          506914.62,
          1254704.28,
          430133.96,
          1962853.58,
          2196704.97,
          1839862.82,
          1328248.62,
          3894801.66,
          498857.3,
          1600371.62,
          498991.43,
          2068854.19,
          1731349,
          2087149.52,
          1355609.83,
          3382543.31,
          508403.31,
          1474652.79,
          431016.1,
          2027603.38,
          1798911.33,
          1596909.93,
          1286342.3,
          3291930.64,
          498120.52,
          1546628.56,
          477975.75,
          2054710.68,
          1660274.32,
          1877733.21,
          1161145.08,
          2981372.2,
          477305.38,
          1387819.83,
          464251.81,
          1986059.01,
          2077193.6,
          1876392.91,
          1458691.19,
          3227507.37,
          547236.44,
          2322076.97,
          650270.11,
          2086229.79,
          2388023.33,
          1958150,
          1444401.99,
          3364304.91,
          491074.45,
          2390282.14,
          534412.71,
          2317428.16,
          2230693.51,
          1887110.85,
          1122683.82,
          2492113.6,
          506379.84,
          2117631.84,
          663554.32,
          2825876.79,
          2635028.38,
          1605775.14,
          1206766.08,
          2965153.82,
          729792.24,
          2042360.56,
          519006.76,
          2116029.65,
          2788317.94,
          1632488.05,
          1070891.86,
          2679760.58,
          566241.35,
          2067870.47,
          591640.18,
          2378441.26,
          2530023.18,
          1652244.4,
          1057488.47,
          2383018.56,
          576153.62,
          1833545.05,
          579736.64,
          2714363.53,
          2286235.79,
          1695841.56,
          1537196.96,
          4025382.16,
          588304.97,
          1352548.07,
          426237.27,
          2170792.82,
          2025016.15,
          1460066.36,
          980865.05,
          2438454.39,
          583990.89,
          1537781.45,
          393459.25,
          1990844.8,
          2596785.28,
          1825512.93,
          1188242.89,
          3920642.46,
          584277.22,
          1704035.46,
          472310.67,
          1937479.91,
          1758964.54,
          1794703.2,
          1248271.45,
          3333003.32,
          467808.56,
          1630407.36,
          298081.99,
          1668416.99,
          2164098.99,
          1322818.28,
          1302219.95,
          2738913.76,
          441216.08,
          1375460.43,
          294620.08,
          2060439.93,
          1917124.52,
          1471865.16,
          955972.74,
          2316404.82,
          403638.25,
          1451468.73,
          285065.9,
          1588339.47,
          1810202.7,
          1199426.12,
          939038.5,
          1964333.5,
          364748.79,
          1234911.39,
          273706.42,
          1216811,
          2100246.17,
          1680591.43,
          1154808.22,
          2541186.76,
          394656.96,
          1989750.87,
          248205.38,
          2051392.83,
          1627240.76,
          1342449.84,
          1060753.67,
          2852333.86,
          463238.46,
          1559601.21,
          303892.09,
          1596329.01,
          1543280.76,
          1337404.03,
          1024405.09,
          2330694.41,
          341262.17,
          1226508.86,
          211595.53,
          1314711,
          1760956.02,
          1411808.83,
          1022861.71,
          2313155.65,
          404837.9,
          1290847.05,
          275823.43,
          1717599.45
         ]
        },
        {
         "line": {
          "color": "rgba(55, 128, 191, 1.0)",
          "dash": "solid",
          "shape": "linear",
          "width": 1.3
         },
         "mode": "lines",
         "name": "4770XL",
         "text": "",
         "type": "scatter",
         "x": [
          12,
          30,
          50,
          58,
          70,
          90,
          92,
          104,
          120,
          138,
          158,
          166,
          178,
          198,
          200,
          212,
          228,
          246,
          266,
          274,
          286,
          306,
          308,
          320,
          336,
          354,
          374,
          382,
          394,
          414,
          416,
          428,
          444,
          462,
          482,
          490,
          502,
          522,
          524,
          536,
          552,
          570,
          590,
          598,
          610,
          630,
          632,
          644,
          660,
          678,
          698,
          706,
          718,
          738,
          740,
          752,
          768,
          786,
          806,
          814,
          826,
          846,
          848,
          860,
          876,
          894,
          914,
          922,
          934,
          954,
          956,
          968,
          984,
          1002,
          1022,
          1030,
          1042,
          1062,
          1064,
          1076,
          1092,
          1110,
          1130,
          1138,
          1150,
          1170,
          1172,
          1184,
          1200,
          1218,
          1238,
          1246,
          1258,
          1278,
          1280,
          1292,
          1308,
          1326,
          1346,
          1354,
          1366,
          1386,
          1388,
          1400,
          1416,
          1434,
          1454,
          1462,
          1474,
          1494,
          1496,
          1508,
          1524,
          1542,
          1562,
          1570,
          1582,
          1602,
          1604,
          1616,
          1632,
          1650,
          1670,
          1678,
          1690,
          1710,
          1712,
          1724,
          1740,
          1758,
          1778,
          1786,
          1798,
          1818,
          1820,
          1832,
          1848,
          1866,
          1886,
          1894,
          1906,
          1926,
          1928,
          1940,
          1956,
          1974,
          1994,
          2002,
          2014,
          2034,
          2036,
          2048,
          2064,
          2082,
          2102,
          2110,
          2122,
          2142,
          2144,
          2156,
          2172,
          2190,
          2210,
          2218,
          2230,
          2250,
          2252,
          2264,
          2280,
          2298,
          2318,
          2326,
          2338,
          2358,
          2360,
          2372,
          2388,
          2406,
          2426,
          2434,
          2446,
          2466,
          2468,
          2480,
          2496,
          2514,
          2534,
          2542,
          2554,
          2574,
          2576,
          2588,
          2604,
          2622,
          2642,
          2650,
          2662,
          2682,
          2684,
          2696,
          2712,
          2730,
          2750,
          2758,
          2770,
          2790,
          2792,
          2804,
          2820,
          2838,
          2858,
          2866,
          2878,
          2898,
          2900,
          2912,
          2928,
          2946,
          2966,
          2974,
          2986,
          3006,
          3008,
          3020,
          3036,
          3054,
          3074,
          3082,
          3094,
          3114,
          3116,
          3128,
          3144,
          3162,
          3182,
          3190,
          3202,
          3222,
          3224,
          3236,
          3252,
          3270,
          3290,
          3298,
          3310,
          3330,
          3332,
          3344,
          3360,
          3378,
          3398,
          3406,
          3418,
          3438,
          3440,
          3452,
          3468,
          3486,
          3506,
          3514,
          3526,
          3546,
          3548,
          3560,
          3576,
          3594,
          3614,
          3622,
          3634,
          3654,
          3656,
          3668,
          3684,
          3702,
          3722,
          3730,
          3742,
          3762,
          3764,
          3776,
          3792,
          3810,
          3830,
          3838,
          3850,
          3870,
          3872,
          3884,
          3900,
          3918,
          3938,
          3946,
          3958,
          3978,
          3980,
          3992,
          4008,
          4026,
          4046,
          4054,
          4066,
          4086,
          4088,
          4100,
          4116,
          4134,
          4154,
          4162,
          4174,
          4194,
          4196,
          4208,
          4224,
          4242,
          4262,
          4270,
          4282,
          4302,
          4304,
          4316,
          4332,
          4350,
          4370,
          4378,
          4390,
          4410,
          4412,
          4424,
          4440,
          4458,
          4478,
          4486,
          4498,
          4518,
          4520,
          4532,
          4548,
          4566,
          4586,
          4594,
          4606,
          4626,
          4628,
          4640,
          4656,
          4674,
          4694,
          4702,
          4714,
          4734,
          4736,
          4748,
          4764,
          4782,
          4802,
          4810,
          4822,
          4842,
          4844,
          4856,
          4872,
          4890,
          4910,
          4918,
          4930,
          4950,
          4952,
          4964,
          4980,
          4998,
          5018,
          5026,
          5038,
          5058,
          5060,
          5072,
          5088,
          5106,
          5126,
          5134,
          5146,
          5166,
          5168,
          5180,
          5196,
          5214,
          5234,
          5242,
          5254,
          5274,
          5276,
          5288,
          5303,
          5321,
          5341,
          5349,
          5361,
          5381,
          5383,
          5395,
          5411,
          5429,
          5449,
          5457,
          5469,
          5489,
          5491,
          5503,
          5519,
          5537,
          5557,
          5565,
          5577,
          5597,
          5599,
          5611
         ],
         "y": [
          137479.64,
          318102.38,
          181058.65,
          7580.38,
          10476.89,
          73432.89,
          18938.42,
          97024.09,
          103573.42,
          316856.73,
          191515.19,
          6915.47,
          10009.45,
          88373.78,
          21918.53,
          127412.09,
          121614.31,
          257105.89,
          186027.52,
          7215.59,
          14504.7,
          146481.44,
          22004.31,
          76348.13,
          150535.5,
          271642.56,
          164873.48,
          7923.65,
          14022.68,
          68870.69,
          18600.92,
          71550.57,
          177145.49,
          510153.65,
          388259.15,
          9191.41,
          13768.85,
          161845.27,
          40258.76,
          80893.53,
          149458.93,
          238780.53,
          159491.59,
          7219.81,
          12488.08,
          75885.05,
          18310.04,
          76305.42,
          169907.54,
          237030.33,
          206499.63,
          7773.07,
          17649.52,
          93961.98,
          21706.04,
          91125.41,
          172675.88,
          246541.13,
          295228.18,
          7049.52,
          20287.44,
          81708.29,
          34466.49,
          79181.93,
          170580.54,
          478701.64,
          182873.34,
          7317.59,
          11417.67,
          90167.62,
          19429.67,
          110088.02,
          184720.58,
          253978.78,
          179824.24,
          7864.97,
          9283.84,
          79560,
          20683.77,
          98092.96,
          194761.49,
          223788.7,
          210234.78,
          5531.34,
          10344.37,
          115290.48,
          25792.72,
          85831.16,
          195791.46,
          451798.84,
          197573.91,
          5436.84,
          11548.82,
          81039.5,
          21570.5,
          101626.05,
          193577.55,
          196545.04,
          203057.64,
          5707.16,
          10085.33,
          89374.2,
          23224.7,
          89701.26,
          225396.85,
          221603.31,
          183653.85,
          6203.7,
          11645.81,
          104285.22,
          26137.34,
          93055.21,
          185198.77,
          190091.28,
          185691.58,
          5306.97,
          12343.11,
          102729.01,
          23471.11,
          103110.58,
          177354.82,
          383840.98,
          190006.01,
          6389.9,
          33180.04,
          114923.71,
          23684.96,
          87250.83,
          196469.02,
          294073.96,
          192090.19,
          7040.21,
          23878.2,
          73076.91,
          23844.72,
          79259,
          192473.92,
          327171.65,
          364283.54,
          13487.57,
          17406.31,
          58510.13,
          40064.12,
          104932.26,
          194575.97,
          274259.73,
          190755.81,
          10220.82,
          12270.69,
          36330.84,
          24440.63,
          115290.95,
          168597.35,
          406338.23,
          203615.52,
          5593.26,
          11424.24,
          33292.23,
          26127.7,
          108561,
          195991.06,
          263068.72,
          231744.91,
          7774.83,
          12148.13,
          38143.15,
          30510.18,
          120398.95,
          209443.33,
          280464.92,
          207708.91,
          5488.64,
          11918.96,
          34073.41,
          25671.13,
          129139.05,
          221330.48,
          447117.42,
          200001.49,
          7058.9,
          17034.85,
          106106.86,
          26236.45,
          119829.5,
          210670.82,
          346867.18,
          206159.51,
          56827.08,
          27161.21,
          77844.97,
          46585.63,
          112965.22,
          218423.77,
          493928.69,
          215613.45,
          77296.43,
          22901.69,
          97002.67,
          62634.6,
          138621.26,
          212173.21,
          261863.52,
          215752.18,
          72708.66,
          18637.71,
          81756,
          59679.47,
          123261.81,
          254187.47,
          442059.88,
          232974.97,
          92678.08,
          19636.37,
          47955.04,
          97111.62,
          155862.52,
          157478.05,
          288141.07,
          205773.72,
          75096.18,
          14462.47,
          33415.56,
          72897.71,
          133097,
          188207.47,
          454643.18,
          218257.94,
          36476.44,
          37429.71,
          28797.39,
          77561.44,
          113523.76,
          209427.05,
          281882.1,
          199553.32,
          14864.77,
          53882.08,
          32905.16,
          78530.49,
          146112.77,
          183471.03,
          321610.93,
          208419.92,
          11726.4,
          33145.85,
          24749.12,
          81144.7,
          120434.79,
          193831.6,
          331336.66,
          203932.87,
          9116.57,
          21090.12,
          40173.44,
          79631.92,
          135407.7,
          208724.73,
          475383.38,
          222563.23,
          8138.99,
          14777.59,
          35283.63,
          55158.31,
          123334.73,
          222082.91,
          279710.88,
          210164.47,
          7167.44,
          16041.72,
          30815.55,
          35514.75,
          107786.51,
          233027.36,
          419390.5,
          196950.9,
          11075.1,
          14634.43,
          28997.59,
          31618.81,
          124657.84,
          240185,
          348448.68,
          314497.84,
          6693.26,
          15397.86,
          36318.54,
          43507.27,
          124722.73,
          270794.34,
          447108.5,
          182702.62,
          4616.79,
          15652.47,
          34341.44,
          26776.37,
          136996.39,
          273922.36,
          418235.21,
          208537.92,
          4293.65,
          15441.14,
          39835.27,
          27931.94,
          124207.93,
          206460.07,
          344488.51,
          274903.15,
          4785.85,
          14587.65,
          83993.99,
          33834.37,
          98925.79,
          222260.58,
          381986.61,
          194003.8,
          5434.32,
          15401.65,
          184770.84,
          25995.26,
          179192.02,
          221032.74,
          456771.26,
          277954.43,
          4364.98,
          14585.67,
          426600.81,
          34930.57,
          178042.28,
          217814.17,
          353741.96,
          215608.69,
          5421.22,
          14931.07,
          274013.56,
          28371.94,
          110348.57,
          215622.63,
          331096.84,
          211478.23,
          3363.89,
          15616.99,
          247539.31,
          28828.13,
          134572.92,
          211901.97,
          388703.05,
          260946.16,
          4729.26,
          17013.86,
          363472.91,
          31277.37,
          132883.59,
          216523.58,
          425242.73,
          228267.05,
          4491.79,
          19975.92,
          115276.98,
          25682.97,
          107753.58,
          195159.32,
          248635.49,
          168586.54,
          3393.33,
          17268.45,
          39019.73,
          20815.34,
          122763.34,
          215632.16,
          280543.97,
          117353.23,
          4067.05,
          15421.83,
          39736.75,
          13736.85,
          118170.98,
          222311.07,
          248818.72,
          101739.67,
          3025.26,
          10648.01,
          27985.18,
          12260.75,
          104219.76,
          221957.26,
          398320.64,
          133316.89,
          3341.42,
          13005.11,
          38648.11,
          15672.86,
          107568.34,
          232985.13,
          228576.54,
          113979.43,
          4716.39,
          17927.73,
          271514.98,
          12361.35,
          134101.62,
          266689.82,
          241580.61,
          96387.48,
          14909.65,
          27253.71,
          412828.75,
          10520.4,
          130849.6,
          232755.85,
          254629.93,
          103811.97,
          35858.35,
          25188.57,
          392846.12,
          13994.48,
          125254.82
         ]
        },
        {
         "line": {
          "color": "rgba(50, 171, 96, 1.0)",
          "dash": "solid",
          "shape": "linear",
          "width": 1.3
         },
         "mode": "lines",
         "name": "4046S",
         "text": "",
         "type": "scatter",
         "x": [
          12,
          30,
          50,
          58,
          70,
          90,
          92,
          104,
          120,
          138,
          158,
          166,
          178,
          198,
          200,
          212,
          228,
          246,
          266,
          274,
          286,
          306,
          308,
          320,
          336,
          354,
          374,
          382,
          394,
          414,
          416,
          428,
          444,
          462,
          482,
          490,
          502,
          522,
          524,
          536,
          552,
          570,
          590,
          598,
          610,
          630,
          632,
          644,
          660,
          678,
          698,
          706,
          718,
          738,
          740,
          752,
          768,
          786,
          806,
          814,
          826,
          846,
          848,
          860,
          876,
          894,
          914,
          922,
          934,
          954,
          956,
          968,
          984,
          1002,
          1022,
          1030,
          1042,
          1062,
          1064,
          1076,
          1092,
          1110,
          1130,
          1138,
          1150,
          1170,
          1172,
          1184,
          1200,
          1218,
          1238,
          1246,
          1258,
          1278,
          1280,
          1292,
          1308,
          1326,
          1346,
          1354,
          1366,
          1386,
          1388,
          1400,
          1416,
          1434,
          1454,
          1462,
          1474,
          1494,
          1496,
          1508,
          1524,
          1542,
          1562,
          1570,
          1582,
          1602,
          1604,
          1616,
          1632,
          1650,
          1670,
          1678,
          1690,
          1710,
          1712,
          1724,
          1740,
          1758,
          1778,
          1786,
          1798,
          1818,
          1820,
          1832,
          1848,
          1866,
          1886,
          1894,
          1906,
          1926,
          1928,
          1940,
          1956,
          1974,
          1994,
          2002,
          2014,
          2034,
          2036,
          2048,
          2064,
          2082,
          2102,
          2110,
          2122,
          2142,
          2144,
          2156,
          2172,
          2190,
          2210,
          2218,
          2230,
          2250,
          2252,
          2264,
          2280,
          2298,
          2318,
          2326,
          2338,
          2358,
          2360,
          2372,
          2388,
          2406,
          2426,
          2434,
          2446,
          2466,
          2468,
          2480,
          2496,
          2514,
          2534,
          2542,
          2554,
          2574,
          2576,
          2588,
          2604,
          2622,
          2642,
          2650,
          2662,
          2682,
          2684,
          2696,
          2712,
          2730,
          2750,
          2758,
          2770,
          2790,
          2792,
          2804,
          2820,
          2838,
          2858,
          2866,
          2878,
          2898,
          2900,
          2912,
          2928,
          2946,
          2966,
          2974,
          2986,
          3006,
          3008,
          3020,
          3036,
          3054,
          3074,
          3082,
          3094,
          3114,
          3116,
          3128,
          3144,
          3162,
          3182,
          3190,
          3202,
          3222,
          3224,
          3236,
          3252,
          3270,
          3290,
          3298,
          3310,
          3330,
          3332,
          3344,
          3360,
          3378,
          3398,
          3406,
          3418,
          3438,
          3440,
          3452,
          3468,
          3486,
          3506,
          3514,
          3526,
          3546,
          3548,
          3560,
          3576,
          3594,
          3614,
          3622,
          3634,
          3654,
          3656,
          3668,
          3684,
          3702,
          3722,
          3730,
          3742,
          3762,
          3764,
          3776,
          3792,
          3810,
          3830,
          3838,
          3850,
          3870,
          3872,
          3884,
          3900,
          3918,
          3938,
          3946,
          3958,
          3978,
          3980,
          3992,
          4008,
          4026,
          4046,
          4054,
          4066,
          4086,
          4088,
          4100,
          4116,
          4134,
          4154,
          4162,
          4174,
          4194,
          4196,
          4208,
          4224,
          4242,
          4262,
          4270,
          4282,
          4302,
          4304,
          4316,
          4332,
          4350,
          4370,
          4378,
          4390,
          4410,
          4412,
          4424,
          4440,
          4458,
          4478,
          4486,
          4498,
          4518,
          4520,
          4532,
          4548,
          4566,
          4586,
          4594,
          4606,
          4626,
          4628,
          4640,
          4656,
          4674,
          4694,
          4702,
          4714,
          4734,
          4736,
          4748,
          4764,
          4782,
          4802,
          4810,
          4822,
          4842,
          4844,
          4856,
          4872,
          4890,
          4910,
          4918,
          4930,
          4950,
          4952,
          4964,
          4980,
          4998,
          5018,
          5026,
          5038,
          5058,
          5060,
          5072,
          5088,
          5106,
          5126,
          5134,
          5146,
          5166,
          5168,
          5180,
          5196,
          5214,
          5234,
          5242,
          5254,
          5274,
          5276,
          5288,
          5303,
          5321,
          5341,
          5349,
          5361,
          5381,
          5383,
          5395,
          5411,
          5429,
          5449,
          5457,
          5469,
          5489,
          5491,
          5503,
          5519,
          5537,
          5557,
          5565,
          5577,
          5597,
          5599,
          5611
         ],
         "y": [
          2843648.26,
          467259.47,
          575245.44,
          126640.65,
          1027842.3,
          2745009.1,
          2296069.27,
          2275446.87,
          2889591.29,
          416900.3,
          560119.16,
          97343.55,
          737363.86,
          2973367.52,
          1667012.92,
          2203111.92,
          2780859.66,
          401683.43,
          530333.83,
          91803.09,
          966515.75,
          2839359.92,
          1815847.03,
          2431736.63,
          2380955.61,
          390289.67,
          566435.98,
          96761.81,
          841332.54,
          3205533.39,
          1990978.47,
          2695157.56,
          4794142.14,
          768874.35,
          888523.17,
          133613,
          1383259.28,
          3776936.71,
          3656338.95,
          3531350.44,
          2908845.38,
          515789.01,
          732854.05,
          128978.49,
          1077511.79,
          3323430.66,
          1871661.73,
          2749122.29,
          3315163.6,
          390973.21,
          634266.43,
          88056.2,
          847328.77,
          3046997.7,
          1820564.15,
          2483265.25,
          3210177.22,
          391400.93,
          632670.12,
          92283.05,
          818736.11,
          3077730.66,
          1960713.06,
          2444851.21,
          3516551.29,
          353818.94,
          620672.44,
          88609.28,
          854129.32,
          2944928.22,
          2682065.6,
          2221447.89,
          3484274.6,
          380674.2,
          545690.6,
          113602.19,
          838161.13,
          3215935.34,
          1894002.38,
          2541409.9,
          2962520.41,
          475449.58,
          570576.91,
          111777.91,
          839457.23,
          3290881.46,
          1865220.72,
          3034104.48,
          2348618.25,
          543151.72,
          681261.26,
          118765,
          885071.63,
          3785376.16,
          2823708.05,
          2511453.54,
          2609532.63,
          456518.93,
          576473.89,
          96169.31,
          912075.07,
          3091049.63,
          1804282.66,
          2978534.92,
          2754464.87,
          504487.79,
          617567.29,
          97887.72,
          898263.98,
          3676642.17,
          2257669.21,
          3132031.4,
          2848184,
          548501.37,
          665283.33,
          93987.65,
          1423163.45,
          3851189.34,
          2801179.62,
          2561865.42,
          3024466.22,
          615564.03,
          654378.33,
          110954.74,
          1055547.01,
          3657278.94,
          2014443.63,
          3118686.39,
          2421009.67,
          609506.22,
          698128.52,
          110930.88,
          1022915.7,
          3637682.35,
          2170188.85,
          3163353.08,
          4340117.03,
          719493.66,
          793989.95,
          129459.52,
          1485535.26,
          3520801.33,
          3682277.46,
          3115937.71,
          4085858.78,
          766730.7,
          721935.59,
          134556.37,
          1319397.29,
          3969053.76,
          2167781.63,
          3050014.63,
          2923673.93,
          787079.55,
          698401.8,
          114065.77,
          1228815.94,
          3979432.32,
          2098271.46,
          2786200.82,
          2978396.74,
          758183.5,
          719874.17,
          112425.95,
          1221023.1,
          3794422.74,
          3209533.78,
          3206247.81,
          3620440.35,
          667193.97,
          734816.3,
          116068.2,
          1085643.8,
          4136440.91,
          2048880.09,
          3094129.71,
          3614314.44,
          689242.14,
          724315.73,
          109587.85,
          1207877.63,
          3870043.62,
          2862823.58,
          3451592.61,
          4075881.34,
          604782.48,
          653441.16,
          112693.47,
          1117926.72,
          4668964.65,
          1910736.86,
          3239258.39,
          3328631.93,
          487936.68,
          601782.55,
          106859.5,
          1049002.63,
          3460014.16,
          2602623.94,
          3062753.54,
          3163839.74,
          476721.82,
          534709.22,
          105387.01,
          954738.73,
          3656335.59,
          1721633.23,
          2686203.38,
          3581149.88,
          502233.05,
          632988.75,
          122190.4,
          927860.87,
          3835278.13,
          2713600.49,
          3328637.8,
          2747299.98,
          456044.5,
          532046.38,
          110242.95,
          953323.15,
          3318843.01,
          1578243.11,
          2688406.31,
          2805887.74,
          449090.82,
          569216.65,
          107602.07,
          824192.7,
          3141801.51,
          2507726.2,
          2337242.49,
          3112921.78,
          475306.73,
          531729.96,
          102482.55,
          898275.28,
          3166737.18,
          1615660.84,
          2293111.63,
          2940145.82,
          490577.01,
          532287.84,
          104772.22,
          761285.69,
          3276776.23,
          1539272.45,
          2470116.49,
          3260775.73,
          420919.7,
          531460.61,
          105393.94,
          789751.38,
          3096265.87,
          2430272.64,
          2368531.2,
          3098708.55,
          414756.68,
          627950.44,
          97139.95,
          911935.06,
          3273624.13,
          1615209.93,
          2640927.73,
          2626977.95,
          404182.26,
          571552.62,
          107907.11,
          930286.05,
          3058909.34,
          1423075.89,
          2160130.08,
          3104607.82,
          478858.03,
          516825.42,
          93227.99,
          699755.69,
          3171393.1,
          1422797.76,
          2163511.05,
          2859325.91,
          432770.76,
          564493.74,
          99311.62,
          857114.48,
          2897999.07,
          2175323.4,
          2682938.17,
          1863270.81,
          492741.15,
          574792.78,
          95839.65,
          727720.21,
          2608997.38,
          1317283.12,
          2194373.38,
          1702965.49,
          460475.95,
          555127.12,
          86196.27,
          611683.23,
          2453284.69,
          2000380.63,
          1552161.89,
          1860050.39,
          343271.52,
          479660.47,
          86278.88,
          564480.54,
          2252044.96,
          1266450.71,
          1601971.34,
          1461112.39,
          296032.66,
          467701.3,
          99666.72,
          492561.57,
          2257194.22,
          1909901.24,
          1369449.86,
          1757211.58,
          355508.86,
          469059.21,
          88376.7,
          708470.83,
          2351606.01,
          1810141.55,
          1287965.79,
          1847991.31,
          396690.54,
          555583.11,
          93569.28,
          492966.35,
          2488221.2,
          1274185.16,
          2012887.19,
          1733791.31,
          383559.81,
          522060.98,
          88907,
          559720.23,
          2542914.87,
          1278660.6,
          1574344.01,
          2369824.75,
          436343.74,
          549089.55,
          95355.74,
          469390.49,
          2344879.12,
          2058754.3,
          1815066.15,
          2317858.81,
          410061,
          568612.19,
          86385.14,
          513609.22,
          2470146.6,
          1420318.78,
          2204338.57,
          2243013.44,
          342002.87,
          470482.8,
          89242.5,
          549163.56,
          2762021.24,
          1455202.28,
          1996852.58,
          1602215.57,
          347803.29,
          422437.27,
          79006.95,
          584490.6,
          2187382.97,
          1799501.02,
          1549012.12,
          1461699.38,
          318661.4,
          417849.42,
          71191.69,
          460759.58,
          2105670.46,
          1797110.09,
          1461861.54,
          1943065.5,
          401676.14,
          507201.58,
          85444.57,
          579077.46,
          2271088.12,
          1520190.48,
          2097720.52,
          1806690.08,
          463349.67,
          515063.58,
          81055.1,
          695419.91,
          2366879.8,
          2127600.06,
          1798995.46,
          1676601.43,
          383701.76,
          446433.13,
          72576.52,
          497437.17,
          2166801.03,
          1449139.49,
          2017331.24,
          1833946.59,
          336673.7,
          435246.31,
          69920.54,
          571602.6,
          2295315.43,
          2045752.24,
          2038443.68
         ]
        }
       ],
       "layout": {
        "legend": {
         "bgcolor": "#F5F6F9",
         "font": {
          "color": "#4D5663"
         }
        },
        "paper_bgcolor": "#F5F6F9",
        "plot_bgcolor": "#F5F6F9",
        "template": {
         "data": {
          "bar": [
           {
            "error_x": {
             "color": "#2a3f5f"
            },
            "error_y": {
             "color": "#2a3f5f"
            },
            "marker": {
             "line": {
              "color": "#E5ECF6",
              "width": 0.5
             }
            },
            "type": "bar"
           }
          ],
          "barpolar": [
           {
            "marker": {
             "line": {
              "color": "#E5ECF6",
              "width": 0.5
             }
            },
            "type": "barpolar"
           }
          ],
          "carpet": [
           {
            "aaxis": {
             "endlinecolor": "#2a3f5f",
             "gridcolor": "white",
             "linecolor": "white",
             "minorgridcolor": "white",
             "startlinecolor": "#2a3f5f"
            },
            "baxis": {
             "endlinecolor": "#2a3f5f",
             "gridcolor": "white",
             "linecolor": "white",
             "minorgridcolor": "white",
             "startlinecolor": "#2a3f5f"
            },
            "type": "carpet"
           }
          ],
          "choropleth": [
           {
            "colorbar": {
             "outlinewidth": 0,
             "ticks": ""
            },
            "type": "choropleth"
           }
          ],
          "contour": [
           {
            "colorbar": {
             "outlinewidth": 0,
             "ticks": ""
            },
            "colorscale": [
             [
              0,
              "#0d0887"
             ],
             [
              0.1111111111111111,
              "#46039f"
             ],
             [
              0.2222222222222222,
              "#7201a8"
             ],
             [
              0.3333333333333333,
              "#9c179e"
             ],
             [
              0.4444444444444444,
              "#bd3786"
             ],
             [
              0.5555555555555556,
              "#d8576b"
             ],
             [
              0.6666666666666666,
              "#ed7953"
             ],
             [
              0.7777777777777778,
              "#fb9f3a"
             ],
             [
              0.8888888888888888,
              "#fdca26"
             ],
             [
              1,
              "#f0f921"
             ]
            ],
            "type": "contour"
           }
          ],
          "contourcarpet": [
           {
            "colorbar": {
             "outlinewidth": 0,
             "ticks": ""
            },
            "type": "contourcarpet"
           }
          ],
          "heatmap": [
           {
            "colorbar": {
             "outlinewidth": 0,
             "ticks": ""
            },
            "colorscale": [
             [
              0,
              "#0d0887"
             ],
             [
              0.1111111111111111,
              "#46039f"
             ],
             [
              0.2222222222222222,
              "#7201a8"
             ],
             [
              0.3333333333333333,
              "#9c179e"
             ],
             [
              0.4444444444444444,
              "#bd3786"
             ],
             [
              0.5555555555555556,
              "#d8576b"
             ],
             [
              0.6666666666666666,
              "#ed7953"
             ],
             [
              0.7777777777777778,
              "#fb9f3a"
             ],
             [
              0.8888888888888888,
              "#fdca26"
             ],
             [
              1,
              "#f0f921"
             ]
            ],
            "type": "heatmap"
           }
          ],
          "heatmapgl": [
           {
            "colorbar": {
             "outlinewidth": 0,
             "ticks": ""
            },
            "colorscale": [
             [
              0,
              "#0d0887"
             ],
             [
              0.1111111111111111,
              "#46039f"
             ],
             [
              0.2222222222222222,
              "#7201a8"
             ],
             [
              0.3333333333333333,
              "#9c179e"
             ],
             [
              0.4444444444444444,
              "#bd3786"
             ],
             [
              0.5555555555555556,
              "#d8576b"
             ],
             [
              0.6666666666666666,
              "#ed7953"
             ],
             [
              0.7777777777777778,
              "#fb9f3a"
             ],
             [
              0.8888888888888888,
              "#fdca26"
             ],
             [
              1,
              "#f0f921"
             ]
            ],
            "type": "heatmapgl"
           }
          ],
          "histogram": [
           {
            "marker": {
             "colorbar": {
              "outlinewidth": 0,
              "ticks": ""
             }
            },
            "type": "histogram"
           }
          ],
          "histogram2d": [
           {
            "colorbar": {
             "outlinewidth": 0,
             "ticks": ""
            },
            "colorscale": [
             [
              0,
              "#0d0887"
             ],
             [
              0.1111111111111111,
              "#46039f"
             ],
             [
              0.2222222222222222,
              "#7201a8"
             ],
             [
              0.3333333333333333,
              "#9c179e"
             ],
             [
              0.4444444444444444,
              "#bd3786"
             ],
             [
              0.5555555555555556,
              "#d8576b"
             ],
             [
              0.6666666666666666,
              "#ed7953"
             ],
             [
              0.7777777777777778,
              "#fb9f3a"
             ],
             [
              0.8888888888888888,
              "#fdca26"
             ],
             [
              1,
              "#f0f921"
             ]
            ],
            "type": "histogram2d"
           }
          ],
          "histogram2dcontour": [
           {
            "colorbar": {
             "outlinewidth": 0,
             "ticks": ""
            },
            "colorscale": [
             [
              0,
              "#0d0887"
             ],
             [
              0.1111111111111111,
              "#46039f"
             ],
             [
              0.2222222222222222,
              "#7201a8"
             ],
             [
              0.3333333333333333,
              "#9c179e"
             ],
             [
              0.4444444444444444,
              "#bd3786"
             ],
             [
              0.5555555555555556,
              "#d8576b"
             ],
             [
              0.6666666666666666,
              "#ed7953"
             ],
             [
              0.7777777777777778,
              "#fb9f3a"
             ],
             [
              0.8888888888888888,
              "#fdca26"
             ],
             [
              1,
              "#f0f921"
             ]
            ],
            "type": "histogram2dcontour"
           }
          ],
          "mesh3d": [
           {
            "colorbar": {
             "outlinewidth": 0,
             "ticks": ""
            },
            "type": "mesh3d"
           }
          ],
          "parcoords": [
           {
            "line": {
             "colorbar": {
              "outlinewidth": 0,
              "ticks": ""
             }
            },
            "type": "parcoords"
           }
          ],
          "pie": [
           {
            "automargin": true,
            "type": "pie"
           }
          ],
          "scatter": [
           {
            "marker": {
             "colorbar": {
              "outlinewidth": 0,
              "ticks": ""
             }
            },
            "type": "scatter"
           }
          ],
          "scatter3d": [
           {
            "line": {
             "colorbar": {
              "outlinewidth": 0,
              "ticks": ""
             }
            },
            "marker": {
             "colorbar": {
              "outlinewidth": 0,
              "ticks": ""
             }
            },
            "type": "scatter3d"
           }
          ],
          "scattercarpet": [
           {
            "marker": {
             "colorbar": {
              "outlinewidth": 0,
              "ticks": ""
             }
            },
            "type": "scattercarpet"
           }
          ],
          "scattergeo": [
           {
            "marker": {
             "colorbar": {
              "outlinewidth": 0,
              "ticks": ""
             }
            },
            "type": "scattergeo"
           }
          ],
          "scattergl": [
           {
            "marker": {
             "colorbar": {
              "outlinewidth": 0,
              "ticks": ""
             }
            },
            "type": "scattergl"
           }
          ],
          "scattermapbox": [
           {
            "marker": {
             "colorbar": {
              "outlinewidth": 0,
              "ticks": ""
             }
            },
            "type": "scattermapbox"
           }
          ],
          "scatterpolar": [
           {
            "marker": {
             "colorbar": {
              "outlinewidth": 0,
              "ticks": ""
             }
            },
            "type": "scatterpolar"
           }
          ],
          "scatterpolargl": [
           {
            "marker": {
             "colorbar": {
              "outlinewidth": 0,
              "ticks": ""
             }
            },
            "type": "scatterpolargl"
           }
          ],
          "scatterternary": [
           {
            "marker": {
             "colorbar": {
              "outlinewidth": 0,
              "ticks": ""
             }
            },
            "type": "scatterternary"
           }
          ],
          "surface": [
           {
            "colorbar": {
             "outlinewidth": 0,
             "ticks": ""
            },
            "colorscale": [
             [
              0,
              "#0d0887"
             ],
             [
              0.1111111111111111,
              "#46039f"
             ],
             [
              0.2222222222222222,
              "#7201a8"
             ],
             [
              0.3333333333333333,
              "#9c179e"
             ],
             [
              0.4444444444444444,
              "#bd3786"
             ],
             [
              0.5555555555555556,
              "#d8576b"
             ],
             [
              0.6666666666666666,
              "#ed7953"
             ],
             [
              0.7777777777777778,
              "#fb9f3a"
             ],
             [
              0.8888888888888888,
              "#fdca26"
             ],
             [
              1,
              "#f0f921"
             ]
            ],
            "type": "surface"
           }
          ],
          "table": [
           {
            "cells": {
             "fill": {
              "color": "#EBF0F8"
             },
             "line": {
              "color": "white"
             }
            },
            "header": {
             "fill": {
              "color": "#C8D4E3"
             },
             "line": {
              "color": "white"
             }
            },
            "type": "table"
           }
          ]
         },
         "layout": {
          "annotationdefaults": {
           "arrowcolor": "#2a3f5f",
           "arrowhead": 0,
           "arrowwidth": 1
          },
          "coloraxis": {
           "colorbar": {
            "outlinewidth": 0,
            "ticks": ""
           }
          },
          "colorscale": {
           "diverging": [
            [
             0,
             "#8e0152"
            ],
            [
             0.1,
             "#c51b7d"
            ],
            [
             0.2,
             "#de77ae"
            ],
            [
             0.3,
             "#f1b6da"
            ],
            [
             0.4,
             "#fde0ef"
            ],
            [
             0.5,
             "#f7f7f7"
            ],
            [
             0.6,
             "#e6f5d0"
            ],
            [
             0.7,
             "#b8e186"
            ],
            [
             0.8,
             "#7fbc41"
            ],
            [
             0.9,
             "#4d9221"
            ],
            [
             1,
             "#276419"
            ]
           ],
           "sequential": [
            [
             0,
             "#0d0887"
            ],
            [
             0.1111111111111111,
             "#46039f"
            ],
            [
             0.2222222222222222,
             "#7201a8"
            ],
            [
             0.3333333333333333,
             "#9c179e"
            ],
            [
             0.4444444444444444,
             "#bd3786"
            ],
            [
             0.5555555555555556,
             "#d8576b"
            ],
            [
             0.6666666666666666,
             "#ed7953"
            ],
            [
             0.7777777777777778,
             "#fb9f3a"
            ],
            [
             0.8888888888888888,
             "#fdca26"
            ],
            [
             1,
             "#f0f921"
            ]
           ],
           "sequentialminus": [
            [
             0,
             "#0d0887"
            ],
            [
             0.1111111111111111,
             "#46039f"
            ],
            [
             0.2222222222222222,
             "#7201a8"
            ],
            [
             0.3333333333333333,
             "#9c179e"
            ],
            [
             0.4444444444444444,
             "#bd3786"
            ],
            [
             0.5555555555555556,
             "#d8576b"
            ],
            [
             0.6666666666666666,
             "#ed7953"
            ],
            [
             0.7777777777777778,
             "#fb9f3a"
            ],
            [
             0.8888888888888888,
             "#fdca26"
            ],
            [
             1,
             "#f0f921"
            ]
           ]
          },
          "colorway": [
           "#636efa",
           "#EF553B",
           "#00cc96",
           "#ab63fa",
           "#FFA15A",
           "#19d3f3",
           "#FF6692",
           "#B6E880",
           "#FF97FF",
           "#FECB52"
          ],
          "font": {
           "color": "#2a3f5f"
          },
          "geo": {
           "bgcolor": "white",
           "lakecolor": "white",
           "landcolor": "#E5ECF6",
           "showlakes": true,
           "showland": true,
           "subunitcolor": "white"
          },
          "hoverlabel": {
           "align": "left"
          },
          "hovermode": "closest",
          "mapbox": {
           "style": "light"
          },
          "paper_bgcolor": "white",
          "plot_bgcolor": "#E5ECF6",
          "polar": {
           "angularaxis": {
            "gridcolor": "white",
            "linecolor": "white",
            "ticks": ""
           },
           "bgcolor": "#E5ECF6",
           "radialaxis": {
            "gridcolor": "white",
            "linecolor": "white",
            "ticks": ""
           }
          },
          "scene": {
           "xaxis": {
            "backgroundcolor": "#E5ECF6",
            "gridcolor": "white",
            "gridwidth": 2,
            "linecolor": "white",
            "showbackground": true,
            "ticks": "",
            "zerolinecolor": "white"
           },
           "yaxis": {
            "backgroundcolor": "#E5ECF6",
            "gridcolor": "white",
            "gridwidth": 2,
            "linecolor": "white",
            "showbackground": true,
            "ticks": "",
            "zerolinecolor": "white"
           },
           "zaxis": {
            "backgroundcolor": "#E5ECF6",
            "gridcolor": "white",
            "gridwidth": 2,
            "linecolor": "white",
            "showbackground": true,
            "ticks": "",
            "zerolinecolor": "white"
           }
          },
          "shapedefaults": {
           "line": {
            "color": "#2a3f5f"
           }
          },
          "ternary": {
           "aaxis": {
            "gridcolor": "white",
            "linecolor": "white",
            "ticks": ""
           },
           "baxis": {
            "gridcolor": "white",
            "linecolor": "white",
            "ticks": ""
           },
           "bgcolor": "#E5ECF6",
           "caxis": {
            "gridcolor": "white",
            "linecolor": "white",
            "ticks": ""
           }
          },
          "title": {
           "x": 0.05
          },
          "xaxis": {
           "automargin": true,
           "gridcolor": "white",
           "linecolor": "white",
           "ticks": "",
           "title": {
            "standoff": 15
           },
           "zerolinecolor": "white",
           "zerolinewidth": 2
          },
          "yaxis": {
           "automargin": true,
           "gridcolor": "white",
           "linecolor": "white",
           "ticks": "",
           "title": {
            "standoff": 15
           },
           "zerolinecolor": "white",
           "zerolinewidth": 2
          }
         }
        },
        "title": {
         "font": {
          "color": "#4D5663"
         }
        },
        "xaxis": {
         "gridcolor": "#E1E5ED",
         "showgrid": true,
         "tickfont": {
          "color": "#4D5663"
         },
         "title": {
          "font": {
           "color": "#4D5663"
          },
          "text": ""
         },
         "zerolinecolor": "#E1E5ED"
        },
        "yaxis": {
         "gridcolor": "#E1E5ED",
         "showgrid": true,
         "tickfont": {
          "color": "#4D5663"
         },
         "title": {
          "font": {
           "color": "#4D5663"
          },
          "text": ""
         },
         "zerolinecolor": "#E1E5ED"
        }
       }
      },
      "text/html": [
       "<div>                            <div id=\"138527a7-8849-4b48-8a66-3cb0ddd05f0b\" class=\"plotly-graph-div\" style=\"height:525px; width:100%;\"></div>            <script type=\"text/javascript\">                require([\"plotly\"], function(Plotly) {                    window.PLOTLYENV=window.PLOTLYENV || {};\n",
       "                    window.PLOTLYENV.BASE_URL='https://plot.ly';                                    if (document.getElementById(\"138527a7-8849-4b48-8a66-3cb0ddd05f0b\")) {                    Plotly.newPlot(                        \"138527a7-8849-4b48-8a66-3cb0ddd05f0b\",                        [{\"line\": {\"color\": \"rgba(255, 153, 51, 1.0)\", \"dash\": \"solid\", \"shape\": \"linear\", \"width\": 1.3}, \"mode\": \"lines\", \"name\": \"4225L\", \"text\": \"\", \"type\": \"scatter\", \"x\": [12, 30, 50, 58, 70, 90, 92, 104, 120, 138, 158, 166, 178, 198, 200, 212, 228, 246, 266, 274, 286, 306, 308, 320, 336, 354, 374, 382, 394, 414, 416, 428, 444, 462, 482, 490, 502, 522, 524, 536, 552, 570, 590, 598, 610, 630, 632, 644, 660, 678, 698, 706, 718, 738, 740, 752, 768, 786, 806, 814, 826, 846, 848, 860, 876, 894, 914, 922, 934, 954, 956, 968, 984, 1002, 1022, 1030, 1042, 1062, 1064, 1076, 1092, 1110, 1130, 1138, 1150, 1170, 1172, 1184, 1200, 1218, 1238, 1246, 1258, 1278, 1280, 1292, 1308, 1326, 1346, 1354, 1366, 1386, 1388, 1400, 1416, 1434, 1454, 1462, 1474, 1494, 1496, 1508, 1524, 1542, 1562, 1570, 1582, 1602, 1604, 1616, 1632, 1650, 1670, 1678, 1690, 1710, 1712, 1724, 1740, 1758, 1778, 1786, 1798, 1818, 1820, 1832, 1848, 1866, 1886, 1894, 1906, 1926, 1928, 1940, 1956, 1974, 1994, 2002, 2014, 2034, 2036, 2048, 2064, 2082, 2102, 2110, 2122, 2142, 2144, 2156, 2172, 2190, 2210, 2218, 2230, 2250, 2252, 2264, 2280, 2298, 2318, 2326, 2338, 2358, 2360, 2372, 2388, 2406, 2426, 2434, 2446, 2466, 2468, 2480, 2496, 2514, 2534, 2542, 2554, 2574, 2576, 2588, 2604, 2622, 2642, 2650, 2662, 2682, 2684, 2696, 2712, 2730, 2750, 2758, 2770, 2790, 2792, 2804, 2820, 2838, 2858, 2866, 2878, 2898, 2900, 2912, 2928, 2946, 2966, 2974, 2986, 3006, 3008, 3020, 3036, 3054, 3074, 3082, 3094, 3114, 3116, 3128, 3144, 3162, 3182, 3190, 3202, 3222, 3224, 3236, 3252, 3270, 3290, 3298, 3310, 3330, 3332, 3344, 3360, 3378, 3398, 3406, 3418, 3438, 3440, 3452, 3468, 3486, 3506, 3514, 3526, 3546, 3548, 3560, 3576, 3594, 3614, 3622, 3634, 3654, 3656, 3668, 3684, 3702, 3722, 3730, 3742, 3762, 3764, 3776, 3792, 3810, 3830, 3838, 3850, 3870, 3872, 3884, 3900, 3918, 3938, 3946, 3958, 3978, 3980, 3992, 4008, 4026, 4046, 4054, 4066, 4086, 4088, 4100, 4116, 4134, 4154, 4162, 4174, 4194, 4196, 4208, 4224, 4242, 4262, 4270, 4282, 4302, 4304, 4316, 4332, 4350, 4370, 4378, 4390, 4410, 4412, 4424, 4440, 4458, 4478, 4486, 4498, 4518, 4520, 4532, 4548, 4566, 4586, 4594, 4606, 4626, 4628, 4640, 4656, 4674, 4694, 4702, 4714, 4734, 4736, 4748, 4764, 4782, 4802, 4810, 4822, 4842, 4844, 4856, 4872, 4890, 4910, 4918, 4930, 4950, 4952, 4964, 4980, 4998, 5018, 5026, 5038, 5058, 5060, 5072, 5088, 5106, 5126, 5134, 5146, 5166, 5168, 5180, 5196, 5214, 5234, 5242, 5254, 5274, 5276, 5288, 5303, 5321, 5341, 5349, 5361, 5381, 5383, 5395, 5411, 5429, 5449, 5457, 5469, 5489, 5491, 5503, 5519, 5537, 5557, 5565, 5577, 5597, 5599, 5611], \"y\": [2267755.26, 2059657.71, 1311502.53, 2860709.93, 466641.12, 1755142.21, 320373.63, 2582300.65, 2485720.1, 1818618.04, 1032606.49, 2070661.43, 448207.79, 1717171.24, 269027.02, 2292761.26, 2108450.36, 1650327.26, 1045424.87, 2098784.32, 485150.34, 1782045.18, 273695.84, 2258069.63, 1827783.28, 1649082.75, 1077630.8, 2129188.49, 454162.3, 1298842.9, 266024.34, 2031937.97, 3460743.8, 2948564.71, 1798504.77, 3149375.34, 926444.37, 2348980.01, 451194.73, 3872672.0, 2200393.89, 1541252.99, 1222159.62, 3354876.63, 490403.56, 1927404.12, 226039.73, 2418817.0, 1620462.13, 1331420.43, 982380.32, 1958075.38, 409541.36, 1421557.06, 219336.78, 1840716.14, 1933699.49, 1482033.31, 1209150.04, 2003076.22, 430679.66, 1408136.41, 236520.37, 2650986.14, 2460932.41, 2135517.89, 1151353.87, 2790180.2, 460986.95, 1629785.85, 281502.89, 2822864.41, 1649936.05, 1675102.29, 949015.34, 2111936.1, 412581.04, 1855972.27, 199317.95, 2120111.56, 1737353.95, 1626922.95, 1066470.63, 2082038.09, 435373.81, 1644220.11, 211822.87, 1829868.35, 2314393.94, 2146436.5, 1282053.45, 2526519.62, 450192.76, 1476714.1, 299770.04, 2163704.41, 1869271.31, 1472879.42, 1160794.38, 2543290.15, 441015.24, 1836365.62, 205041.11, 2012384.12, 1886168.89, 1595354.39, 1066608.5, 2409449.74, 437183.58, 1856953.2, 252737.98, 2022524.08, 1988818.23, 1403326.56, 1298472.42, 2102179.57, 471484.38, 1385674.25, 292733.49, 2267855.21, 2070974.14, 2140254.41, 1125460.56, 2552885.19, 433296.82, 1183497.85, 214218.14, 2557271.66, 1729486.77, 1580854.41, 1125853.0, 2492744.36, 447514.72, 1248422.73, 220781.47, 2021745.62, 3403145.1, 2200706.49, 1557507.45, 3365962.7, 508885.83, 2265493.71, 383803.95, 2917083.83, 1735132.32, 1723310.79, 1299998.7, 4143702.97, 424405.51, 1709201.45, 212422.04, 2260890.88, 1649623.66, 1939235.3, 1201257.18, 2730591.16, 413931.34, 1202270.23, 211868.36, 1654563.98, 1873205.91, 1764210.85, 1431141.56, 3212552.24, 450494.18, 1434383.77, 311176.56, 2036656.12, 1826496.62, 1478975.82, 1377202.12, 2954175.96, 418763.72, 1501302.47, 206982.3, 1835735.0, 1860329.3, 1723625.04, 1217522.42, 3416600.27, 445069.67, 1479527.4, 294519.59, 2145071.52, 1771908.98, 1744519.06, 1484200.81, 2985953.81, 443241.8, 1660109.04, 315079.1, 2416002.43, 1743509.25, 1958437.1, 1363070.07, 3203944.93, 474166.48, 1739133.4, 462243.35, 2299962.02, 1610910.07, 1631460.3, 1324231.26, 2670469.78, 480810.73, 1416248.77, 464034.18, 1907834.16, 2120303.06, 2055125.98, 1545460.43, 3328289.46, 627548.45, 1639735.99, 592279.23, 2304907.45, 1923893.11, 1617124.36, 1337980.83, 3051823.18, 530475.53, 1523777.99, 467848.98, 1950436.22, 1629871.75, 1843047.36, 1234664.0, 3057929.0, 491747.17, 1766900.01, 515358.68, 2065939.21, 1636659.9, 1616355.0, 1239353.81, 2757145.78, 576870.99, 1982138.27, 424560.81, 1776143.49, 1737845.94, 1722754.95, 1359710.96, 3244095.85, 506914.62, 1254704.28, 430133.96, 1962853.58, 2196704.97, 1839862.82, 1328248.62, 3894801.66, 498857.3, 1600371.62, 498991.43, 2068854.19, 1731349.0, 2087149.52, 1355609.83, 3382543.31, 508403.31, 1474652.79, 431016.1, 2027603.38, 1798911.33, 1596909.93, 1286342.3, 3291930.64, 498120.52, 1546628.56, 477975.75, 2054710.68, 1660274.32, 1877733.21, 1161145.08, 2981372.2, 477305.38, 1387819.83, 464251.81, 1986059.01, 2077193.6, 1876392.91, 1458691.19, 3227507.37, 547236.44, 2322076.97, 650270.11, 2086229.79, 2388023.33, 1958150.0, 1444401.99, 3364304.91, 491074.45, 2390282.14, 534412.71, 2317428.16, 2230693.51, 1887110.85, 1122683.82, 2492113.6, 506379.84, 2117631.84, 663554.32, 2825876.79, 2635028.38, 1605775.14, 1206766.08, 2965153.82, 729792.24, 2042360.56, 519006.76, 2116029.65, 2788317.94, 1632488.05, 1070891.86, 2679760.58, 566241.35, 2067870.47, 591640.18, 2378441.26, 2530023.18, 1652244.4, 1057488.47, 2383018.56, 576153.62, 1833545.05, 579736.64, 2714363.53, 2286235.79, 1695841.56, 1537196.96, 4025382.16, 588304.97, 1352548.07, 426237.27, 2170792.82, 2025016.15, 1460066.36, 980865.05, 2438454.39, 583990.89, 1537781.45, 393459.25, 1990844.8, 2596785.28, 1825512.93, 1188242.89, 3920642.46, 584277.22, 1704035.46, 472310.67, 1937479.91, 1758964.54, 1794703.2, 1248271.45, 3333003.32, 467808.56, 1630407.36, 298081.99, 1668416.99, 2164098.99, 1322818.28, 1302219.95, 2738913.76, 441216.08, 1375460.43, 294620.08, 2060439.93, 1917124.52, 1471865.16, 955972.74, 2316404.82, 403638.25, 1451468.73, 285065.9, 1588339.47, 1810202.7, 1199426.12, 939038.5, 1964333.5, 364748.79, 1234911.39, 273706.42, 1216811.0, 2100246.17, 1680591.43, 1154808.22, 2541186.76, 394656.96, 1989750.87, 248205.38, 2051392.83, 1627240.76, 1342449.84, 1060753.67, 2852333.86, 463238.46, 1559601.21, 303892.09, 1596329.01, 1543280.76, 1337404.03, 1024405.09, 2330694.41, 341262.17, 1226508.86, 211595.53, 1314711.0, 1760956.02, 1411808.83, 1022861.71, 2313155.65, 404837.9, 1290847.05, 275823.43, 1717599.45]}, {\"line\": {\"color\": \"rgba(55, 128, 191, 1.0)\", \"dash\": \"solid\", \"shape\": \"linear\", \"width\": 1.3}, \"mode\": \"lines\", \"name\": \"4770XL\", \"text\": \"\", \"type\": \"scatter\", \"x\": [12, 30, 50, 58, 70, 90, 92, 104, 120, 138, 158, 166, 178, 198, 200, 212, 228, 246, 266, 274, 286, 306, 308, 320, 336, 354, 374, 382, 394, 414, 416, 428, 444, 462, 482, 490, 502, 522, 524, 536, 552, 570, 590, 598, 610, 630, 632, 644, 660, 678, 698, 706, 718, 738, 740, 752, 768, 786, 806, 814, 826, 846, 848, 860, 876, 894, 914, 922, 934, 954, 956, 968, 984, 1002, 1022, 1030, 1042, 1062, 1064, 1076, 1092, 1110, 1130, 1138, 1150, 1170, 1172, 1184, 1200, 1218, 1238, 1246, 1258, 1278, 1280, 1292, 1308, 1326, 1346, 1354, 1366, 1386, 1388, 1400, 1416, 1434, 1454, 1462, 1474, 1494, 1496, 1508, 1524, 1542, 1562, 1570, 1582, 1602, 1604, 1616, 1632, 1650, 1670, 1678, 1690, 1710, 1712, 1724, 1740, 1758, 1778, 1786, 1798, 1818, 1820, 1832, 1848, 1866, 1886, 1894, 1906, 1926, 1928, 1940, 1956, 1974, 1994, 2002, 2014, 2034, 2036, 2048, 2064, 2082, 2102, 2110, 2122, 2142, 2144, 2156, 2172, 2190, 2210, 2218, 2230, 2250, 2252, 2264, 2280, 2298, 2318, 2326, 2338, 2358, 2360, 2372, 2388, 2406, 2426, 2434, 2446, 2466, 2468, 2480, 2496, 2514, 2534, 2542, 2554, 2574, 2576, 2588, 2604, 2622, 2642, 2650, 2662, 2682, 2684, 2696, 2712, 2730, 2750, 2758, 2770, 2790, 2792, 2804, 2820, 2838, 2858, 2866, 2878, 2898, 2900, 2912, 2928, 2946, 2966, 2974, 2986, 3006, 3008, 3020, 3036, 3054, 3074, 3082, 3094, 3114, 3116, 3128, 3144, 3162, 3182, 3190, 3202, 3222, 3224, 3236, 3252, 3270, 3290, 3298, 3310, 3330, 3332, 3344, 3360, 3378, 3398, 3406, 3418, 3438, 3440, 3452, 3468, 3486, 3506, 3514, 3526, 3546, 3548, 3560, 3576, 3594, 3614, 3622, 3634, 3654, 3656, 3668, 3684, 3702, 3722, 3730, 3742, 3762, 3764, 3776, 3792, 3810, 3830, 3838, 3850, 3870, 3872, 3884, 3900, 3918, 3938, 3946, 3958, 3978, 3980, 3992, 4008, 4026, 4046, 4054, 4066, 4086, 4088, 4100, 4116, 4134, 4154, 4162, 4174, 4194, 4196, 4208, 4224, 4242, 4262, 4270, 4282, 4302, 4304, 4316, 4332, 4350, 4370, 4378, 4390, 4410, 4412, 4424, 4440, 4458, 4478, 4486, 4498, 4518, 4520, 4532, 4548, 4566, 4586, 4594, 4606, 4626, 4628, 4640, 4656, 4674, 4694, 4702, 4714, 4734, 4736, 4748, 4764, 4782, 4802, 4810, 4822, 4842, 4844, 4856, 4872, 4890, 4910, 4918, 4930, 4950, 4952, 4964, 4980, 4998, 5018, 5026, 5038, 5058, 5060, 5072, 5088, 5106, 5126, 5134, 5146, 5166, 5168, 5180, 5196, 5214, 5234, 5242, 5254, 5274, 5276, 5288, 5303, 5321, 5341, 5349, 5361, 5381, 5383, 5395, 5411, 5429, 5449, 5457, 5469, 5489, 5491, 5503, 5519, 5537, 5557, 5565, 5577, 5597, 5599, 5611], \"y\": [137479.64, 318102.38, 181058.65, 7580.38, 10476.89, 73432.89, 18938.42, 97024.09, 103573.42, 316856.73, 191515.19, 6915.47, 10009.45, 88373.78, 21918.53, 127412.09, 121614.31, 257105.89, 186027.52, 7215.59, 14504.7, 146481.44, 22004.31, 76348.13, 150535.5, 271642.56, 164873.48, 7923.65, 14022.68, 68870.69, 18600.92, 71550.57, 177145.49, 510153.65, 388259.15, 9191.41, 13768.85, 161845.27, 40258.76, 80893.53, 149458.93, 238780.53, 159491.59, 7219.81, 12488.08, 75885.05, 18310.04, 76305.42, 169907.54, 237030.33, 206499.63, 7773.07, 17649.52, 93961.98, 21706.04, 91125.41, 172675.88, 246541.13, 295228.18, 7049.52, 20287.44, 81708.29, 34466.49, 79181.93, 170580.54, 478701.64, 182873.34, 7317.59, 11417.67, 90167.62, 19429.67, 110088.02, 184720.58, 253978.78, 179824.24, 7864.97, 9283.84, 79560.0, 20683.77, 98092.96, 194761.49, 223788.7, 210234.78, 5531.34, 10344.37, 115290.48, 25792.72, 85831.16, 195791.46, 451798.84, 197573.91, 5436.84, 11548.82, 81039.5, 21570.5, 101626.05, 193577.55, 196545.04, 203057.64, 5707.16, 10085.33, 89374.2, 23224.7, 89701.26, 225396.85, 221603.31, 183653.85, 6203.7, 11645.81, 104285.22, 26137.34, 93055.21, 185198.77, 190091.28, 185691.58, 5306.97, 12343.11, 102729.01, 23471.11, 103110.58, 177354.82, 383840.98, 190006.01, 6389.9, 33180.04, 114923.71, 23684.96, 87250.83, 196469.02, 294073.96, 192090.19, 7040.21, 23878.2, 73076.91, 23844.72, 79259.0, 192473.92, 327171.65, 364283.54, 13487.57, 17406.31, 58510.13, 40064.12, 104932.26, 194575.97, 274259.73, 190755.81, 10220.82, 12270.69, 36330.84, 24440.63, 115290.95, 168597.35, 406338.23, 203615.52, 5593.26, 11424.24, 33292.23, 26127.7, 108561.0, 195991.06, 263068.72, 231744.91, 7774.83, 12148.13, 38143.15, 30510.18, 120398.95, 209443.33, 280464.92, 207708.91, 5488.64, 11918.96, 34073.41, 25671.13, 129139.05, 221330.48, 447117.42, 200001.49, 7058.9, 17034.85, 106106.86, 26236.45, 119829.5, 210670.82, 346867.18, 206159.51, 56827.08, 27161.21, 77844.97, 46585.63, 112965.22, 218423.77, 493928.69, 215613.45, 77296.43, 22901.69, 97002.67, 62634.6, 138621.26, 212173.21, 261863.52, 215752.18, 72708.66, 18637.71, 81756.0, 59679.47, 123261.81, 254187.47, 442059.88, 232974.97, 92678.08, 19636.37, 47955.04, 97111.62, 155862.52, 157478.05, 288141.07, 205773.72, 75096.18, 14462.47, 33415.56, 72897.71, 133097.0, 188207.47, 454643.18, 218257.94, 36476.44, 37429.71, 28797.39, 77561.44, 113523.76, 209427.05, 281882.1, 199553.32, 14864.77, 53882.08, 32905.16, 78530.49, 146112.77, 183471.03, 321610.93, 208419.92, 11726.4, 33145.85, 24749.12, 81144.7, 120434.79, 193831.6, 331336.66, 203932.87, 9116.57, 21090.12, 40173.44, 79631.92, 135407.7, 208724.73, 475383.38, 222563.23, 8138.99, 14777.59, 35283.63, 55158.31, 123334.73, 222082.91, 279710.88, 210164.47, 7167.44, 16041.72, 30815.55, 35514.75, 107786.51, 233027.36, 419390.5, 196950.9, 11075.1, 14634.43, 28997.59, 31618.81, 124657.84, 240185.0, 348448.68, 314497.84, 6693.26, 15397.86, 36318.54, 43507.27, 124722.73, 270794.34, 447108.5, 182702.62, 4616.79, 15652.47, 34341.44, 26776.37, 136996.39, 273922.36, 418235.21, 208537.92, 4293.65, 15441.14, 39835.27, 27931.94, 124207.93, 206460.07, 344488.51, 274903.15, 4785.85, 14587.65, 83993.99, 33834.37, 98925.79, 222260.58, 381986.61, 194003.8, 5434.32, 15401.65, 184770.84, 25995.26, 179192.02, 221032.74, 456771.26, 277954.43, 4364.98, 14585.67, 426600.81, 34930.57, 178042.28, 217814.17, 353741.96, 215608.69, 5421.22, 14931.07, 274013.56, 28371.94, 110348.57, 215622.63, 331096.84, 211478.23, 3363.89, 15616.99, 247539.31, 28828.13, 134572.92, 211901.97, 388703.05, 260946.16, 4729.26, 17013.86, 363472.91, 31277.37, 132883.59, 216523.58, 425242.73, 228267.05, 4491.79, 19975.92, 115276.98, 25682.97, 107753.58, 195159.32, 248635.49, 168586.54, 3393.33, 17268.45, 39019.73, 20815.34, 122763.34, 215632.16, 280543.97, 117353.23, 4067.05, 15421.83, 39736.75, 13736.85, 118170.98, 222311.07, 248818.72, 101739.67, 3025.26, 10648.01, 27985.18, 12260.75, 104219.76, 221957.26, 398320.64, 133316.89, 3341.42, 13005.11, 38648.11, 15672.86, 107568.34, 232985.13, 228576.54, 113979.43, 4716.39, 17927.73, 271514.98, 12361.35, 134101.62, 266689.82, 241580.61, 96387.48, 14909.65, 27253.71, 412828.75, 10520.4, 130849.6, 232755.85, 254629.93, 103811.97, 35858.35, 25188.57, 392846.12, 13994.48, 125254.82]}, {\"line\": {\"color\": \"rgba(50, 171, 96, 1.0)\", \"dash\": \"solid\", \"shape\": \"linear\", \"width\": 1.3}, \"mode\": \"lines\", \"name\": \"4046S\", \"text\": \"\", \"type\": \"scatter\", \"x\": [12, 30, 50, 58, 70, 90, 92, 104, 120, 138, 158, 166, 178, 198, 200, 212, 228, 246, 266, 274, 286, 306, 308, 320, 336, 354, 374, 382, 394, 414, 416, 428, 444, 462, 482, 490, 502, 522, 524, 536, 552, 570, 590, 598, 610, 630, 632, 644, 660, 678, 698, 706, 718, 738, 740, 752, 768, 786, 806, 814, 826, 846, 848, 860, 876, 894, 914, 922, 934, 954, 956, 968, 984, 1002, 1022, 1030, 1042, 1062, 1064, 1076, 1092, 1110, 1130, 1138, 1150, 1170, 1172, 1184, 1200, 1218, 1238, 1246, 1258, 1278, 1280, 1292, 1308, 1326, 1346, 1354, 1366, 1386, 1388, 1400, 1416, 1434, 1454, 1462, 1474, 1494, 1496, 1508, 1524, 1542, 1562, 1570, 1582, 1602, 1604, 1616, 1632, 1650, 1670, 1678, 1690, 1710, 1712, 1724, 1740, 1758, 1778, 1786, 1798, 1818, 1820, 1832, 1848, 1866, 1886, 1894, 1906, 1926, 1928, 1940, 1956, 1974, 1994, 2002, 2014, 2034, 2036, 2048, 2064, 2082, 2102, 2110, 2122, 2142, 2144, 2156, 2172, 2190, 2210, 2218, 2230, 2250, 2252, 2264, 2280, 2298, 2318, 2326, 2338, 2358, 2360, 2372, 2388, 2406, 2426, 2434, 2446, 2466, 2468, 2480, 2496, 2514, 2534, 2542, 2554, 2574, 2576, 2588, 2604, 2622, 2642, 2650, 2662, 2682, 2684, 2696, 2712, 2730, 2750, 2758, 2770, 2790, 2792, 2804, 2820, 2838, 2858, 2866, 2878, 2898, 2900, 2912, 2928, 2946, 2966, 2974, 2986, 3006, 3008, 3020, 3036, 3054, 3074, 3082, 3094, 3114, 3116, 3128, 3144, 3162, 3182, 3190, 3202, 3222, 3224, 3236, 3252, 3270, 3290, 3298, 3310, 3330, 3332, 3344, 3360, 3378, 3398, 3406, 3418, 3438, 3440, 3452, 3468, 3486, 3506, 3514, 3526, 3546, 3548, 3560, 3576, 3594, 3614, 3622, 3634, 3654, 3656, 3668, 3684, 3702, 3722, 3730, 3742, 3762, 3764, 3776, 3792, 3810, 3830, 3838, 3850, 3870, 3872, 3884, 3900, 3918, 3938, 3946, 3958, 3978, 3980, 3992, 4008, 4026, 4046, 4054, 4066, 4086, 4088, 4100, 4116, 4134, 4154, 4162, 4174, 4194, 4196, 4208, 4224, 4242, 4262, 4270, 4282, 4302, 4304, 4316, 4332, 4350, 4370, 4378, 4390, 4410, 4412, 4424, 4440, 4458, 4478, 4486, 4498, 4518, 4520, 4532, 4548, 4566, 4586, 4594, 4606, 4626, 4628, 4640, 4656, 4674, 4694, 4702, 4714, 4734, 4736, 4748, 4764, 4782, 4802, 4810, 4822, 4842, 4844, 4856, 4872, 4890, 4910, 4918, 4930, 4950, 4952, 4964, 4980, 4998, 5018, 5026, 5038, 5058, 5060, 5072, 5088, 5106, 5126, 5134, 5146, 5166, 5168, 5180, 5196, 5214, 5234, 5242, 5254, 5274, 5276, 5288, 5303, 5321, 5341, 5349, 5361, 5381, 5383, 5395, 5411, 5429, 5449, 5457, 5469, 5489, 5491, 5503, 5519, 5537, 5557, 5565, 5577, 5597, 5599, 5611], \"y\": [2843648.26, 467259.47, 575245.44, 126640.65, 1027842.3, 2745009.1, 2296069.27, 2275446.87, 2889591.29, 416900.3, 560119.16, 97343.55, 737363.86, 2973367.52, 1667012.92, 2203111.92, 2780859.66, 401683.43, 530333.83, 91803.09, 966515.75, 2839359.92, 1815847.03, 2431736.63, 2380955.61, 390289.67, 566435.98, 96761.81, 841332.54, 3205533.39, 1990978.47, 2695157.56, 4794142.14, 768874.35, 888523.17, 133613.0, 1383259.28, 3776936.71, 3656338.95, 3531350.44, 2908845.38, 515789.01, 732854.05, 128978.49, 1077511.79, 3323430.66, 1871661.73, 2749122.29, 3315163.6, 390973.21, 634266.43, 88056.2, 847328.77, 3046997.7, 1820564.15, 2483265.25, 3210177.22, 391400.93, 632670.12, 92283.05, 818736.11, 3077730.66, 1960713.06, 2444851.21, 3516551.29, 353818.94, 620672.44, 88609.28, 854129.32, 2944928.22, 2682065.6, 2221447.89, 3484274.6, 380674.2, 545690.6, 113602.19, 838161.13, 3215935.34, 1894002.38, 2541409.9, 2962520.41, 475449.58, 570576.91, 111777.91, 839457.23, 3290881.46, 1865220.72, 3034104.48, 2348618.25, 543151.72, 681261.26, 118765.0, 885071.63, 3785376.16, 2823708.05, 2511453.54, 2609532.63, 456518.93, 576473.89, 96169.31, 912075.07, 3091049.63, 1804282.66, 2978534.92, 2754464.87, 504487.79, 617567.29, 97887.72, 898263.98, 3676642.17, 2257669.21, 3132031.4, 2848184.0, 548501.37, 665283.33, 93987.65, 1423163.45, 3851189.34, 2801179.62, 2561865.42, 3024466.22, 615564.03, 654378.33, 110954.74, 1055547.01, 3657278.94, 2014443.63, 3118686.39, 2421009.67, 609506.22, 698128.52, 110930.88, 1022915.7, 3637682.35, 2170188.85, 3163353.08, 4340117.03, 719493.66, 793989.95, 129459.52, 1485535.26, 3520801.33, 3682277.46, 3115937.71, 4085858.78, 766730.7, 721935.59, 134556.37, 1319397.29, 3969053.76, 2167781.63, 3050014.63, 2923673.93, 787079.55, 698401.8, 114065.77, 1228815.94, 3979432.32, 2098271.46, 2786200.82, 2978396.74, 758183.5, 719874.17, 112425.95, 1221023.1, 3794422.74, 3209533.78, 3206247.81, 3620440.35, 667193.97, 734816.3, 116068.2, 1085643.8, 4136440.91, 2048880.09, 3094129.71, 3614314.44, 689242.14, 724315.73, 109587.85, 1207877.63, 3870043.62, 2862823.58, 3451592.61, 4075881.34, 604782.48, 653441.16, 112693.47, 1117926.72, 4668964.65, 1910736.86, 3239258.39, 3328631.93, 487936.68, 601782.55, 106859.5, 1049002.63, 3460014.16, 2602623.94, 3062753.54, 3163839.74, 476721.82, 534709.22, 105387.01, 954738.73, 3656335.59, 1721633.23, 2686203.38, 3581149.88, 502233.05, 632988.75, 122190.4, 927860.87, 3835278.13, 2713600.49, 3328637.8, 2747299.98, 456044.5, 532046.38, 110242.95, 953323.15, 3318843.01, 1578243.11, 2688406.31, 2805887.74, 449090.82, 569216.65, 107602.07, 824192.7, 3141801.51, 2507726.2, 2337242.49, 3112921.78, 475306.73, 531729.96, 102482.55, 898275.28, 3166737.18, 1615660.84, 2293111.63, 2940145.82, 490577.01, 532287.84, 104772.22, 761285.69, 3276776.23, 1539272.45, 2470116.49, 3260775.73, 420919.7, 531460.61, 105393.94, 789751.38, 3096265.87, 2430272.64, 2368531.2, 3098708.55, 414756.68, 627950.44, 97139.95, 911935.06, 3273624.13, 1615209.93, 2640927.73, 2626977.95, 404182.26, 571552.62, 107907.11, 930286.05, 3058909.34, 1423075.89, 2160130.08, 3104607.82, 478858.03, 516825.42, 93227.99, 699755.69, 3171393.1, 1422797.76, 2163511.05, 2859325.91, 432770.76, 564493.74, 99311.62, 857114.48, 2897999.07, 2175323.4, 2682938.17, 1863270.81, 492741.15, 574792.78, 95839.65, 727720.21, 2608997.38, 1317283.12, 2194373.38, 1702965.49, 460475.95, 555127.12, 86196.27, 611683.23, 2453284.69, 2000380.63, 1552161.89, 1860050.39, 343271.52, 479660.47, 86278.88, 564480.54, 2252044.96, 1266450.71, 1601971.34, 1461112.39, 296032.66, 467701.3, 99666.72, 492561.57, 2257194.22, 1909901.24, 1369449.86, 1757211.58, 355508.86, 469059.21, 88376.7, 708470.83, 2351606.01, 1810141.55, 1287965.79, 1847991.31, 396690.54, 555583.11, 93569.28, 492966.35, 2488221.2, 1274185.16, 2012887.19, 1733791.31, 383559.81, 522060.98, 88907.0, 559720.23, 2542914.87, 1278660.6, 1574344.01, 2369824.75, 436343.74, 549089.55, 95355.74, 469390.49, 2344879.12, 2058754.3, 1815066.15, 2317858.81, 410061.0, 568612.19, 86385.14, 513609.22, 2470146.6, 1420318.78, 2204338.57, 2243013.44, 342002.87, 470482.8, 89242.5, 549163.56, 2762021.24, 1455202.28, 1996852.58, 1602215.57, 347803.29, 422437.27, 79006.95, 584490.6, 2187382.97, 1799501.02, 1549012.12, 1461699.38, 318661.4, 417849.42, 71191.69, 460759.58, 2105670.46, 1797110.09, 1461861.54, 1943065.5, 401676.14, 507201.58, 85444.57, 579077.46, 2271088.12, 1520190.48, 2097720.52, 1806690.08, 463349.67, 515063.58, 81055.1, 695419.91, 2366879.8, 2127600.06, 1798995.46, 1676601.43, 383701.76, 446433.13, 72576.52, 497437.17, 2166801.03, 1449139.49, 2017331.24, 1833946.59, 336673.7, 435246.31, 69920.54, 571602.6, 2295315.43, 2045752.24, 2038443.68]}],                        {\"legend\": {\"bgcolor\": \"#F5F6F9\", \"font\": {\"color\": \"#4D5663\"}}, \"paper_bgcolor\": \"#F5F6F9\", \"plot_bgcolor\": \"#F5F6F9\", \"template\": {\"data\": {\"bar\": [{\"error_x\": {\"color\": \"#2a3f5f\"}, \"error_y\": {\"color\": \"#2a3f5f\"}, \"marker\": {\"line\": {\"color\": \"#E5ECF6\", \"width\": 0.5}}, \"type\": \"bar\"}], \"barpolar\": [{\"marker\": {\"line\": {\"color\": \"#E5ECF6\", \"width\": 0.5}}, \"type\": \"barpolar\"}], \"carpet\": [{\"aaxis\": {\"endlinecolor\": \"#2a3f5f\", \"gridcolor\": \"white\", \"linecolor\": \"white\", \"minorgridcolor\": \"white\", \"startlinecolor\": \"#2a3f5f\"}, \"baxis\": {\"endlinecolor\": \"#2a3f5f\", \"gridcolor\": \"white\", \"linecolor\": \"white\", \"minorgridcolor\": \"white\", \"startlinecolor\": \"#2a3f5f\"}, \"type\": \"carpet\"}], \"choropleth\": [{\"colorbar\": {\"outlinewidth\": 0, \"ticks\": \"\"}, \"type\": \"choropleth\"}], \"contour\": [{\"colorbar\": {\"outlinewidth\": 0, \"ticks\": \"\"}, \"colorscale\": [[0.0, \"#0d0887\"], [0.1111111111111111, \"#46039f\"], [0.2222222222222222, \"#7201a8\"], [0.3333333333333333, \"#9c179e\"], [0.4444444444444444, \"#bd3786\"], [0.5555555555555556, \"#d8576b\"], [0.6666666666666666, \"#ed7953\"], [0.7777777777777778, \"#fb9f3a\"], [0.8888888888888888, \"#fdca26\"], [1.0, \"#f0f921\"]], \"type\": \"contour\"}], \"contourcarpet\": [{\"colorbar\": {\"outlinewidth\": 0, \"ticks\": \"\"}, \"type\": \"contourcarpet\"}], \"heatmap\": [{\"colorbar\": {\"outlinewidth\": 0, \"ticks\": \"\"}, \"colorscale\": [[0.0, \"#0d0887\"], [0.1111111111111111, \"#46039f\"], [0.2222222222222222, \"#7201a8\"], [0.3333333333333333, \"#9c179e\"], [0.4444444444444444, \"#bd3786\"], [0.5555555555555556, \"#d8576b\"], [0.6666666666666666, \"#ed7953\"], [0.7777777777777778, \"#fb9f3a\"], [0.8888888888888888, \"#fdca26\"], [1.0, \"#f0f921\"]], \"type\": \"heatmap\"}], \"heatmapgl\": [{\"colorbar\": {\"outlinewidth\": 0, \"ticks\": \"\"}, \"colorscale\": [[0.0, \"#0d0887\"], [0.1111111111111111, \"#46039f\"], [0.2222222222222222, \"#7201a8\"], [0.3333333333333333, \"#9c179e\"], [0.4444444444444444, \"#bd3786\"], [0.5555555555555556, \"#d8576b\"], [0.6666666666666666, \"#ed7953\"], [0.7777777777777778, \"#fb9f3a\"], [0.8888888888888888, \"#fdca26\"], [1.0, \"#f0f921\"]], \"type\": \"heatmapgl\"}], \"histogram\": [{\"marker\": {\"colorbar\": {\"outlinewidth\": 0, \"ticks\": \"\"}}, \"type\": \"histogram\"}], \"histogram2d\": [{\"colorbar\": {\"outlinewidth\": 0, \"ticks\": \"\"}, \"colorscale\": [[0.0, \"#0d0887\"], [0.1111111111111111, \"#46039f\"], [0.2222222222222222, \"#7201a8\"], [0.3333333333333333, \"#9c179e\"], [0.4444444444444444, \"#bd3786\"], [0.5555555555555556, \"#d8576b\"], [0.6666666666666666, \"#ed7953\"], [0.7777777777777778, \"#fb9f3a\"], [0.8888888888888888, \"#fdca26\"], [1.0, \"#f0f921\"]], \"type\": \"histogram2d\"}], \"histogram2dcontour\": [{\"colorbar\": {\"outlinewidth\": 0, \"ticks\": \"\"}, \"colorscale\": [[0.0, \"#0d0887\"], [0.1111111111111111, \"#46039f\"], [0.2222222222222222, \"#7201a8\"], [0.3333333333333333, \"#9c179e\"], [0.4444444444444444, \"#bd3786\"], [0.5555555555555556, \"#d8576b\"], [0.6666666666666666, \"#ed7953\"], [0.7777777777777778, \"#fb9f3a\"], [0.8888888888888888, \"#fdca26\"], [1.0, \"#f0f921\"]], \"type\": \"histogram2dcontour\"}], \"mesh3d\": [{\"colorbar\": {\"outlinewidth\": 0, \"ticks\": \"\"}, \"type\": \"mesh3d\"}], \"parcoords\": [{\"line\": {\"colorbar\": {\"outlinewidth\": 0, \"ticks\": \"\"}}, \"type\": \"parcoords\"}], \"pie\": [{\"automargin\": true, \"type\": \"pie\"}], \"scatter\": [{\"marker\": {\"colorbar\": {\"outlinewidth\": 0, \"ticks\": \"\"}}, \"type\": \"scatter\"}], \"scatter3d\": [{\"line\": {\"colorbar\": {\"outlinewidth\": 0, \"ticks\": \"\"}}, \"marker\": {\"colorbar\": {\"outlinewidth\": 0, \"ticks\": \"\"}}, \"type\": \"scatter3d\"}], \"scattercarpet\": [{\"marker\": {\"colorbar\": {\"outlinewidth\": 0, \"ticks\": \"\"}}, \"type\": \"scattercarpet\"}], \"scattergeo\": [{\"marker\": {\"colorbar\": {\"outlinewidth\": 0, \"ticks\": \"\"}}, \"type\": \"scattergeo\"}], \"scattergl\": [{\"marker\": {\"colorbar\": {\"outlinewidth\": 0, \"ticks\": \"\"}}, \"type\": \"scattergl\"}], \"scattermapbox\": [{\"marker\": {\"colorbar\": {\"outlinewidth\": 0, \"ticks\": \"\"}}, \"type\": \"scattermapbox\"}], \"scatterpolar\": [{\"marker\": {\"colorbar\": {\"outlinewidth\": 0, \"ticks\": \"\"}}, \"type\": \"scatterpolar\"}], \"scatterpolargl\": [{\"marker\": {\"colorbar\": {\"outlinewidth\": 0, \"ticks\": \"\"}}, \"type\": \"scatterpolargl\"}], \"scatterternary\": [{\"marker\": {\"colorbar\": {\"outlinewidth\": 0, \"ticks\": \"\"}}, \"type\": \"scatterternary\"}], \"surface\": [{\"colorbar\": {\"outlinewidth\": 0, \"ticks\": \"\"}, \"colorscale\": [[0.0, \"#0d0887\"], [0.1111111111111111, \"#46039f\"], [0.2222222222222222, \"#7201a8\"], [0.3333333333333333, \"#9c179e\"], [0.4444444444444444, \"#bd3786\"], [0.5555555555555556, \"#d8576b\"], [0.6666666666666666, \"#ed7953\"], [0.7777777777777778, \"#fb9f3a\"], [0.8888888888888888, \"#fdca26\"], [1.0, \"#f0f921\"]], \"type\": \"surface\"}], \"table\": [{\"cells\": {\"fill\": {\"color\": \"#EBF0F8\"}, \"line\": {\"color\": \"white\"}}, \"header\": {\"fill\": {\"color\": \"#C8D4E3\"}, \"line\": {\"color\": \"white\"}}, \"type\": \"table\"}]}, \"layout\": {\"annotationdefaults\": {\"arrowcolor\": \"#2a3f5f\", \"arrowhead\": 0, \"arrowwidth\": 1}, \"coloraxis\": {\"colorbar\": {\"outlinewidth\": 0, \"ticks\": \"\"}}, \"colorscale\": {\"diverging\": [[0, \"#8e0152\"], [0.1, \"#c51b7d\"], [0.2, \"#de77ae\"], [0.3, \"#f1b6da\"], [0.4, \"#fde0ef\"], [0.5, \"#f7f7f7\"], [0.6, \"#e6f5d0\"], [0.7, \"#b8e186\"], [0.8, \"#7fbc41\"], [0.9, \"#4d9221\"], [1, \"#276419\"]], \"sequential\": [[0.0, \"#0d0887\"], [0.1111111111111111, \"#46039f\"], [0.2222222222222222, \"#7201a8\"], [0.3333333333333333, \"#9c179e\"], [0.4444444444444444, \"#bd3786\"], [0.5555555555555556, \"#d8576b\"], [0.6666666666666666, \"#ed7953\"], [0.7777777777777778, \"#fb9f3a\"], [0.8888888888888888, \"#fdca26\"], [1.0, \"#f0f921\"]], \"sequentialminus\": [[0.0, \"#0d0887\"], [0.1111111111111111, \"#46039f\"], [0.2222222222222222, \"#7201a8\"], [0.3333333333333333, \"#9c179e\"], [0.4444444444444444, \"#bd3786\"], [0.5555555555555556, \"#d8576b\"], [0.6666666666666666, \"#ed7953\"], [0.7777777777777778, \"#fb9f3a\"], [0.8888888888888888, \"#fdca26\"], [1.0, \"#f0f921\"]]}, \"colorway\": [\"#636efa\", \"#EF553B\", \"#00cc96\", \"#ab63fa\", \"#FFA15A\", \"#19d3f3\", \"#FF6692\", \"#B6E880\", \"#FF97FF\", \"#FECB52\"], \"font\": {\"color\": \"#2a3f5f\"}, \"geo\": {\"bgcolor\": \"white\", \"lakecolor\": \"white\", \"landcolor\": \"#E5ECF6\", \"showlakes\": true, \"showland\": true, \"subunitcolor\": \"white\"}, \"hoverlabel\": {\"align\": \"left\"}, \"hovermode\": \"closest\", \"mapbox\": {\"style\": \"light\"}, \"paper_bgcolor\": \"white\", \"plot_bgcolor\": \"#E5ECF6\", \"polar\": {\"angularaxis\": {\"gridcolor\": \"white\", \"linecolor\": \"white\", \"ticks\": \"\"}, \"bgcolor\": \"#E5ECF6\", \"radialaxis\": {\"gridcolor\": \"white\", \"linecolor\": \"white\", \"ticks\": \"\"}}, \"scene\": {\"xaxis\": {\"backgroundcolor\": \"#E5ECF6\", \"gridcolor\": \"white\", \"gridwidth\": 2, \"linecolor\": \"white\", \"showbackground\": true, \"ticks\": \"\", \"zerolinecolor\": \"white\"}, \"yaxis\": {\"backgroundcolor\": \"#E5ECF6\", \"gridcolor\": \"white\", \"gridwidth\": 2, \"linecolor\": \"white\", \"showbackground\": true, \"ticks\": \"\", \"zerolinecolor\": \"white\"}, \"zaxis\": {\"backgroundcolor\": \"#E5ECF6\", \"gridcolor\": \"white\", \"gridwidth\": 2, \"linecolor\": \"white\", \"showbackground\": true, \"ticks\": \"\", \"zerolinecolor\": \"white\"}}, \"shapedefaults\": {\"line\": {\"color\": \"#2a3f5f\"}}, \"ternary\": {\"aaxis\": {\"gridcolor\": \"white\", \"linecolor\": \"white\", \"ticks\": \"\"}, \"baxis\": {\"gridcolor\": \"white\", \"linecolor\": \"white\", \"ticks\": \"\"}, \"bgcolor\": \"#E5ECF6\", \"caxis\": {\"gridcolor\": \"white\", \"linecolor\": \"white\", \"ticks\": \"\"}}, \"title\": {\"x\": 0.05}, \"xaxis\": {\"automargin\": true, \"gridcolor\": \"white\", \"linecolor\": \"white\", \"ticks\": \"\", \"title\": {\"standoff\": 15}, \"zerolinecolor\": \"white\", \"zerolinewidth\": 2}, \"yaxis\": {\"automargin\": true, \"gridcolor\": \"white\", \"linecolor\": \"white\", \"ticks\": \"\", \"title\": {\"standoff\": 15}, \"zerolinecolor\": \"white\", \"zerolinewidth\": 2}}}, \"title\": {\"font\": {\"color\": \"#4D5663\"}}, \"xaxis\": {\"gridcolor\": \"#E1E5ED\", \"showgrid\": true, \"tickfont\": {\"color\": \"#4D5663\"}, \"title\": {\"font\": {\"color\": \"#4D5663\"}, \"text\": \"\"}, \"zerolinecolor\": \"#E1E5ED\"}, \"yaxis\": {\"gridcolor\": \"#E1E5ED\", \"showgrid\": true, \"tickfont\": {\"color\": \"#4D5663\"}, \"title\": {\"font\": {\"color\": \"#4D5663\"}, \"text\": \"\"}, \"zerolinecolor\": \"#E1E5ED\"}},                        {\"showLink\": true, \"linkText\": \"Export to plot.ly\", \"plotlyServerURL\": \"https://plot.ly\", \"responsive\": true}                    ).then(function(){\n",
       "                            \n",
       "var gd = document.getElementById('138527a7-8849-4b48-8a66-3cb0ddd05f0b');\n",
       "var x = new MutationObserver(function (mutations, observer) {{\n",
       "        var display = window.getComputedStyle(gd).display;\n",
       "        if (!display || display === 'none') {{\n",
       "            console.log([gd, 'removed!']);\n",
       "            Plotly.purge(gd);\n",
       "            observer.disconnect();\n",
       "        }}\n",
       "}});\n",
       "\n",
       "// Listen for the removal of the full notebook cells\n",
       "var notebookContainer = gd.closest('#notebook-container');\n",
       "if (notebookContainer) {{\n",
       "    x.observe(notebookContainer, {childList: true});\n",
       "}}\n",
       "\n",
       "// Listen for the clearing of the current output cell\n",
       "var outputEl = gd.closest('.output');\n",
       "if (outputEl) {{\n",
       "    x.observe(outputEl, {childList: true});\n",
       "}}\n",
       "\n",
       "                        })                };                });            </script>        </div>"
      ]
     },
     "metadata": {},
     "output_type": "display_data"
    }
   ],
   "source": [
    "Conv_2015_RG[['4225L','4770XL','4046S']].iplot()"
   ]
  },
  {
   "cell_type": "code",
   "execution_count": null,
   "metadata": {},
   "outputs": [],
   "source": []
  },
  {
   "cell_type": "code",
   "execution_count": null,
   "metadata": {},
   "outputs": [],
   "source": []
  },
  {
   "cell_type": "code",
   "execution_count": null,
   "metadata": {},
   "outputs": [],
   "source": []
  },
  {
   "cell_type": "markdown",
   "metadata": {},
   "source": [
    "# Ignore this part for now\n",
    "Now that we have the regions seperated, we can make calculations based on the regions."
   ]
  },
  {
   "cell_type": "markdown",
   "metadata": {},
   "source": [
    "#Create a data frame with regions only from the year 2015 and type conventional\n",
    "Regions2015conv=Regionsdf.loc[((Regionsdf['year']==2015)&(Regionsdf['type']=='conventional'))]\n",
    "\n",
    "#create a data frame with regions only from the year 2015 and type organic\n",
    "Regions2015org=Regionsdf.loc[((Regionsdf['year']==2015)&(Regionsdf['type']=='organic'))]\n",
    "\n",
    "#Print the sum for conventional and organic avocados in 2015.\n",
    "print('Extra Large Bags Conventional Avocados 2015: ',Regions2015conv['xlarge_bags'].mean())\n",
    "print('Extra Large Bags Organic Avocados 2015: ',Regions2015org['xlarge_bags'].mean())"
   ]
  },
  {
   "cell_type": "markdown",
   "metadata": {},
   "source": [
    "#Isolate the sales in the year of 2015\n",
    "Regions2015=Regionsdf.loc[Regionsdf['year']==2015]\n",
    "\n",
    "#A barplot that will show the sum of the of xlarge bags of conventional sold in a month for the year 2015.\n",
    "sns.barplot(data=Regions2015,\n",
    "           x='month',\n",
    "           y='xlarge_bags',\n",
    "            hue='type',\n",
    "           palette='Blues_d')"
   ]
  },
  {
   "cell_type": "markdown",
   "metadata": {},
   "source": [
    "The barplot above shows us the average sales for extra large avocado bags in 2015. It looks like the most sales where in the month of December for 2015."
   ]
  },
  {
   "cell_type": "markdown",
   "metadata": {},
   "source": [
    "sns.violinplot(data=Regions2015,\n",
    "              x='type',\n",
    "              y='month')"
   ]
  },
  {
   "cell_type": "markdown",
   "metadata": {},
   "source": [
    "df1415=Regions2015conv.loc[Regions2015conv['date']=='2015-01-04']"
   ]
  },
  {
   "cell_type": "markdown",
   "metadata": {},
   "source": [
    "df1415['small_bags'].sum()"
   ]
  },
  {
   "cell_type": "code",
   "execution_count": null,
   "metadata": {},
   "outputs": [],
   "source": []
  },
  {
   "cell_type": "code",
   "execution_count": null,
   "metadata": {},
   "outputs": [],
   "source": []
  },
  {
   "cell_type": "code",
   "execution_count": null,
   "metadata": {},
   "outputs": [],
   "source": []
  },
  {
   "cell_type": "markdown",
   "metadata": {},
   "source": [
    "# lets try to look at it before it we added the average to the columns."
   ]
  },
  {
   "cell_type": "code",
   "execution_count": 228,
   "metadata": {},
   "outputs": [
    {
     "data": {
      "text/html": [
       "<div>\n",
       "<style scoped>\n",
       "    .dataframe tbody tr th:only-of-type {\n",
       "        vertical-align: middle;\n",
       "    }\n",
       "\n",
       "    .dataframe tbody tr th {\n",
       "        vertical-align: top;\n",
       "    }\n",
       "\n",
       "    .dataframe thead th {\n",
       "        text-align: right;\n",
       "    }\n",
       "</style>\n",
       "<table border=\"1\" class=\"dataframe\">\n",
       "  <thead>\n",
       "    <tr style=\"text-align: right;\">\n",
       "      <th></th>\n",
       "      <th>date</th>\n",
       "      <th>average_price</th>\n",
       "      <th>total_volume</th>\n",
       "      <th>4046</th>\n",
       "      <th>4225</th>\n",
       "      <th>4770</th>\n",
       "      <th>total_bags</th>\n",
       "      <th>small_bags</th>\n",
       "      <th>large_bags</th>\n",
       "      <th>xlarge_bags</th>\n",
       "      <th>type</th>\n",
       "      <th>year</th>\n",
       "      <th>geography</th>\n",
       "    </tr>\n",
       "  </thead>\n",
       "  <tbody>\n",
       "    <tr>\n",
       "      <th>0</th>\n",
       "      <td>2015-01-04</td>\n",
       "      <td>1.22</td>\n",
       "      <td>40873.28</td>\n",
       "      <td>2819.50</td>\n",
       "      <td>28287.42</td>\n",
       "      <td>49.90</td>\n",
       "      <td>9716.46</td>\n",
       "      <td>9186.93</td>\n",
       "      <td>529.53</td>\n",
       "      <td>0.0</td>\n",
       "      <td>conventional</td>\n",
       "      <td>2015</td>\n",
       "      <td>Albany</td>\n",
       "    </tr>\n",
       "    <tr>\n",
       "      <th>1</th>\n",
       "      <td>2015-01-04</td>\n",
       "      <td>1.79</td>\n",
       "      <td>1373.95</td>\n",
       "      <td>57.42</td>\n",
       "      <td>153.88</td>\n",
       "      <td>0.00</td>\n",
       "      <td>1162.65</td>\n",
       "      <td>1162.65</td>\n",
       "      <td>0.00</td>\n",
       "      <td>0.0</td>\n",
       "      <td>organic</td>\n",
       "      <td>2015</td>\n",
       "      <td>Albany</td>\n",
       "    </tr>\n",
       "    <tr>\n",
       "      <th>2</th>\n",
       "      <td>2015-01-04</td>\n",
       "      <td>1.00</td>\n",
       "      <td>435021.49</td>\n",
       "      <td>364302.39</td>\n",
       "      <td>23821.16</td>\n",
       "      <td>82.15</td>\n",
       "      <td>46815.79</td>\n",
       "      <td>16707.15</td>\n",
       "      <td>30108.64</td>\n",
       "      <td>0.0</td>\n",
       "      <td>conventional</td>\n",
       "      <td>2015</td>\n",
       "      <td>Atlanta</td>\n",
       "    </tr>\n",
       "    <tr>\n",
       "      <th>3</th>\n",
       "      <td>2015-01-04</td>\n",
       "      <td>1.76</td>\n",
       "      <td>3846.69</td>\n",
       "      <td>1500.15</td>\n",
       "      <td>938.35</td>\n",
       "      <td>0.00</td>\n",
       "      <td>1408.19</td>\n",
       "      <td>1071.35</td>\n",
       "      <td>336.84</td>\n",
       "      <td>0.0</td>\n",
       "      <td>organic</td>\n",
       "      <td>2015</td>\n",
       "      <td>Atlanta</td>\n",
       "    </tr>\n",
       "    <tr>\n",
       "      <th>4</th>\n",
       "      <td>2015-01-04</td>\n",
       "      <td>1.08</td>\n",
       "      <td>788025.06</td>\n",
       "      <td>53987.31</td>\n",
       "      <td>552906.04</td>\n",
       "      <td>39995.03</td>\n",
       "      <td>141136.68</td>\n",
       "      <td>137146.07</td>\n",
       "      <td>3990.61</td>\n",
       "      <td>0.0</td>\n",
       "      <td>conventional</td>\n",
       "      <td>2015</td>\n",
       "      <td>Baltimore/Washington</td>\n",
       "    </tr>\n",
       "  </tbody>\n",
       "</table>\n",
       "</div>"
      ],
      "text/plain": [
       "         date  average_price  total_volume       4046       4225      4770  \\\n",
       "0  2015-01-04           1.22      40873.28    2819.50   28287.42     49.90   \n",
       "1  2015-01-04           1.79       1373.95      57.42     153.88      0.00   \n",
       "2  2015-01-04           1.00     435021.49  364302.39   23821.16     82.15   \n",
       "3  2015-01-04           1.76       3846.69    1500.15     938.35      0.00   \n",
       "4  2015-01-04           1.08     788025.06   53987.31  552906.04  39995.03   \n",
       "\n",
       "   total_bags  small_bags  large_bags  xlarge_bags          type  year  \\\n",
       "0     9716.46     9186.93      529.53          0.0  conventional  2015   \n",
       "1     1162.65     1162.65        0.00          0.0       organic  2015   \n",
       "2    46815.79    16707.15    30108.64          0.0  conventional  2015   \n",
       "3     1408.19     1071.35      336.84          0.0       organic  2015   \n",
       "4   141136.68   137146.07     3990.61          0.0  conventional  2015   \n",
       "\n",
       "              geography  \n",
       "0                Albany  \n",
       "1                Albany  \n",
       "2               Atlanta  \n",
       "3               Atlanta  \n",
       "4  Baltimore/Washington  "
      ]
     },
     "execution_count": 228,
     "metadata": {},
     "output_type": "execute_result"
    }
   ],
   "source": [
    "avocado_original=pd.read_csv('avocado-updated-2020.csv')\n",
    "avocado_original.head()"
   ]
  },
  {
   "cell_type": "code",
   "execution_count": 229,
   "metadata": {},
   "outputs": [],
   "source": [
    "totalus_orig=avocado_original.loc[avocado['geography']=='Total U.S.']"
   ]
  },
  {
   "cell_type": "code",
   "execution_count": 231,
   "metadata": {},
   "outputs": [],
   "source": [
    "origWOtotalus=avocado_original.loc[avocado['geography']!='Total U.S.']"
   ]
  },
  {
   "cell_type": "code",
   "execution_count": 234,
   "metadata": {},
   "outputs": [],
   "source": [
    "df1=origWOtotalus.loc[origWOtotalus['date']=='2015-01-04']"
   ]
  },
  {
   "cell_type": "code",
   "execution_count": 235,
   "metadata": {},
   "outputs": [
    {
     "data": {
      "text/plain": [
       "31883.78"
      ]
     },
     "execution_count": 235,
     "metadata": {},
     "output_type": "execute_result"
    }
   ],
   "source": [
    "df1['xlarge_bags'].sum()"
   ]
  },
  {
   "cell_type": "code",
   "execution_count": null,
   "metadata": {},
   "outputs": [],
   "source": []
  },
  {
   "cell_type": "code",
   "execution_count": null,
   "metadata": {},
   "outputs": [],
   "source": []
  },
  {
   "cell_type": "code",
   "execution_count": null,
   "metadata": {},
   "outputs": [],
   "source": []
  },
  {
   "cell_type": "code",
   "execution_count": null,
   "metadata": {},
   "outputs": [],
   "source": []
  },
  {
   "cell_type": "code",
   "execution_count": null,
   "metadata": {},
   "outputs": [],
   "source": []
  },
  {
   "cell_type": "markdown",
   "metadata": {},
   "source": [
    "# Looking at dates"
   ]
  },
  {
   "cell_type": "code",
   "execution_count": 189,
   "metadata": {},
   "outputs": [
    {
     "data": {
      "text/plain": [
       "array(['2015-01-04', '2015-01-11', '2015-01-18', '2015-01-25',\n",
       "       '2015-02-01', '2015-02-08', '2015-02-15', '2015-02-22',\n",
       "       '2015-03-01', '2015-03-08', '2015-03-15', '2015-03-22',\n",
       "       '2015-03-29', '2015-04-05', '2015-04-12', '2015-04-19',\n",
       "       '2015-04-26', '2015-05-03', '2015-05-10', '2015-05-17',\n",
       "       '2015-05-24', '2015-05-31', '2015-06-07', '2015-06-14',\n",
       "       '2015-06-21', '2015-06-28', '2015-07-05', '2015-07-12',\n",
       "       '2015-07-19', '2015-07-26', '2015-08-02', '2015-08-09',\n",
       "       '2015-08-16', '2015-08-23', '2015-08-30', '2015-09-06',\n",
       "       '2015-09-13', '2015-09-20', '2015-09-27', '2015-10-04',\n",
       "       '2015-10-11', '2015-10-18', '2015-10-25', '2015-11-01',\n",
       "       '2015-11-08', '2015-11-15', '2015-11-22', '2015-11-29',\n",
       "       '2015-12-06', '2015-12-13', '2015-12-20', '2015-12-27',\n",
       "       '2016-01-03', '2016-01-10', '2016-01-17', '2016-01-24',\n",
       "       '2016-01-31', '2016-02-07', '2016-02-14', '2016-02-21',\n",
       "       '2016-02-28', '2016-03-06', '2016-03-13', '2016-03-20',\n",
       "       '2016-03-27', '2016-04-03', '2016-04-10', '2016-04-17',\n",
       "       '2016-04-24', '2016-05-01', '2016-05-08', '2016-05-15',\n",
       "       '2016-05-22', '2016-05-29', '2016-06-05', '2016-06-12',\n",
       "       '2016-06-19', '2016-06-26', '2016-07-03', '2016-07-10',\n",
       "       '2016-07-17', '2016-07-24', '2016-07-31', '2016-08-07',\n",
       "       '2016-08-14', '2016-08-21', '2016-08-28', '2016-09-04',\n",
       "       '2016-09-11', '2016-09-18', '2016-09-25', '2016-10-02',\n",
       "       '2016-10-09', '2016-10-16', '2016-10-23', '2016-10-30',\n",
       "       '2016-11-06', '2016-11-13', '2016-11-20', '2016-11-27',\n",
       "       '2016-12-04', '2016-12-11', '2016-12-18', '2016-12-25',\n",
       "       '2017-01-01', '2017-01-08', '2017-01-15', '2017-01-22',\n",
       "       '2017-01-29', '2017-02-05', '2017-02-12', '2017-02-19',\n",
       "       '2017-02-26', '2017-03-05', '2017-03-12', '2017-03-19',\n",
       "       '2017-03-26', '2017-04-02', '2017-04-09', '2017-04-16',\n",
       "       '2017-04-23', '2017-04-30', '2017-05-07', '2017-05-14',\n",
       "       '2017-05-21', '2017-05-28', '2017-06-04', '2017-06-11',\n",
       "       '2017-06-18', '2017-06-25', '2017-07-02', '2017-07-09',\n",
       "       '2017-07-16', '2017-07-23', '2017-07-30', '2017-08-06',\n",
       "       '2017-08-13', '2017-08-20', '2017-08-27', '2017-09-03',\n",
       "       '2017-09-10', '2017-09-17', '2017-09-24', '2017-10-01',\n",
       "       '2017-10-08', '2017-10-15', '2017-10-22', '2017-10-29',\n",
       "       '2017-11-05', '2017-11-12', '2017-11-19', '2017-11-26',\n",
       "       '2017-12-03', '2017-12-10', '2017-12-17', '2017-12-24',\n",
       "       '2017-12-31', '2018-01-01', '2018-01-07', '2018-01-14',\n",
       "       '2018-01-21', '2018-01-28', '2018-02-04', '2018-02-11',\n",
       "       '2018-02-18', '2018-02-25', '2018-03-04', '2018-03-11',\n",
       "       '2018-03-18', '2018-03-25', '2018-04-01', '2018-04-08',\n",
       "       '2018-04-15', '2018-04-22', '2018-04-29', '2018-05-06',\n",
       "       '2018-05-13', '2018-05-20', '2018-05-27', '2018-06-03',\n",
       "       '2018-06-10', '2018-06-17', '2018-06-24', '2018-07-01',\n",
       "       '2018-07-08', '2018-07-15', '2018-07-22', '2018-07-29',\n",
       "       '2018-08-05', '2018-08-12', '2018-08-19', '2018-08-26',\n",
       "       '2018-09-02', '2018-09-09', '2018-09-16', '2018-09-23',\n",
       "       '2018-09-30', '2018-10-07', '2018-10-14', '2018-10-21',\n",
       "       '2018-10-28', '2018-11-04', '2018-11-11', '2018-11-18',\n",
       "       '2018-11-25', '2018-12-02', '2019-01-07', '2019-01-13',\n",
       "       '2019-01-20', '2019-01-27', '2019-02-03', '2019-02-10',\n",
       "       '2019-02-17', '2019-02-24', '2019-03-03', '2019-03-10',\n",
       "       '2019-03-17', '2019-03-24', '2019-03-31', '2019-04-07',\n",
       "       '2019-04-14', '2019-04-21', '2019-04-28', '2019-05-05',\n",
       "       '2019-05-12', '2019-05-19', '2019-05-26', '2019-06-02',\n",
       "       '2019-06-09', '2019-06-16', '2019-06-23', '2019-06-30',\n",
       "       '2019-07-07', '2019-07-14', '2019-07-21', '2019-07-28',\n",
       "       '2019-08-04', '2019-08-11', '2019-08-18', '2019-08-25',\n",
       "       '2019-09-01', '2019-09-08', '2019-09-15', '2019-09-22',\n",
       "       '2019-09-29', '2019-10-06', '2019-10-13', '2019-10-20',\n",
       "       '2019-10-27', '2019-11-03', '2019-11-10', '2019-11-17',\n",
       "       '2019-11-24', '2019-12-01', '2019-12-08', '2019-12-15',\n",
       "       '2019-12-22', '2019-12-29', '2020-01-06', '2020-01-12',\n",
       "       '2020-01-19', '2020-01-26', '2020-02-02', '2020-02-09',\n",
       "       '2020-02-16', '2020-02-23', '2020-03-01', '2020-03-08',\n",
       "       '2020-03-15', '2020-03-22', '2020-03-29', '2020-04-05',\n",
       "       '2020-04-12', '2020-04-19', '2020-04-26', '2020-05-03',\n",
       "       '2020-05-10', '2020-05-17'], dtype=object)"
      ]
     },
     "execution_count": 189,
     "metadata": {},
     "output_type": "execute_result"
    }
   ],
   "source": [
    "avocado['date'].unique()"
   ]
  },
  {
   "cell_type": "code",
   "execution_count": null,
   "metadata": {},
   "outputs": [],
   "source": []
  },
  {
   "cell_type": "code",
   "execution_count": null,
   "metadata": {},
   "outputs": [],
   "source": []
  },
  {
   "cell_type": "markdown",
   "metadata": {},
   "source": [
    "# looking at 2015"
   ]
  },
  {
   "cell_type": "code",
   "execution_count": 190,
   "metadata": {
    "scrolled": true
   },
   "outputs": [
    {
     "name": "stdout",
     "output_type": "stream",
     "text": [
      "There are a total of  5615  entries in 2015.\n",
      "There were  32101248.55771365  bags that were sold in 2015.\n",
      "The average bags that were sold in 2015 is  5717.052280981915 .\n"
     ]
    }
   ],
   "source": [
    "#We will be looking at the year 2015 by using the loc function and setting to the variable year_2015.\n",
    "#We also want to know the count, sum and mean for 2015.\n",
    "year_2015=avocado.loc[avocado['year']==2015]\n",
    "\n",
    "print('There are a total of ',year_2015['xlarge_bags'].count(),' entries in 2015.')\n",
    "print('There were ',year_2015['xlarge_bags'].sum(),' bags that were sold in 2015.')\n",
    "print('The average bags that were sold in 2015 is ',year_2015['xlarge_bags'].mean(),'.')"
   ]
  },
  {
   "cell_type": "markdown",
   "metadata": {},
   "source": [
    "Looking at the numbers above, we can determine that there were 5,615 total entries in 2015 for extra large bags containing conventional and organic avocados. When we sum the bags that were sold, we get 32,101,248.56 bags sold with an average of 5,717.05."
   ]
  },
  {
   "cell_type": "code",
   "execution_count": 191,
   "metadata": {},
   "outputs": [],
   "source": [
    "#We will now seperate conventional and organic avocados in the year 2015 into their own data frame.\n",
    "organic2015=year_2015.loc[year_2015['type']=='organic']\n",
    "conventional2015=year_2015.loc[year_2015['type']=='conventional']"
   ]
  },
  {
   "cell_type": "markdown",
   "metadata": {},
   "source": [
    "# Lets look at the dates from 2015"
   ]
  },
  {
   "cell_type": "code",
   "execution_count": 192,
   "metadata": {},
   "outputs": [
    {
     "data": {
      "text/plain": [
       "array(['2015-01-04', '2015-01-11', '2015-01-18', '2015-01-25',\n",
       "       '2015-02-01', '2015-02-08', '2015-02-15', '2015-02-22',\n",
       "       '2015-03-01', '2015-03-08', '2015-03-15', '2015-03-22',\n",
       "       '2015-03-29', '2015-04-05', '2015-04-12', '2015-04-19',\n",
       "       '2015-04-26', '2015-05-03', '2015-05-10', '2015-05-17',\n",
       "       '2015-05-24', '2015-05-31', '2015-06-07', '2015-06-14',\n",
       "       '2015-06-21', '2015-06-28', '2015-07-05', '2015-07-12',\n",
       "       '2015-07-19', '2015-07-26', '2015-08-02', '2015-08-09',\n",
       "       '2015-08-16', '2015-08-23', '2015-08-30', '2015-09-06',\n",
       "       '2015-09-13', '2015-09-20', '2015-09-27', '2015-10-04',\n",
       "       '2015-10-11', '2015-10-18', '2015-10-25', '2015-11-01',\n",
       "       '2015-11-08', '2015-11-15', '2015-11-22', '2015-11-29',\n",
       "       '2015-12-06', '2015-12-13', '2015-12-20', '2015-12-27'],\n",
       "      dtype=object)"
      ]
     },
     "execution_count": 192,
     "metadata": {},
     "output_type": "execute_result"
    }
   ],
   "source": [
    "year_2015['date'].unique()"
   ]
  },
  {
   "cell_type": "code",
   "execution_count": 193,
   "metadata": {},
   "outputs": [],
   "source": [
    "#We want to get the month from the date so that we can plot the sum of xlarge_bags per month.\n",
    "#The line below will make a new column named 'month' and extract the month number from the date.\n",
    "\n",
    "avocado['month']=pd.DatetimeIndex(avocado['date']).month"
   ]
  },
  {
   "cell_type": "code",
   "execution_count": 194,
   "metadata": {},
   "outputs": [],
   "source": [
    "#this data frame was made as dummy to practice with the barplot.\n",
    "year_2015_date=avocado.loc[avocado['year']==2015]"
   ]
  },
  {
   "cell_type": "code",
   "execution_count": 197,
   "metadata": {},
   "outputs": [
    {
     "data": {
      "text/plain": [
       "<matplotlib.axes._subplots.AxesSubplot at 0x122d05250>"
      ]
     },
     "execution_count": 197,
     "metadata": {},
     "output_type": "execute_result"
    },
    {
     "data": {
      "image/png": "[encoded data removed]",
      "text/plain": [
       "<Figure size 432x288 with 1 Axes>"
      ]
     },
     "metadata": {
      "needs_background": "light"
     },
     "output_type": "display_data"
    }
   ],
   "source": [
    "sns.barplot(x='month',y='xlarge_bags', data=year_2015_date,estimator=sum)"
   ]
  },
  {
   "cell_type": "code",
   "execution_count": 196,
   "metadata": {},
   "outputs": [
    {
     "data": {
      "text/plain": [
       "32101248.55771365"
      ]
     },
     "execution_count": 196,
     "metadata": {},
     "output_type": "execute_result"
    }
   ],
   "source": [
    "year_2015_date['xlarge_bags'].sum()"
   ]
  },
  {
   "cell_type": "markdown",
   "metadata": {},
   "source": [
    "# The numbers do not match!!"
   ]
  },
  {
   "cell_type": "code",
   "execution_count": 150,
   "metadata": {},
   "outputs": [
    {
     "name": "stdout",
     "output_type": "stream",
     "text": [
      "<class 'pandas.core.frame.DataFrame'>\n",
      "Int64Index: 2807 entries, 1 to 5614\n",
      "Data columns (total 13 columns):\n",
      " #   Column         Non-Null Count  Dtype  \n",
      "---  ------         --------------  -----  \n",
      " 0   date           2807 non-null   object \n",
      " 1   average_price  2807 non-null   float64\n",
      " 2   total_volume   2807 non-null   float64\n",
      " 3   4046S          2807 non-null   float64\n",
      " 4   4225L          2807 non-null   float64\n",
      " 5   4770XL         2807 non-null   float64\n",
      " 6   total_bags     2807 non-null   float64\n",
      " 7   small_bags     2807 non-null   float64\n",
      " 8   large_bags     2807 non-null   float64\n",
      " 9   xlarge_bags    2807 non-null   float64\n",
      " 10  type           2807 non-null   object \n",
      " 11  year           2807 non-null   int64  \n",
      " 12  geography      2807 non-null   object \n",
      "dtypes: float64(9), int64(1), object(3)\n",
      "memory usage: 307.0+ KB\n"
     ]
    }
   ],
   "source": [
    "#Lets try to see some info for both conventional and organic.\n",
    "organic2015.info()"
   ]
  },
  {
   "cell_type": "code",
   "execution_count": 151,
   "metadata": {},
   "outputs": [
    {
     "name": "stdout",
     "output_type": "stream",
     "text": [
      "<class 'pandas.core.frame.DataFrame'>\n",
      "Int64Index: 2808 entries, 0 to 5613\n",
      "Data columns (total 13 columns):\n",
      " #   Column         Non-Null Count  Dtype  \n",
      "---  ------         --------------  -----  \n",
      " 0   date           2808 non-null   object \n",
      " 1   average_price  2808 non-null   float64\n",
      " 2   total_volume   2808 non-null   float64\n",
      " 3   4046S          2808 non-null   float64\n",
      " 4   4225L          2808 non-null   float64\n",
      " 5   4770XL         2808 non-null   float64\n",
      " 6   total_bags     2808 non-null   float64\n",
      " 7   small_bags     2808 non-null   float64\n",
      " 8   large_bags     2808 non-null   float64\n",
      " 9   xlarge_bags    2808 non-null   float64\n",
      " 10  type           2808 non-null   object \n",
      " 11  year           2808 non-null   int64  \n",
      " 12  geography      2808 non-null   object \n",
      "dtypes: float64(9), int64(1), object(3)\n",
      "memory usage: 307.1+ KB\n"
     ]
    }
   ],
   "source": [
    "conventional2015.info()"
   ]
  },
  {
   "cell_type": "markdown",
   "metadata": {},
   "source": [
    "# Conventional vs Organic 2015"
   ]
  },
  {
   "cell_type": "code",
   "execution_count": 161,
   "metadata": {},
   "outputs": [
    {
     "data": {
      "text/plain": [
       "<matplotlib.axes._subplots.AxesSubplot at 0x12204b7f0>"
      ]
     },
     "execution_count": 161,
     "metadata": {},
     "output_type": "execute_result"
    },
    {
     "data": {
      "image/png": "[encoded data removed]",
      "text/plain": [
       "<Figure size 432x288 with 1 Axes>"
      ]
     },
     "metadata": {
      "needs_background": "light"
     },
     "output_type": "display_data"
    }
   ],
   "source": [
    "sns.barplot(x='type',y='xlarge_bags', data=year_2015)"
   ]
  },
  {
   "cell_type": "code",
   "execution_count": 154,
   "metadata": {},
   "outputs": [
    {
     "name": "stdout",
     "output_type": "stream",
     "text": [
      "The count for extra large organic avocado bags in 2015 is  2807\n",
      "There was a total of  17467167.044711065  extra large bags sold in 2015\n",
      "The average amount of extra large avocado bags sold in 2015 is  6222.717151660475\n"
     ]
    }
   ],
   "source": [
    "#Lets look at the count, sum and average for extra large organic avocado bags.\n",
    "print('The count for extra large organic avocado bags in 2015 is ',organic2015['xlarge_bags'].count())\n",
    "print('There was a total of ',organic2015['xlarge_bags'].sum(),' extra large bags sold in 2015')\n",
    "print('The average amount of extra large avocado bags sold in 2015 is ',organic2015['xlarge_bags'].mean())"
   ]
  },
  {
   "cell_type": "code",
   "execution_count": 156,
   "metadata": {},
   "outputs": [
    {
     "name": "stdout",
     "output_type": "stream",
     "text": [
      "The count for extra large conventional avocado bags in 2015 is  2808\n",
      "There was a total of  14634081.513002582  extra large bags sold in 2015 for conventional avocados.\n",
      "The average amount of extra large avocado bags sold in 2015 is  5211.567490385512\n"
     ]
    }
   ],
   "source": [
    "#Lets look at the count, sum and average for extra large conventional avocado bags.\n",
    "print('The count for extra large conventional avocado bags in 2015 is ',conventional2015['xlarge_bags'].count())\n",
    "print('There was a total of ',conventional2015['xlarge_bags'].sum(),' extra large bags sold in 2015 for conventional avocados.')\n",
    "print('The average amount of extra large avocado bags sold in 2015 is ',conventional2015['xlarge_bags'].mean())"
   ]
  },
  {
   "cell_type": "markdown",
   "metadata": {},
   "source": [
    "# Extra large choropleth?? work in progress"
   ]
  },
  {
   "cell_type": "code",
   "execution_count": 144,
   "metadata": {},
   "outputs": [],
   "source": [
    "data=dict(type='choropleth',\n",
    "         locationmode='USA-states',\n",
    "         locations=['geogrphy'],\n",
    "         z=['xlarge_bags'],\n",
    "         colorbar={'title':'Extra Large Bags'})"
   ]
  },
  {
   "cell_type": "code",
   "execution_count": 145,
   "metadata": {},
   "outputs": [],
   "source": [
    "layout=dict(title='Extra Large Bags',\n",
    "           geo=dict(scope='usa'))"
   ]
  },
  {
   "cell_type": "code",
   "execution_count": 146,
   "metadata": {},
   "outputs": [
    {
     "data": {
      "application/vnd.plotly.v1+json": {
       "config": {
        "linkText": "Export to plot.ly",
        "plotlyServerURL": "https://plot.ly",
        "showLink": false
       },
       "data": [
        {
         "colorbar": {
          "title": {
           "text": "Extra Large Bags"
          }
         },
         "locationmode": "USA-states",
         "locations": [
          "geogrphy"
         ],
         "type": "choropleth",
         "z": [
          "xlarge_bags"
         ]
        }
       ],
       "layout": {
        "geo": {
         "scope": "usa"
        },
        "template": {
         "data": {
          "bar": [
           {
            "error_x": {
             "color": "#2a3f5f"
            },
            "error_y": {
             "color": "#2a3f5f"
            },
            "marker": {
             "line": {
              "color": "#E5ECF6",
              "width": 0.5
             }
            },
            "type": "bar"
           }
          ],
          "barpolar": [
           {
            "marker": {
             "line": {
              "color": "#E5ECF6",
              "width": 0.5
             }
            },
            "type": "barpolar"
           }
          ],
          "carpet": [
           {
            "aaxis": {
             "endlinecolor": "#2a3f5f",
             "gridcolor": "white",
             "linecolor": "white",
             "minorgridcolor": "white",
             "startlinecolor": "#2a3f5f"
            },
            "baxis": {
             "endlinecolor": "#2a3f5f",
             "gridcolor": "white",
             "linecolor": "white",
             "minorgridcolor": "white",
             "startlinecolor": "#2a3f5f"
            },
            "type": "carpet"
           }
          ],
          "choropleth": [
           {
            "colorbar": {
             "outlinewidth": 0,
             "ticks": ""
            },
            "type": "choropleth"
           }
          ],
          "contour": [
           {
            "colorbar": {
             "outlinewidth": 0,
             "ticks": ""
            },
            "colorscale": [
             [
              0,
              "#0d0887"
             ],
             [
              0.1111111111111111,
              "#46039f"
             ],
             [
              0.2222222222222222,
              "#7201a8"
             ],
             [
              0.3333333333333333,
              "#9c179e"
             ],
             [
              0.4444444444444444,
              "#bd3786"
             ],
             [
              0.5555555555555556,
              "#d8576b"
             ],
             [
              0.6666666666666666,
              "#ed7953"
             ],
             [
              0.7777777777777778,
              "#fb9f3a"
             ],
             [
              0.8888888888888888,
              "#fdca26"
             ],
             [
              1,
              "#f0f921"
             ]
            ],
            "type": "contour"
           }
          ],
          "contourcarpet": [
           {
            "colorbar": {
             "outlinewidth": 0,
             "ticks": ""
            },
            "type": "contourcarpet"
           }
          ],
          "heatmap": [
           {
            "colorbar": {
             "outlinewidth": 0,
             "ticks": ""
            },
            "colorscale": [
             [
              0,
              "#0d0887"
             ],
             [
              0.1111111111111111,
              "#46039f"
             ],
             [
              0.2222222222222222,
              "#7201a8"
             ],
             [
              0.3333333333333333,
              "#9c179e"
             ],
             [
              0.4444444444444444,
              "#bd3786"
             ],
             [
              0.5555555555555556,
              "#d8576b"
             ],
             [
              0.6666666666666666,
              "#ed7953"
             ],
             [
              0.7777777777777778,
              "#fb9f3a"
             ],
             [
              0.8888888888888888,
              "#fdca26"
             ],
             [
              1,
              "#f0f921"
             ]
            ],
            "type": "heatmap"
           }
          ],
          "heatmapgl": [
           {
            "colorbar": {
             "outlinewidth": 0,
             "ticks": ""
            },
            "colorscale": [
             [
              0,
              "#0d0887"
             ],
             [
              0.1111111111111111,
              "#46039f"
             ],
             [
              0.2222222222222222,
              "#7201a8"
             ],
             [
              0.3333333333333333,
              "#9c179e"
             ],
             [
              0.4444444444444444,
              "#bd3786"
             ],
             [
              0.5555555555555556,
              "#d8576b"
             ],
             [
              0.6666666666666666,
              "#ed7953"
             ],
             [
              0.7777777777777778,
              "#fb9f3a"
             ],
             [
              0.8888888888888888,
              "#fdca26"
             ],
             [
              1,
              "#f0f921"
             ]
            ],
            "type": "heatmapgl"
           }
          ],
          "histogram": [
           {
            "marker": {
             "colorbar": {
              "outlinewidth": 0,
              "ticks": ""
             }
            },
            "type": "histogram"
           }
          ],
          "histogram2d": [
           {
            "colorbar": {
             "outlinewidth": 0,
             "ticks": ""
            },
            "colorscale": [
             [
              0,
              "#0d0887"
             ],
             [
              0.1111111111111111,
              "#46039f"
             ],
             [
              0.2222222222222222,
              "#7201a8"
             ],
             [
              0.3333333333333333,
              "#9c179e"
             ],
             [
              0.4444444444444444,
              "#bd3786"
             ],
             [
              0.5555555555555556,
              "#d8576b"
             ],
             [
              0.6666666666666666,
              "#ed7953"
             ],
             [
              0.7777777777777778,
              "#fb9f3a"
             ],
             [
              0.8888888888888888,
              "#fdca26"
             ],
             [
              1,
              "#f0f921"
             ]
            ],
            "type": "histogram2d"
           }
          ],
          "histogram2dcontour": [
           {
            "colorbar": {
             "outlinewidth": 0,
             "ticks": ""
            },
            "colorscale": [
             [
              0,
              "#0d0887"
             ],
             [
              0.1111111111111111,
              "#46039f"
             ],
             [
              0.2222222222222222,
              "#7201a8"
             ],
             [
              0.3333333333333333,
              "#9c179e"
             ],
             [
              0.4444444444444444,
              "#bd3786"
             ],
             [
              0.5555555555555556,
              "#d8576b"
             ],
             [
              0.6666666666666666,
              "#ed7953"
             ],
             [
              0.7777777777777778,
              "#fb9f3a"
             ],
             [
              0.8888888888888888,
              "#fdca26"
             ],
             [
              1,
              "#f0f921"
             ]
            ],
            "type": "histogram2dcontour"
           }
          ],
          "mesh3d": [
           {
            "colorbar": {
             "outlinewidth": 0,
             "ticks": ""
            },
            "type": "mesh3d"
           }
          ],
          "parcoords": [
           {
            "line": {
             "colorbar": {
              "outlinewidth": 0,
              "ticks": ""
             }
            },
            "type": "parcoords"
           }
          ],
          "pie": [
           {
            "automargin": true,
            "type": "pie"
           }
          ],
          "scatter": [
           {
            "marker": {
             "colorbar": {
              "outlinewidth": 0,
              "ticks": ""
             }
            },
            "type": "scatter"
           }
          ],
          "scatter3d": [
           {
            "line": {
             "colorbar": {
              "outlinewidth": 0,
              "ticks": ""
             }
            },
            "marker": {
             "colorbar": {
              "outlinewidth": 0,
              "ticks": ""
             }
            },
            "type": "scatter3d"
           }
          ],
          "scattercarpet": [
           {
            "marker": {
             "colorbar": {
              "outlinewidth": 0,
              "ticks": ""
             }
            },
            "type": "scattercarpet"
           }
          ],
          "scattergeo": [
           {
            "marker": {
             "colorbar": {
              "outlinewidth": 0,
              "ticks": ""
             }
            },
            "type": "scattergeo"
           }
          ],
          "scattergl": [
           {
            "marker": {
             "colorbar": {
              "outlinewidth": 0,
              "ticks": ""
             }
            },
            "type": "scattergl"
           }
          ],
          "scattermapbox": [
           {
            "marker": {
             "colorbar": {
              "outlinewidth": 0,
              "ticks": ""
             }
            },
            "type": "scattermapbox"
           }
          ],
          "scatterpolar": [
           {
            "marker": {
             "colorbar": {
              "outlinewidth": 0,
              "ticks": ""
             }
            },
            "type": "scatterpolar"
           }
          ],
          "scatterpolargl": [
           {
            "marker": {
             "colorbar": {
              "outlinewidth": 0,
              "ticks": ""
             }
            },
            "type": "scatterpolargl"
           }
          ],
          "scatterternary": [
           {
            "marker": {
             "colorbar": {
              "outlinewidth": 0,
              "ticks": ""
             }
            },
            "type": "scatterternary"
           }
          ],
          "surface": [
           {
            "colorbar": {
             "outlinewidth": 0,
             "ticks": ""
            },
            "colorscale": [
             [
              0,
              "#0d0887"
             ],
             [
              0.1111111111111111,
              "#46039f"
             ],
             [
              0.2222222222222222,
              "#7201a8"
             ],
             [
              0.3333333333333333,
              "#9c179e"
             ],
             [
              0.4444444444444444,
              "#bd3786"
             ],
             [
              0.5555555555555556,
              "#d8576b"
             ],
             [
              0.6666666666666666,
              "#ed7953"
             ],
             [
              0.7777777777777778,
              "#fb9f3a"
             ],
             [
              0.8888888888888888,
              "#fdca26"
             ],
             [
              1,
              "#f0f921"
             ]
            ],
            "type": "surface"
           }
          ],
          "table": [
           {
            "cells": {
             "fill": {
              "color": "#EBF0F8"
             },
             "line": {
              "color": "white"
             }
            },
            "header": {
             "fill": {
              "color": "#C8D4E3"
             },
             "line": {
              "color": "white"
             }
            },
            "type": "table"
           }
          ]
         },
         "layout": {
          "annotationdefaults": {
           "arrowcolor": "#2a3f5f",
           "arrowhead": 0,
           "arrowwidth": 1
          },
          "coloraxis": {
           "colorbar": {
            "outlinewidth": 0,
            "ticks": ""
           }
          },
          "colorscale": {
           "diverging": [
            [
             0,
             "#8e0152"
            ],
            [
             0.1,
             "#c51b7d"
            ],
            [
             0.2,
             "#de77ae"
            ],
            [
             0.3,
             "#f1b6da"
            ],
            [
             0.4,
             "#fde0ef"
            ],
            [
             0.5,
             "#f7f7f7"
            ],
            [
             0.6,
             "#e6f5d0"
            ],
            [
             0.7,
             "#b8e186"
            ],
            [
             0.8,
             "#7fbc41"
            ],
            [
             0.9,
             "#4d9221"
            ],
            [
             1,
             "#276419"
            ]
           ],
           "sequential": [
            [
             0,
             "#0d0887"
            ],
            [
             0.1111111111111111,
             "#46039f"
            ],
            [
             0.2222222222222222,
             "#7201a8"
            ],
            [
             0.3333333333333333,
             "#9c179e"
            ],
            [
             0.4444444444444444,
             "#bd3786"
            ],
            [
             0.5555555555555556,
             "#d8576b"
            ],
            [
             0.6666666666666666,
             "#ed7953"
            ],
            [
             0.7777777777777778,
             "#fb9f3a"
            ],
            [
             0.8888888888888888,
             "#fdca26"
            ],
            [
             1,
             "#f0f921"
            ]
           ],
           "sequentialminus": [
            [
             0,
             "#0d0887"
            ],
            [
             0.1111111111111111,
             "#46039f"
            ],
            [
             0.2222222222222222,
             "#7201a8"
            ],
            [
             0.3333333333333333,
             "#9c179e"
            ],
            [
             0.4444444444444444,
             "#bd3786"
            ],
            [
             0.5555555555555556,
             "#d8576b"
            ],
            [
             0.6666666666666666,
             "#ed7953"
            ],
            [
             0.7777777777777778,
             "#fb9f3a"
            ],
            [
             0.8888888888888888,
             "#fdca26"
            ],
            [
             1,
             "#f0f921"
            ]
           ]
          },
          "colorway": [
           "#636efa",
           "#EF553B",
           "#00cc96",
           "#ab63fa",
           "#FFA15A",
           "#19d3f3",
           "#FF6692",
           "#B6E880",
           "#FF97FF",
           "#FECB52"
          ],
          "font": {
           "color": "#2a3f5f"
          },
          "geo": {
           "bgcolor": "white",
           "lakecolor": "white",
           "landcolor": "#E5ECF6",
           "showlakes": true,
           "showland": true,
           "subunitcolor": "white"
          },
          "hoverlabel": {
           "align": "left"
          },
          "hovermode": "closest",
          "mapbox": {
           "style": "light"
          },
          "paper_bgcolor": "white",
          "plot_bgcolor": "#E5ECF6",
          "polar": {
           "angularaxis": {
            "gridcolor": "white",
            "linecolor": "white",
            "ticks": ""
           },
           "bgcolor": "#E5ECF6",
           "radialaxis": {
            "gridcolor": "white",
            "linecolor": "white",
            "ticks": ""
           }
          },
          "scene": {
           "xaxis": {
            "backgroundcolor": "#E5ECF6",
            "gridcolor": "white",
            "gridwidth": 2,
            "linecolor": "white",
            "showbackground": true,
            "ticks": "",
            "zerolinecolor": "white"
           },
           "yaxis": {
            "backgroundcolor": "#E5ECF6",
            "gridcolor": "white",
            "gridwidth": 2,
            "linecolor": "white",
            "showbackground": true,
            "ticks": "",
            "zerolinecolor": "white"
           },
           "zaxis": {
            "backgroundcolor": "#E5ECF6",
            "gridcolor": "white",
            "gridwidth": 2,
            "linecolor": "white",
            "showbackground": true,
            "ticks": "",
            "zerolinecolor": "white"
           }
          },
          "shapedefaults": {
           "line": {
            "color": "#2a3f5f"
           }
          },
          "ternary": {
           "aaxis": {
            "gridcolor": "white",
            "linecolor": "white",
            "ticks": ""
           },
           "baxis": {
            "gridcolor": "white",
            "linecolor": "white",
            "ticks": ""
           },
           "bgcolor": "#E5ECF6",
           "caxis": {
            "gridcolor": "white",
            "linecolor": "white",
            "ticks": ""
           }
          },
          "title": {
           "x": 0.05
          },
          "xaxis": {
           "automargin": true,
           "gridcolor": "white",
           "linecolor": "white",
           "ticks": "",
           "title": {
            "standoff": 15
           },
           "zerolinecolor": "white",
           "zerolinewidth": 2
          },
          "yaxis": {
           "automargin": true,
           "gridcolor": "white",
           "linecolor": "white",
           "ticks": "",
           "title": {
            "standoff": 15
           },
           "zerolinecolor": "white",
           "zerolinewidth": 2
          }
         }
        },
        "title": {
         "text": "Extra Large Bags"
        }
       }
      },
      "text/html": [
       "<div>                            <div id=\"079109fa-cc0d-401a-a2a1-734f5f67ebb9\" class=\"plotly-graph-div\" style=\"height:525px; width:100%;\"></div>            <script type=\"text/javascript\">                require([\"plotly\"], function(Plotly) {                    window.PLOTLYENV=window.PLOTLYENV || {};                                    if (document.getElementById(\"079109fa-cc0d-401a-a2a1-734f5f67ebb9\")) {                    Plotly.newPlot(                        \"079109fa-cc0d-401a-a2a1-734f5f67ebb9\",                        [{\"colorbar\": {\"title\": {\"text\": \"Extra Large Bags\"}}, \"locationmode\": \"USA-states\", \"locations\": [\"geogrphy\"], \"type\": \"choropleth\", \"z\": [\"xlarge_bags\"]}],                        {\"geo\": {\"scope\": \"usa\"}, \"template\": {\"data\": {\"bar\": [{\"error_x\": {\"color\": \"#2a3f5f\"}, \"error_y\": {\"color\": \"#2a3f5f\"}, \"marker\": {\"line\": {\"color\": \"#E5ECF6\", \"width\": 0.5}}, \"type\": \"bar\"}], \"barpolar\": [{\"marker\": {\"line\": {\"color\": \"#E5ECF6\", \"width\": 0.5}}, \"type\": \"barpolar\"}], \"carpet\": [{\"aaxis\": {\"endlinecolor\": \"#2a3f5f\", \"gridcolor\": \"white\", \"linecolor\": \"white\", \"minorgridcolor\": \"white\", \"startlinecolor\": \"#2a3f5f\"}, \"baxis\": {\"endlinecolor\": \"#2a3f5f\", \"gridcolor\": \"white\", \"linecolor\": \"white\", \"minorgridcolor\": \"white\", \"startlinecolor\": \"#2a3f5f\"}, \"type\": \"carpet\"}], \"choropleth\": [{\"colorbar\": {\"outlinewidth\": 0, \"ticks\": \"\"}, \"type\": \"choropleth\"}], \"contour\": [{\"colorbar\": {\"outlinewidth\": 0, \"ticks\": \"\"}, \"colorscale\": [[0.0, \"#0d0887\"], [0.1111111111111111, \"#46039f\"], [0.2222222222222222, \"#7201a8\"], [0.3333333333333333, \"#9c179e\"], [0.4444444444444444, \"#bd3786\"], [0.5555555555555556, \"#d8576b\"], [0.6666666666666666, \"#ed7953\"], [0.7777777777777778, \"#fb9f3a\"], [0.8888888888888888, \"#fdca26\"], [1.0, \"#f0f921\"]], \"type\": \"contour\"}], \"contourcarpet\": [{\"colorbar\": {\"outlinewidth\": 0, \"ticks\": \"\"}, \"type\": \"contourcarpet\"}], \"heatmap\": [{\"colorbar\": {\"outlinewidth\": 0, \"ticks\": \"\"}, \"colorscale\": [[0.0, \"#0d0887\"], [0.1111111111111111, \"#46039f\"], [0.2222222222222222, \"#7201a8\"], [0.3333333333333333, \"#9c179e\"], [0.4444444444444444, \"#bd3786\"], [0.5555555555555556, \"#d8576b\"], [0.6666666666666666, \"#ed7953\"], [0.7777777777777778, \"#fb9f3a\"], [0.8888888888888888, \"#fdca26\"], [1.0, \"#f0f921\"]], \"type\": \"heatmap\"}], \"heatmapgl\": [{\"colorbar\": {\"outlinewidth\": 0, \"ticks\": \"\"}, \"colorscale\": [[0.0, \"#0d0887\"], [0.1111111111111111, \"#46039f\"], [0.2222222222222222, \"#7201a8\"], [0.3333333333333333, \"#9c179e\"], [0.4444444444444444, \"#bd3786\"], [0.5555555555555556, \"#d8576b\"], [0.6666666666666666, \"#ed7953\"], [0.7777777777777778, \"#fb9f3a\"], [0.8888888888888888, \"#fdca26\"], [1.0, \"#f0f921\"]], \"type\": \"heatmapgl\"}], \"histogram\": [{\"marker\": {\"colorbar\": {\"outlinewidth\": 0, \"ticks\": \"\"}}, \"type\": \"histogram\"}], \"histogram2d\": [{\"colorbar\": {\"outlinewidth\": 0, \"ticks\": \"\"}, \"colorscale\": [[0.0, \"#0d0887\"], [0.1111111111111111, \"#46039f\"], [0.2222222222222222, \"#7201a8\"], [0.3333333333333333, \"#9c179e\"], [0.4444444444444444, \"#bd3786\"], [0.5555555555555556, \"#d8576b\"], [0.6666666666666666, \"#ed7953\"], [0.7777777777777778, \"#fb9f3a\"], [0.8888888888888888, \"#fdca26\"], [1.0, \"#f0f921\"]], \"type\": \"histogram2d\"}], \"histogram2dcontour\": [{\"colorbar\": {\"outlinewidth\": 0, \"ticks\": \"\"}, \"colorscale\": [[0.0, \"#0d0887\"], [0.1111111111111111, \"#46039f\"], [0.2222222222222222, \"#7201a8\"], [0.3333333333333333, \"#9c179e\"], [0.4444444444444444, \"#bd3786\"], [0.5555555555555556, \"#d8576b\"], [0.6666666666666666, \"#ed7953\"], [0.7777777777777778, \"#fb9f3a\"], [0.8888888888888888, \"#fdca26\"], [1.0, \"#f0f921\"]], \"type\": \"histogram2dcontour\"}], \"mesh3d\": [{\"colorbar\": {\"outlinewidth\": 0, \"ticks\": \"\"}, \"type\": \"mesh3d\"}], \"parcoords\": [{\"line\": {\"colorbar\": {\"outlinewidth\": 0, \"ticks\": \"\"}}, \"type\": \"parcoords\"}], \"pie\": [{\"automargin\": true, \"type\": \"pie\"}], \"scatter\": [{\"marker\": {\"colorbar\": {\"outlinewidth\": 0, \"ticks\": \"\"}}, \"type\": \"scatter\"}], \"scatter3d\": [{\"line\": {\"colorbar\": {\"outlinewidth\": 0, \"ticks\": \"\"}}, \"marker\": {\"colorbar\": {\"outlinewidth\": 0, \"ticks\": \"\"}}, \"type\": \"scatter3d\"}], \"scattercarpet\": [{\"marker\": {\"colorbar\": {\"outlinewidth\": 0, \"ticks\": \"\"}}, \"type\": \"scattercarpet\"}], \"scattergeo\": [{\"marker\": {\"colorbar\": {\"outlinewidth\": 0, \"ticks\": \"\"}}, \"type\": \"scattergeo\"}], \"scattergl\": [{\"marker\": {\"colorbar\": {\"outlinewidth\": 0, \"ticks\": \"\"}}, \"type\": \"scattergl\"}], \"scattermapbox\": [{\"marker\": {\"colorbar\": {\"outlinewidth\": 0, \"ticks\": \"\"}}, \"type\": \"scattermapbox\"}], \"scatterpolar\": [{\"marker\": {\"colorbar\": {\"outlinewidth\": 0, \"ticks\": \"\"}}, \"type\": \"scatterpolar\"}], \"scatterpolargl\": [{\"marker\": {\"colorbar\": {\"outlinewidth\": 0, \"ticks\": \"\"}}, \"type\": \"scatterpolargl\"}], \"scatterternary\": [{\"marker\": {\"colorbar\": {\"outlinewidth\": 0, \"ticks\": \"\"}}, \"type\": \"scatterternary\"}], \"surface\": [{\"colorbar\": {\"outlinewidth\": 0, \"ticks\": \"\"}, \"colorscale\": [[0.0, \"#0d0887\"], [0.1111111111111111, \"#46039f\"], [0.2222222222222222, \"#7201a8\"], [0.3333333333333333, \"#9c179e\"], [0.4444444444444444, \"#bd3786\"], [0.5555555555555556, \"#d8576b\"], [0.6666666666666666, \"#ed7953\"], [0.7777777777777778, \"#fb9f3a\"], [0.8888888888888888, \"#fdca26\"], [1.0, \"#f0f921\"]], \"type\": \"surface\"}], \"table\": [{\"cells\": {\"fill\": {\"color\": \"#EBF0F8\"}, \"line\": {\"color\": \"white\"}}, \"header\": {\"fill\": {\"color\": \"#C8D4E3\"}, \"line\": {\"color\": \"white\"}}, \"type\": \"table\"}]}, \"layout\": {\"annotationdefaults\": {\"arrowcolor\": \"#2a3f5f\", \"arrowhead\": 0, \"arrowwidth\": 1}, \"coloraxis\": {\"colorbar\": {\"outlinewidth\": 0, \"ticks\": \"\"}}, \"colorscale\": {\"diverging\": [[0, \"#8e0152\"], [0.1, \"#c51b7d\"], [0.2, \"#de77ae\"], [0.3, \"#f1b6da\"], [0.4, \"#fde0ef\"], [0.5, \"#f7f7f7\"], [0.6, \"#e6f5d0\"], [0.7, \"#b8e186\"], [0.8, \"#7fbc41\"], [0.9, \"#4d9221\"], [1, \"#276419\"]], \"sequential\": [[0.0, \"#0d0887\"], [0.1111111111111111, \"#46039f\"], [0.2222222222222222, \"#7201a8\"], [0.3333333333333333, \"#9c179e\"], [0.4444444444444444, \"#bd3786\"], [0.5555555555555556, \"#d8576b\"], [0.6666666666666666, \"#ed7953\"], [0.7777777777777778, \"#fb9f3a\"], [0.8888888888888888, \"#fdca26\"], [1.0, \"#f0f921\"]], \"sequentialminus\": [[0.0, \"#0d0887\"], [0.1111111111111111, \"#46039f\"], [0.2222222222222222, \"#7201a8\"], [0.3333333333333333, \"#9c179e\"], [0.4444444444444444, \"#bd3786\"], [0.5555555555555556, \"#d8576b\"], [0.6666666666666666, \"#ed7953\"], [0.7777777777777778, \"#fb9f3a\"], [0.8888888888888888, \"#fdca26\"], [1.0, \"#f0f921\"]]}, \"colorway\": [\"#636efa\", \"#EF553B\", \"#00cc96\", \"#ab63fa\", \"#FFA15A\", \"#19d3f3\", \"#FF6692\", \"#B6E880\", \"#FF97FF\", \"#FECB52\"], \"font\": {\"color\": \"#2a3f5f\"}, \"geo\": {\"bgcolor\": \"white\", \"lakecolor\": \"white\", \"landcolor\": \"#E5ECF6\", \"showlakes\": true, \"showland\": true, \"subunitcolor\": \"white\"}, \"hoverlabel\": {\"align\": \"left\"}, \"hovermode\": \"closest\", \"mapbox\": {\"style\": \"light\"}, \"paper_bgcolor\": \"white\", \"plot_bgcolor\": \"#E5ECF6\", \"polar\": {\"angularaxis\": {\"gridcolor\": \"white\", \"linecolor\": \"white\", \"ticks\": \"\"}, \"bgcolor\": \"#E5ECF6\", \"radialaxis\": {\"gridcolor\": \"white\", \"linecolor\": \"white\", \"ticks\": \"\"}}, \"scene\": {\"xaxis\": {\"backgroundcolor\": \"#E5ECF6\", \"gridcolor\": \"white\", \"gridwidth\": 2, \"linecolor\": \"white\", \"showbackground\": true, \"ticks\": \"\", \"zerolinecolor\": \"white\"}, \"yaxis\": {\"backgroundcolor\": \"#E5ECF6\", \"gridcolor\": \"white\", \"gridwidth\": 2, \"linecolor\": \"white\", \"showbackground\": true, \"ticks\": \"\", \"zerolinecolor\": \"white\"}, \"zaxis\": {\"backgroundcolor\": \"#E5ECF6\", \"gridcolor\": \"white\", \"gridwidth\": 2, \"linecolor\": \"white\", \"showbackground\": true, \"ticks\": \"\", \"zerolinecolor\": \"white\"}}, \"shapedefaults\": {\"line\": {\"color\": \"#2a3f5f\"}}, \"ternary\": {\"aaxis\": {\"gridcolor\": \"white\", \"linecolor\": \"white\", \"ticks\": \"\"}, \"baxis\": {\"gridcolor\": \"white\", \"linecolor\": \"white\", \"ticks\": \"\"}, \"bgcolor\": \"#E5ECF6\", \"caxis\": {\"gridcolor\": \"white\", \"linecolor\": \"white\", \"ticks\": \"\"}}, \"title\": {\"x\": 0.05}, \"xaxis\": {\"automargin\": true, \"gridcolor\": \"white\", \"linecolor\": \"white\", \"ticks\": \"\", \"title\": {\"standoff\": 15}, \"zerolinecolor\": \"white\", \"zerolinewidth\": 2}, \"yaxis\": {\"automargin\": true, \"gridcolor\": \"white\", \"linecolor\": \"white\", \"ticks\": \"\", \"title\": {\"standoff\": 15}, \"zerolinecolor\": \"white\", \"zerolinewidth\": 2}}}, \"title\": {\"text\": \"Extra Large Bags\"}},                        {\"responsive\": true}                    ).then(function(){\n",
       "                            \n",
       "var gd = document.getElementById('079109fa-cc0d-401a-a2a1-734f5f67ebb9');\n",
       "var x = new MutationObserver(function (mutations, observer) {{\n",
       "        var display = window.getComputedStyle(gd).display;\n",
       "        if (!display || display === 'none') {{\n",
       "            console.log([gd, 'removed!']);\n",
       "            Plotly.purge(gd);\n",
       "            observer.disconnect();\n",
       "        }}\n",
       "}});\n",
       "\n",
       "// Listen for the removal of the full notebook cells\n",
       "var notebookContainer = gd.closest('#notebook-container');\n",
       "if (notebookContainer) {{\n",
       "    x.observe(notebookContainer, {childList: true});\n",
       "}}\n",
       "\n",
       "// Listen for the clearing of the current output cell\n",
       "var outputEl = gd.closest('.output');\n",
       "if (outputEl) {{\n",
       "    x.observe(outputEl, {childList: true});\n",
       "}}\n",
       "\n",
       "                        })                };                });            </script>        </div>"
      ]
     },
     "metadata": {},
     "output_type": "display_data"
    }
   ],
   "source": [
    "xlchoro=go.Figure(data=[data],layout=layout)\n",
    "iplot(xlchoro)"
   ]
  },
  {
   "cell_type": "code",
   "execution_count": null,
   "metadata": {},
   "outputs": [],
   "source": []
  }
 ],
 "metadata": {
  "kernelspec": {
   "display_name": "Python 3",
   "language": "python",
   "name": "python3"
  },
  "language_info": {
   "codemirror_mode": {
    "name": "ipython",
    "version": 3
   },
   "file_extension": ".py",
   "mimetype": "text/x-python",
   "name": "python",
   "nbconvert_exporter": "python",
   "pygments_lexer": "ipython3",
   "version": "3.8.3"
  }
 },
 "nbformat": 4,
 "nbformat_minor": 4
}
